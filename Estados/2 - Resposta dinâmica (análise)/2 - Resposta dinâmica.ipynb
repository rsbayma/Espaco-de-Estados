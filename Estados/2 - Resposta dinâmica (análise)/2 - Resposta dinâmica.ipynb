{
 "cells": [
  {
   "cell_type": "code",
   "execution_count": 2,
   "metadata": {},
   "outputs": [],
   "source": [
    "import numpy as np\n",
    "import scipy.signal as sig"
   ]
  },
  {
   "cell_type": "markdown",
   "metadata": {},
   "source": [
    "# (7.4.2) Resposta dinâmica a partir das equações de estado"
   ]
  },
  {
   "cell_type": "markdown",
   "metadata": {},
   "source": [
    "Dada uma entrada $u(t)$ e uma condição inicial dos estados $\\mathbf{x}(0)$, podemos resolver a equação diferencial (matricial) dos estados e determinar a saída do sistema. Isso pode ser feito com a transformada de Laplace.\n",
    "\n",
    "$$\n",
    "\\begin{align*}\n",
    "    \\mathbf{\\dot{x}} &= \\mathbf{Fx+G}u\\\\\n",
    "    \\mathcal{L}\\{\\mathbf{\\dot{x}}\\} &= \\mathcal{L}\\{\\mathbf{Fx+G}u\\}\\\\\n",
    "    s\\mathbf{X}(s)-\\mathbf{x}(0) &= \\mathbf{FX}(s)+\\mathbf{G}U(s)\\\\\n",
    "    s\\mathbf{X}(s)-\\mathbf{FX}(s)&=\\mathbf{x}(0)+\\mathbf{G}U(s)\\\\\n",
    "    (s\\mathbf{I-F})\\mathbf{X(s)} &= \\mathbf{x}(0)+\\mathbf{G}U(s)\\\\\n",
    "    \\mathbf{X(s)} &= (s\\mathbf{I-F})^{-1}\\mathbf{x}(0)+(s\\mathbf{I-F})^{-1}\\mathbf{G}U(s)\\\\\n",
    "\\end{align*}\n",
    "$$\n",
    "\n",
    "O termo $(s\\mathbf{I-F})^{-1}\\mathbf{x}(0)$ é a resposta de entrada nula, devido sua independência da função de entrada.\n",
    "\n",
    "O termo $(s\\mathbf{I-F})^{-1}\\mathbf{G}U(s)$ é a resposta de estado nulo, devido sua independência das condições iniciais.\n",
    "\n",
    "Para determinar os estados no domínio do tempo $\\mathbf{x}(t)$ bastaria tirar a transformada inversa. Assim teríamos a resposta de cada um dos estados em função do tempo."
   ]
  },
  {
   "cell_type": "markdown",
   "metadata": {},
   "source": [
    "## Sinal de saída e função de transferência\n",
    "\n",
    "Olhando agora o sinal de saída:\n",
    "$$\n",
    "\\begin{align*}\n",
    "    y &= \\mathbf{Hx} + Ju\\\\\n",
    "    Y(s) &= \\mathbf{HX(s)} + JU(s)\n",
    "\\end{align*}\n",
    "$$\n",
    "\n",
    "Substituindo o que encontramos para $\\mathbf{X}(s)$:\n",
    "$$\n",
    "\\begin{align*}\n",
    "    Y(s) &= \\mathbf{H}(s\\mathbf{I-F})^{-1}\\mathbf{x}(0)+\\mathbf{H}(s\\mathbf{I-F})^{-1}\\mathbf{G}U(s) + JU(s)\n",
    "\\end{align*}\n",
    "$$\n",
    "\n",
    "Colocando $U(s)$ em evidência agora:\n",
    "$$\n",
    "\\begin{align*}\n",
    "    Y(s) &= \\mathbf{H}(s\\mathbf{I-F})^{-1}\\mathbf{x}(0)+\\left[\\mathbf{H}(s\\mathbf{I-F})^{-1}\\mathbf{G} + D\\right]U(s)\n",
    "\\end{align*}\n",
    "$$\n",
    "\n",
    "Quando as condições iniciais são nulas $\\mathbf{x}(0)=\\mathbf{0}$, o termo que sobra é um escalar:\n",
    "$$\n",
    "\\begin{align*}\n",
    "    Y(s) &= \\left[\\mathbf{H}(s\\mathbf{I-F})^{-1}\\mathbf{G} + J\\right]U(s)\\\\\n",
    "    \\frac{Y(s)}{U(s)} &= \\mathbf{H}(s\\mathbf{I-F})^{-1}\\mathbf{G} + J\n",
    "\\end{align*}\n",
    "$$\n",
    "\n",
    "Reconhecemos a última equação como a função de transferência do sistema definida em termos das matrizes da representação de espaço de estados."
   ]
  },
  {
   "cell_type": "markdown",
   "metadata": {},
   "source": [
    "## Pólos de um sistema no espaço de estados (Autovalores)\n",
    "\n",
    "Na equação da função de transferência, o termo principal é $(s\\mathbf{I-F})^{-1}$. Sabemos que a inversa de qualquer matriz pode ser descrita como sua adjunta divido pelo seu determinante. O que vai sobrar no denominador da função de transferência, portanto, é $\\det (s\\mathbf{I-F})$.\n",
    "\n",
    "Sabemos que os pólos são as raízes do denominador de uma função de transferência. Ora, se o denominador é dado pelo determinante acima, então os pólos do sistema são dados pelas soluções da equação:\n",
    "$$\n",
    "\\begin{align}\n",
    "\\det (s\\mathbf{I-F}) = 0\n",
    "\\end{align}\n",
    "$$\n",
    "\n",
    "Os valores de $s$ que satisfazem essa equação são chamados em álgebra linear de **autovalores da matriz** e de desempenham um papel importante em vários problemas de Engenharia. \n",
    "\n",
    "Em Python vc pode calcular os autovalores do sistema usando a funçao \"pole()\" da biblioteca *control*, ou usar a biblioteca *linalg* do NumPy para resolver o problema de autovalor diretamente na matriz de estados do sistema. Note, porém, que a função \"eig()\" do NumPy devolve não apenas os autovalores, mas também os [autovetores](https://pt.wikipedia.org/wiki/Autovalores_e_autovetores) associados também."
   ]
  },
  {
   "cell_type": "markdown",
   "metadata": {},
   "source": [
    "<p align=\"center\">\n",
    "<img src=\"Ex7.12.svg\" width=\"80%\">\n",
    "</p>\n",
    "\n",
    "Solução manual (você precisa saber fazer manualmente *pelo menos* os casos de ordem 2!):\n",
    "\n",
    "$$\n",
    "\\begin{align*}\n",
    "    s\\mathbf{I-F} &= s\\left[\\begin{array}{cc}1 & 0\\\\0 & 1\\end{array}\\right]-\\left[\\begin{array}{cc}-7 & -12\\\\1 & 0\\end{array}\\right]\\\\\n",
    "    &= \\left[\\begin{array}{cc}s+7 & 12\\\\-1 & s\\end{array}\\right]\n",
    "\\end{align*}\n",
    "$$\n",
    "\n",
    "A inversa da matriz é:\n",
    "$$\n",
    "\\begin{align*}\n",
    "    (s\\mathbf{I-F})^{-1} &= \\frac{\\left[\\begin{array}{cc}s & -12\\\\1 & s+7\\end{array}\\right]}{s(s+7)+12}\n",
    "\\end{align*}\n",
    "$$\n",
    "\n",
    "Faz-se agora o produto pela esquerda:\n",
    "$$\n",
    "\\begin{align*}\n",
    "    \\mathbf{H}(s\\mathbf{I-F})^{-1} &= \\frac{\\left[\\begin{array}{cc}1 & 2\\end{array}\\right]\\left[\\begin{array}{cc}s & -12\\\\1 & s+7\\end{array}\\right]}{s(s+7)+12}\\\\\n",
    "    &= \\frac{\\left[\\begin{array}{cc}s+2 & 2s+2\\end{array}\\right]}{s^2+7s+12}\n",
    "\\end{align*}\n",
    "$$\n",
    "\n",
    "E o resultado com o produto pela direita:\n",
    "\\begin{align*}\n",
    "    \\mathbf{H}(s\\mathbf{I-F})^{-1}\\mathbf{G} &= \\frac{\\left[\\begin{array}{cc}s+2 & 2s+2\\end{array}\\right]\\left[\\begin{array}{c}1 \\\\ 0\\end{array}\\right]}{s^2+7s+12}\\\\\n",
    "    & = \\frac{s+2}{s^2+7s+12}\n",
    "\\end{align*}"
   ]
  },
  {
   "cell_type": "markdown",
   "metadata": {},
   "source": [
    "Em Python, você pode implementar essas contas usando o pacote simbólico. Porém, o pacote *control* faz de um jeito mais ágil usando as definições próprias voltadas para Engenharia"
   ]
  },
  {
   "cell_type": "code",
   "execution_count": 4,
   "metadata": {},
   "outputs": [
    {
     "name": "stdout",
     "output_type": "stream",
     "text": [
      "<LinearIOSystem>: sys[2]\n",
      "Inputs (1): ['u[0]']\n",
      "Outputs (1): ['y[0]']\n",
      "States (2): ['x[0]', 'x[1]']\n",
      "\n",
      "A = [[ -7. -12.]\n",
      "     [  1.   0.]]\n",
      "\n",
      "B = [[1.]\n",
      "     [0.]]\n",
      "\n",
      "C = [[1. 2.]]\n",
      "\n",
      "D = [[0.]]\n",
      "\n",
      "\n",
      "    s + 2\n",
      "--------------\n",
      "s^2 + 7 s + 12\n",
      "\n"
     ]
    }
   ],
   "source": [
    "import numpy as np\n",
    "import control as ct\n",
    "\n",
    "# Definindo as matrizes\n",
    "F = np.matrix([[-7,-12],[1,0]])\n",
    "G = np.matrix([[1],[0]])\n",
    "H = np.matrix([1,2])\n",
    "J = 0\n",
    "\n",
    "# Definindo o sistema como espaço de estados\n",
    "sys = ct.ss(F,G,H,J)\n",
    "print(sys)\n",
    "\n",
    "# Calculando a função de transferência pelo objeto espaço de estados\n",
    "FT = ct.tf(sys)\n",
    "print(FT)\n"
   ]
  },
  {
   "cell_type": "markdown",
   "metadata": {},
   "source": [
    "**Exercício**: Calcule manualmente e confira sua resposta com Python, a função de transferência do sistema\n",
    "\n",
    "$$\n",
    "\\begin{align}\n",
    "\\dot{\\mathbf{x}} &= \\left[\\begin{array}{cc}-1 & 7\\\\ 9 & 0\\end{array}\\right]\\mathbf{x} + \\left[\\begin{array}{cc} 5 \\\\ -3\\end{array}\\right]u\\\\\n",
    "y &= \\left[\\begin{array}{cc}3 & 2\\end{array}\\right]\\mathbf{x} \n",
    "\\end{align}\n",
    "$$"
   ]
  },
  {
   "cell_type": "markdown",
   "metadata": {},
   "source": [
    "## Zeros do sistema\n",
    "\n",
    "Na descrição entrada-saída (função de transferência) de um sistema, definimos zeros de uma forma bem matemática: são as raízes do numerador.\n",
    "\n",
    "No entanto, os zeros possuem uma definição um pouco mais física. São chamados zeros os modos (exponenciais) que, se colocados na entrada do sistema, produzem uma saída identicamente nula. Isso permite estabelecer as expressões que definem os zeros do sistema em função das matrizes de espaço de estados.\n",
    "\n",
    "Para achar os zeros, basta resolver a equação polinomial:\n",
    "$$\n",
    "\\begin{align*}\n",
    "\\det\\,\\left[\\begin{array}{cc}s\\mathbf{I-F} & -\\mathbf{G}\\\\ \\mathbf{H} & J\\end{array}\\right]=0 \n",
    "\\end{align*}\n",
    "$$\n",
    "\n",
    "<p align=\"center\">\n",
    "<img src=\"Ex7.13.svg\" width=\"80%\">\n",
    "</p>"
   ]
  },
  {
   "cell_type": "markdown",
   "metadata": {},
   "source": [
    "**Solução**: Precisamos montar a matriz. No caso, já calculamos $s\\mathbf{I-F}$ no exemplo anterior, então basta concatenar as demais:\n",
    "$$\n",
    "\\begin{align*}\n",
    "    s\\mathbf{I-F} &= \\left[\\begin{array}{cc}s+7 & 12\\\\-1 & s\\end{array}\\right]\\\\\n",
    "    \\Rightarrow \\left[\\begin{array}{ccc}s\\mathbf{I-F} & -\\mathbf{G}\\\\ \\mathbf{H} & J\\end{array}\\right]&=\n",
    "    \\left[\\begin{array}{ccc}s+7 & 12 & -1\\\\-1 & s & 0\\\\ 1 & 2 & 0 \\end{array}\\right]\n",
    "\\end{align*}\n",
    "$$\n",
    "\n",
    "Basta agora calcular o determinante.\n",
    "$$\n",
    "\\begin{align*}\n",
    "    \\det \\left[\\begin{array}{ccc}s+7 & 12 & 1\\\\-1 & s & 0\\\\ 1 & 2 & 0 \\end{array}\\right] &= \n",
    "    \\det \\left[\\begin{array}{cc}-1 & s \\\\ 1 & 2 \\end{array}\\right] = -2-s \n",
    "\\end{align*}\n",
    "$$\n",
    "\n",
    "Igualando a zero, temos:\n",
    "$$\n",
    "\\begin{align*}\n",
    "    -2-s =0 \\Rightarrow s = -2\n",
    "\\end{align*}\n",
    "$$\n",
    "\n",
    "Em Python, a função \"zero()\" é capaz de determinar os zeros a partir da representação do sistema"
   ]
  },
  {
   "cell_type": "code",
   "execution_count": null,
   "metadata": {},
   "outputs": [
    {
     "data": {
      "text/plain": [
       "array([-2.+0.j])"
      ]
     },
     "execution_count": 2,
     "metadata": {},
     "output_type": "execute_result"
    }
   ],
   "source": [
    "ct.zero(sys)"
   ]
  },
  {
   "cell_type": "markdown",
   "metadata": {},
   "source": [
    "<p align=\"center\">\n",
    "<img src=\"Ex7.14.svg\" width=\"80%\">\n",
    "</p>\n",
    "\n",
    "Esse é um problema de ordem elevada, então vamos resolver com Python"
   ]
  },
  {
   "cell_type": "code",
   "execution_count": 8,
   "metadata": {},
   "outputs": [
    {
     "name": "stdout",
     "output_type": "stream",
     "text": [
      "<LinearIOSystem>: sys[6]\n",
      "Inputs (1): ['u[0]']\n",
      "Outputs (1): ['y[0]']\n",
      "States (5): ['x[0]', 'x[1]', 'x[2]', 'x[3]', 'x[4]']\n",
      "\n",
      "A = [[ 0.    2.    0.    0.    0.  ]\n",
      "     [-0.1  -0.35  0.1   0.1   0.75]\n",
      "     [ 0.    0.    0.    2.    0.  ]\n",
      "     [ 0.4   0.4  -0.4  -1.4   0.  ]\n",
      "     [ 0.   -0.03  0.    0.   -1.  ]]\n",
      "\n",
      "B = [[0.]\n",
      "     [0.]\n",
      "     [0.]\n",
      "     [0.]\n",
      "     [1.]]\n",
      "\n",
      "C = [[0. 0. 1. 0. 0.]]\n",
      "\n",
      "D = [[0.]]\n",
      "\n"
     ]
    }
   ],
   "source": [
    "import scipy.signal as sig\n",
    "\n",
    "F = np.matrix([[0,2,0,0,0],[-0.1,-0.35,0.1,0.1,0.75],[0,0,0,2,0],[.4,.4,-.4,-1.4,0],[0,-.03,0,0,-1]])\n",
    "G = np.matrix([[0],[0],[0],[0],[1]])\n",
    "H2 = np.matrix([0,0,1,0,0])\n",
    "J = 0\n",
    "\n",
    "sys = ct.ss(F,G,H2,J)\n",
    "#sys = sig.StateSpace(F,G,H2,J)\n",
    "print(sys)\n"
   ]
  },
  {
   "cell_type": "code",
   "execution_count": 12,
   "metadata": {},
   "outputs": [
    {
     "name": "stdout",
     "output_type": "stream",
     "text": [
      "[[array([8.62946505e-17, 6.00000000e-01, 1.20000000e+00])]]\n",
      "[[array([1.00000000e+00, 2.75000000e+00, 3.22250000e+00, 1.88150000e+00,\n",
      "       4.18000000e-01, 3.74700271e-16])]]\n",
      "[-6.37107917e-01+0.6668794j -6.37107917e-01-0.6668794j\n",
      "  7.00736404e-16+0.j        -5.07486111e-01+0.j\n",
      " -9.68298056e-01+0.j       ]\n",
      "[-2.+0.j]\n"
     ]
    }
   ],
   "source": [
    "# Podemos obter também a função de transferência do sistema\n",
    "#ft = ct.ss2tf(sys)\n",
    "ct.tf(sys)\n",
    "num,den = ct.tfdata(sys)\n",
    "print(num)\n",
    "print(den)\n",
    "#z,p,k = sig.ss2zpk(sys.A,sys.B,sys.C,sys.D)\n",
    "#den[-1]=0\n",
    "#ft = sig.TransferFunction(num,den)\n",
    "#print(ft)\n",
    "#p\n",
    "print(ct.pole(sys))\n",
    "print(ct.zero(sys))"
   ]
  },
  {
   "cell_type": "code",
   "execution_count": 14,
   "metadata": {},
   "outputs": [
    {
     "name": "stdout",
     "output_type": "stream",
     "text": [
      "_____Eigenvalue______ Damping___ Frequency_\n",
      "   -0.6371   +0.6669j     0.6908     0.9223\n",
      "   -0.6371   -0.6669j     0.6908     0.9223\n",
      " 7.007e-16                     1 -7.007e-16\n",
      "   -0.5075                     1     0.5075\n",
      "   -0.9683                     1     0.9683\n"
     ]
    },
    {
     "data": {
      "text/plain": [
       "(array([9.22298560e-01, 9.22298560e-01, 7.00736404e-16, 5.07486111e-01,\n",
       "        9.68298056e-01]),\n",
       " array([ 0.69078273,  0.69078273, -1.        ,  1.        ,  1.        ]),\n",
       " array([-6.37107917e-01+0.6668794j, -6.37107917e-01-0.6668794j,\n",
       "         7.00736404e-16+0.j       , -5.07486111e-01+0.j       ,\n",
       "        -9.68298056e-01+0.j       ]))"
      ]
     },
     "execution_count": 14,
     "metadata": {},
     "output_type": "execute_result"
    }
   ],
   "source": [
    "ct.damp(sys)"
   ]
  },
  {
   "cell_type": "code",
   "execution_count": null,
   "metadata": {},
   "outputs": [
    {
     "data": {
      "text/plain": [
       "array([1.    , 2.75  , 3.2225, 1.8815, 0.418 , 0.    ])"
      ]
     },
     "execution_count": 57,
     "metadata": {},
     "output_type": "execute_result"
    }
   ],
   "source": [
    "# A FT está na forma de um objeto Python. Vamos extrair as informações principais, numerador e denominador\n",
    "#num,den=ct.tfdata(ft)\n",
    "\n",
    "#print(num[0][0])\n",
    "#print(den[0][0])\n",
    "den[-1]=0\n",
    "den"
   ]
  },
  {
   "cell_type": "code",
   "execution_count": null,
   "metadata": {},
   "outputs": [
    {
     "data": {
      "text/plain": [
       "(array([-6.37107917e-01+0.6668794j, -6.37107917e-01-0.6668794j,\n",
       "         7.00736404e-16+0.j       , -5.07486111e-01+0.j       ,\n",
       "        -9.68298056e-01+0.j       ]),\n",
       " matrix([[-1.16823286e-01+0.19252486j, -1.16823286e-01-0.19252486j,\n",
       "          -7.07106781e-01+0.j        ,  4.87131214e-01+0.j        ,\n",
       "           5.88736883e-01+0.j        ],\n",
       "         [-2.69809105e-02-0.10028308j, -2.69809105e-02+0.10028308j,\n",
       "          -2.32710799e-16+0.j        , -1.23606163e-01+0.j        ,\n",
       "          -2.85036390e-01+0.j        ],\n",
       "         [ 8.79719828e-01+0.j        ,  8.79719828e-01-0.j        ,\n",
       "          -7.07106781e-01+0.j        ,  8.37949352e-01+0.j        ,\n",
       "           6.36048871e-01+0.j        ],\n",
       "         [-2.80238233e-01+0.29333352j, -2.80238233e-01-0.29333352j,\n",
       "          -1.71735054e-16+0.j        , -2.12623829e-01+0.j        ,\n",
       "          -3.07942443e-01+0.j        ],\n",
       "         [ 3.99021736e-03+0.00095758j,  3.99021736e-03-0.00095758j,\n",
       "           5.76200785e-18+0.j        ,  7.52909706e-03+0.j        ,\n",
       "           2.69733988e-01+0.j        ]]))"
      ]
     },
     "execution_count": 61,
     "metadata": {},
     "output_type": "execute_result"
    }
   ],
   "source": [
    "(np.linalg.eig(sys.A))"
   ]
  },
  {
   "cell_type": "code",
   "execution_count": null,
   "metadata": {},
   "outputs": [
    {
     "name": "stdout",
     "output_type": "stream",
     "text": [
      "[-2.]\n",
      "[-0.63710792+0.6668794j -0.63710792-0.6668794j -0.96829806+0.j\n",
      " -0.50748611+0.j         0.        +0.j       ]\n"
     ]
    }
   ],
   "source": [
    "# Vamos calcular os polos e zeros agora pelas raizes dos polinômios. Os resultados devem concordar\n",
    "print(np.roots(ft.num))\n",
    "print(np.roots(ft.den))"
   ]
  },
  {
   "cell_type": "code",
   "execution_count": null,
   "metadata": {},
   "outputs": [],
   "source": []
  },
  {
   "cell_type": "markdown",
   "metadata": {},
   "source": [
    "## Estabilidade no espaço de estados\n",
    "\n",
    "O conceito de estabilidade no espaço de estados é um pouco diferente do que aprendemos na representação entrada-saída.\n",
    "\n",
    "Primeiramente, no espaço de estados definimos o **ponto de equilíbrio** do sistema. O ponto de equilíbrio é um vetor de estado específico que anula a derivada do vetor de estados quando a entrada é nula ($u=0$); em outras palavras, o sistema \"não se mexe\".\n",
    "\n",
    "Um sistema linear possui apenas um ponto de equilíbrio, o vetor nulo $\\mathbf{x}= \\left[\\begin{array}{cccc}0 & 0 & \\ldots & 0\\end{array}\\right]$.\n",
    "\n",
    "É fácil de verificar que esse é um ponto de equilíbrio. Dada a equação de estados\n",
    "$$\n",
    "\\begin{align*}\n",
    "    \\mathbf{\\dot{x}} &= \\mathbf{Fx+G}u\n",
    "\\end{align*}\n",
    "$$\n",
    "vemos que se $u=0$ e se $\\mathbf{x=0}$, então todo o lado direito se anula, o que implica que $\\mathbf{\\dot{x}=0}$. Ou seja, o sistema não evolui com o tempo, fica sempre no \"mesmo lugar\".\n",
    "\n",
    "Definido o que é equilíbrio, podemos agora definir estabilidade.\n",
    "\n",
    "Dizemos que um sistema é estável no espaço de estados, se, dada uma variação inicial no ponto de equilíbrio, os estados do sistema \"voltarem\" para o ponto de equilíbrio inicial.\n",
    "\n",
    "Um sistema linear, portanto, será linear se, dada uma condição inicial diferente de zero do vetor de estados, o vetor $\\mathbf{x}(t)$ voltar para zero em um determinado intervalo de tempo. \n",
    "\n",
    "Como já sabemos, o sistema é estável quando todos os seus pólos estão no semi-plano esquerdo (SPE). Como no espaço de estados os pólos são autovalores da matriz de estados $\\mathbf{F}$, então o sistema será estável se todos esses autovalores tiverem parte real estritamente negativa. \n",
    "\n",
    "Isso garante que quando passar um longo tempo, isto é, $t\\rightarrow \\infty$, os estados tenderão a zero, ou seja $\\mathbf{x}(t) \\rightarrow \\mathbf{0}$. Isso é chamado também de **estabilidade assintótica**."
   ]
  },
  {
   "cell_type": "markdown",
   "metadata": {},
   "source": [
    "## Exemplo: verifique se o sistema abaixo é estável\n",
    "\n",
    "$$\n",
    "\\begin{align*}\n",
    "    \\dot{\\mathbf{x}}= \\left[\\begin{array}{cc}0 &1\\\\ -3 & -7\\end{array}\\right]\\mathbf{x} +\n",
    "    \\left[\\begin{array}{c}1\\\\ 2\\end{array}\\right]u\n",
    "\\end{align*}\n",
    "$$"
   ]
  },
  {
   "cell_type": "code",
   "execution_count": 4,
   "metadata": {},
   "outputs": [
    {
     "data": {
      "text/plain": [
       "(array([-0.45861873, -6.54138127]),\n",
       " matrix([[ 0.90896654, -0.15111729],\n",
       "         [-0.41686908,  0.98851584]]))"
      ]
     },
     "execution_count": 4,
     "metadata": {},
     "output_type": "execute_result"
    }
   ],
   "source": [
    "F = np.matrix([[0,1],[-3,-7]])\n",
    "np.linalg.eig(F)"
   ]
  },
  {
   "cell_type": "markdown",
   "metadata": {},
   "source": [
    "A função \"eig()\" retorna os autovalores de uma matriz, assim como um conjunto de autovetores correspondentes. No nosso caso, apenas os autovalores importam. Como se pode ver, os dois autovalores são reais e negativos, logo, o sistema é assintoticamente estável. "
   ]
  }
 ],
 "metadata": {
  "kernelspec": {
   "display_name": "Python 3.9.12 ('base')",
   "language": "python",
   "name": "python3"
  },
  "language_info": {
   "codemirror_mode": {
    "name": "ipython",
    "version": 3
   },
   "file_extension": ".py",
   "mimetype": "text/x-python",
   "name": "python",
   "nbconvert_exporter": "python",
   "pygments_lexer": "ipython3",
   "version": "3.9.12"
  },
  "orig_nbformat": 4,
  "vscode": {
   "interpreter": {
    "hash": "3e3763a57b4ffe0d06e963ec4b7f8ef3a748cbfdb342037439726ee83e94c05b"
   }
  }
 },
 "nbformat": 4,
 "nbformat_minor": 2
}
