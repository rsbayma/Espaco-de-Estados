{
 "cells": [
  {
   "cell_type": "code",
   "execution_count": 2,
   "metadata": {},
   "outputs": [],
   "source": [
    "import numpy as np\n",
    "import scipy.signal as sig"
   ]
  },
  {
   "attachments": {},
   "cell_type": "markdown",
   "metadata": {},
   "source": [
    "## Estabilidade no espaço de estados\n",
    "\n",
    "### Equilíbrio\n",
    "O conceito de estabilidade no espaço de estados é um pouco diferente do que aprendemos na representação entrada-saída.\n",
    "\n",
    "Primeiramente, no espaço de estados definimos o **ponto de equilíbrio** do sistema. O ponto de equilíbrio é um vetor de estado específico que anula a derivada do vetor de estados quando a entrada é nula ($u=0$); em outras palavras, o sistema \"não se mexe\".\n",
    "\n",
    "Um sistema linear possui apenas um ponto de equilíbrio, o vetor nulo $\\mathbf{x}= \\left[\\begin{array}{cccc}0 & 0 & \\ldots & 0\\end{array}\\right]^T$.\n",
    "\n",
    "É fácil de verificar que esse é um ponto de equilíbrio. Dada a equação de estados\n",
    "$$\n",
    "\\begin{align*}\n",
    "    \\mathbf{\\dot{x}} &= \\mathbf{Fx+G}u\n",
    "\\end{align*}\n",
    "$$\n",
    "vemos que se $u=0$ e se $\\mathbf{x=0}$, então todo o lado direito se anula, o que implica que $\\mathbf{\\dot{x}=0}$. Ou seja, o sistema não evolui com o tempo, fica sempre no \"mesmo lugar\"."
   ]
  },
  {
   "attachments": {},
   "cell_type": "markdown",
   "metadata": {},
   "source": [
    "### Estabilidade\n",
    "\n",
    "Definido o que é equilíbrio, podemos agora definir estabilidade.\n",
    "\n",
    "Dizemos que um sistema é estável no espaço de estados, se, dada uma variação inicial no ponto de equilíbrio, os estados do sistema \"voltarem\" para o ponto de equilíbrio inicial.\n",
    "\n",
    "Um sistema linear, portanto, será estável se, dada uma condição inicial diferente de zero do vetor de estados, o vetor $\\mathbf{x}(t)$ voltar para zero em um determinado intervalo de tempo. \n",
    "\n",
    "Como já sabemos, o sistema é estável quando todos os seus pólos estão no semi-plano esquerdo (SPE). Como no espaço de estados os pólos são autovalores da matriz de estados $\\mathbf{F}$, então o sistema será estável se todos esses autovalores tiverem parte real estritamente negativa. \n",
    "\n",
    "Isso garante que quando passar um longo tempo, isto é, $t\\rightarrow \\infty$, os estados tenderão a zero, ou seja $\\mathbf{x}(t) \\rightarrow \\mathbf{0}$. Isso é chamado também de **estabilidade assintótica**."
   ]
  },
  {
   "attachments": {},
   "cell_type": "markdown",
   "metadata": {},
   "source": [
    "### **Exemplo:**\n",
    "Verifique se o sistema abaixo é estável\n",
    "\n",
    "$$\n",
    "\\begin{align*}\n",
    "    \\dot{\\mathbf{x}}= \\left[\\begin{array}{cc}0 &1\\\\ -3 & -7\\end{array}\\right]\\mathbf{x} +\n",
    "    \\left[\\begin{array}{c}1\\\\ 2\\end{array}\\right]u\n",
    "\\end{align*}\n",
    "$$"
   ]
  },
  {
   "cell_type": "code",
   "execution_count": 4,
   "metadata": {},
   "outputs": [
    {
     "data": {
      "text/plain": [
       "(array([-0.45861873, -6.54138127]),\n",
       " matrix([[ 0.90896654, -0.15111729],\n",
       "         [-0.41686908,  0.98851584]]))"
      ]
     },
     "execution_count": 4,
     "metadata": {},
     "output_type": "execute_result"
    }
   ],
   "source": [
    "F = np.matrix([[0,1],[-3,-7]])\n",
    "np.linalg.eig(F)"
   ]
  },
  {
   "cell_type": "markdown",
   "metadata": {},
   "source": [
    "A função \"eig()\" retorna os autovalores de uma matriz, assim como um conjunto de autovetores correspondentes. No nosso caso, apenas os autovalores importam. Como se pode ver, os dois autovalores são reais e negativos, logo, o sistema é assintoticamente estável. "
   ]
  }
 ],
 "metadata": {
  "kernelspec": {
   "display_name": "Python 3.9.12 ('base')",
   "language": "python",
   "name": "python3"
  },
  "language_info": {
   "codemirror_mode": {
    "name": "ipython",
    "version": 3
   },
   "file_extension": ".py",
   "mimetype": "text/x-python",
   "name": "python",
   "nbconvert_exporter": "python",
   "pygments_lexer": "ipython3",
   "version": "3.9.12 (main, Apr  4 2022, 05:22:27) [MSC v.1916 64 bit (AMD64)]"
  },
  "orig_nbformat": 4,
  "vscode": {
   "interpreter": {
    "hash": "3e3763a57b4ffe0d06e963ec4b7f8ef3a748cbfdb342037439726ee83e94c05b"
   }
  }
 },
 "nbformat": 4,
 "nbformat_minor": 2
}
