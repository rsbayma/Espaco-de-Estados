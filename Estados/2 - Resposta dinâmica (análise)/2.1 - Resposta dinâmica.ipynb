{
 "cells": [
  {
   "attachments": {},
   "cell_type": "markdown",
   "metadata": {},
   "source": [
    "# Resposta dinâmica de um sistema"
   ]
  },
  {
   "attachments": {},
   "cell_type": "markdown",
   "metadata": {},
   "source": [
    "Dada uma entrada $u(t)$ e uma condição inicial dos estados $\\mathbf{x}(0)$, podemos resolver a equação diferencial (matricial) dos estados e determinar a saída do sistema. Isso pode ser feito com a transformada de Laplace.\n",
    "\n",
    "$$\n",
    "\\begin{align*}\n",
    "    \\mathbf{\\dot{x}} &= \\mathbf{Fx+G}u\\\\\n",
    "    \\mathcal{L}\\{\\mathbf{\\dot{x}}\\} &= \\mathcal{L}\\{\\mathbf{Fx+G}u\\}\\\\\n",
    "    s\\mathbf{X}(s)-\\mathbf{x}(0) &= \\mathbf{FX}(s)+\\mathbf{G}U(s)\\\\\n",
    "    s\\mathbf{X}(s)-\\mathbf{FX}(s)&=\\mathbf{x}(0)+\\mathbf{G}U(s)\\\\\n",
    "    (s\\mathbf{I-F})\\mathbf{X(s)} &= \\mathbf{x}(0)+\\mathbf{G}U(s)\\\\\n",
    "    \\mathbf{X(s)} &= (s\\mathbf{I-F})^{-1}\\mathbf{x}(0)+(s\\mathbf{I-F})^{-1}\\mathbf{G}U(s)\\\\\n",
    "\\end{align*}\n",
    "$$\n",
    "\n",
    "O termo $(s\\mathbf{I-F})^{-1}\\mathbf{x}(0)$ é a resposta de entrada nula, devido sua independência da função de entrada.\n",
    "\n",
    "O termo $(s\\mathbf{I-F})^{-1}\\mathbf{G}U(s)$ é a resposta de estado nulo, devido sua independência das condições iniciais.\n",
    "\n",
    "Para determinar os estados no domínio do tempo $\\mathbf{x}(t)$ bastaria tirar a transformada inversa. Assim temos a resposta de cada um dos estados em função do tempo."
   ]
  },
  {
   "cell_type": "markdown",
   "metadata": {},
   "source": [
    "## Sinal de saída e função de transferência\n",
    "\n",
    "Olhando agora o sinal de saída:\n",
    "$$\n",
    "\\begin{align*}\n",
    "    y &= \\mathbf{Hx} + Ju\\\\\n",
    "    Y(s) &= \\mathbf{HX(s)} + JU(s)\n",
    "\\end{align*}\n",
    "$$\n",
    "\n",
    "Substituindo o que encontramos para $\\mathbf{X}(s)$:\n",
    "$$\n",
    "\\begin{align*}\n",
    "    Y(s) &= \\mathbf{H}(s\\mathbf{I-F})^{-1}\\mathbf{x}(0)+\\mathbf{H}(s\\mathbf{I-F})^{-1}\\mathbf{G}U(s) + JU(s)\n",
    "\\end{align*}\n",
    "$$\n",
    "\n",
    "Colocando $U(s)$ em evidência agora:\n",
    "$$\n",
    "\\begin{align*}\n",
    "    Y(s) &= \\mathbf{H}(s\\mathbf{I-F})^{-1}\\mathbf{x}(0)+\\left[\\mathbf{H}(s\\mathbf{I-F})^{-1}\\mathbf{G} + D\\right]U(s)\n",
    "\\end{align*}\n",
    "$$\n",
    "\n",
    "Quando as condições iniciais são nulas $\\mathbf{x}(0)=\\mathbf{0}$, o termo que sobra é um escalar:\n",
    "$$\n",
    "\\begin{align*}\n",
    "    Y(s) &= \\left[\\mathbf{H}(s\\mathbf{I-F})^{-1}\\mathbf{G} + J\\right]U(s)\\\\\n",
    "    \\frac{Y(s)}{U(s)} &= \\mathbf{H}(s\\mathbf{I-F})^{-1}\\mathbf{G} + J\n",
    "\\end{align*}\n",
    "$$\n",
    "\n",
    "Reconhecemos a última equação como a função de transferência do sistema definida em termos das matrizes da representação de espaço de estados."
   ]
  },
  {
   "cell_type": "markdown",
   "metadata": {},
   "source": [
    "## Pólos de um sistema no espaço de estados (Autovalores)\n",
    "\n",
    "Na equação da função de transferência, o termo principal é $(s\\mathbf{I-F})^{-1}$. Sabemos que a inversa de qualquer matriz pode ser descrita como sua adjunta divido pelo seu determinante. O que vai sobrar no denominador da função de transferência, portanto, é $\\det (s\\mathbf{I-F})$.\n",
    "\n",
    "Sabemos que os pólos são as raízes do denominador de uma função de transferência. Ora, se o denominador é dado pelo determinante acima, então os pólos do sistema são dados pelas soluções da equação:\n",
    "$$\n",
    "\\begin{align}\n",
    "\\det (s\\mathbf{I-F}) = 0\n",
    "\\end{align}\n",
    "$$\n",
    "\n",
    "Os valores de $s$ que satisfazem essa equação são chamados em álgebra linear de **autovalores da matriz** e de desempenham um papel importante em vários problemas de Engenharia. \n",
    "\n",
    "Em Python vc pode calcular os autovalores do sistema usando a funçao \"pole()\" da biblioteca *control*, ou usar a biblioteca *linalg* do NumPy para resolver o problema de autovalor diretamente na matriz de estados do sistema. Note, porém, que a função \"eig()\" do NumPy devolve não apenas os autovalores, mas também os [autovetores](https://pt.wikipedia.org/wiki/Autovalores_e_autovetores) associados também."
   ]
  },
  {
   "cell_type": "markdown",
   "metadata": {},
   "source": [
    "<p align=\"center\">\n",
    "<img src=\"Ex7.12.svg\" width=\"80%\">\n",
    "</p>\n",
    "\n",
    "Solução manual (você precisa saber fazer manualmente *pelo menos* os casos de ordem 2!):\n",
    "\n",
    "$$\n",
    "\\begin{align*}\n",
    "    s\\mathbf{I-F} &= s\\left[\\begin{array}{cc}1 & 0\\\\0 & 1\\end{array}\\right]-\\left[\\begin{array}{cc}-7 & -12\\\\1 & 0\\end{array}\\right]\\\\\n",
    "    &= \\left[\\begin{array}{cc}s+7 & 12\\\\-1 & s\\end{array}\\right]\n",
    "\\end{align*}\n",
    "$$\n",
    "\n",
    "A inversa da matriz é:\n",
    "$$\n",
    "\\begin{align*}\n",
    "    (s\\mathbf{I-F})^{-1} &= \\frac{\\left[\\begin{array}{cc}s & -12\\\\1 & s+7\\end{array}\\right]}{s(s+7)+12}\n",
    "\\end{align*}\n",
    "$$\n",
    "\n",
    "Faz-se agora o produto pela esquerda:\n",
    "$$\n",
    "\\begin{align*}\n",
    "    \\mathbf{H}(s\\mathbf{I-F})^{-1} &= \\frac{\\left[\\begin{array}{cc}1 & 2\\end{array}\\right]\\left[\\begin{array}{cc}s & -12\\\\1 & s+7\\end{array}\\right]}{s(s+7)+12}\\\\\n",
    "    &= \\frac{\\left[\\begin{array}{cc}s+2 & 2s+2\\end{array}\\right]}{s^2+7s+12}\n",
    "\\end{align*}\n",
    "$$\n",
    "\n",
    "E o resultado com o produto pela direita:\n",
    "\\begin{align*}\n",
    "    \\mathbf{H}(s\\mathbf{I-F})^{-1}\\mathbf{G} &= \\frac{\\left[\\begin{array}{cc}s+2 & 2s+2\\end{array}\\right]\\left[\\begin{array}{c}1 \\\\ 0\\end{array}\\right]}{s^2+7s+12}\\\\\n",
    "    & = \\frac{s+2}{s^2+7s+12}\n",
    "\\end{align*}"
   ]
  },
  {
   "cell_type": "markdown",
   "metadata": {},
   "source": [
    "Em Python, você pode implementar essas contas usando o pacote simbólico. Porém, o pacote *control* faz de um jeito mais ágil usando as definições próprias voltadas para Engenharia"
   ]
  },
  {
   "cell_type": "code",
   "execution_count": 4,
   "metadata": {},
   "outputs": [
    {
     "name": "stdout",
     "output_type": "stream",
     "text": [
      "<LinearIOSystem>: sys[2]\n",
      "Inputs (1): ['u[0]']\n",
      "Outputs (1): ['y[0]']\n",
      "States (2): ['x[0]', 'x[1]']\n",
      "\n",
      "A = [[ -7. -12.]\n",
      "     [  1.   0.]]\n",
      "\n",
      "B = [[1.]\n",
      "     [0.]]\n",
      "\n",
      "C = [[1. 2.]]\n",
      "\n",
      "D = [[0.]]\n",
      "\n",
      "\n",
      "    s + 2\n",
      "--------------\n",
      "s^2 + 7 s + 12\n",
      "\n"
     ]
    }
   ],
   "source": [
    "import numpy as np\n",
    "import control as ct\n",
    "import scipy.signal as sig\n",
    "\n",
    "# Definindo as matrizes\n",
    "F = np.array([[-7,-12],[1,0]])\n",
    "G = np.array([[1],[0]])\n",
    "H = np.array([[1,2]])\n",
    "J = 0\n",
    "\n",
    "# Definindo o sistema como espaço de estados\n",
    "sys = ct.ss(F,G,H,J)\n",
    "print(sys)\n",
    "\n",
    "# Calculando a função de transferência pelo objeto espaço de estados\n",
    "FT = ct.tf(sys)\n",
    "FT\n"
   ]
  },
  {
   "cell_type": "markdown",
   "metadata": {},
   "source": [
    "**Exercício**: Calcule manualmente e confira sua resposta com Python, a função de transferência do sistema\n",
    "\n",
    "$$\n",
    "\\begin{align}\n",
    "\\dot{\\mathbf{x}} &= \\left[\\begin{array}{cc}-1 & 7\\\\ 9 & 0\\end{array}\\right]\\mathbf{x} + \\left[\\begin{array}{cc} 5 \\\\ -3\\end{array}\\right]u\\\\\n",
    "y &= \\left[\\begin{array}{cc}3 & 2\\end{array}\\right]\\mathbf{x} \n",
    "\\end{align}\n",
    "$$"
   ]
  }
 ],
 "metadata": {
  "kernelspec": {
   "display_name": "Python 3.9.12 ('base')",
   "language": "python",
   "name": "python3"
  },
  "language_info": {
   "codemirror_mode": {
    "name": "ipython",
    "version": 3
   },
   "file_extension": ".py",
   "mimetype": "text/x-python",
   "name": "python",
   "nbconvert_exporter": "python",
   "pygments_lexer": "ipython3",
   "version": "3.9.12 (main, Apr  4 2022, 05:22:27) [MSC v.1916 64 bit (AMD64)]"
  },
  "orig_nbformat": 4,
  "vscode": {
   "interpreter": {
    "hash": "3e3763a57b4ffe0d06e963ec4b7f8ef3a748cbfdb342037439726ee83e94c05b"
   }
  }
 },
 "nbformat": 4,
 "nbformat_minor": 2
}
