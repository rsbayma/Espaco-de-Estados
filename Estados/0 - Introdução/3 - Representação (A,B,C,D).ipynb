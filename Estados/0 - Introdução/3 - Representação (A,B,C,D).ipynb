{
 "cells": [
  {
   "attachments": {},
   "cell_type": "markdown",
   "metadata": {},
   "source": [
    "# A representação $(A,B,C,D)$"
   ]
  },
  {
   "attachments": {},
   "cell_type": "markdown",
   "metadata": {},
   "source": [
    "Qualquer sistema linear e invariante no tempo pode ser representado pela equação de estados matricial:\n",
    "$$\n",
    "\\begin{align}\n",
    "    \\mathbf{\\dot{x}} &= \\mathbf{Ax} + \\mathbf{B}u\\\\\n",
    "    y &= \\mathbf{Cx} + Du\n",
    "\\end{align}\n",
    "$$"
   ]
  },
  {
   "attachments": {},
   "cell_type": "markdown",
   "metadata": {},
   "source": [
    "## Ordem do sistema\n",
    "\n",
    "Na função de transferência: ordem do sistema é igual à ordem da equação diferencial que o representa. \n",
    "\n",
    "Isso é equivalente à ordem do denominador da função de transferência.\n",
    "\n",
    "No espaço de estados, a ordem $n$ do sistema é:\n",
    "* O número de equações\n",
    "* O número de variáveis de estado.\n",
    "\n",
    "EDO de ordem $n$ representada por $n$ equações de primeira ordem."
   ]
  },
  {
   "attachments": {},
   "cell_type": "markdown",
   "metadata": {},
   "source": [
    "## Dimensões das matrizes\n",
    "\n",
    "Para qualquer sistema SISO (uma entrada, uma saída) de ordem $n$:\n",
    "* $\\mathbf{A}$: $n\\times n$ (quadrada de ordem $n$)\n",
    "* $\\mathbf{B}$: $n\\times 1$ (vetor coluna de $n$ elementos)\n",
    "* $\\mathbf{C}$: $n\\times n$ (vetor linha de $n$ elementos)\n",
    "* $D$: $1\\times 1$ (escalar)"
   ]
  },
  {
   "attachments": {},
   "cell_type": "markdown",
   "metadata": {},
   "source": [
    "**Exemplo:** Sistema de ordem 2\n",
    "$$\n",
    "\\begin{align}\n",
    "    \\mathbf{\\dot{x}} &= \\left[\\begin{array}{rr} 0 & 1\\\\-1 & -1 \\end{array} \\right]\\mathbf{x} + \n",
    "    \\left[\\begin{array}{r} -2 \\\\ 5\\end{array}\\right]u\\\\\n",
    "    y &= \\left[\\begin{array}{rr} 3 & 1\\end{array} \\right]\\mathbf{x}\n",
    "\\end{align}\n",
    "$$"
   ]
  },
  {
   "attachments": {},
   "cell_type": "markdown",
   "metadata": {},
   "source": [
    "## Sistemas MIMO\n",
    "\n",
    "MIMO = múltiplas entradas e múltiplas saídas. Nestes casos, $u$ e $y$ passam a ser vetores coluna de sinais, assim como o vetor de estados. \n",
    "\n",
    "Se a ordem do sistema for $n$, a matriz $\\mathbf{A}$ continua quadrada de ordem $n$.\n",
    "\n",
    "Se o sistema tiver $p$ entradas, a matriz $\\mathbf{B}$ será $n\\times p$ ($p$ colunas)\n",
    "\n",
    "Se o sistema tiver $q$ saídas, as matrizes $\\mathbf{C}$ e $\\mathbf{D}$ terão $q$ linhas. Suas dimensões serão respectivamente $q \\times n$ e $q \\times p$"
   ]
  },
  {
   "attachments": {},
   "cell_type": "markdown",
   "metadata": {},
   "source": [
    "**Exemplo**\n",
    "\n",
    "O sistema\n",
    "$$\n",
    "\\begin{align}\n",
    "    \\dot{\\mathbf{x}} &= \\left[\\begin{array}{rrrr}-4 & 0 & 0 &-7\\\\ 1 & 0 & 0 & 0\\\\0 &1 & 0 & 0\\\\0 & 0 & 0 & 1 \\end{array}\\right]\\mathbf{x}+\\left[\\begin{array}{rr}1 & 0\\\\ -1 & 8 \\\\ 0 & 0 \\\\ 0 & 0 \\end{array}\\right]\\mathbf{u}\\\\\n",
    "    \\mathbf{y} &= \\left[\\begin{array}{rrrr}10 & 7 &0 & 0\\\\\n",
    "    0 & 0 &0 & -1\\\\\n",
    "    1 & 8 &2 & 0\\end{array}\\right]\\mathbf{x}+\n",
    "    \\left[\\begin{array}{rr}1 & 0 \\\\\n",
    "    0 & 0\\\\\n",
    "    0 & 0\\end{array}\\right]\\mathbf{u}\n",
    "\\end{align}\n",
    "$$\n",
    "\n",
    "- É de 4a ordem\n",
    "- Possui 2 sinais de entrada\n",
    "- Possui 3 sinais de saída"
   ]
  }
 ],
 "metadata": {
  "kernelspec": {
   "display_name": "base",
   "language": "python",
   "name": "python3"
  },
  "language_info": {
   "name": "python",
   "version": "3.9.12 (main, Apr  4 2022, 05:22:27) [MSC v.1916 64 bit (AMD64)]"
  },
  "orig_nbformat": 4,
  "vscode": {
   "interpreter": {
    "hash": "3e3763a57b4ffe0d06e963ec4b7f8ef3a748cbfdb342037439726ee83e94c05b"
   }
  }
 },
 "nbformat": 4,
 "nbformat_minor": 2
}
