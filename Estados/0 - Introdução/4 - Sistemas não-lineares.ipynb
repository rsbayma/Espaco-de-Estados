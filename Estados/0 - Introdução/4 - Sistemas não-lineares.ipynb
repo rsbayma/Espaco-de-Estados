{
 "cells": [
  {
   "attachments": {},
   "cell_type": "markdown",
   "metadata": {},
   "source": [
    "# (Curiosidade) Sistemas não-lineares\n",
    "\n",
    "Podemos usar a representação de estados para sistemas não lineares também. \n",
    "\n",
    "Essa forma é a preferível para simular sistemas não-lineares no computador. \n",
    "\n",
    "A forma geral de representar é:\n",
    "$$\n",
    "\\begin{align}\n",
    "    \\dot{\\mathbf{x}} &= \\mathbf{F(x,u)}\\\\\n",
    "    \\mathbf{y} &= \\mathbf{G(x,u)}\n",
    "\\end{align}\n",
    "$$\n",
    "onde $\\mathbf{F}()$ e $\\mathbf{G}()$ representam funções vetoriais não lineares."
   ]
  },
  {
   "attachments": {},
   "cell_type": "markdown",
   "metadata": {},
   "source": [
    "**Exemplo:**\n",
    "\n",
    "Nosso sistema de estimação MAGLEV, é representado por uma equação de estados não-linear\n",
    "$$\n",
    "\\begin{align}\n",
    "    \\dot{x}_1 &= x_2\\\\\n",
    "    \\dot{x}_2 &= g - \\frac{ku^2}{m(x_1+\\mu)^2}\n",
    "    y &= x_1\n",
    "\\end{align}\n",
    "$$\n",
    "onde $g$ é a aceleração da gravidade e $k$, $m$ e $\\mu$ são constantes. \n",
    "\n",
    "Para esse caso, as funções $\\mathbf{F}$ e $\\mathbf{G}$ são:\n",
    "$$\n",
    "\\begin{align}\n",
    "    \\mathbf{F}(x_1,x_2,u) &= \\left[\\begin{array}{c}x_2\\\\ g - \\frac{ku^2}{m(x_1+\\mu)^2}\\end{array}\\right]\\\\\n",
    "    G(x_1,x_2,u) &= x_1\n",
    "\\end{align}\n",
    "$$\n"
   ]
  },
  {
   "attachments": {},
   "cell_type": "markdown",
   "metadata": {},
   "source": [
    "## Ponto de equilíbrio\n",
    "\n",
    "Os valores constantes de $\\mathbf{x}=\\mathbf{x}_0$ e $\\mathbf{u}=\\mathbf{u}_0 $ tais que $\\mathbf{F}(\\mathbf{x}_0,\\mathbf{u}_0)=\\mathbf{0}$ são chamados pontos de equilíbrio do sistema.  "
   ]
  },
  {
   "attachments": {},
   "cell_type": "markdown",
   "metadata": {},
   "source": [
    "## Linearização\n",
    "\n",
    "Equações não-lineares são muito difíceis, quando não impossíveis, de resolver. \n",
    "\n",
    "Por esse motivo, normalmente buscamos soluções aproximadas para os sistemas. Isso é feito através dos chamados modelos de *pequeno sinal*. \n",
    "\n",
    "Esses modelos consistem de uma equação diferencial aproximada, fazendo a expansão de 1a ordem em série de Taylor das funções, nas proximidades do equilíbrio.\n",
    "\n",
    "$$\n",
    "\\begin{align}\n",
    "    \\mathbf{F}(\\mathbf{x},\\mathbf{u}) \\approx \\mathbf{F}(\\mathbf{x}_0,\\mathbf{u}_0) + \\mathbf{F}'(\\mathbf{x}_0,\\mathbf{u}_0)(\\mathbf{x}-\\mathbf{x_0}) \n",
    "\\end{align}\n",
    "$$\n",
    "onde $\\mathbf{F}'(\\mathbf{x}_0,\\mathbf{u}_0)$ é a Função Jabiano da função $\\mathbf{F}$. "
   ]
  }
 ],
 "metadata": {
  "kernelspec": {
   "display_name": "base",
   "language": "python",
   "name": "python3"
  },
  "language_info": {
   "name": "python",
   "version": "3.9.12 (main, Apr  4 2022, 05:22:27) [MSC v.1916 64 bit (AMD64)]"
  },
  "orig_nbformat": 4,
  "vscode": {
   "interpreter": {
    "hash": "3e3763a57b4ffe0d06e963ec4b7f8ef3a748cbfdb342037439726ee83e94c05b"
   }
  }
 },
 "nbformat": 4,
 "nbformat_minor": 2
}
