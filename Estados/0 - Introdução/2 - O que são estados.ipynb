{
 "cells": [
  {
   "attachments": {},
   "cell_type": "markdown",
   "metadata": {},
   "source": [
    "# O que são estados?"
   ]
  },
  {
   "attachments": {},
   "cell_type": "markdown",
   "metadata": {},
   "source": [
    "Os estados de um sistema são suas variáveis internas.\n",
    "\n",
    "Quando lidamos com funções de transferência, apenas o sinal de entrada e o sinal de saída importam. Na prática, são os únicos que observamos e medimos.\n",
    "\n",
    "Na representação de estados, passamos a nos importar com os sinais \"internos\" do sistema. Para isso, escrevemos uma equação específica para cada estado.\n",
    "\n",
    "A vantagem disso é que passamos a entender **outras propriedades do sistema**\n",
    "\n",
    "A saída do sistema é função dos estados. \n",
    "\n"
   ]
  },
  {
   "attachments": {},
   "cell_type": "markdown",
   "metadata": {},
   "source": [
    "## Matematicamente\n",
    "\n",
    "Os estados são as \"funções incógnitas\" do conjunto de equações diferenciais que vamos usar para representar o sistema. Elas podem ter significado físico, mas não é estritamente necessário.\n",
    "\n",
    "Os estados normalmente são representados pela letra $x$ e um índice numérico indicando a a posição dele no conjunto, por exemplo, $x_1$, $x_2$, etc. Lembre-se que essas são **funções do tempo** $t$, mas omitimos isso.\n",
    "\n",
    "O vetor de estados é representado em negrito $\\mathbf{x}$, sem índice. Ele sempre será um vetor **coluna**. O vetor de estados é uma forma abreviada de agregar todas as variáveis de estado do sistema.\n",
    "\n",
    "$$\n",
    "\\begin{align}\n",
    "    \\mathbf{x}(t) = \\left[\\begin{array}{cc}x_1(t) \\\\ x_2(t) \\\\ \\vdots \\\\ x_n(t)\\end{array}\\right]\n",
    "\\end{align}\n",
    "$$"
   ]
  },
  {
   "attachments": {},
   "cell_type": "markdown",
   "metadata": {},
   "source": [
    "## Fisicamente... \n",
    "\n",
    "Os estados representam um conjunto mínimo de informação necessária para saber a evolução do sistema. \n",
    "\n",
    "Se conhecemos os estados em um instante, então podemos conhecer os estados em todos os outros instantes.\n",
    "\n",
    "Em alguns modelos, os estados são grandezas físicas que podemos medir.\n",
    "\n",
    "Exemplo: as correntes nos indutores e tensões nos capacitores são os estdos de um circuito elétrico. O conhecimento desses sinais é suficiente para calcular qualquer outra variável no circuito.\n",
    "\n",
    "**Nem sempre somos capazes de medir um estado do sistema, mesmo que ele seja uma variável física**\n",
    "\n",
    "Exemplo: os fluxos magnéticos em motor elétrico. Esses fluxos aparecem na modelagem e influenciam as grandezas de interesse do motor (corrente, tensão, velocidade), mas na prática nunca instalamos sensores para medí-los diretamente."
   ]
  }
 ],
 "metadata": {
  "kernelspec": {
   "display_name": "base",
   "language": "python",
   "name": "python3"
  },
  "language_info": {
   "name": "python",
   "version": "3.9.12 (main, Apr  4 2022, 05:22:27) [MSC v.1916 64 bit (AMD64)]"
  },
  "orig_nbformat": 4,
  "vscode": {
   "interpreter": {
    "hash": "3e3763a57b4ffe0d06e963ec4b7f8ef3a748cbfdb342037439726ee83e94c05b"
   }
  }
 },
 "nbformat": 4,
 "nbformat_minor": 2
}
