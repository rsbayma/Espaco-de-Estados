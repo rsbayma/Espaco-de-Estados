{
 "cells": [
  {
   "cell_type": "markdown",
   "metadata": {},
   "source": [
    "## (7.4.1 - Continuação) Forma de Jordan: polos repetidos e complexos"
   ]
  },
  {
   "cell_type": "markdown",
   "metadata": {},
   "source": [
    "## Pólos reais repetidos\n",
    "\n",
    "Suponha que:\n",
    "$$\n",
    "\\begin{align}\n",
    "    G(s) &= \\frac{16s}{(s+3)^2(s+5)}\n",
    "\\end{align}\n",
    "$$"
   ]
  },
  {
   "cell_type": "markdown",
   "metadata": {},
   "source": [
    "A expansão em frações parciais é:\n"
   ]
  },
  {
   "cell_type": "code",
   "execution_count": 3,
   "metadata": {},
   "outputs": [
    {
     "name": "stdout",
     "output_type": "stream",
     "text": [
      "[ 20.+0.j -24.+0.j -20.+0.j]\n",
      "[-3.+0.j -3.+0.j -5.+0.j]\n"
     ]
    }
   ],
   "source": [
    "import numpy as np\n",
    "import scipy.signal as sig\n",
    "\n",
    "num = np.array([16,0])\n",
    "\n",
    "#As duas próximas calculam o denominador\n",
    "den = np.convolve([1,3],[1,3])\n",
    "den = np.convolve(den,[1,5])\n",
    "\n",
    "#Acha os resíduos. Funciona bem se não tiver pólos repetidos!\n",
    "r,p,k = sig.residue(num,den)\n",
    "print(r)\n",
    "print(p)"
   ]
  },
  {
   "cell_type": "markdown",
   "metadata": {},
   "source": [
    "\n",
    "\n",
    "Então:\n",
    "$$\n",
    "\\begin{align}\n",
    "    G(s) &= \\frac{20}{(s+3)}-\\frac{24}{(s+3)^2}-\\frac{20}{s+5}\n",
    "\\end{align}\n",
    "$$\n",
    "\n",
    "Observe no diagrama como devemos implementar o termo quadrático:\n",
    "<p align=\"center\">\n",
    "<img src=\"modal3.svg\" width=\"80%\">\n",
    "</p>\n",
    "Observe que os estágios correspondentes ao polo repetido ficam em série, e não em paralelo, diferente dos outros.\n",
    "\n",
    "As equações são:\n",
    "$$\n",
    "\\begin{align}\n",
    "    \\dot{x}_1 &= -3x_1+20u\\\\\n",
    "    \\dot{x}_2 &= -3x_2+x_1\\\\\n",
    "    \\dot{x}_3 &= -5x_3+20u\\\\\n",
    "    y &= x_1+x_3-1.2x_2\n",
    "\\end{align}\n",
    "$$"
   ]
  },
  {
   "cell_type": "markdown",
   "metadata": {},
   "source": [
    "## Pólos complexos conjugados\n",
    "Quando os polos são complexos, somos tentados a usar ganhos complexos no diagrama de blocos, o que não é possível de realizar fisicamente. \n",
    "\n",
    "Quando há polos complexos e, consequentemente, resíduos complexos, podemos fazer um artifício baseado na própria expansão em frações para nos \"livrarmos\" de qualquer número complexo presente. "
   ]
  },
  {
   "cell_type": "markdown",
   "metadata": {},
   "source": [
    "Suponha, por exemplo:\n",
    "$$\n",
    "\\begin{align}\n",
    "    G(s) &= \\frac{100}{s(s^2+2s+5)}\n",
    "\\end{align}\n",
    "$$"
   ]
  },
  {
   "cell_type": "code",
   "execution_count": 4,
   "metadata": {},
   "outputs": [
    {
     "name": "stdout",
     "output_type": "stream",
     "text": [
      "[ 20.+0.j -10.+5.j -10.-5.j]\n",
      " \n",
      "[ 0.+0.j -1.+2.j -1.-2.j]\n"
     ]
    }
   ],
   "source": [
    "num = 100\n",
    "den = np.convolve([1,0],[1,2,5])\n",
    "r,p,k = sig.residue(num,den)\n",
    "print(r)\n",
    "print(' ')\n",
    "print(p)"
   ]
  },
  {
   "cell_type": "markdown",
   "metadata": {},
   "source": [
    "Então:\n",
    "$$\n",
    "\\begin{align}\n",
    "    G(s) &= \\frac{20}{s}+\\frac{-10+j5}{s+1-j2}+\\frac{-10-j5}{s+1+j2}\n",
    "\\end{align}\n",
    "$$\n",
    "\n",
    "As frações complexas exigiriam ganhos de realimentação e de saída complexos. Para evitar isso, podemos usar um artifício que acopla os modos complexos entre si, mas continuando isolados dos outros modos do sistema"
   ]
  },
  {
   "cell_type": "markdown",
   "metadata": {},
   "source": [
    "Para um caso geral de conjugados\n",
    "$$\n",
    "\\begin{align}\n",
    "    \\frac{a+jb}{s-\\sigma-j\\omega}+\\frac{a-jb}{s-\\sigma+j\\omega}\n",
    "\\end{align}\n",
    "$$\n",
    "\n",
    "O diagrama de blocos (dedução um pouco trabalhosa) equivalente é:\n",
    "<p align=\"center\">\n",
    "<img src=\"JordanComplexos.svg\" width=\"50%\">\n",
    "</p>"
   ]
  },
  {
   "cell_type": "markdown",
   "metadata": {},
   "source": [
    "As equações de estado são as seguintes:\n",
    "$$\n",
    "\\begin{align}\n",
    "    \\dot{R} &= \\sigma R-\\omega I + u\\\\\n",
    "    \\dot{I} &= \\omega R-\\sigma I + u\\\\\n",
    "    y &= 2a\\, R -2b\\, I\n",
    "\\end{align}\n",
    "$$\n",
    "\n",
    "Assim, a contribuição do par conjugado para a forma modal é a seguinte:\n",
    "* Na matriz de estados, encaixe a seguinte matrix $2\\times 2$ feita a partir das partes real e imaginária dos pólos complexos\n",
    "$$\n",
    "\\begin{align}\n",
    "    \\left[\\begin{array}{cc} \\sigma & -\\omega\\\\ \\omega & \\sigma\\end{array}\\right]\n",
    "\\end{align}\n",
    "$$\n",
    "* Na matriz de entrada, a contribuição é apenas um vetor coluna de 1's\n",
    "* Na matriz de saída, a contribuição é uma linha de dois elementos construído a partir das partes real e imaginária do resíduo complexo\n",
    "$$\n",
    "\\begin{align}\n",
    "    \\left[\\begin{array}{cc} 2a & -2b\\end{array}\\right]\n",
    "\\end{align}\n",
    "\n"
   ]
  },
  {
   "cell_type": "markdown",
   "metadata": {},
   "source": [
    "Voltando ao exemplo...\n",
    "$$\n",
    "\\begin{align}\n",
    "    G(s) &= \\frac{20}{s}+\\frac{-10+j5}{s+1-j2}+\\frac{-10-j5}{s+1+j2}\n",
    "\\end{align}\n",
    "$$\n",
    "\n",
    "As frações complexas são caracterizadas por:\n",
    "* O pólo é $s=-1+j2$, isto é $\\sigma = -1$ e $\\omega=2$\n",
    "* O resíduo complexo correspondente é $-10+j5$, isto é, $a=-10$ e $b=5$\n",
    "\n",
    "Assim as equações de estado serão:\n",
    "$$\n",
    "\\begin{align}\n",
    "    \\dot{x}_1 &= u\\\\\n",
    "    \\dot{x}_2 &= -x_2-2x_3+u\\\\\n",
    "     \\dot{x}_3 &= 2x_2-x_3+u\\\\\n",
    "     y &= 20x_1 -20x_2+10x_3\n",
    "\\end{align}\n",
    "$$\n",
    "\n",
    "**Construa as matrizes a partir daqui. Observe que a matriz de estados não é mais diagonal (mas é quase!)**\n"
   ]
  }
 ],
 "metadata": {
  "kernelspec": {
   "display_name": "Python 3.9.12 ('base')",
   "language": "python",
   "name": "python3"
  },
  "language_info": {
   "codemirror_mode": {
    "name": "ipython",
    "version": 3
   },
   "file_extension": ".py",
   "mimetype": "text/x-python",
   "name": "python",
   "nbconvert_exporter": "python",
   "pygments_lexer": "ipython3",
   "version": "3.9.12"
  },
  "orig_nbformat": 4,
  "vscode": {
   "interpreter": {
    "hash": "3e3763a57b4ffe0d06e963ec4b7f8ef3a748cbfdb342037439726ee83e94c05b"
   }
  }
 },
 "nbformat": 4,
 "nbformat_minor": 2
}
