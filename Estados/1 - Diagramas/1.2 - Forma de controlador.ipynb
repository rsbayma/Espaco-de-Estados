{
 "cells": [
  {
   "cell_type": "markdown",
   "metadata": {},
   "source": [
    "# (7.4) Diagrama de blocos e formas canônicas\n",
    "## (7.4.1) Forma padrão ou canônica de controlador \n",
    "<p align=center>\n",
    "<img src=\"Fig7.7.svg\" width=\"80%\"/>\n",
    "</p>"
   ]
  },
  {
   "cell_type": "markdown",
   "metadata": {},
   "source": [
    "$$\n",
    "\\begin{align}\n",
    "G(s) &= \\frac{s+2}{s^2+7s+12}\n",
    "\\end{align}\n",
    "$$"
   ]
  },
  {
   "cell_type": "markdown",
   "metadata": {},
   "source": [
    "Para construir um diagrama na forma canônica de controlador, faça o seguinte:\n",
    "* Desenhe integradores em série, tantos quantos forem a ordem do sistema\n",
    "* A entrada será o sinal mais a esquerda. A saída, o mais a direita.\n",
    "* Realimente **todos** os integradores, cada um através de um ganho constante\n",
    "* As realimentações devem ser ligadas a um **único** somador posicionado na entrada do integrador mais a esquerda. Se quiser organizar melhor, divida o somador em outros de duas entradas, imediatamente abaixo\n",
    "* O valor de cada ganho de realimentação é o negativo de um coeficiente do denominador. \n",
    "* Utilize os coeficientes de **maior** potência de $s$ para as ligações dos integradores mais perto da **entrada**\n",
    "* A saída do sistema é consturída a partir de um somador \n",
    "* Ao somador de saída, ligue as saídas de cada integrador através de um ganho constante\n",
    "* O valor de cada ganho é igual a um coeficiente do numerador\n",
    "* Utilize os coeficientes de **menor** potência de $s$ para as ligações dos integradores mais perto da **saída**\n",
    "\n",
    "\n",
    "Para o diagrama feito, as equações de estado são:\n",
    "\n",
    "$$\n",
    "\\begin{align}\n",
    "    \\dot{x}_2 &= x_1\\\\\n",
    "    \\dot{x}_1 &= u - 7x_1 -12x_2\\\\\n",
    "    y &= 2x_2+x_1\n",
    "\\end{align}\n",
    "$$\n",
    "\n",
    "Logo a representação matricial é:\n",
    "$$\n",
    "\\begin{align}\n",
    "    \\dot{\\mathbf{x}} &= \\left[\\begin{array}{rr}-7 & -12\\\\1 & 0\\end{array}\\right]\\mathbf{x}+\\left[\\begin{array}{r}1\\\\0\\end{array}\\right]u\\\\\n",
    "    y &= \\left[\\begin{array}{rr}1 & 2\\end{array}\\right]\\mathbf{x}\n",
    "\\end{align}\n",
    "$$\n",
    "\n",
    "Note que os estados foram ordenados da esquerda para a direita. *O que aconteceria se tivéssemos nomeado ao contrário?*"
   ]
  },
  {
   "cell_type": "code",
   "execution_count": 3,
   "metadata": {},
   "outputs": [
    {
     "name": "stdout",
     "output_type": "stream",
     "text": [
      "<LinearIOSystem>: sys[4]\n",
      "Inputs (1): ['u[0]']\n",
      "Outputs (1): ['y[0]']\n",
      "States (2): ['x[0]', 'x[1]']\n",
      "\n",
      "A = [[ -7. -12.]\n",
      "     [  1.   0.]]\n",
      "\n",
      "B = [[1.]\n",
      "     [0.]]\n",
      "\n",
      "C = [[1. 2.]]\n",
      "\n",
      "D = [[0.]]\n",
      "\n"
     ]
    }
   ],
   "source": [
    "import numpy as np\n",
    "import control as ct\n",
    " \n",
    "F = np.matrix([[-7,-12],[1,0]])\n",
    "G = np.matrix([1,0]).T\n",
    "H = np.matrix([1,2])\n",
    "\n",
    "sys = ct.ss(F,G,H,0)\n",
    "print(sys)"
   ]
  },
  {
   "cell_type": "markdown",
   "metadata": {},
   "source": [
    "Podemos confirmar que a resposta está certa fazendo a volta para função de transferência"
   ]
  },
  {
   "cell_type": "code",
   "execution_count": 4,
   "metadata": {},
   "outputs": [
    {
     "name": "stdout",
     "output_type": "stream",
     "text": [
      "\n",
      "    s + 2\n",
      "--------------\n",
      "s^2 + 7 s + 12\n",
      "\n"
     ]
    }
   ],
   "source": [
    "print(ct.tf(sys))"
   ]
  },
  {
   "cell_type": "markdown",
   "metadata": {},
   "source": [
    "## Forma geral\n",
    "\n",
    "Para um sistema geral de ordem $n$, com função de transferência\n",
    "$$\n",
    "\\begin{align}\n",
    "    G(s) &= \\frac{b_1s^{n-1}+b_2s^{n-2}+\\ldots b_n}{s^n+a_1s^{n-1}+a_2s^{n-2}+\\ldots + a_n}\n",
    "\\end{align}\n",
    "$$\n",
    "as matrizes da forma canônica de controlador tem a seguinte estrutura\n",
    "\n",
    "$$\n",
    "\\begin{align*}\n",
    "    \\mathbf{F}_c &= \\left[\\begin{array}{cccccc} \n",
    "                  -a_1 & -a_2 & \\ldots & a_{n-1} &-a_n\\\\\n",
    "                     1 & 0 & \\ldots & 0 & 0 \\\\\n",
    "                     0 & 1 & \\ldots & 0 & 0 \\\\\n",
    "                     \\vdots & \\vdots & \\ldots & \\vdots& \\vdots \\\\\n",
    "                     0 & 0 & \\ldots  & 1 & 0\n",
    "    \\end{array}\\right]\\\\\n",
    "    \\mathbf{G}_c &= \\left[\\begin{array}{cccccc} \n",
    "                  1 \\\\ 0 \\\\ 0 \\\\ \\vdots \\\\ 0 \n",
    "    \\end{array}\\right]\\\\\n",
    "    \\mathbf{H}_c &= \\left[\\begin{array}{cccccc} \n",
    "                  b_1 & b_2 & \\ldots & b_{n-1} & b_n \n",
    "    \\end{array}\\right]\\\\\n",
    "    J &=0\n",
    "\\end{align*}\n",
    "$$\n",
    "\n",
    "**Destaques:**\n",
    "* Matriz $\\mathbf{F}$\n",
    "    * A primeira linha é dada pelos coeficientes do denominador, com sinal trocado, ordem decrescente de potência\n",
    "    * Abaixo da segunda linha temos uma matriz identididade e uma coluna de zeros\n",
    "* Matriz $\\mathbf{G}$\n",
    "    * Primeiro elemento $1$ e os demais zero\n",
    "* Matriz $\\mathbf{H}$\n",
    "    * Coeficientes do numerador, sem troca de sinal, ordem decrescente de potência\n",
    "* Termo $J$\n",
    "    * Nulo (apenas se o grau do numerador for estritamente menor que o do denominador)\n",
    "\n",
    "**Observacão**: A função de transferência tem o grau do denominador estritamente maior que o do numerador. Caso não seja, precisa fazer divisão longa antes de prosseguir. Repare também que o denominador é mônico. \n",
    "\n",
    "**Exercício**: Ache as matrizes da forma de controlador do sistema:\n",
    "$$\n",
    "\\begin{align}\n",
    "    G(s) &= \\frac{5s^2+8}{s(s+5)(s^2+9)}\n",
    "\\end{align}\n",
    "$$"
   ]
  },
  {
   "cell_type": "code",
   "execution_count": null,
   "metadata": {},
   "outputs": [],
   "source": []
  }
 ],
 "metadata": {
  "kernelspec": {
   "display_name": "Python 3.9.12 ('base')",
   "language": "python",
   "name": "python3"
  },
  "language_info": {
   "codemirror_mode": {
    "name": "ipython",
    "version": 3
   },
   "file_extension": ".py",
   "mimetype": "text/x-python",
   "name": "python",
   "nbconvert_exporter": "python",
   "pygments_lexer": "ipython3",
   "version": "3.9.12"
  },
  "orig_nbformat": 4,
  "vscode": {
   "interpreter": {
    "hash": "3e3763a57b4ffe0d06e963ec4b7f8ef3a748cbfdb342037439726ee83e94c05b"
   }
  }
 },
 "nbformat": 4,
 "nbformat_minor": 2
}
