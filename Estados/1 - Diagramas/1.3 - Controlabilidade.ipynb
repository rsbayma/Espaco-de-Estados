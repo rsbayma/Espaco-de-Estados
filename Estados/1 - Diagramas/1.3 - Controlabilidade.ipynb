{
 "cells": [
  {
   "cell_type": "markdown",
   "metadata": {},
   "source": [
    "# Controlabilidade\n",
    "\n",
    "Controlabilidade é uma propriedade física de um sistema que tem importantes consequências para o projeto de controladores.\n",
    "\n",
    "Intuitivamente, controlabilidade é a possibilidade de realmente controlar o sistema para fazer algo que desejamos. Portanto, um sistema é não controlável se não for possível alterar os seus estados através de um sinal de entrada externo. \n",
    "\n",
    "Fisicamente, um sistema é controlável se for possível fazer a dinâmica dele iniciar em um vetor de estados inicial *arbitrário* $\\mathbf{x}(0)$ e transitar para *qualquer* outro estado $\\mathbf{x}(t_f)$ diferente em um intervalo de tempo finito $t_f$, usando um sinal de controle finito.\n",
    "\n",
    "Matematicamente, o sistema é controlável quando a matriz de controlabilidade\n",
    "$$\n",
    "\\begin{align}\n",
    "\\mathbf{\\mathcal{C}} &= \\left[\\begin{array}{ccccc} \\mathbf{G} & \\mathbf{FG} & \\mathbf{F^2G} & \\ldots & \\mathbf{F^{n-1}G}\\end{array}\\right]\n",
    "\\end{align}\n",
    "$$\n",
    " tiver [posto](https://en.wikipedia.org/wiki/Rank_(linear_algebra)) $n$. Esse é o caso geral, válido inclusive se o sistema tiver mais de uma entrada. Normalmente, quanto mais entradas, mais controlável o sistema será.\n",
    "\n",
    "Para um sistema de uma única entrada, basta que:\n",
    "$$\n",
    "\\begin{align}\n",
    "\\det (\\mathbf{\\mathcal{C}}) &\\neq 0\n",
    "\\end{align}\n",
    "$$"
   ]
  },
  {
   "cell_type": "code",
   "execution_count": null,
   "metadata": {},
   "outputs": [
    {
     "name": "stdout",
     "output_type": "stream",
     "text": [
      "<LinearIOSystem>: sys[4]\n",
      "Inputs (1): ['u[0]']\n",
      "Outputs (1): ['y[0]']\n",
      "States (2): ['x[0]', 'x[1]']\n",
      "\n",
      "A = [[ -7. -12.]\n",
      "     [  1.   0.]]\n",
      "\n",
      "B = [[1.]\n",
      "     [0.]]\n",
      "\n",
      "C = [[1. 2.]]\n",
      "\n",
      "D = [[0.]]\n",
      "\n"
     ]
    }
   ],
   "source": [
    "import numpy as np\n",
    "import control as ct\n",
    " \n",
    "F = np.matrix([[-7,-12],[1,0]])\n",
    "G = np.matrix([1,0]).T\n",
    "H = np.matrix([1,2])\n",
    "\n",
    "sys = ct.ss(F,G,H,0)\n",
    "print(sys)"
   ]
  },
  {
   "cell_type": "markdown",
   "metadata": {},
   "source": [
    "## Exemplo:\n",
    "\n",
    "$$\n",
    "\\begin{align}\n",
    "G(s) &= \\frac{s+2}{s^2+7s+12}\n",
    "\\end{align}\n",
    "$$\n",
    "\n",
    "$$\n",
    "\\begin{align}\n",
    "    \\dot{\\mathbf{x}} &= \\left[\\begin{array}{rr}-7 & -12\\\\1 & 0\\end{array}\\right]\\mathbf{x}+\\left[\\begin{array}{r}1\\\\0\\end{array}\\right]u\\\\\n",
    "    y &= \\left[\\begin{array}{rr}1 & 2\\end{array}\\right]\\mathbf{x}\n",
    "\\end{align}\n",
    "$$\n",
    "\n",
    "Para um sistema de segunda ordem, a matriz de controlabilidade é dada por:\n",
    "$$\n",
    "    \\begin{align}\n",
    "        \\mathcal{C} &= \\left[\\begin{array}{cc} \\mathbf{G} & \\mathbf{FG}\\end{array}\\right]\n",
    "    \\end{align}\n",
    "$$\n",
    "\n",
    "Em Python podemos calcular de duas formas. Diretamente:"
   ]
  },
  {
   "cell_type": "code",
   "execution_count": null,
   "metadata": {},
   "outputs": [
    {
     "name": "stdout",
     "output_type": "stream",
     "text": [
      "[[ 1 -7]\n",
      " [ 0  1]]\n"
     ]
    }
   ],
   "source": [
    "C = np.hstack([G,np.matmul(F,G)])    ## Aqui estamos calculando uma coluna de cada vez, e concatenando o resultado\n",
    "print(C)"
   ]
  },
  {
   "cell_type": "markdown",
   "metadata": {},
   "source": [
    "Ou usando a função especializada da biblioteca control, \"ctrb()\""
   ]
  },
  {
   "cell_type": "code",
   "execution_count": null,
   "metadata": {},
   "outputs": [
    {
     "name": "stdout",
     "output_type": "stream",
     "text": [
      "[[ 1. -7.]\n",
      " [ 0.  1.]]\n"
     ]
    }
   ],
   "source": [
    "print(ct.ctrb(F,G))       # Note que só precisamos fornecer as matrizes F e G"
   ]
  },
  {
   "cell_type": "markdown",
   "metadata": {},
   "source": [
    "Para verificar controlabilidade, calcule o determinante. O sistema é controlável se ele for diferente de zero"
   ]
  },
  {
   "cell_type": "code",
   "execution_count": null,
   "metadata": {},
   "outputs": [
    {
     "name": "stdout",
     "output_type": "stream",
     "text": [
      "1.0\n"
     ]
    }
   ],
   "source": [
    "print(np.linalg.det(C))      # Precisamos da sub-biblioteca \"linalg\""
   ]
  },
  {
   "cell_type": "markdown",
   "metadata": {},
   "source": [
    "**Exercício**: ache a forma padrão de controlador para o sistema de 3a ordem\n",
    "$$\n",
    "\\begin{align}\n",
    "    H(s) &=\\frac{s^2-s+9}{s(s+1)(s+2)}\n",
    "\\end{align}\n",
    "$$"
   ]
  },
  {
   "cell_type": "markdown",
   "metadata": {},
   "source": [
    "**Determine também a controlabilidade do sistema**\n"
   ]
  }
 ],
 "metadata": {
  "kernelspec": {
   "display_name": "Python 3.9.7 64-bit",
   "language": "python",
   "name": "python3"
  },
  "language_info": {
   "name": "python",
   "version": "3.9.7"
  },
  "orig_nbformat": 4,
  "vscode": {
   "interpreter": {
    "hash": "c56527485b7c9dd36c8c8808345694ae9d0a642c0f00dfb6356f9a65494ceb50"
   }
  }
 },
 "nbformat": 4,
 "nbformat_minor": 2
}
