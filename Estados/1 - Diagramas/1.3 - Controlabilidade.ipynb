{
 "cells": [
  {
   "attachments": {},
   "cell_type": "markdown",
   "metadata": {},
   "source": [
    "# Controlabilidade\n",
    "\n",
    "Controlabilidade é uma propriedade física de um sistema que tem importantes consequências para o projeto de controladores.\n",
    "\n",
    "Intuitivamente, controlabilidade é a possibilidade de realmente controlar o sistema para fazer algo que desejamos. Portanto, um sistema é não controlável se não for possível alterar os seus estados através de um sinal de entrada externo. \n",
    "\n",
    "Fisicamente, um sistema é controlável se for possível fazer a dinâmica dele iniciar em um vetor de estados inicial *arbitrário* $\\mathbf{x}(0)$ e transitar para *qualquer* outro estado $\\mathbf{x}(t_f)$ diferente em um intervalo de tempo finito $t_f$, usando um sinal de controle finito.\n",
    "\n",
    "Matematicamente, o sistema é controlável quando a matriz de controlabilidade\n",
    "$$\n",
    "\\begin{align}\n",
    "\\mathbf{\\mathcal{C}} &= \\left[\\begin{array}{ccccc} \\mathbf{B} & \\mathbf{AB} & \\mathbf{A^2B} & \\ldots & \\mathbf{A^{n-1}B}\\end{array}\\right]\n",
    "\\end{align}\n",
    "$$\n",
    " tiver [posto](https://en.wikipedia.org/wiki/Rank_(linear_algebra)) $n$. Esse é o caso geral, válido inclusive se o sistema tiver mais de uma entrada. Normalmente, quanto mais entradas, mais controlável o sistema será.\n",
    "\n",
    "Para um sistema de uma única entrada, basta que:\n",
    "$$\n",
    "\\begin{align}\n",
    "\\det (\\mathbf{\\mathcal{C}}) &\\neq 0\n",
    "\\end{align}\n",
    "$$"
   ]
  },
  {
   "attachments": {},
   "cell_type": "markdown",
   "metadata": {},
   "source": [
    "## Exemplo:\n",
    "\n",
    "$$\n",
    "\\begin{align}\n",
    "G(s) &= \\frac{s+2}{s^2+7s+12}\n",
    "\\end{align}\n",
    "$$\n",
    "\n",
    "$$\n",
    "\\begin{align}\n",
    "    \\dot{\\mathbf{x}} &= \\left[\\begin{array}{rr}-7 & -12\\\\1 & 0\\end{array}\\right]\\mathbf{x}+\\left[\\begin{array}{r}1\\\\0\\end{array}\\right]u\\\\\n",
    "    y &= \\left[\\begin{array}{rr}1 & 2\\end{array}\\right]\\mathbf{x}\n",
    "\\end{align}\n",
    "$$"
   ]
  },
  {
   "cell_type": "code",
   "execution_count": 1,
   "metadata": {},
   "outputs": [
    {
     "name": "stdout",
     "output_type": "stream",
     "text": [
      "<LinearIOSystem>: sys[2]\n",
      "Inputs (1): ['u[0]']\n",
      "Outputs (1): ['y[0]']\n",
      "States (2): ['x[0]', 'x[1]']\n",
      "\n",
      "A = [[ -7. -12.]\n",
      "     [  1.   0.]]\n",
      "\n",
      "B = [[1.]\n",
      "     [0.]]\n",
      "\n",
      "C = [[1. 2.]]\n",
      "\n",
      "D = [[0.]]\n",
      "\n"
     ]
    }
   ],
   "source": [
    "# Declara o sistema\n",
    "import numpy as np\n",
    "import control as ct\n",
    "from IPython.display import display, Math\n",
    "from escrever import *\n",
    "\n",
    " \n",
    "A = np.matrix([[-7.,-12.],[1,0]])\n",
    "B = np.matrix([1.,0]).T\n",
    "C = np.matrix([1.,2])\n",
    "\n",
    "sys = ct.ss(A,B,C,0)\n",
    "print(sys)"
   ]
  },
  {
   "attachments": {},
   "cell_type": "markdown",
   "metadata": {},
   "source": [
    "Para um sistema de segunda ordem, a matriz de controlabilidade é dada por:\n",
    "$$\n",
    "    \\begin{align}\n",
    "        \\mathcal{C} &= \\left[\\begin{array}{cc} \\mathbf{B} & \\mathbf{AB}\\end{array}\\right]\n",
    "    \\end{align}\n",
    "$$\n",
    "\n",
    "Em Python podemos calcular de duas formas. Diretamente:"
   ]
  },
  {
   "cell_type": "code",
   "execution_count": 2,
   "metadata": {},
   "outputs": [
    {
     "data": {
      "text/latex": [
       "$\\displaystyle \\mathcal{C}=\\left[\\begin{array}{rr}1.0&-7.0\\\\0.0&1.0\\\\\\end{array}\\right]$"
      ],
      "text/plain": [
       "<IPython.core.display.Math object>"
      ]
     },
     "metadata": {},
     "output_type": "display_data"
    }
   ],
   "source": [
    "# Atente para a função block() e o operador produto interno @\n",
    "Con = np.block([B, A@B]) \n",
    "display(Math(r'\\mathcal{C}=' + dispmat(Con)))"
   ]
  },
  {
   "cell_type": "markdown",
   "metadata": {},
   "source": [
    "Ou usando a função especializada da biblioteca control, \"ctrb()\""
   ]
  },
  {
   "cell_type": "code",
   "execution_count": 3,
   "metadata": {},
   "outputs": [
    {
     "data": {
      "text/latex": [
       "$\\displaystyle \\mathcal{C}=\\left[\\begin{array}{rr}1.0&-7.0\\\\0.0&1.0\\\\\\end{array}\\right]$"
      ],
      "text/plain": [
       "<IPython.core.display.Math object>"
      ]
     },
     "metadata": {},
     "output_type": "display_data"
    }
   ],
   "source": [
    "Con = (ct.ctrb(A,B))       # Note que só precisamos fornecer A e B\n",
    "display(Math(r'\\mathcal{C}=' + dispmat(Con)))"
   ]
  },
  {
   "cell_type": "markdown",
   "metadata": {},
   "source": [
    "Para verificar controlabilidade, calcule o determinante. O sistema é controlável se ele for diferente de zero"
   ]
  },
  {
   "cell_type": "code",
   "execution_count": 4,
   "metadata": {},
   "outputs": [
    {
     "data": {
      "text/plain": [
       "1.0"
      ]
     },
     "execution_count": 4,
     "metadata": {},
     "output_type": "execute_result"
    }
   ],
   "source": [
    "np.linalg.det(Con)      # Precisamos da sub-biblioteca \"linalg\""
   ]
  },
  {
   "attachments": {},
   "cell_type": "markdown",
   "metadata": {},
   "source": [
    "**Obs:** Você deve ser capaz de calcular e estudar a controlabilidade de sistemas *manualmente* (sem ajuda do Python), **pelo menos de sistemas até ordem 3**."
   ]
  },
  {
   "attachments": {},
   "cell_type": "markdown",
   "metadata": {},
   "source": [
    "## Sistemas não controláveis\n",
    "\n",
    "Um sistema \"perde\" a controlabilidade quando o sinal de controle \"não consegue chegar\" em um ou mais estados. Isso significa que, não importa o quanto o sinal de entrada varie, aqueles estados não controláveis nunca sofrem influência do controle. \n",
    "\n",
    "Observamos isso matematicamente quando há **cancelamento, ou quase cancelamento, entre pólos e zeros na função de transferência**.\n",
    "\n",
    "Quando o estado não controlável é estável, isso não é muito problemático, pois mesmo não conseguindo controlá-lo, ele decai a zero depois de um tempo e acaba não influenciando a saída.\n",
    "\n",
    "Controlabilidade torna-se um problema quando o estado não controlável é **instável**, pois nesse caso o sinal cresce indefinidamente e não somos capazes de impedir. "
   ]
  },
  {
   "attachments": {},
   "cell_type": "markdown",
   "metadata": {},
   "source": [
    "### Exemplo:"
   ]
  },
  {
   "cell_type": "code",
   "execution_count": 5,
   "metadata": {},
   "outputs": [
    {
     "data": {
      "text/latex": [
       "$\\displaystyle \\frac{10s+50}{s^2 +8.001+15.003}$"
      ],
      "text/plain": [
       "<IPython.core.display.Math object>"
      ]
     },
     "metadata": {},
     "output_type": "display_data"
    },
    {
     "data": {
      "text/latex": [
       "$\\displaystyle \\mathcal{C}=\\left[\\begin{array}{rr}10.0&-30.010000000000012\\\\50.0&-150.03\\\\\\end{array}\\right]$"
      ],
      "text/plain": [
       "<IPython.core.display.Math object>"
      ]
     },
     "metadata": {},
     "output_type": "display_data"
    },
    {
     "data": {
      "text/latex": [
       "$\\displaystyle \\det\\,\\mathcal{C} = 0.20000000000059975$"
      ],
      "text/plain": [
       "<IPython.core.display.Math object>"
      ]
     },
     "metadata": {},
     "output_type": "display_data"
    }
   ],
   "source": [
    "# O seguinte sistema tem um quase cancelamento (verifique)\n",
    "num = np.array([[10,50]])\n",
    "eps = 1e-3\n",
    "den = np.array([[1, (5+eps+3), (5+eps)*3]])\n",
    "N = '10s+50'\n",
    "D = 's^2 ' + '{:+1.5}'.format(den[0,1]) + '{:+1.5}'.format(den[0,2])\n",
    "display(Math(r'\\frac{' + N + '}{' + D + '}'))\n",
    "\n",
    "# Estudo de controlabilidade:\n",
    "A = np.block([-den[:,1:].T,np.array([[1],[0]])])\n",
    "B = np.block(num.T)\n",
    "Con = np.block([B,A@B])\n",
    "\n",
    "display(Math('\\mathcal{C}=' + dispmat(Con)))\n",
    "display(Math('\\det\\,\\mathcal{C} = ' + f'{np.linalg.det(Con)}'))"
   ]
  },
  {
   "attachments": {},
   "cell_type": "markdown",
   "metadata": {},
   "source": [
    "Para entender melhor esse resultado, considere que esse sistema seja estimulado por uma entrada degrau unitário. Podemos calcular a resposta analítica usando os resíduos."
   ]
  },
  {
   "cell_type": "code",
   "execution_count": 6,
   "metadata": {},
   "outputs": [
    {
     "data": {
      "text/latex": [
       "$\\displaystyle \\text{Resíduos} = \\left[\\begin{array}{rrr}3.3327&-3.3317&-0.001\\\\\\end{array}\\right]$"
      ],
      "text/plain": [
       "<IPython.core.display.Math object>"
      ]
     },
     "metadata": {},
     "output_type": "display_data"
    },
    {
     "data": {
      "text/latex": [
       "$\\displaystyle \\text{Polos} = \\left[\\begin{array}{rrr}0.0&-3.0&-5.001\\\\\\end{array}\\right]$"
      ],
      "text/plain": [
       "<IPython.core.display.Math object>"
      ]
     },
     "metadata": {},
     "output_type": "display_data"
    }
   ],
   "source": [
    "# A resposta analítica é feita calculando os resíduos\n",
    "import scipy\n",
    "r,p,k = scipy.signal.residue(num[0,:],[*den[0,:],0])\n",
    "r=r.reshape((1,r.size)).round(decimals=4)\n",
    "p=p.reshape((1,p.size)).round(decimals=4)\n",
    "display(Math(r'\\text{Resíduos} = ' + dispmat(r)))\n",
    "display(Math(r'\\text{Polos} = ' + dispmat(p)))\n"
   ]
  },
  {
   "attachments": {},
   "cell_type": "markdown",
   "metadata": {},
   "source": [
    "Esse resultado basicamente diz que a saída tem uma parcela descrita como $-0.001e^{-5.001t}$\n",
    "\n",
    "Isso ocorre porque o sistema tem um zero em $-5$ e um pólo muito próximo desse valor. Se o cancelamento fosse perfeito, o resíduo seria exatamente zero. Na prática isso dificilmente acontece. \n",
    "\n",
    "A consequência é que, **não importa a entrada**, esse quase cancelamento sempre vai acontecer. O resíduo será pequeno e a entrada terá uma influência limitada na parcela que contém o modo $e^{-5.001t}$.\n",
    "\n",
    "Como o modo é estável (decai com o tempo), vemos que neste caso a parcela torna-se irrelevante. \n",
    "\n",
    "Agora, isso não seria o caso se o pólo fosse instável. Se ele fosse positivo, o resíduo ainda seria pequeno, o que significa que ele começaria pequeno, mas à medida que o tempo passasse, a parcela cresceria e o sistema instabilizaria. E não haveria nada que o sinal de entrada ía poder fazer. "
   ]
  },
  {
   "attachments": {},
   "cell_type": "markdown",
   "metadata": {},
   "source": [
    "## **Exercício**: \n",
    "\n",
    "Para o sistema proposto:\n",
    "1. Ache o diagrama da forma de controlador\n",
    "2. Ache as matrizes de estados na forma de controlador\n",
    "3. Estude a controlabilidade do sistema\n",
    "$$\n",
    "\\begin{align}\n",
    "    H(s) &=\\frac{s^2-s+9}{s(s+1)(s+2)}\n",
    "\\end{align}\n",
    "$$"
   ]
  },
  {
   "cell_type": "markdown",
   "metadata": {},
   "source": [
    "**Determine também a controlabilidade do sistema**\n"
   ]
  }
 ],
 "metadata": {
  "kernelspec": {
   "display_name": "Python 3",
   "language": "python",
   "name": "python3"
  },
  "language_info": {
   "codemirror_mode": {
    "name": "ipython",
    "version": 3
   },
   "file_extension": ".py",
   "mimetype": "text/x-python",
   "name": "python",
   "nbconvert_exporter": "python",
   "pygments_lexer": "ipython3",
   "version": "3.10.9"
  },
  "orig_nbformat": 4,
  "vscode": {
   "interpreter": {
    "hash": "e1735dd0795dce195fb98475ccf229151ed44a61fb274eb18cdb7c8302916985"
   }
  }
 },
 "nbformat": 4,
 "nbformat_minor": 2
}
