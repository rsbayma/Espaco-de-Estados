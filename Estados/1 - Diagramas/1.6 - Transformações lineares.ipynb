{
 "cells": [
  {
   "attachments": {},
   "cell_type": "markdown",
   "metadata": {},
   "source": [
    "## Transformação de estado\n",
    "\n",
    "A essa altura vc já deve ter percebido que um mesmo sistema, com uma única função de transferência, pode ter diferentes representações de estado (matrizes)\n",
    "\n",
    "Quando mudamos de uma representação para outra, as matrizes mudam, e os estados **não são mais os mesmos**. Eles adquirem outro significado físico. No entanto, as características intrínsecas do sistema, tais como pólos, zeros, estabilidade e outras devem permanecer as mesmas.\n",
    "\n",
    "A explicação matemática para isso é a teoria de transformações lineares."
   ]
  },
  {
   "cell_type": "markdown",
   "metadata": {},
   "source": [
    "Supondo que a representação \"velha\" seja:\n",
    "$$\n",
    "\\begin{align*}\n",
    "    \\mathbf{\\dot{x}} &= \\mathbf{Fx+G}u\\\\\n",
    "    y &= \\mathbf{Hx}+Ju\n",
    "\\end{align*}\n",
    "$$\n",
    "\n",
    "A mudança para um novo vetor de estados, digamos $\\mathbf{z}$, é representada por uma transformação linear:\n",
    "$$\n",
    "\\begin{align*}\n",
    "    \\mathbf{x} &= \\mathbf{Tz}\n",
    "\\end{align*}\n",
    "$$\n",
    "onde $\\mathbf{T}$ é uma matriz quadrada de ordem $n$, inversível (ou seja, é possível \"ir\" e \"voltar\" com a mudança).\n",
    "\n",
    "Esperamos que, usando o novo vetor de estados $\\mathbf{z}$, a representação seja algo como:\n",
    "$$\n",
    "\\begin{align*}\n",
    "    \\mathbf{\\dot{z}} &= \\mathbf{Az+B}u\\\\\n",
    "    y &= \\mathbf{Cz}+Du\n",
    "\\end{align*}\n",
    "$$\n",
    "\n",
    "Pode-se mostrar que a representação \"nova\" se relaciona com a \"velha\", usando a matriz de transformação $\\mathbf{T}$ da seguinte forma:\n",
    "$$\n",
    "\\begin{align*}\n",
    "    \\mathbf{A} &= \\mathbf{T^{-1}FT}\\\\\n",
    "    \\mathbf{B} &= \\mathbf{T^{-1}G}\\\\\n",
    "    \\mathbf{C} &= \\mathbf{HT}\\\\\n",
    "    D &= J\n",
    "\\end{align*}\n",
    "$$\n",
    "\n",
    "A transformação para forma de Jordan, em particular, é um procedimento que chamamos de diagonalização"
   ]
  },
  {
   "attachments": {},
   "cell_type": "markdown",
   "metadata": {},
   "source": [
    "### Dica útil: Matriz inversa de segunda ordem\n",
    "\n",
    "Para fazer transformações em sistemas de ordem 2, precisamos da inversa da matriz de transformação.\n",
    "\n",
    "Um regra rápida para achar a inversa de 2a ordem é:\n",
    "1. Troque a ordem dos elementos da diagonal principal\n",
    "2. Inverta o sinal dos elementos não diagonais\n",
    "3. Divida a matriz inteira pelo determinante da matriz original (supondo que ele não é zero)\n",
    "\n",
    "$$\n",
    "\\begin{align}\n",
    "    \\left[\\begin{array}{cc} a&b\\\\c&d \\end{array}\\right]^{-1} &= \\frac{\\left[\\begin{array}{cc} d&-b\\\\-c&a \\end{array}\\right]}{ad-bc}\n",
    "\\end{align}\n",
    "$$\n",
    "\n",
    "**Lembre-se que isso só vale para matriz de ordem 2!**"
   ]
  },
  {
   "attachments": {},
   "cell_type": "markdown",
   "metadata": {},
   "source": [
    "## **Exemplo**: \n",
    "\n",
    "Transforme o sistema\n",
    "$$\n",
    "\\begin{align*}\n",
    "    \\dot{\\mathbf{x}} &= \\left[\\begin{array}{rr}-4 & 0\\\\0 & -3\\end{array}\\right]\\mathbf{x}+\\left[\\begin{array}{r}1\\\\1\\end{array}\\right]u\\\\\n",
    "    y &= \\left[\\begin{array}{rr}2 & -1\\end{array}\\right]\\mathbf{x}\n",
    "\\end{align*}\n",
    "$$\n",
    "\n",
    "Para os estados $\\mathbf{z}$, onde:\n",
    "$$\n",
    "\\begin{align*}\n",
    "    {\\mathbf{x}} &= \\left[\\begin{array}{rr}8 & 1\\\\3 & 5\\end{array}\\right]\\mathbf{z}\n",
    "\\end{align*}\n",
    "$$\n",
    "\n",
    "Do problema, sabemos que:\n",
    "$$\n",
    "\\begin{align*}\n",
    "    {\\mathbf{T}} &= \\left[\\begin{array}{rr}8 & 1\\\\3 & 5\\end{array}\\right]\n",
    "\\end{align*}\n",
    "$$\n",
    "\n",
    "Podemos calcular logo a inversa:\n",
    "$$\n",
    "\\begin{align*}\n",
    "    {\\mathbf{T}^{-1}} &= \\frac{\\left[\\begin{array}{rr}5 & -1\\\\-3 & 8\\end{array}\\right]}{37}\n",
    "\\end{align*}\n",
    "$$\n",
    "\n",
    "O resto dos cálculos podemos agilizar com Python:"
   ]
  },
  {
   "cell_type": "code",
   "execution_count": 6,
   "metadata": {},
   "outputs": [
    {
     "data": {
      "text/latex": [
       "$\\displaystyle \\mathbf{T} = \\left[\\begin{array}{rr}8&1\\\\3&5\\\\\\end{array}\\right]$"
      ],
      "text/plain": [
       "<IPython.core.display.Math object>"
      ]
     },
     "metadata": {},
     "output_type": "display_data"
    },
    {
     "data": {
      "text/latex": [
       "$\\displaystyle \\mathbf{T}^{-1} = \\left[\\begin{array}{rr}0.1351&-0.027\\\\-0.0811&0.2162\\\\\\end{array}\\right]$"
      ],
      "text/plain": [
       "<IPython.core.display.Math object>"
      ]
     },
     "metadata": {},
     "output_type": "display_data"
    },
    {
     "data": {
      "text/latex": [
       "$\\displaystyle \\mathbf{A}_{\\text{novo}} = \\left[\\begin{array}{rr}-0.5405&0.0811\\\\0.3243&-0.6486\\\\\\end{array}\\right]$"
      ],
      "text/plain": [
       "<IPython.core.display.Math object>"
      ]
     },
     "metadata": {},
     "output_type": "display_data"
    },
    {
     "data": {
      "text/latex": [
       "$\\displaystyle \\mathbf{B}_{\\text{novo}} = \\left[\\begin{array}{r}0.1081\\\\0.1351\\\\\\end{array}\\right]$"
      ],
      "text/plain": [
       "<IPython.core.display.Math object>"
      ]
     },
     "metadata": {},
     "output_type": "display_data"
    },
    {
     "data": {
      "text/latex": [
       "$\\displaystyle \\mathbf{C}_{\\text{novo}} = \\left[\\begin{array}{rr}13&-3\\\\\\end{array}\\right]$"
      ],
      "text/plain": [
       "<IPython.core.display.Math object>"
      ]
     },
     "metadata": {},
     "output_type": "display_data"
    }
   ],
   "source": [
    "import numpy as np\n",
    "from escrever import *\n",
    "import numpy as np\n",
    "from IPython.display import display, Math\n",
    "\n",
    "T = np.array([[8,1],[3,5]])\n",
    "F = np.array([[-4,0],[0,-3]])\n",
    "G = np.ones((2,1))\n",
    "H = np.array([[2,-1]])\n",
    "iT = np.linalg.inv(T)\n",
    "\n",
    "A = (iT@F).round(decimals=4)  # (iT @ F) @ T\n",
    "B = (iT@G).round(decimals=4)\n",
    "C = (H@T).round(decimals=4)\n",
    "\n",
    "display(Math(r'\\mathbf{T} = ' + dispmat(T)))\n",
    "display(Math(r'\\mathbf{T}^{-1} = ' + dispmat(iT.round(decimals=4))))\n",
    "display(Math(r'\\mathbf{A}_{\\text{novo}} = ' + dispmat(A)))\n",
    "display(Math(r'\\mathbf{B}_{\\text{novo}} = ' + dispmat(B)))\n",
    "display(Math(r'\\mathbf{C}_{\\text{novo}} = ' + dispmat(C)))\n"
   ]
  },
  {
   "attachments": {},
   "cell_type": "markdown",
   "metadata": {},
   "source": [
    "## **Exercício**: \n",
    "\n",
    "Para a função de transferência\n",
    "$$\n",
    "\\begin{align*}\n",
    "    G(s) =\\frac{3s^2-1}{(s+1)(s+7)(s+5)}\n",
    "\\end{align*}\n",
    "$$\n",
    "\n",
    "1. Faça o diagrama de blocos da forma de controlador\n",
    "2. Obtenha as matrizes da forma de controlador\n",
    "3. Obtenha as matrizes da forma modal\n",
    "4. Ache as matrizes se aplicada a transformação\n",
    "$$\n",
    "\\begin{align*}\n",
    "    \\mathbf{T} =\\left[\\begin{array}{cc}1&-1\\\\1&1 \\end{array}\\right]\n",
    "\\end{align*}\n",
    "$$\n"
   ]
  }
 ],
 "metadata": {
  "kernelspec": {
   "display_name": "Python 3",
   "language": "python",
   "name": "python3"
  },
  "language_info": {
   "codemirror_mode": {
    "name": "ipython",
    "version": 3
   },
   "file_extension": ".py",
   "mimetype": "text/x-python",
   "name": "python",
   "nbconvert_exporter": "python",
   "pygments_lexer": "ipython3",
   "version": "3.10.9 (tags/v3.10.9:1dd9be6, Dec  6 2022, 20:01:21) [MSC v.1934 64 bit (AMD64)]"
  },
  "orig_nbformat": 4,
  "vscode": {
   "interpreter": {
    "hash": "e1735dd0795dce195fb98475ccf229151ed44a61fb274eb18cdb7c8302916985"
   }
  }
 },
 "nbformat": 4,
 "nbformat_minor": 2
}
