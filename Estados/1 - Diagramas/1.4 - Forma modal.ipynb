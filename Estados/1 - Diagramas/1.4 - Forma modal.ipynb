{
 "cells": [
  {
   "cell_type": "markdown",
   "metadata": {},
   "source": [
    "# Forma de Jordan ou Modal\n",
    "<p align=\"center\">\n",
    "<img src=\"Fig7.8.svg\" width=\"80%\"/>\n",
    "</p>\n",
    "\n",
    "Na forma modal, os estados aparecem majoritariamente desacoplados, isto é, uma equação de estados depende basicamente apenas da sua própria variável de estado.\n",
    "\n",
    "Isso é verdade sempre que o sistema tiver pólos reais e distintos. \n",
    "\n",
    "Quando o sistema tiver pólos repetidos, haverá um pequeno acoplamento, mas apenas entre os estados referentes ao mesmo pólo (autovalor).\n",
    "\n",
    "Quando o sistema tiver pólos imaginários, as equações podem ser desacopladas, mas ao custo de ganhos imaginários. Para eliminar os ganhos imaginários, podemos introduzir um pequeno acoplamento, mas apenas entre os estados associados aos autovalores conjugados."
   ]
  },
  {
   "cell_type": "markdown",
   "metadata": {},
   "source": [
    "Para o sistema da Fig 7.8. \n",
    "$$\n",
    "\\begin{align}\n",
    "    \\dot{z}_1 &= u - 4z_1\\\\\n",
    "    \\dot{z}_2 &= u - 3z_2\\\\\n",
    "    y &= 2z_1-z_2\n",
    "\\end{align}\n",
    "$$\n",
    "\n",
    "Uma consequência do desacoplamento é que matriz $\\mathbf{F}$ se torna **diagonal**.\n",
    "$$\n",
    "\\begin{align}\n",
    "    \\dot{\\mathbf{x}} &= \\left[\\begin{array}{rr}-4 & 0\\\\0 & -3\\end{array}\\right]\\mathbf{x}+\\left[\\begin{array}{r}1\\\\1\\end{array}\\right]u\\\\\n",
    "    y &= \\left[\\begin{array}{rr}2 & -1\\end{array}\\right]\\mathbf{x}\n",
    "\\end{align}\n",
    "$$\n",
    "\n",
    "A forma modal é útil para determinar rápida e intuitivamente a controlabilidade. O sistema é não-controlável quando o sinal de controle não consegue \"chegar\" até um determinado integrador por nenhum caminho. \n",
    "\n",
    "Algumas observações importantes:\n",
    "\n",
    "1. Um sistema pode perder controlabilidade quando na sua função de transferência há algum cancelamento entre pólos e zeros.\n",
    "2. Para achar a forma modal a partir da função de transferência, use expansão em frações parciais"
   ]
  },
  {
   "cell_type": "markdown",
   "metadata": {},
   "source": [
    "## Para achar a forma modal (pólos reais e distintos)\n",
    "* Ache a expansão em frações parciais da função de transferência\n",
    "* Faça um diagrama para cada uma das parcelas da expansão\n",
    "* Nomeie os estados (saída dos integradores) e monte as equações normalmente"
   ]
  },
  {
   "cell_type": "markdown",
   "metadata": {},
   "source": [
    "**Mais um exemplo de modal**\n",
    "\n",
    "$$\n",
    "\\begin{align}\n",
    "    G(s) &=\\frac{s+3}{(s+1)(s+5)(s-9)}\n",
    "\\end{align}\n",
    "$$\n",
    "\n",
    "Precisamos primeiro expandir e achar os resíduos (frações parciais)"
   ]
  },
  {
   "cell_type": "code",
   "execution_count": 1,
   "metadata": {},
   "outputs": [
    {
     "name": "stdout",
     "output_type": "stream",
     "text": [
      "[-0.05       -0.03571429  0.08571429]\n",
      "[-1. -5.  9.]\n"
     ]
    }
   ],
   "source": [
    "import scipy.signal as sig\n",
    "import numpy as np\n",
    "\n",
    "num = [1,3]\n",
    "\n",
    "# As duas próximas calculam o denominador\n",
    "den = np.convolve([1,1],[1,5])\n",
    "den = np.convolve(den,[1,-9])\n",
    "#sympy.apart()\n",
    "\n",
    "# Acha os resíduos. Funciona bem se não tiver pólos repetidos!\n",
    "r,p,k = sig.residue(num,den)\n",
    "print(r)\n",
    "print(p)\n"
   ]
  },
  {
   "cell_type": "markdown",
   "metadata": {},
   "source": [
    "Logo:\n",
    "$$\n",
    "\\begin{equation}\n",
    "    G(s) = \\frac{-0.05}{s+1}-\\frac{0.03}{s+5}+\\frac{0.08}{s-9}\n",
    "\\end{equation}\n",
    "$$\n",
    "\n",
    "O diagrama para a representação de cada modo está a seguir\n"
   ]
  },
  {
   "cell_type": "markdown",
   "metadata": {},
   "source": [
    "<p align=\"center\"><img src=\"modal1.svg\" width=\"50%\" center> </p>\n"
   ]
  },
  {
   "cell_type": "markdown",
   "metadata": {},
   "source": [
    "As equações de estado vão ser (**verifique você mesmo!**):\n",
    "$$\n",
    "\\begin{equation}\n",
    "    \\dot{x}_1 = -x_1-0.05u\n",
    "\\end{equation}\n",
    "$$\n",
    "\n",
    "$$\n",
    "\\begin{equation}\n",
    "    \\dot{x}_2 = -5x_2-0.03u\n",
    "\\end{equation}\n",
    "$$\n",
    "\n",
    "$$\n",
    "\\begin{equation}\n",
    "    \\dot{x}_3 = 9x_3+0.08u\n",
    "\\end{equation}\n",
    "$$\n",
    "\n",
    "A equação de saída é:\n",
    "$$\n",
    "\\begin{equation}\n",
    "    y = x_1+x_2+x_3\n",
    "\\end{equation}\n",
    "$$\n",
    "\n",
    "Por fim, a representação matricial:\n",
    "$$\n",
    "\\begin{equation}\n",
    "    \\dot{\\mathbf{x}} = \\left[\\begin{array}{rrr}\n",
    "    -1 & 0 & 0\\\\\n",
    "    0 & -5 & 0\\\\\n",
    "    0 & 0 & 9\n",
    "    \\end{array}\n",
    "    \\right]\\mathbf{x} +\n",
    "    \\left[\\begin{array}{r}\n",
    "    1 \\\\\n",
    "    1 \\\\\n",
    "    1 \n",
    "    \\end{array}\\right]u\n",
    "\\end{equation}\n",
    "$$\n",
    "\n",
    "$$\n",
    "\\begin{align}\n",
    "    y = \\left[\\begin{array}{ccc}-0.05 & -0.03 & 0.08\\end{array}\\right]\\mathbf{x}\n",
    "\\end{align}\n",
    "$$\n"
   ]
  },
  {
   "cell_type": "markdown",
   "metadata": {},
   "source": [
    "**Exercício:** defina esse sistema no Python e simule uma resposta ao degrau"
   ]
  },
  {
   "cell_type": "code",
   "execution_count": null,
   "metadata": {},
   "outputs": [],
   "source": []
  },
  {
   "cell_type": "markdown",
   "metadata": {},
   "source": [
    "## Forma de Jordan com polos reais e repetidos"
   ]
  },
  {
   "cell_type": "markdown",
   "metadata": {},
   "source": [
    "Suponha que:\n",
    "$$\n",
    "\\begin{align}\n",
    "    G(s) &= \\frac{16s}{(s+3)^2(s+5)}\n",
    "\\end{align}\n",
    "$$\n",
    "\n",
    "Vamos calcular rapidamente os resíduos e a expansão:"
   ]
  },
  {
   "cell_type": "code",
   "execution_count": 3,
   "metadata": {},
   "outputs": [
    {
     "name": "stdout",
     "output_type": "stream",
     "text": [
      "[ 20.+0.j -24.+0.j -20.+0.j]\n",
      "[-3.+0.j -3.+0.j -5.+0.j]\n"
     ]
    }
   ],
   "source": [
    "num = np.array([16,0])\n",
    "\n",
    "# As duas próximas calculam o denominador\n",
    "den = np.convolve([1,3],[1,3])\n",
    "den = np.convolve(den,[1,5])\n",
    "\n",
    "# Acha os resíduos. \n",
    "r,p,k = sig.residue(num,den)\n",
    "print(r)\n",
    "print(p)\n"
   ]
  },
  {
   "cell_type": "markdown",
   "metadata": {},
   "source": [
    "Então:\n",
    "$$\n",
    "\\begin{align}\n",
    "    G(s) &= \\frac{20}{(s+3)}-\\frac{24}{(s+3)^2}-\\frac{20}{s+5}\n",
    "\\end{align}\n",
    "$$\n",
    "\n",
    "Observe no diagrama como devemos implementar o termo quadrático:\n",
    "<p align=\"center\">\n",
    "<img src=\"modal3.svg\" width=\"80%\">\n",
    "</p>"
   ]
  },
  {
   "cell_type": "markdown",
   "metadata": {},
   "source": [
    "Observe que os estágios correspondentes ao polo repetido ficam em série, e não em paralelo, diferente dos outros.\n",
    "\n",
    "**Agora escreva a representação matricial!**"
   ]
  },
  {
   "cell_type": "markdown",
   "metadata": {},
   "source": []
  },
  {
   "cell_type": "markdown",
   "metadata": {},
   "source": [
    "## Transformação de estado\n",
    "\n",
    "A essa altura vc já deve ter percebido que um mesmo sistema, com uma única função de transferência, pode ter diferentes representações de estado (matrizes)\n",
    "\n",
    "Quando mudamos de uma representação para outra, as matrizes mudam, e os estados **não são mais os mesmos**. Eles adquirem outro significado físico. No entanto, as características intrínsecas do sistema, tais como pólos, zeros, estabilidade e outras devem permanecer as mesmas.\n",
    "\n",
    "A explicação matemática para isso é a teoria de transformações lineares."
   ]
  },
  {
   "cell_type": "markdown",
   "metadata": {},
   "source": [
    "Supondo que a representação \"velha\" seja:\n",
    "$$\n",
    "\\begin{align*}\n",
    "    \\mathbf{\\dot{x}} &= \\mathbf{Fx+G}u\\\\\n",
    "    y &= \\mathbf{Hx}+Ju\n",
    "\\end{align*}\n",
    "$$\n",
    "\n",
    "A mudança para um novo vetor de estados, digamos $\\mathbf{z}$, é representada por uma transformação linear:\n",
    "$$\n",
    "\\begin{align*}\n",
    "    \\mathbf{x} &= \\mathbf{Tz}\n",
    "\\end{align*}\n",
    "$$\n",
    "onde $\\mathbf{T}$ é uma matriz quadrada de ordem $n$, inversível (ou seja, é possível \"ir\" e \"voltar\" com a mudança).\n",
    "\n",
    "Esperamos que, usando o novo vetor de estados $\\mathbf{z}$, a representação seja algo como:\n",
    "$$\n",
    "\\begin{align*}\n",
    "    \\mathbf{\\dot{z}} &= \\mathbf{Az+B}u\\\\\n",
    "    y &= \\mathbf{Cz}+Du\n",
    "\\end{align*}\n",
    "$$\n",
    "\n",
    "Pode-se mostrar que a representação \"nova\" se relaciona com a \"velha\", usando a matriz de transformação $\\mathbf{T}$ da seguinte forma:\n",
    "$$\n",
    "\\begin{align*}\n",
    "    \\mathbf{A} &= \\mathbf{T^{-1}FT}\\\\\n",
    "    \\mathbf{B} &= \\mathbf{T^{-1}G}\\\\\n",
    "    \\mathbf{C} &= \\mathbf{HT}\\\\\n",
    "    D &= J\n",
    "\\end{align*}\n",
    "$$\n",
    "\n",
    "A transformação para forma de Jordan, em particular, é um procedimento que chamamos de diagonalização"
   ]
  },
  {
   "cell_type": "markdown",
   "metadata": {},
   "source": [
    "## Dica útil: Matriz inversa de segunda ordem\n",
    "\n",
    "Para fazer transformações em sistemas de ordem 2, precisamos da inversa da matriz de transformação.\n",
    "\n",
    "Um regra rápida para achar a inversa de 2a ordem é:\n",
    "1. Troque a ordem dos elementos da diagonal principal\n",
    "2. Inverta o sinal dos elementos não diagonais\n",
    "3. Divida a matriz inteira pelo determinante da matriz original (supondo que ele não é zero)\n",
    "\n",
    "$$\n",
    "\\begin{align}\n",
    "    \\left[\\begin{array}{cc} a&b\\\\c&d \\end{array}\\right]^{-1} &= \\frac{\\left[\\begin{array}{cc} d&-b\\\\-c&a \\end{array}\\right]}{ad-bc}\n",
    "\\end{align}\n",
    "$$\n",
    "\n",
    "**Lembre-se que isso só vale para matriz de ordem 2!**"
   ]
  },
  {
   "cell_type": "markdown",
   "metadata": {},
   "source": [
    "\n",
    "\n",
    "**Exemplo**: Transforme o sistema\n",
    "$$\n",
    "\\begin{align*}\n",
    "    \\dot{\\mathbf{x}} &= \\left[\\begin{array}{rr}-4 & 0\\\\0 & -3\\end{array}\\right]\\mathbf{x}+\\left[\\begin{array}{r}1\\\\1\\end{array}\\right]u\\\\\n",
    "    y &= \\left[\\begin{array}{rr}2 & -1\\end{array}\\right]\\mathbf{x}\n",
    "\\end{align*}\n",
    "$$\n",
    "\n",
    "Para os estados $\\mathbf{z}$, onde:\n",
    "$$\n",
    "\\begin{align*}\n",
    "    {\\mathbf{x}} &= \\left[\\begin{array}{rr}8 & 1\\\\3 & 5\\end{array}\\right]\\mathbf{z}\n",
    "\\end{align*}\n",
    "$$\n",
    "\n",
    "Do problema, sabemos que:\n",
    "$$\n",
    "\\begin{align*}\n",
    "    {\\mathbf{T}} &= \\left[\\begin{array}{rr}8 & 1\\\\3 & 5\\end{array}\\right]\n",
    "\\end{align*}\n",
    "$$\n",
    "\n",
    "Podemos calcular logo a inversa:\n",
    "$$\n",
    "\\begin{align*}\n",
    "    {\\mathbf{T}^{-1}} &= \\frac{\\left[\\begin{array}{rr}5 & -1\\\\-3 & 8\\end{array}\\right]}{37}\n",
    "\\end{align*}\n",
    "$$\n",
    "\n",
    "O resto dos cálculos podemos agilizar com Python:"
   ]
  },
  {
   "cell_type": "code",
   "execution_count": 7,
   "metadata": {},
   "outputs": [
    {
     "name": "stdout",
     "output_type": "stream",
     "text": [
      "[[-4.08108108 -0.13513514]\n",
      " [ 0.64864865 -2.91891892]]\n",
      " \n",
      "[[0.10810811]\n",
      " [0.13513514]]\n",
      " \n",
      "[[13 -3]]\n"
     ]
    }
   ],
   "source": [
    "T = np.matrix([[8,1],[3,5]])\n",
    "F = np.matrix([[-4,0],[0,-3]])\n",
    "G = np.ones((2,1))\n",
    "H = np.matrix([2,-1])\n",
    "iT = np.linalg.inv(T)\n",
    "\n",
    "Fnovo = np.matmul(np.matmul(iT,F),T)  # (iT @ F) @ T\n",
    "Gnovo = np.matmul(iT,G)\n",
    "Hnovo = np.matmul(H,T)\n",
    "\n",
    "print(Fnovo)\n",
    "print(\" \")\n",
    "print(Gnovo)\n",
    "print(\" \")\n",
    "print(Hnovo)\n"
   ]
  },
  {
   "cell_type": "markdown",
   "metadata": {},
   "source": [
    "**Exercício**: para a função de transferência\n",
    "$$\n",
    "\\begin{align*}\n",
    "    G(s) =\\frac{3s^2-1}{(s+1)(s+7)(s+5)}\n",
    "\\end{align*}\n",
    "$$\n",
    "\n",
    "1. Faça o diagrama de blocos da forma de controlador\n",
    "2. Obtenha as matrizes da forma de controlador\n",
    "3. Obtenha as matrizes da forma modal\n",
    "4. Ache as matrizes se aplicada a transformação\n",
    "$$\n",
    "\\begin{align*}\n",
    "    \\mathbf{T} =\\left[\\begin{array}{cc}1&-1\\\\1&1 \\end{array}\\right]\n",
    "\\end{align*}\n",
    "$$\n"
   ]
  }
 ],
 "metadata": {
  "kernelspec": {
   "display_name": "Python 3.9.12 ('base')",
   "language": "python",
   "name": "python3"
  },
  "language_info": {
   "codemirror_mode": {
    "name": "ipython",
    "version": 3
   },
   "file_extension": ".py",
   "mimetype": "text/x-python",
   "name": "python",
   "nbconvert_exporter": "python",
   "pygments_lexer": "ipython3",
   "version": "3.9.12"
  },
  "orig_nbformat": 4,
  "vscode": {
   "interpreter": {
    "hash": "3e3763a57b4ffe0d06e963ec4b7f8ef3a748cbfdb342037439726ee83e94c05b"
   }
  }
 },
 "nbformat": 4,
 "nbformat_minor": 2
}
