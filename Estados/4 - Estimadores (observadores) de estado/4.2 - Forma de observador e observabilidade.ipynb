{
 "cells": [
  {
   "cell_type": "markdown",
   "metadata": {},
   "source": [
    "# Forma canônica de observador e observabilidade\n",
    "\n",
    "Tal como no caso do regulador de estados, há uma forma de espaço de estados para a qual a solução do observador é muito simples. A forma é conhecida como forma canônica de observador.\n",
    "\n",
    "Para deduzi-la procedemos como anteriormente. Desenhamos um diagrama de blocos e extraimos as equações de estados dos integradores.\n",
    "\n",
    "O caso de terceira ordem geral é mostrado na Figura abaixo.\n",
    "\n",
    "<p align=\"center\">\n",
    "<img src=\"Fig7.31.svg\" width=\"80%\">\n",
    "</p>\n",
    "\n",
    "A função de transferência correspondente é:\n",
    "$$\n",
    "\\begin{align*}\n",
    "    G(s) = \\frac{b_1s^2+b_2s+b_3}{s^3+a_1s^2+a_2s+a_3}\n",
    "\\end{align*}\n",
    "$$"
   ]
  },
  {
   "cell_type": "markdown",
   "metadata": {},
   "source": [
    "Note que:\n",
    "* Os integradores **não** estão em série diretamente\n",
    "* Entre cada integrador há um somador\n",
    "* Apenas a saída (último integrador) é realimentada \n",
    "* A realimentação é feita para cada um dos somadores, através dos ganhos do denominador\n",
    "* A entrada se conecta a cada um dos somadores, através dos ganhos do numerador"
   ]
  },
  {
   "cell_type": "markdown",
   "metadata": {},
   "source": [
    "A representação de estados é:\n",
    "\n",
    "$$\n",
    "\\begin{align*}\n",
    "    \\mathbf{\\dot{x}} &= \\left[\n",
    "        \\begin{array}{rrr}\n",
    "        -a_1 & 1 & 0\\\\\n",
    "        -a_2 & 0 & 1\\\\\n",
    "        -a_3 & 0 & 0\\end{array}\n",
    "    \\right]\\mathbf{{x}}+\n",
    "    \\left[\\begin{array}{rrr}\n",
    "        b_1\\\\\n",
    "        b_2\\\\\n",
    "        b_3\\end{array}\n",
    "    \\right]u\\\\\n",
    "    y &= \\left[\\begin{array}{ccc} 1 & 0 & 0\\end{array}\\right]\\mathbf{x}\n",
    "\\end{align*}\n",
    "$$"
   ]
  },
  {
   "cell_type": "markdown",
   "metadata": {},
   "source": [
    "Note que:\n",
    "* Na matriz $\\mathbf{F}$, a primeira coluna é formada pelos coeficientes do denominador com sinal trocado, ordem crescente de potência de $s$, de cima para baixo. \n",
    "* As colunas restantes podem ser montadas usando uma matriz identidade de ordem 2 e uma linha de zeros\n",
    "* A matriz $\\mathbf{G}$ é uma coluna formada pelos coeficientes do numerador, ordem crescente de potência de $s$ de cima para baixo.\n",
    "* A matriz $\\mathbf{H}$ é uma linha de zeros, exceto pelo primeiro elemento igual a 1.\n",
    "* $J=0$."
   ]
  },
  {
   "cell_type": "markdown",
   "metadata": {},
   "source": [
    "## Exercício:\n",
    "Desenhe e obtenha as matrizes para o caso de 4a ordem.\n"
   ]
  },
  {
   "attachments": {},
   "cell_type": "markdown",
   "metadata": {},
   "source": [
    "A forma de observador é útil no projeto de observadores. Para o caso de 3a ordem anterior, a matriz de projeto é\n",
    "$$\n",
    "\\begin{align*}\n",
    "\\mathbf{F-LH} &= \\left[\n",
    "        \\begin{array}{rrr}\n",
    "        -a_1-l_1 & 1 & 0\\\\\n",
    "        -a_2-l_2 & 0 & 1\\\\\n",
    "        -a_3-l_3 & 0 & 0\\end{array}\n",
    "    \\right]\n",
    "\\end{align*}\n",
    "$$\n",
    "cuja equação característica é:\n",
    "$$\n",
    "\\begin{align*}\n",
    "s^3+(a_1+l_1)s^2+(a_2+l_2)s+(a_3+l_3)=0\n",
    "\\end{align*}\n",
    "$$\n",
    "\n",
    "Assim, podemos achar os ganhos do observador $\\mathbf{L}=\\left[\\begin{array}{ccc} l_1 & l_2 & l_3\\end{array} \\right]$ muito facilmente com o polinômio desejado."
   ]
  },
  {
   "cell_type": "markdown",
   "metadata": {},
   "source": [
    "## Observabilidade\n",
    "\n",
    "Tal como no caso do regulador, a forma observável e a capacidade de encontrar um observador de estados é uma propriedade intrínseca do sistema, e que independen da representação de estados usada.\n",
    "\n",
    "Essa propriedade se chama observabilidade. \n",
    "\n",
    "Observabilidade é a capacidade que um sistema possui em \"permitir\" que seus estados sejam estimados a partir apenas do conhecimento do sinal de saída.\n",
    "\n",
    "Da mesma forma que a controlabilidade, podemos pedir a observabilidade pela **matriz de observabilidade** e seu determinante.\n",
    "\n",
    "A matriz de observabilidade é construída linha por linha, como:\n",
    "$$\n",
    "\\begin{align*}\n",
    "\\mathbf{\\mathcal{O}} &= \\left[\n",
    "        \\begin{array}{c}\n",
    "        \\mathbf{H}\\\\\n",
    "        \\mathbf{HF}\\\\\n",
    "        \\mathbf{HF^2}\\\\\n",
    "        \\vdots\\\\\n",
    "        \\mathbf{HF^{n-1}}\n",
    "        \\end{array}\n",
    "    \\right]\n",
    "\\end{align*}\n",
    "$$\n",
    "\n",
    "Uma forma rápida de calcular essa matriz é usar a função obsv() da biblioteca *control*.\n"
   ]
  },
  {
   "cell_type": "markdown",
   "metadata": {},
   "source": [
    "Um sistema SISO é observável se $\\det \\mathbf{\\mathcal{O}} \\neq 0$. Se o sistema é MIMO, devemos olhar para o posto da matriz de observabilidade. "
   ]
  },
  {
   "cell_type": "markdown",
   "metadata": {},
   "source": [
    "O sistema perde observabilidade quando há cancelamentos entre pólos zeros, de forma semalhante à controlabilidade. O sistema torna-se mais observável à medida que possui mais saídas mensuráveis.\n",
    "\n",
    "Observe que existem diversos paralelos entre controlabilidade e observabilidade, \n",
    "inclusive nos cálculos. \n",
    "\n",
    "Como já mostramos, os cálculos de observabilidades basicamente trocam a matriz $\\mathbf{G}$ pela transposta de $\\mathbf{H}$ e a matriz de estados pela sua transposta. Esse \"paralelismo\" é chamado de *dualidade* entre as duas propriedades. "
   ]
  },
  {
   "cell_type": "code",
   "execution_count": 1,
   "metadata": {},
   "outputs": [],
   "source": [
    "import control as ct\n",
    "import numpy as np"
   ]
  },
  {
   "cell_type": "code",
   "execution_count": 17,
   "metadata": {},
   "outputs": [],
   "source": [
    "a = np.array([[5,0,-1,0]])\n",
    "b = [0,9,0,-8]\n",
    "#F = np.array([[],[],[],[]])\n",
    "M = np.block([[np.eye(3)],[np.zeros((1,3))]])\n",
    "F = np.block([-a.T,M])\n",
    "H = np.array([[1,0,0,0]])"
   ]
  },
  {
   "cell_type": "code",
   "execution_count": 18,
   "metadata": {},
   "outputs": [
    {
     "data": {
      "text/plain": [
       "array([[   1.,    0.,    0.,    0.],\n",
       "       [  -5.,    1.,    0.,    0.],\n",
       "       [  25.,   -5.,    1.,    0.],\n",
       "       [-124.,   25.,   -5.,    1.]])"
      ]
     },
     "execution_count": 18,
     "metadata": {},
     "output_type": "execute_result"
    }
   ],
   "source": [
    "O = ct.obsv(F,H)\n",
    "O"
   ]
  },
  {
   "cell_type": "code",
   "execution_count": 19,
   "metadata": {},
   "outputs": [
    {
     "data": {
      "text/plain": [
       "array([[   1.,    0.,    0.,    0.],\n",
       "       [  -5.,    1.,    0.,    0.],\n",
       "       [  25.,   -5.,    1.,    0.],\n",
       "       [-124.,   25.,   -5.,    1.]])"
      ]
     },
     "execution_count": 19,
     "metadata": {},
     "output_type": "execute_result"
    }
   ],
   "source": [
    "O1 = np.block([[H],[H@F],[H@(F@F)],[H@(F@F@F)]])\n",
    "O1"
   ]
  },
  {
   "cell_type": "code",
   "execution_count": 20,
   "metadata": {},
   "outputs": [
    {
     "name": "stdout",
     "output_type": "stream",
     "text": [
      "1.0000000000000002\n",
      "4\n"
     ]
    }
   ],
   "source": [
    "print(np.linalg.det(O))\n",
    "print(np.linalg.matrix_rank(O))"
   ]
  },
  {
   "cell_type": "code",
   "execution_count": 42,
   "metadata": {},
   "outputs": [
    {
     "name": "stdout",
     "output_type": "stream",
     "text": [
      "\n",
      "10 s^2 + 30 s + 20\n",
      "------------------\n",
      "s^3 + 6 s^2 + 5 s\n",
      "\n"
     ]
    }
   ],
   "source": [
    "num = 10*np.convolve([1,1],[1,2])\n",
    "den = np.convolve([1,0],np.convolve([1,5],[1,0.99999999]))\n",
    "G = ct.tf(num,den)\n",
    "print(G)"
   ]
  },
  {
   "cell_type": "code",
   "execution_count": 43,
   "metadata": {},
   "outputs": [
    {
     "name": "stdout",
     "output_type": "stream",
     "text": [
      "<LinearIOSystem>: sys[21]\n",
      "Inputs (1): ['u[0]']\n",
      "Outputs (1): ['y[0]']\n",
      "States (2): ['x[0]', 'x[1]']\n",
      "\n",
      "A = [[-5.00000000e+00 -8.88178420e-16]\n",
      "     [-1.00000000e+00 -1.11022302e-16]]\n",
      "\n",
      "B = [[10.]\n",
      "     [ 0.]]\n",
      "\n",
      "C = [[ 1. -2.]]\n",
      "\n",
      "D = [[0.]]\n",
      "\n"
     ]
    }
   ],
   "source": [
    "sys = ct.ss(G)\n",
    "print(sys)"
   ]
  },
  {
   "cell_type": "code",
   "execution_count": 47,
   "metadata": {},
   "outputs": [
    {
     "data": {
      "text/plain": [
       "array([6.])"
      ]
     },
     "execution_count": 47,
     "metadata": {},
     "output_type": "execute_result"
    }
   ],
   "source": [
    "np.roots([-0.0416,0.2496])"
   ]
  },
  {
   "cell_type": "code",
   "execution_count": 44,
   "metadata": {},
   "outputs": [],
   "source": [
    "O = ct.obsv(sys.A,sys.C)"
   ]
  },
  {
   "cell_type": "code",
   "execution_count": 45,
   "metadata": {},
   "outputs": [
    {
     "name": "stdout",
     "output_type": "stream",
     "text": [
      "2\n",
      "-5.999999999999992\n"
     ]
    }
   ],
   "source": [
    "print(np.linalg.matrix_rank(O))\n",
    "print(np.linalg.det(O))"
   ]
  }
 ],
 "metadata": {
  "kernelspec": {
   "display_name": "Python 3.9.12 ('base')",
   "language": "python",
   "name": "python3"
  },
  "language_info": {
   "codemirror_mode": {
    "name": "ipython",
    "version": 3
   },
   "file_extension": ".py",
   "mimetype": "text/x-python",
   "name": "python",
   "nbconvert_exporter": "python",
   "pygments_lexer": "ipython3",
   "version": "3.9.12 (main, Apr  4 2022, 05:22:27) [MSC v.1916 64 bit (AMD64)]"
  },
  "orig_nbformat": 4,
  "vscode": {
   "interpreter": {
    "hash": "3e3763a57b4ffe0d06e963ec4b7f8ef3a748cbfdb342037439726ee83e94c05b"
   }
  }
 },
 "nbformat": 4,
 "nbformat_minor": 2
}
