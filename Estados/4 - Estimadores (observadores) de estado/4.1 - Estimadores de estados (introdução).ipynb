{
 "cells": [
  {
   "cell_type": "markdown",
   "metadata": {},
   "source": [
    "# (7.7) Estimadores de estado\n",
    "\n",
    "No assunto anterior vimos que a ação de controle no espaço de estados é proporcional aos estados do sistema. Para isso ser possível de calcular, precisamos ter esses sinais disponíveis.\n",
    "\n",
    "Na prática, uma medição direta dos estados é raramente viável. O número de sensores pode ser grande, o que tornaria o projeto muito caro. Ou simplesmentes, os estados não são possíveis de medir.\n",
    "\n",
    "Para contornar a situação usamos um sistema auxiliar, um subsistema do controlador, que é responsável de fornecer uma estimativa dos estados reais. Esse sistema é chamado de **estimador** ou **observador de estados**."
   ]
  },
  {
   "cell_type": "markdown",
   "metadata": {},
   "source": [
    "Vamos supor que os estados reais sejam $\\mathbf{x}$ e a respectiva estimativa seja $\\hat{\\mathbf{x}}$. Idealmente, queremos que $\\hat{\\mathbf{x}}\\approx \\mathbf{x}$.\n",
    "\n",
    "Suponha que o sistema real seja:\n",
    "$$\n",
    "\\begin{align*}\n",
    "    \\dot{\\mathbf{x}} &= \\mathbf{Fx+G}u\\\\\n",
    "    y &= \\mathbf{Hx} + Du\n",
    "\\end{align*}\n",
    "$$\n",
    "\n",
    "O estimador é um sistema que tenta \"imitar\" o original, usando uma dinâmica parecida:\n",
    "$$\n",
    "\\begin{align*}\n",
    "    \\dot{\\mathbf{\\hat{x}}} &= \\mathbf{F\\hat{x}+G}u+\\mathbf{L}(y-\\mathbf{H\\hat{x}})\n",
    "\\end{align*}\n",
    "$$\n",
    "\n",
    "A interpretação dessa equação é a seguinte\n",
    "* O termo $\\mathbf{F\\hat{x}+G}u$ é uma tentativa de \"imitar\" a equação original do sistema.\n",
    "* O termo $\\mathbf{L}(y-\\mathbf{H\\hat{x}})$ é um fator de correção do anterior.\n",
    "    * O termo $\\mathbf{H\\hat{x}}$ representa uma estimativa da saída do sistema (é a matriz de saída $\\mathbf{H}$ vezes os estados estimados)\n",
    "    * O termo $y-\\mathbf{H\\hat{x}}$ representa, portanto, o erro entre a saída real e a saída estimada.\n",
    "    * O vetor coluna $\\mathbf{L}$ funciona como um ganho proporcional.\n",
    "\n",
    "Assim, vemos que o estimador é um sistema que \"imita\" a dinâmica do sistema original, porém, ele corrige o erro da dinâmica usando uma parcela proporcional ao erro de estimativa da saída (que é um sinal que nós realmente conseguimos medir).\n",
    "\n",
    "Esse termo de correção é o que faz o estimador funcionar. Projetar o estimador é essencialmente calcular o vetor $\\mathbf{L}$, chamado de *ganho do estimador*. \n",
    "\n",
    "Se o ganho do estimador for bem projetado, a diferença entre $\\mathbf{x}-\\mathbf{\\hat{x}}$ cairá rapidamente com o tempo. Ou seja, passado um longo tempo (isto é, em regime permanente), $\\mathbf{x}$ e $\\mathbf{\\hat{x}}$ terão os mesmos valores. Matematicamente representamos $\\mathbf{x}\\rightarrow \\mathbf{\\hat{x}}$.\n",
    "\n",
    "<p align=\"center\">\n",
    "<img src=\"Fig7.28.svg\" width=\"80%\">\n",
    "</p>\n",
    "<p align=\"center\">\n",
    "**Esquemático em blocos do funcionamento do estimador.**\n",
    "</p>\n"
   ]
  },
  {
   "cell_type": "markdown",
   "metadata": {},
   "source": [
    "A síntese do estimador é feita da seguinte maneira. Seja $e = \\mathbf{x}-\\mathbf{\\hat{x}}$ o erro de estimação entre os estados. Combinando a dinâmica do sistema e do estimador, podemos mostrar que:\n",
    "$$\n",
    "\\begin{align*}\n",
    "    \\dot{e} &= \\mathbf{(F-LH)e}\n",
    "\\end{align*}\n",
    "$$\n",
    "\n",
    "Esse é um sistema autônomo (sem entrada), que só depende das condições iniciais. Ele só possui a matriz de estados, que se for estável, fará com que o estado inicial decaia a zero, qualquer que ele seja.\n",
    "\n",
    "Em outras palavras, mesmo que não conheçamos o estado inicial do sistema para alimentar o estimador, o erro ainda assim irá para zero em regime permanente. \n",
    "\n",
    "Para que isso aconteça, basta que a matriz $\\mathbf{(F-LH)}$ seja estável, isto é, tenha todos os autovalores no SPE. \n",
    "\n",
    "Esse é um problema semelhante ao da regulação de estados. A única diferença é a posição das matrizes. No problema de regulação temos $\\mathbf{F-GK}$.\n",
    "<div align=\"center\">\n",
    "\n",
    "|            |    Regulador    |    Estimador    |\n",
    "|------------|:---------------:|:---------------:|\n",
    "| Determinar |   $\\mathbf{K}$  |   $\\mathbf{L}$  |\n",
    "| Dimensões  |   $1\\times n$   |   $n\\times 1$   |\n",
    "| Equação    | $\\mathbf{F-GK}$ | $\\mathbf{F-LH}$ |\n",
    "</div>\n",
    "\n",
    "Devido às semelhanças, podemos usar as mesmas estratégias e funções Python para projetar o estimador. "
   ]
  },
  {
   "cell_type": "markdown",
   "metadata": {},
   "source": [
    "## Exemplo:\n",
    "\n",
    "<p align=\"center\">\n",
    "<img src=\"Ex7.25.svg\" width=\"80%\">\n",
    "</p>"
   ]
  },
  {
   "cell_type": "code",
   "execution_count": 2,
   "metadata": {},
   "outputs": [
    {
     "data": {
      "text/latex": [
       "$\\displaystyle 100 \\omega_{0}^{2} + 20 \\omega_{0} s + s^{2}$"
      ],
      "text/plain": [
       "100*\\omega_0**2 + 20*\\omega_0*s + s**2"
      ]
     },
     "execution_count": 2,
     "metadata": {},
     "output_type": "execute_result"
    }
   ],
   "source": [
    "import numpy as np\n",
    "import sympy as sp\n",
    "\n",
    "s = sp.symbols('s')\n",
    "w0 = sp.symbols('\\omega_0')\n",
    "l1,l2 = sp.symbols(['l_1','l_2'])\n"
   ]
  },
  {
   "cell_type": "code",
   "execution_count": 4,
   "metadata": {},
   "outputs": [
    {
     "data": {
      "text/latex": [
       "$\\displaystyle \\omega_{0}^{2} + l_{1} s + l_{2} + s^{2}$"
      ],
      "text/plain": [
       "\\omega_0**2 + l_1*s + l_2 + s**2"
      ]
     },
     "execution_count": 4,
     "metadata": {},
     "output_type": "execute_result"
    }
   ],
   "source": [
    "\n",
    "# Matrizes do sistema\n",
    "F = sp.Matrix([[0,1],[-w0**2,0]])\n",
    "H = sp.Matrix([1,0]).T\n",
    "L = sp.Matrix([[l1],[l2]])\n",
    "\n",
    "# Matriz de malha fechada do observador\n",
    "M = F-sp.MatMul(L,H)\n",
    "\n",
    "# Polinômio desejado\n",
    "p_desejado = sp.expand((s+10*w0)**2)\n",
    "# Polinômio do observador (F-LH)\n",
    "p_obsv = sp.det(s*sp.eye(2)-M)\n",
    "\n",
    "p_obsv"
   ]
  },
  {
   "cell_type": "code",
   "execution_count": 32,
   "metadata": {},
   "outputs": [
    {
     "data": {
      "text/latex": [
       "$\\displaystyle 100 \\omega_{0}^{2} + 20 \\omega_{0} s + s^{2}$"
      ],
      "text/plain": [
       "100*\\omega_0**2 + 20*\\omega_0*s + s**2"
      ]
     },
     "execution_count": 32,
     "metadata": {},
     "output_type": "execute_result"
    }
   ],
   "source": [
    "sp.collect(p_desejado,s)"
   ]
  },
  {
   "cell_type": "code",
   "execution_count": 33,
   "metadata": {},
   "outputs": [
    {
     "data": {
      "text/latex": [
       "$\\displaystyle \\omega_{0}^{2} + l_{1} s + l_{2} + s^{2}$"
      ],
      "text/plain": [
       "\\omega_0**2 + l_1*s + l_2 + s**2"
      ]
     },
     "execution_count": 33,
     "metadata": {},
     "output_type": "execute_result"
    }
   ],
   "source": [
    "sp.collect(p_malha,s)"
   ]
  },
  {
   "cell_type": "code",
   "execution_count": 34,
   "metadata": {},
   "outputs": [
    {
     "data": {
      "text/latex": [
       "$\\displaystyle l_{1} = 20 \\omega_{0}$"
      ],
      "text/plain": [
       "Eq(l_1, 20*\\omega_0)"
      ]
     },
     "execution_count": 34,
     "metadata": {},
     "output_type": "execute_result"
    }
   ],
   "source": [
    "eq1 = sp.Eq(p_malha.coeff(s,1),p_desejado.coeff(s,1))\n",
    "eq1"
   ]
  },
  {
   "cell_type": "code",
   "execution_count": 35,
   "metadata": {},
   "outputs": [
    {
     "data": {
      "text/latex": [
       "$\\displaystyle \\omega_{0}^{2} + l_{2} = 100 \\omega_{0}^{2}$"
      ],
      "text/plain": [
       "Eq(\\omega_0**2 + l_2, 100*\\omega_0**2)"
      ]
     },
     "execution_count": 35,
     "metadata": {},
     "output_type": "execute_result"
    }
   ],
   "source": [
    "eq2 = sp.Eq(p_malha.coeff(s,0),p_desejado.coeff(s,0))\n",
    "eq2"
   ]
  },
  {
   "cell_type": "code",
   "execution_count": 36,
   "metadata": {},
   "outputs": [],
   "source": [
    "sol = sp.solve([eq1,eq2],L)"
   ]
  },
  {
   "cell_type": "code",
   "execution_count": 37,
   "metadata": {},
   "outputs": [
    {
     "data": {
      "text/latex": [
       "$\\displaystyle 20 \\omega_{0}$"
      ],
      "text/plain": [
       "20*\\omega_0"
      ]
     },
     "execution_count": 37,
     "metadata": {},
     "output_type": "execute_result"
    }
   ],
   "source": [
    "sol[l1]"
   ]
  },
  {
   "cell_type": "code",
   "execution_count": 38,
   "metadata": {},
   "outputs": [
    {
     "data": {
      "text/latex": [
       "$\\displaystyle 99 \\omega_{0}^{2}$"
      ],
      "text/plain": [
       "99*\\omega_0**2"
      ]
     },
     "execution_count": 38,
     "metadata": {},
     "output_type": "execute_result"
    }
   ],
   "source": [
    "sol[l2]"
   ]
  },
  {
   "cell_type": "markdown",
   "metadata": {},
   "source": [
    "**Solução numérica**\n",
    "\n",
    "Se adotarmos $\\omega_0=1$, podemos resolver o mesmo problema usando a função de posicionamento de polos *acker()*. De fato, isso é possível, porque o problema do observador é muito semelhante ao do regulador, mudando apenas os seguintes parâmetros.\n",
    "* Usamos $\\mathbf{F}^T$ ao invés de $\\mathbf{F}$\n",
    "* Usamos $\\mathbf{H}^T$ ao invés de $\\mathbf{G}$\n",
    "* Transpomos o resultado para obter o ganho do observador na forma de vetor coluna"
   ]
  },
  {
   "cell_type": "code",
   "execution_count": 5,
   "metadata": {},
   "outputs": [
    {
     "name": "stdout",
     "output_type": "stream",
     "text": [
      "[[20.]\n",
      " [99.]]\n"
     ]
    }
   ],
   "source": [
    "import control as ct\n",
    "\n",
    "w0=1\n",
    "F = np.array([[0,1],[-w0**2,0]])\n",
    "H = np.array([[1,0]])\n",
    "\n",
    "L = ct.acker(A=F.T,B=H.T,poles=[-10*w0,-10*w0]).T\n",
    "print(L)"
   ]
  }
 ],
 "metadata": {
  "kernelspec": {
   "display_name": "Python 3.9.12 ('base')",
   "language": "python",
   "name": "python3"
  },
  "language_info": {
   "codemirror_mode": {
    "name": "ipython",
    "version": 3
   },
   "file_extension": ".py",
   "mimetype": "text/x-python",
   "name": "python",
   "nbconvert_exporter": "python",
   "pygments_lexer": "ipython3",
   "version": "3.9.12"
  },
  "orig_nbformat": 4,
  "vscode": {
   "interpreter": {
    "hash": "3e3763a57b4ffe0d06e963ec4b7f8ef3a748cbfdb342037439726ee83e94c05b"
   }
  }
 },
 "nbformat": 4,
 "nbformat_minor": 2
}
