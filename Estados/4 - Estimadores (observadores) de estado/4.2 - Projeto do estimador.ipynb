{
 "cells": [
  {
   "attachments": {},
   "cell_type": "markdown",
   "metadata": {},
   "source": [
    "# **Projeto do estimador**\n",
    "\n",
    "Considere um sistema\n",
    "$$\n",
    "\\begin{align}\n",
    "    \\dot{\\mathbf{x}} & = \\mathbf{Ax+B}u\\\\\n",
    "    y &= \\mathbf{Cx}\n",
    "\\end{align}\n",
    "$$\n",
    "e o observador\n",
    "$$\n",
    "\\begin{align}\n",
    "    \\dot{\\mathbf{\\hat{x}}} & = \\mathbf{A\\hat{x}+B}u+\\mathbf{L}(y-\\mathbf{C\\hat{x})}\\\\\n",
    "    &= \\mathbf{A\\hat{x}+B}u+\\mathbf{LC}(\\mathbf{x-\\hat{x})}\n",
    "\\end{align}\n",
    "$$\n",
    "\n",
    "Subtraindo as duas equações de estado, obtemos:\n",
    "$$\n",
    "\\begin{align}\n",
    "    \\dot{\\mathbf{x}}-\\dot{\\mathbf{\\hat{x}}} & = \\mathbf{(A-LC)(x-\\hat{x}})\n",
    "\\end{align}\n",
    "$$\n",
    "\n",
    "O sinal $\\mathbf{e} = \\mathbf{x}-\\mathbf{\\hat{x}}$ representa o erro de estimação entre os estados. Então: \n",
    "$$\n",
    "\\begin{align*}\n",
    "    \\dot{\\mathbf{e}} &= \\mathbf{(A-LC)e}\n",
    "\\end{align*}\n",
    "$$\n",
    "\n",
    "Esse é um sistema autônomo (sem entrada), que só depende das condições iniciais. \n",
    "\n",
    "Se as condições iniciais fossem iguais, $\\mathbf{x}(0)=\\mathbf{\\hat{x}}(0)$, então $\\mathbf{e}(0)=\\mathbf{0}$, e o erro $\\mathbf{e}(t)$ permaneceria nulo indefinidamente. \n",
    "\n",
    "Na prática, porém, não conhecemos as condições iniciais do sistema e assim $\\mathbf{e}(0)\\neq \\mathbf{0}$.\n",
    "\n",
    "Apesar disso, podemos fazer $\\mathbf{e}(t)$ tender para zero depois de um tempo. Para isso, basta que a matriz $\\mathbf{(A-LC)}$ seja estável, isto é, tenha todos os autovalores no SPE. "
   ]
  },
  {
   "attachments": {},
   "cell_type": "markdown",
   "metadata": {},
   "source": [
    "\n",
    "Esse é um problema semelhante ao da regulação de estados. Nele, queremos escolher $\\mathbf{K}$ (matriz linha), tal que $\\mathbf{A-BK}$ seja estável.\n",
    "\n",
    "No observador queremos escolher $\\mathbf{L}$ (matriz coluna), tal que $\\mathbf{A-LC}$ seja estável. Note que a diferença é que:\n",
    "- No observador usamos $\\mathbf{C}$ (linha) ao invés de $\\mathbf{B}$ (coluna)\n",
    "- No observador usamos $\\mathbf{L}$ (coluna) ao invés de $\\mathbf{K}$ (linha)\n",
    "- A ordem de $\\mathbf{L}$ está trocada na equação (à esquerda ao invés de direita)\n",
    "\n",
    "Nestas condições, resolver o problema do observador é o mesmo que resolver o problema do regulador com as matrizes $\\mathbf{A}^T$ e $\\mathbf{C}^T$, para encontrar o vetor de ganhos $\\mathbf{L}^T$. \n",
    "\n",
    "Isso é verdade porque se transpusermos a matriz $\\mathbf{A-LC}$:\n",
    "$$\n",
    "\\begin{align}\n",
    "    (\\mathbf{A-LC})^T = \\mathbf{A}^T-\\mathbf{C}^T\\mathbf{L}^T\n",
    "\\end{align}\n",
    "$$\n",
    "\n",
    "Neste formato, o projeto fica **idêntico** ao do regulador, porque:\n",
    "- $\\mathbf{A}^T$ é quadrada (tal como $\\mathbf{A}$ no regulador)\n",
    "- $\\mathbf{C}^T$ é coluna (tal como $\\mathbf{B}$ no regulador)\n",
    "- $\\mathbf{L}^T$ é linha (tal como $\\mathbf{K}$ no regulador)\n",
    "\n",
    "Assim, podemos usar as mesmas estratégias e funções Python que usamos no regulador para projetar o estimador. "
   ]
  },
  {
   "attachments": {},
   "cell_type": "markdown",
   "metadata": {},
   "source": [
    "## Exemplo:\n",
    "\n",
    "<p align=\"center\">\n",
    "<img src=\"Ex7.25.svg\" width=\"80%\">\n",
    "</p>\n",
    "\n",
    "Como antes, vamos resolver primeiro usando simbólico.\n",
    "\n",
    "**Como estamos resolvendo \"manualmente\", não precisamos usar o artífio de transposição**"
   ]
  },
  {
   "cell_type": "code",
   "execution_count": 1,
   "metadata": {},
   "outputs": [],
   "source": [
    "import numpy as np\n",
    "import sympy as sp\n",
    "from escrever import *\n",
    "\n",
    "esc = escrever()"
   ]
  },
  {
   "cell_type": "code",
   "execution_count": 3,
   "metadata": {},
   "outputs": [],
   "source": [
    "s = sp.symbols('s')\n",
    "w0 = sp.symbols('\\omega_0')\n",
    "l1,l2 = sp.symbols(['l_1','l_2'])"
   ]
  },
  {
   "cell_type": "code",
   "execution_count": 4,
   "metadata": {},
   "outputs": [
    {
     "data": {
      "text/latex": [
       "$\\displaystyle \\mathbf{A = }\\left[\\begin{matrix}0 & 1\\\\- \\omega_{0}^{2} & 0\\end{matrix}\\right]$"
      ],
      "text/plain": [
       "<IPython.core.display.Math object>"
      ]
     },
     "metadata": {},
     "output_type": "display_data"
    },
    {
     "data": {
      "text/latex": [
       "$\\displaystyle \\mathbf{C = }\\left[\\begin{matrix}1 & 0\\end{matrix}\\right]$"
      ],
      "text/plain": [
       "<IPython.core.display.Math object>"
      ]
     },
     "metadata": {},
     "output_type": "display_data"
    }
   ],
   "source": [
    "# Matrizes do sistema\n",
    "A = sp.Matrix([[0,1],[-w0**2,0]])\n",
    "C = sp.Matrix([1,0]).T\n",
    "L = sp.Matrix([[l1],[l2]])\n",
    "display(Math(r'\\mathbf{A = }' + sp.latex(A)))\n",
    "display(Math(r'\\mathbf{C = }' + sp.latex(C)))"
   ]
  },
  {
   "cell_type": "code",
   "execution_count": 7,
   "metadata": {},
   "outputs": [
    {
     "data": {
      "text/latex": [
       "$\\displaystyle s\\mathbf{I-A+LC = }$"
      ],
      "text/plain": [
       "<IPython.core.display.Math object>"
      ]
     },
     "metadata": {},
     "output_type": "display_data"
    },
    {
     "data": {
      "text/latex": [
       "$\\displaystyle = s\\left[\\begin{matrix}1 & 0\\\\0 & 1\\end{matrix}\\right]-\\left[\\begin{matrix}0 & 1\\\\- \\omega_{0}^{2} & 0\\end{matrix}\\right]+\\left[\\begin{matrix}l_{1}\\\\l_{2}\\end{matrix}\\right]\\left[\\begin{matrix}1 & 0\\end{matrix}\\right]=$"
      ],
      "text/plain": [
       "<IPython.core.display.Math object>"
      ]
     },
     "metadata": {},
     "output_type": "display_data"
    },
    {
     "data": {
      "text/latex": [
       "$\\displaystyle = \\left[\\begin{matrix}s & 0\\\\0 & s\\end{matrix}\\right]-\\left[\\begin{matrix}0 & 1\\\\- \\omega_{0}^{2} & 0\\end{matrix}\\right]+\\left[\\begin{matrix}l_{1} & 0\\\\l_{2} & 0\\end{matrix}\\right] = $"
      ],
      "text/plain": [
       "<IPython.core.display.Math object>"
      ]
     },
     "metadata": {},
     "output_type": "display_data"
    },
    {
     "data": {
      "text/latex": [
       "$\\displaystyle = \\left[\\begin{matrix}l_{1} + s & -1\\\\\\omega_{0}^{2} + l_{2} & s\\end{matrix}\\right]$"
      ],
      "text/plain": [
       "<IPython.core.display.Math object>"
      ]
     },
     "metadata": {},
     "output_type": "display_data"
    },
    {
     "data": {
      "text/latex": [
       "$\\displaystyle |s\\mathbf{I-A+LC}| = \\omega_{0}^{2} + l_{1} s + l_{2} + s^{2}$"
      ],
      "text/plain": [
       "<IPython.core.display.Math object>"
      ]
     },
     "metadata": {},
     "output_type": "display_data"
    }
   ],
   "source": [
    "#Poliômio do observador\n",
    "display(Math(r's\\mathbf{I-A+LC = }'))\n",
    "eq1 = '= s' + sp.latex(sp.eye(2))  # sI\n",
    "eq1 += '-' + sp.latex(A) + '+' + sp.latex(L) + sp.latex(C) +'='\n",
    "eq2 = '= ' + sp.latex(s*sp.eye(2)) + '-'  + sp.latex(A) + '+' + sp.latex(L@C) + ' = '\n",
    "eq3 = '= ' + sp.latex(s*sp.eye(2)-A+L@C)\n",
    "display(Math(eq1))\n",
    "display(Math(eq2))\n",
    "display(Math(eq3))\n",
    "\n",
    "# Polinômio do observador (A-LC)\n",
    "p_obsv = sp.det(s*sp.eye(2)-A+L@C)\n",
    "display(Math(r'|s\\mathbf{I-A+LC}| = ' + sp.latex(p_obsv)))"
   ]
  },
  {
   "cell_type": "code",
   "execution_count": 10,
   "metadata": {},
   "outputs": [
    {
     "data": {
      "text/latex": [
       "$\\displaystyle \\alpha_o(s) = \\left(10 \\omega_{0} + s\\right)^{2}= 100 \\omega_{0}^{2} + 20 \\omega_{0} s + s^{2}$"
      ],
      "text/plain": [
       "<IPython.core.display.Math object>"
      ]
     },
     "metadata": {},
     "output_type": "display_data"
    }
   ],
   "source": [
    "# Polinômio desejado\n",
    "p_desejado = sp.expand((s+10*w0)**2)\n",
    "display(Math(r'\\alpha_o(s) = ' + sp.latex((s+10*w0)**2) + '= ' + sp.latex(p_desejado)))"
   ]
  },
  {
   "cell_type": "code",
   "execution_count": 17,
   "metadata": {},
   "outputs": [
    {
     "data": {
      "text/latex": [
       "$\\displaystyle |s\\mathbf{I-A+LC}| = \\alpha_o(s)$"
      ],
      "text/plain": [
       "<IPython.core.display.Math object>"
      ]
     },
     "metadata": {},
     "output_type": "display_data"
    },
    {
     "data": {
      "text/latex": [
       "$\\displaystyle \\omega_{0}^{2} + l_{1} s + l_{2} + s^{2}=100 \\omega_{0}^{2} + 20 \\omega_{0} s + s^{2}$"
      ],
      "text/plain": [
       "<IPython.core.display.Math object>"
      ]
     },
     "metadata": {},
     "output_type": "display_data"
    },
    {
     "data": {
      "text/latex": [
       "$\\displaystyle \\omega_{0}^{2} + l_{2} = 100 \\omega_{0}^{2}$"
      ],
      "text/plain": [
       "<IPython.core.display.Math object>"
      ]
     },
     "metadata": {},
     "output_type": "display_data"
    },
    {
     "data": {
      "text/latex": [
       "$\\displaystyle l_{1} = 20 \\omega_{0}$"
      ],
      "text/plain": [
       "<IPython.core.display.Math object>"
      ]
     },
     "metadata": {},
     "output_type": "display_data"
    }
   ],
   "source": [
    "# Igualando termo a termo\n",
    "display(Math(r'|s\\mathbf{I-A+LC}| = \\alpha_o(s)'))\n",
    "eq = [sp.Eq(p_obsv.coeff(s,n),p_desejado.coeff(s,n)) for n in (0,1)]\n",
    "display(Math(sp.latex(p_obsv) + '=' + sp.latex(p_desejado)))\n",
    "display(Math(sp.latex(eq[0])))\n",
    "display(Math(sp.latex(eq[1])))"
   ]
  },
  {
   "cell_type": "code",
   "execution_count": 21,
   "metadata": {},
   "outputs": [
    {
     "data": {
      "text/latex": [
       "$\\displaystyle l_{1}= 20 \\omega_{0}$"
      ],
      "text/plain": [
       "<IPython.core.display.Math object>"
      ]
     },
     "metadata": {},
     "output_type": "display_data"
    },
    {
     "data": {
      "text/latex": [
       "$\\displaystyle l_{2}= 99 \\omega_{0}^{2}$"
      ],
      "text/plain": [
       "<IPython.core.display.Math object>"
      ]
     },
     "metadata": {},
     "output_type": "display_data"
    }
   ],
   "source": [
    "# Resolve o sistema\n",
    "sol = sp.solve(eq,L)\n",
    "display(Math(sp.latex(l1) + '= ' + sp.latex(sol[l1])))\n",
    "display(Math(sp.latex(l2) + '= ' + sp.latex(sol[l2])))"
   ]
  },
  {
   "attachments": {},
   "cell_type": "markdown",
   "metadata": {},
   "source": [
    "**Solução numérica**\n",
    "\n",
    "Se adotarmos $\\omega_0=1$, podemos resolver o mesmo problema numericamente usando a função de posicionamento de polos *acker()* e as matrizes transpostas. "
   ]
  },
  {
   "cell_type": "code",
   "execution_count": 22,
   "metadata": {},
   "outputs": [],
   "source": [
    "import control as ct"
   ]
  },
  {
   "cell_type": "code",
   "execution_count": 27,
   "metadata": {},
   "outputs": [
    {
     "data": {
      "text/latex": [
       "$\\displaystyle \\mathbf{A} = \\left[\\begin{array}{rr}0&1\\\\-1&0\\\\\\end{array}\\right]$"
      ],
      "text/plain": [
       "<IPython.core.display.Math object>"
      ]
     },
     "metadata": {},
     "output_type": "display_data"
    },
    {
     "data": {
      "text/latex": [
       "$\\displaystyle \\mathbf{C} = \\left[\\begin{array}{rr}1&0\\\\\\end{array}\\right]$"
      ],
      "text/plain": [
       "<IPython.core.display.Math object>"
      ]
     },
     "metadata": {},
     "output_type": "display_data"
    }
   ],
   "source": [
    "# Declara as matrizes\n",
    "w0=1\n",
    "A = np.array([[0,1],[-w0**2,0]])\n",
    "C = np.array([[1,0]])\n",
    "display(Math(r'\\mathbf{A} = ' +  esc.mat(A)))\n",
    "display(Math(r'\\mathbf{C} = ' +  esc.mat(C)))"
   ]
  },
  {
   "cell_type": "code",
   "execution_count": 25,
   "metadata": {},
   "outputs": [
    {
     "data": {
      "text/latex": [
       "$\\displaystyle \\mathbf{L = }\\left[\\begin{array}{r}20.0\\\\99.0\\\\\\end{array}\\right]$"
      ],
      "text/plain": [
       "<IPython.core.display.Math object>"
      ]
     },
     "metadata": {},
     "output_type": "display_data"
    }
   ],
   "source": [
    "# Posiciona os polos\n",
    "L = ct.acker(A=A.T,B=C.T,poles=[-10*w0,-10*w0]).T\n",
    "display(Math(r'\\mathbf{L = }' + esc.mat(L)))"
   ]
  }
 ],
 "metadata": {
  "kernelspec": {
   "display_name": "Python 3.9.12 ('base')",
   "language": "python",
   "name": "python3"
  },
  "language_info": {
   "codemirror_mode": {
    "name": "ipython",
    "version": 3
   },
   "file_extension": ".py",
   "mimetype": "text/x-python",
   "name": "python",
   "nbconvert_exporter": "python",
   "pygments_lexer": "ipython3",
   "version": "3.9.12"
  },
  "orig_nbformat": 4,
  "vscode": {
   "interpreter": {
    "hash": "3e3763a57b4ffe0d06e963ec4b7f8ef3a748cbfdb342037439726ee83e94c05b"
   }
  }
 },
 "nbformat": 4,
 "nbformat_minor": 2
}
