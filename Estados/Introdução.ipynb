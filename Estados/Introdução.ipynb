{
 "cells": [
  {
   "attachments": {},
   "cell_type": "markdown",
   "id": "3a969f20",
   "metadata": {},
   "source": [
    "# **Representação de espaços de estados**\n",
    "\n",
    "Fundamento principal: representar uma equação diferencial de ordem elevada através de várias equações de primeira ordem, *acopladas*. Essas equações são chamadas de **equações de estados**\n",
    "\n",
    "O termo \"acopladas\" quer dizer que a diferencial de uma variável depende de outras variáveis do sistema de equações. Numa equação diferencial ordinária (EDO), temos que as derivadas de uma função dependendo dela mesma. No caso das equações de estados temos a derivada de uma função dependendo de outra função que também é incognita. \n",
    "\n",
    "As \"funções incógnitas\" de um sistema de equações de estado são chamadas variáveis de estado. Elas recebem esse nome especial porque às vezes elas representam fenômenos \"internos\" do sistema, associados à física mais elementar que acontece dentro dele. \n",
    "\n",
    "Essas variáveis passam despercebidas na representação entrada-saída (função de transferência), porque nesta, por definição só nos preocupamos com as variáveis que realmente podemos medir. As variáveis de estado nem sempre podemos medir fisicamente.\n",
    "\n",
    "Um exemplo interessante de variável de estado que existe, mas não medimos: os fluxos magnéticos em uma máquina elétrica. Esses fluxos aparecem na modelagem e influenciam nas grandezas que conseguimos medir (corrente, tensão, velocidade), mas na prática nunca instalamos sensores para efetivamente medí-los.\n",
    "\n",
    "Exemplo de estados que podemos medir, mas nem sempre o fazemos: em um circuito elétrico, as tensões nos capacitores e as correntes nos indutores normalmente são escolhidas como variáveis de estado. Existem sensores para medir essas grandezas fisicamente e podemos usá-las como estados do modelo de um circuito. Outra possibilidade é a carga elétrica nos capacitores e o enlace de fluxo nos indutores do mesmo circuito. Porém, essas variáveis são de difícil medição. \n",
    "\n",
    "Vamos usar muito a representação de \"ponto\" para derivada, isto é: \n",
    "\n",
    "$$\n",
    "\\begin{align}\n",
    "    \\frac{dx(t)}{dt} &= \\dot{x}(t) \\text{ ou simplesmente } \\dot{x}\\\\\n",
    "    \\frac{d^2x(t)}{dt^2} &= \\ddot{x}(t) \\text{ ou simplesmente } \\ddot{x}\n",
    "\\end{align}\n",
    "$$"
   ]
  },
  {
   "cell_type": "markdown",
   "id": "6a15e08b",
   "metadata": {},
   "source": [
    "Exemplo: supondo $x_1$ e $x_2$ variáveis de estado, $u$ sinal e entrada e $y$ sinal de saída\n",
    "\n",
    "$$\n",
    "\\begin{align}\n",
    "    \\dot{x}_1 &= x_2\\\\\n",
    "    \\dot{x}_2 &= -x_1-x_2+8u\\\\\n",
    "    y &= 9x_1+x_2\n",
    "\\end{align}\n",
    "$$"
   ]
  },
  {
   "cell_type": "markdown",
   "id": "f9393842",
   "metadata": {},
   "source": [
    "## Detalhes da representação\n",
    "\n",
    "* Repare o uso de negrito para representar grandezas matriciais\n",
    "* O número de equações de estado (diferenciais) é igual ao número de variáveis de estado, que é igual a ordem do sistema.\n",
    "* A interpretação de ordem aqui é a mesma de \"ordem\" da equação diferencial\n",
    "\n",
    "Quando o sistema é linear, a representação de estados de qualquer ordem pode ser dada por uma representação através de **matrizes**\n",
    "\n",
    "$$\n",
    "\\begin{align}\n",
    "    \\mathbf{\\dot{x}} &= \\mathbf{Ax} + \\mathbf{B}u\\\\\n",
    "    y &= \\mathbf{Cx} + Du\n",
    "\\end{align}\n",
    "$$\n",
    "\n",
    "No nosso caso, vamos sempre considerar que o sistema é 1-entrada-1-saída (SISO). Neste caso as matrizes de um sistema de ordem $n$ tem, necessariamente, as dimensões:\n",
    "* $\\mathbf{A}$: $n\\times n$ (quadrada de ordem $n$)\n",
    "* $\\mathbf{B}$: $n\\times 1$ (vetor coluna de $n$ elementos)\n",
    "* $\\mathbf{C}$: $n\\times n$ (vetor linha de $n$ elementos)\n",
    "* $D$: $1\\times 1$ (escalar)\n",
    "\n",
    "**Exemplo:**\n",
    "$$\n",
    "\\begin{align}\n",
    "    \\mathbf{\\dot{x}} &= \\left[\\begin{array}{rr} 0 & 1\\\\-1 & -1 \\end{array} \\right]\\mathbf{x} + \n",
    "    \\left[\\begin{array}{r} -2 \\\\ 5\\end{array}\\right]u\\\\\n",
    "    y &= \\left[\\begin{array}{rr} 3 & 1\\end{array} \\right]\\mathbf{x}\n",
    "\\end{align}\n",
    "$$"
   ]
  },
  {
   "cell_type": "markdown",
   "id": "9fc2290f",
   "metadata": {},
   "source": [
    "# **Solução do exemplo 7.2 do livro**"
   ]
  },
  {
   "cell_type": "code",
   "execution_count": null,
   "id": "956c1e47",
   "metadata": {},
   "outputs": [],
   "source": [
    "import control as ct\n",
    "import numpy as np\n",
    "from matplotlib import pyplot as plt\n",
    "# Bibliotecas que vamos usar\n"
   ]
  },
  {
   "cell_type": "code",
   "execution_count": null,
   "id": "735605ff",
   "metadata": {},
   "outputs": [],
   "source": [
    "# Constantes dadas no problema\n",
    "b_m = 0.05\n",
    "_1m = 0.001\n",
    "\n",
    "# Criação das matrizes. \n",
    "F = np.array([[0,1],[0, -b_m]])\n",
    "G = np.array([[0],[_1m]])\n",
    "H = np.array([[0,1]])\n",
    "J = 0\n",
    "# Poderíamos ter usado listas também, mas o livro multiplica a matriz G por 500. \n",
    "# Aí neste caso é melhor ela estar definida como array do numpy\n",
    "\n",
    "# Definição do sistema. \"ss\" significa \"state space\", espaço de estados em inglês\n",
    "sys = ct.ss(F,500*G,H,J)\n",
    "print(sys)"
   ]
  },
  {
   "cell_type": "code",
   "execution_count": 29,
   "id": "2eec34db",
   "metadata": {},
   "outputs": [
    {
     "data": {
      "text/plain": [
       "(0.0, 100.0)"
      ]
     },
     "execution_count": 29,
     "metadata": {},
     "output_type": "execute_result"
    },
    {
     "data": {
      "image/png": "[encoded data removed]",
      "text/plain": [
       "<Figure size 640x480 with 1 Axes>"
      ]
     },
     "metadata": {},
     "output_type": "display_data"
    }
   ],
   "source": [
    "# Função de resposta ao degrau da biblioteca \"control\"\n",
    "t,y=ct.step_response(sys)\n",
    "\n",
    "# A matriz \"t\" contém o tempo, \"y\" contém os valores de saída\n",
    "plt.plot(t,y)\n",
    "plt.xlim([0,100])\n",
    "# Encurtamos o gráfico para até 100 segundos para a figura ficar igual a do livro"
   ]
  },
  {
   "cell_type": "code",
   "execution_count": 31,
   "id": "137defdb",
   "metadata": {},
   "outputs": [
    {
     "data": {
      "text/latex": [
       "$$\\frac{0.5}{s + 0.05}$$"
      ],
      "text/plain": [
       "TransferFunction(array([0.5]), array([1.  , 0.05]))"
      ]
     },
     "execution_count": 31,
     "metadata": {},
     "output_type": "execute_result"
    }
   ],
   "source": [
    "ct.ss2tf(sys)"
   ]
  },
  {
   "cell_type": "markdown",
   "id": "6ff2c9da",
   "metadata": {},
   "source": [
    "A função \"ss2tf\" converte de espaço de estados para função de transferência. Mas o resultado foi uma função de primeira ordem, embora o sistema fosse de segunda (2 equações/variáveis de estado). O que aconteceu?"
   ]
  },
  {
   "cell_type": "markdown",
   "id": "e3af565a",
   "metadata": {},
   "source": [
    "*Exemplos 7.3 a 7.6 serão resolvidos manualmente*"
   ]
  }
 ],
 "metadata": {
  "kernelspec": {
   "display_name": "Python 3.9.12 ('base')",
   "language": "python",
   "name": "python3"
  },
  "language_info": {
   "codemirror_mode": {
    "name": "ipython",
    "version": 3
   },
   "file_extension": ".py",
   "mimetype": "text/x-python",
   "name": "python",
   "nbconvert_exporter": "python",
   "pygments_lexer": "ipython3",
   "version": "3.9.12"
  },
  "vscode": {
   "interpreter": {
    "hash": "3e3763a57b4ffe0d06e963ec4b7f8ef3a748cbfdb342037439726ee83e94c05b"
   }
  }
 },
 "nbformat": 4,
 "nbformat_minor": 5
}
