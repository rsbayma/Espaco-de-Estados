{
 "cells": [
  {
   "cell_type": "markdown",
   "metadata": {},
   "source": [
    "# (7.5.2 - Cont.) Lugar das Raízes Simétrico (LRS)"
   ]
  },
  {
   "cell_type": "markdown",
   "metadata": {},
   "source": [
    "Escolher os pólos dominantes nem sempre é uma tarefa direta. Além disso, a ela não leva em consideração um requisito importante do projeto, que é a limitação no sinal de controle, isto é, quanta energia você pode gastar para manter o sistema. \n",
    "\n",
    "Isto leva a um outro ramo da teoria de controle: **controle ótimo.**\n",
    "\n",
    "Esse é um assunto avançado, normalmente direcionado ao pessoal que vai perseguir a carreira de controle puro. Então vamos ver apenas o básico aqui.\n",
    "\n",
    "O livro texto formula o problema da seguinte forma: dado o sistema em malha aberta\n",
    "$$\n",
    "\\begin{align*}\n",
    "    \\dot{\\mathbf{x}} &= \\mathbf{Fx+G}u\\\\\n",
    "    z &= \\mathbf{H_1x}\n",
    "\\end{align*}\n",
    "$$\n",
    " encontrar o ganho $\\mathbf{K}$ de realimentação de estados que faça atingir o menor valor possível o *funcional*: \n",
    "$$\n",
    "\\begin{align*}\n",
    "    \\mathcal{J} = \\int_{0}^{\\infty} \\left[\\rho z^2(t) + u^2(t)\\right] dt\n",
    "\\end{align*}\n",
    "$$\n",
    "\n",
    "(O termo *funcional* é usado para designar uma função construída a partir de outras funções. O critério de desempenho $\\mathcal{J}$ é um exemplo típico de um funcional, dado pela integral de uma ou mais funções.)"
   ]
  },
  {
   "cell_type": "markdown",
   "metadata": {},
   "source": [
    "O funcional $\\mathcal{J}$ faz sentido fisicamente. O termo $u^2(t)$ é uma forma geral de medir a \"potência\" do sinal de controle. \n",
    "\n",
    "Por exemplo, se $u$ representa uma corrente elétrica, elevar ao quadrado permite saber quanta potência (em Watts) estamos demandando da fonte de alimentação, caso estivéssemos alimentando um resistor de 1 $\\Omega$. \n",
    "\n",
    "Ao integrar $u^2$ no tempo, desde 0 até o infinito (isto é, por um longo período de tempo), estamos medindo quanta energia (em Joule) gastamos no processo. \n",
    "\n",
    "O termo $z^2(t)$ mede a potência da saída. Ele é importante porque manter ele pequeno equivale a manter o sistema estável."
   ]
  },
  {
   "cell_type": "markdown",
   "metadata": {},
   "source": [
    "O parâmetro de destaque aqui é a constante $\\rho$. \n",
    "\n",
    "O valor de $\\rho$ permite dintinguir entre a importância do controle e da saída. \n",
    "\n",
    "Um valor grande de $\\rho$ indica que damos mais importância para a energia de saída do que para o controle. Um valor pequeno significa que estamos mais preocupados em economizar energia da nossa fonte para controlar o sistema.  "
   ]
  },
  {
   "cell_type": "markdown",
   "metadata": {},
   "source": [
    "A solução geral do problema é um ganho de realimentação $\\mathbf{K}$ que coloca os pólos em malha fechada no lugar geometríco das raízes (LGR) descrito pela equação\n",
    "$$\n",
    "\\begin{align*}\n",
    "    1 + \\rho\\,G_0(s)G_0(-s) = 0\n",
    "\\end{align*}\n",
    "$$\n",
    "onde $G_0(s)$ é a função de transferência de malha aberta do sistema\n",
    "$$\n",
    "\\begin{align*}\n",
    "    G_0(s) = \\mathbf{H_1}(s\\mathbf{I-F})^{-1}\\mathbf{G}\n",
    "\\end{align*}\n",
    "$$\n",
    "\n",
    "Esse é um LGR diferente. Ele é chamado simétrico porque, diferente do LGR convencional, ele tem simetria tanto no eixo real quanto no eixo imaginário. Isso ocorre devido ao termo $G_0(-s)$.\n",
    "\n",
    "Note que no LRS, o \"ganho proporcional\" é o próprio parâmetro $\\rho$. "
   ]
  }
 ],
 "metadata": {
  "kernelspec": {
   "display_name": "Python 3.9.12 ('base')",
   "language": "python",
   "name": "python3"
  },
  "language_info": {
   "name": "python",
   "version": "3.9.12"
  },
  "orig_nbformat": 4,
  "vscode": {
   "interpreter": {
    "hash": "3e3763a57b4ffe0d06e963ec4b7f8ef3a748cbfdb342037439726ee83e94c05b"
   }
  }
 },
 "nbformat": 4,
 "nbformat_minor": 2
}
