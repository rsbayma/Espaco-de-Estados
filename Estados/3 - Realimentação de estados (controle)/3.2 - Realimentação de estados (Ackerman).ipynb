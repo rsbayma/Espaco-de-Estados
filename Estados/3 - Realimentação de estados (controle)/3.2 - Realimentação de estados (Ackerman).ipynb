{
 "cells": [
  {
   "cell_type": "markdown",
   "metadata": {},
   "source": [
    "# Realimentação de estados (continuação)\n",
    "\n",
    "## Problemas mais realistas\n",
    "\n",
    "O exemplo anterior ilustra bem a solução do problema de realimentação de estados. Porém, ele é simples demais:\n",
    "* Ele é de ordem baixa (2). Na prática, os sistemas podem ser de ordem bem mais elevada\n",
    "* Em um problema de ordem mais alta, o trabalho seria muito maior e a solução desenvolvida, inviável\n",
    "* Além disso, em um problema real temos também que nos preocupar com questões numéricas de arredondamento."
   ]
  },
  {
   "cell_type": "markdown",
   "metadata": {},
   "source": [
    "## Forma canônica de controlador\n",
    "\n",
    "A primeira forma de lidar com problemas de ordem mais alta é transformar o sistema para forma canônica de controlador. \n",
    "\n",
    "Usar essa forma é vantajoso porque ela simplifica as equações dos ganhos na hora que igualamos os polinômios desejado e de projeto. Isso permite encontrar os ganhos com equações mais simples, geralmente fazendo substituições sucessivas.\n",
    "\n",
    "Normalmente, a forma mais fácil de mudar para a forma de controlador é achando a função de transferência do sistema e usando as regras práticas de inspeção do numerador e denominador. \n",
    "\n",
    "Isso pode ser um pouco trabalhoso para sistemas de ordem elevada."
   ]
  },
  {
   "cell_type": "markdown",
   "metadata": {},
   "source": [
    "## Método de Ackermann\n",
    "\n",
    "Uma maneira mais direta e geral de projetar a realimentação de estados é usar o método de Ackerman. Ele consiste de aplicar a expressão:\n",
    "$$\n",
    "\\begin{align}\n",
    "    \\mathbf{K} = \\left[\\begin{array}{ccccc}0&0&\\ldots & 0 & 1\\end{array}\\right]\\mathbf{\\mathcal{C}}^{-1}\\alpha_c(\\mathbf{F})\n",
    "\\end{align}\n",
    "$$\n",
    "onde $\\mathbf{\\mathcal{C}}$ é a matriz de controlabilidade do sistema\n",
    "$$\n",
    "\\begin{align}\n",
    "    \\mathbf{\\mathcal{C}} = \\left[\\begin{array}{ccccc}\\mathbf{G}&\\mathbf{FG}&\\ldots & \\mathbf{F}^{n-2}\\mathbf{G} & \\mathbf{F}^{n-1}\\mathbf{G}\\end{array}\\right]\n",
    "\\end{align}\n",
    "$$\n",
    "e $\\alpha_c(\\mathbf{F})$ é uma matriz construída pela expressão:\n",
    "$$\n",
    "\\begin{align}\n",
    "    \\alpha_c(\\mathbf{F}) = \\mathbf{F}^{n}+\\alpha_1\\mathbf{F}^{n-1}+\\alpha_2\\mathbf{F}^{n-2}+\\ldots++\\alpha_n\\mathbf{I}\n",
    "\\end{align}\n",
    "$$\n",
    "\n",
    "Note que $\\alpha_c(\\mathbf{F})$ é o polinômio de malha fechado desejado, mas no lugar de $s$ temos a matriz $\\mathbf{F}$ de malha aberta do sistema. \n",
    "\n",
    "O método é trabalhoso, mas fácil de implementar no computador. Em Python temos a função \"acker()\" da biblioteca *control* que faz o processo automaticamente (sem precisar fornecer a forma de controlador), que funciona bem para sistemas de até 10a ordem e preferencialmente com pólos de malha fechada não-repetidos.\n",
    "\n",
    "Para problemas mais complexos, recomenda-se o uso da função \"place()\" da biblioteca *control*, ou \"place_poles()\" da biblioteca *scipy.signal*.\n",
    "\n",
    "Nota: essas funções só funcionam para problemas numéricos. Não se recomenda utilizá-las com objetos simbólicos. "
   ]
  },
  {
   "cell_type": "markdown",
   "metadata": {},
   "source": [
    "## Exemplo:\n",
    "\n",
    "<p align=\"center\">\n",
    "<img src=\"Ex7.16.svg\" width=\"80%\">\n",
    "</p>"
   ]
  },
  {
   "cell_type": "code",
   "execution_count": 1,
   "metadata": {},
   "outputs": [],
   "source": [
    "import numpy as np\n",
    "import sympy as sp\n",
    "\n",
    "# Define os símbolos\n",
    "w0 = sp.symbols('w0',real=True)\n",
    "\n",
    "# Define as matrizes do sistema\n",
    "F = sp.Matrix([[0,1],[-w0**2,0]])\n",
    "G = sp.Matrix([[0],[1]])"
   ]
  },
  {
   "cell_type": "code",
   "execution_count": 7,
   "metadata": {},
   "outputs": [
    {
     "data": {
      "text/latex": [
       "$\\displaystyle \\left[\\begin{matrix}0 & 1\\\\1 & 0\\end{matrix}\\right]$"
      ],
      "text/plain": [
       "Matrix([\n",
       "[0, 1],\n",
       "[1, 0]])"
      ]
     },
     "execution_count": 7,
     "metadata": {},
     "output_type": "execute_result"
    }
   ],
   "source": [
    "# Matriz de controlabilidade\n",
    "C = sp.Matrix.hstack(G,F*G)    # Fazemos o produto normal. hstack() é pra concatenar as matrizes horizontalmente\n",
    "C"
   ]
  },
  {
   "cell_type": "code",
   "execution_count": 5,
   "metadata": {},
   "outputs": [
    {
     "data": {
      "text/latex": [
       "$\\displaystyle \\left[\\begin{matrix}3 w_{0}^{2} & 4 w_{0}\\\\- 4 w_{0}^{3} & 3 w_{0}^{2}\\end{matrix}\\right]$"
      ],
      "text/plain": [
       "Matrix([\n",
       "[ 3*w0**2,    4*w0],\n",
       "[-4*w0**3, 3*w0**2]])"
      ]
     },
     "execution_count": 5,
     "metadata": {},
     "output_type": "execute_result"
    }
   ],
   "source": [
    "# Matriz Alpha, do polinômio desejado. Calcule o polinômio e no lugar do 's' coloque 'F'\n",
    "Alpha = F**2 + 4*w0*F + 4*w0**2*sp.eye(2)\n",
    "Alpha"
   ]
  },
  {
   "cell_type": "code",
   "execution_count": 10,
   "metadata": {},
   "outputs": [
    {
     "data": {
      "text/latex": [
       "$\\displaystyle \\left[\\begin{matrix}3 w_{0}^{2} & 4 w_{0}\\end{matrix}\\right]$"
      ],
      "text/plain": [
       "Matrix([[3*w0**2, 4*w0]])"
      ]
     },
     "execution_count": 10,
     "metadata": {},
     "output_type": "execute_result"
    }
   ],
   "source": [
    "# Fórmula de Ackermann\n",
    "K = (sp.Matrix([0,1]).T) * C.inv() * Alpha  # Lembre-se que o Sympy requer o transposto para criar um vetor linha\n",
    "K"
   ]
  },
  {
   "cell_type": "markdown",
   "metadata": {},
   "source": [
    "Eis um fato interessante: Ackermann permite posicionar os pólos de malha fechada **em qualquer lugar desejado**, mas isso só é possível se a matriz de controlabilidade possuir inversa.\n",
    "\n",
    "Isso é relativamente interessante, comparado por exemplo, à técnica do LGR, onde o posicionamento dos pólos fica restrito ao lugar geométrico. No entanto, lembre-se que estamos sob uma hipótese forte de que todos os estados estão disponíveis para realimentação. "
   ]
  },
  {
   "cell_type": "markdown",
   "metadata": {},
   "source": [
    "## Exemplo:\n",
    "<p align=\"center\">\n",
    "<img src=\"Ex7.17.svg\" width=\"80%\">\n",
    "</p>\n",
    "\n",
    "Abaixo apenas o item (b), resolvendo direto com acker()"
   ]
  },
  {
   "cell_type": "code",
   "execution_count": 16,
   "metadata": {},
   "outputs": [
    {
     "data": {
      "text/plain": [
       "array([[-3.8,  0.6]])"
      ]
     },
     "execution_count": 16,
     "metadata": {},
     "output_type": "execute_result"
    }
   ],
   "source": [
    "import control as ct\n",
    "\n",
    "A = np.matrix([[-7,1],[-12,0]])\n",
    "z0 = 2\n",
    "B = np.matrix([[1],[-z0]])\n",
    "C = np.matrix([1,0])\n",
    "D = 0\n",
    "\n",
    "sys = ct.ss(A,B,C,D)\n",
    "xi = 0.5\n",
    "wn = 2\n",
    "polo = -xi*wn+1j*wn*np.sqrt(1-xi**2)\n",
    "K = ct.acker(A,B,[polo, np.conj(polo)])\n",
    "K"
   ]
  },
  {
   "cell_type": "markdown",
   "metadata": {},
   "source": [
    "Execute novamente o código com $z_0=3$ para verificar a variação dos ganhos como no livro. Espera-se que haja um aumento significativo nos ganhos. \n",
    "\n",
    "Quando um polo e um zero tendem a se cancelar, o sistema tende a perder controlabilidade e isso torna os ganhos mais altos e, consequentemente, o controle fica mais \"caro\" (puxa mais energia). Vale a observação do livro:\n",
    "\n",
    "**\"O sistema tem que trabalhar com mais força para conseguir o controle quando a controlabilidade é fraca.\"**\n",
    "\n",
    "Além disso:\n",
    "\n",
    "**\"Mover os polos em um longo caminho requer grandes ganhos.\"**\n",
    "\n",
    "Isso é observado quando um sistema é naturalmente lento e tentamos deixá-lo mais rápido. Isso normalmente resulta em ganhos grandes (em módulo), o que resulta novamente em um controle \"caro\"."
   ]
  },
  {
   "cell_type": "markdown",
   "metadata": {},
   "source": [
    "## Exercício\n",
    "\n",
    "Use Ackermann para projetar um controlador para o sistema\n",
    "$$\n",
    "\\begin{align}\n",
    "    G(s) &= \\frac{30}{s(s+1)^2}\n",
    "\\end{align}\n",
    "$$\n",
    "\n",
    "Posicione os dominantes em $-4\\pm j4$.\n"
   ]
  },
  {
   "cell_type": "code",
   "execution_count": 65,
   "metadata": {},
   "outputs": [],
   "source": [
    "import numpy as np\n",
    "import control as ct"
   ]
  },
  {
   "cell_type": "code",
   "execution_count": null,
   "metadata": {},
   "outputs": [],
   "source": [
    "F = np.array([[-2,-1,0],[1,0,0],[0,1,0]])\n",
    "G = np.array([[1],[0],[0]])"
   ]
  },
  {
   "cell_type": "code",
   "execution_count": 4,
   "metadata": {},
   "outputs": [
    {
     "data": {
      "text/plain": [
       "array([  1.+0.j,  20.+0.j, 128.+0.j, 384.+0.j])"
      ]
     },
     "execution_count": 4,
     "metadata": {},
     "output_type": "execute_result"
    }
   ],
   "source": [
    "alpha = np.convolve([1, 4-4j],[1, 4+4j])\n",
    "alpha = np.convolve(alpha,[1,12])\n",
    "alpha"
   ]
  },
  {
   "cell_type": "code",
   "execution_count": 9,
   "metadata": {},
   "outputs": [
    {
     "data": {
      "text/plain": [
       "array([[ 18., 127., 384.]])"
      ]
     },
     "execution_count": 9,
     "metadata": {},
     "output_type": "execute_result"
    }
   ],
   "source": [
    "K = ct.acker(F,G,[-12,-4+4j,-4-4j])\n",
    "K"
   ]
  },
  {
   "cell_type": "code",
   "execution_count": 22,
   "metadata": {},
   "outputs": [],
   "source": [
    "#C=ct.ctrb(F,G)"
   ]
  },
  {
   "cell_type": "code",
   "execution_count": 29,
   "metadata": {},
   "outputs": [
    {
     "data": {
      "text/plain": [
       "array([[ 18., 127., 384.]])"
      ]
     },
     "execution_count": 29,
     "metadata": {},
     "output_type": "execute_result"
    }
   ],
   "source": [
    "C=np.concatenate([G,F@G,(F@F)@G],axis=1)\n",
    "#C\n",
    "iC=np.linalg.inv(C)\n",
    "#iC\n",
    "alphaF = F@F@F +   20*(F@F)+ 128.*F+ 384*np.eye(3)\n",
    "#alphaF\n",
    "Kf =  (np.array([[0,0,1]]) @ iC) @ alphaF\n",
    "Kf"
   ]
  },
  {
   "cell_type": "code",
   "execution_count": 31,
   "metadata": {},
   "outputs": [
    {
     "name": "stdout",
     "output_type": "stream",
     "text": [
      "<LinearIOSystem>: sys[3]\n",
      "Inputs (1): ['u[0]']\n",
      "Outputs (3): ['y[0]', 'y[1]', 'y[2]']\n",
      "States (3): ['x[0]', 'x[1]', 'x[2]']\n",
      "\n",
      "A = [[ -20. -128. -384.]\n",
      "     [   1.    0.    0.]\n",
      "     [   0.    1.    0.]]\n",
      "\n",
      "B = [[0.]\n",
      "     [0.]\n",
      "     [0.]]\n",
      "\n",
      "C = [[1. 0. 0.]\n",
      "     [0. 1. 0.]\n",
      "     [0. 0. 1.]]\n",
      "\n",
      "D = [[0.]\n",
      "     [0.]\n",
      "     [0.]]\n",
      "\n"
     ]
    }
   ],
   "source": [
    "Fmf = F-G@K\n",
    "Gmf = np.zeros((3,1))\n",
    "Hmf = np.eye(3)\n",
    "Jmf = np.zeros((3,1))\n",
    "sys = ct.ss(Fmf,Gmf,Hmf,Jmf)\n",
    "print(sys)"
   ]
  },
  {
   "cell_type": "code",
   "execution_count": 47,
   "metadata": {},
   "outputs": [],
   "source": [
    "resposta = ct.initial_response(sys,X0=[1,-1,2])"
   ]
  },
  {
   "cell_type": "code",
   "execution_count": 48,
   "metadata": {},
   "outputs": [
    {
     "data": {
      "text/plain": [
       "[<matplotlib.lines.Line2D at 0x58333a16a0>,\n",
       " <matplotlib.lines.Line2D at 0x58333a1670>,\n",
       " <matplotlib.lines.Line2D at 0x58333a16d0>]"
      ]
     },
     "execution_count": 48,
     "metadata": {},
     "output_type": "execute_result"
    },
    {
     "data": {
      "image/png": "[encoded data removed]",
      "image/svg+xml": "<?xml version=\"1.0\" encoding=\"utf-8\" standalone=\"no\"?>\n<!DOCTYPE svg PUBLIC \"-//W3C//DTD SVG 1.1//EN\"\n  \"http://www.w3.org/Graphics/SVG/1.1/DTD/svg11.dtd\">\n<svg xmlns:xlink=\"http://www.w3.org/1999/xlink\" width=\"399.624687pt\" height=\"297.190125pt\" viewBox=\"0 0 399.624687 297.190125\" xmlns=\"http://www.w3.org/2000/svg\" version=\"1.1\">\n <metadata>\n  <rdf:RDF xmlns:dc=\"http://purl.org/dc/elements/1.1/\" xmlns:cc=\"http://creativecommons.org/ns#\" xmlns:rdf=\"http://www.w3.org/1999/02/22-rdf-syntax-ns#\">\n   <cc:Work>\n    <dc:type rdf:resource=\"http://purl.org/dc/dcmitype/StillImage\"/>\n    <dc:date>2022-12-02T09:09:43.912159</dc:date>\n    <dc:format>image/svg+xml</dc:format>\n    <dc:creator>\n     <cc:Agent>\n      <dc:title>Matplotlib v3.5.1, https://matplotlib.org/</dc:title>\n     </cc:Agent>\n    </dc:creator>\n   </cc:Work>\n  </rdf:RDF>\n </metadata>\n <defs>\n  <style type=\"text/css\">*{stroke-linejoin: round; stroke-linecap: butt}</style>\n </defs>\n <g id=\"figure_1\">\n  <g id=\"patch_1\">\n   <path d=\"M 0 297.190125 \nL 399.624687 297.190125 \nL 399.624687 0 \nL 0 0 \nz\n\" style=\"fill: #ffffff\"/>\n  </g>\n  <g id=\"axes_1\">\n   <g id=\"patch_2\">\n    <path d=\"M 35.304688 273.312 \nL 392.424688 273.312 \nL 392.424688 7.2 \nL 35.304688 7.2 \nz\n\" style=\"fill: #ffffff\"/>\n   </g>\n   <g id=\"matplotlib.axis_1\">\n    <g id=\"xtick_1\">\n     <g id=\"line2d_1\">\n      <defs>\n       <path id=\"m03c5183e16\" d=\"M 0 0 \nL 0 3.5 \n\" style=\"stroke: #000000; stroke-width: 0.8\"/>\n      </defs>\n      <g>\n       <use xlink:href=\"#m03c5183e16\" x=\"51.537415\" y=\"273.312\" style=\"stroke: #000000; stroke-width: 0.8\"/>\n      </g>\n     </g>\n     <g id=\"text_1\">\n      <!-- 0.00 -->\n      <g transform=\"translate(40.404602 287.910437)scale(0.1 -0.1)\">\n       <defs>\n        <path id=\"DejaVuSans-30\" d=\"M 2034 4250 \nQ 1547 4250 1301 3770 \nQ 1056 3291 1056 2328 \nQ 1056 1369 1301 889 \nQ 1547 409 2034 409 \nQ 2525 409 2770 889 \nQ 3016 1369 3016 2328 \nQ 3016 3291 2770 3770 \nQ 2525 4250 2034 4250 \nz\nM 2034 4750 \nQ 2819 4750 3233 4129 \nQ 3647 3509 3647 2328 \nQ 3647 1150 3233 529 \nQ 2819 -91 2034 -91 \nQ 1250 -91 836 529 \nQ 422 1150 422 2328 \nQ 422 3509 836 4129 \nQ 1250 4750 2034 4750 \nz\n\" transform=\"scale(0.015625)\"/>\n        <path id=\"DejaVuSans-2e\" d=\"M 684 794 \nL 1344 794 \nL 1344 0 \nL 684 0 \nL 684 794 \nz\n\" transform=\"scale(0.015625)\"/>\n       </defs>\n       <use xlink:href=\"#DejaVuSans-30\"/>\n       <use xlink:href=\"#DejaVuSans-2e\" x=\"63.623047\"/>\n       <use xlink:href=\"#DejaVuSans-30\" x=\"95.410156\"/>\n       <use xlink:href=\"#DejaVuSans-30\" x=\"159.033203\"/>\n      </g>\n     </g>\n    </g>\n    <g id=\"xtick_2\">\n     <g id=\"line2d_2\">\n      <g>\n       <use xlink:href=\"#m03c5183e16\" x=\"98.535974\" y=\"273.312\" style=\"stroke: #000000; stroke-width: 0.8\"/>\n      </g>\n     </g>\n     <g id=\"text_2\">\n      <!-- 0.25 -->\n      <g transform=\"translate(87.403161 287.910437)scale(0.1 -0.1)\">\n       <defs>\n        <path id=\"DejaVuSans-32\" d=\"M 1228 531 \nL 3431 531 \nL 3431 0 \nL 469 0 \nL 469 531 \nQ 828 903 1448 1529 \nQ 2069 2156 2228 2338 \nQ 2531 2678 2651 2914 \nQ 2772 3150 2772 3378 \nQ 2772 3750 2511 3984 \nQ 2250 4219 1831 4219 \nQ 1534 4219 1204 4116 \nQ 875 4013 500 3803 \nL 500 4441 \nQ 881 4594 1212 4672 \nQ 1544 4750 1819 4750 \nQ 2544 4750 2975 4387 \nQ 3406 4025 3406 3419 \nQ 3406 3131 3298 2873 \nQ 3191 2616 2906 2266 \nQ 2828 2175 2409 1742 \nQ 1991 1309 1228 531 \nz\n\" transform=\"scale(0.015625)\"/>\n        <path id=\"DejaVuSans-35\" d=\"M 691 4666 \nL 3169 4666 \nL 3169 4134 \nL 1269 4134 \nL 1269 2991 \nQ 1406 3038 1543 3061 \nQ 1681 3084 1819 3084 \nQ 2600 3084 3056 2656 \nQ 3513 2228 3513 1497 \nQ 3513 744 3044 326 \nQ 2575 -91 1722 -91 \nQ 1428 -91 1123 -41 \nQ 819 9 494 109 \nL 494 744 \nQ 775 591 1075 516 \nQ 1375 441 1709 441 \nQ 2250 441 2565 725 \nQ 2881 1009 2881 1497 \nQ 2881 1984 2565 2268 \nQ 2250 2553 1709 2553 \nQ 1456 2553 1204 2497 \nQ 953 2441 691 2322 \nL 691 4666 \nz\n\" transform=\"scale(0.015625)\"/>\n       </defs>\n       <use xlink:href=\"#DejaVuSans-30\"/>\n       <use xlink:href=\"#DejaVuSans-2e\" x=\"63.623047\"/>\n       <use xlink:href=\"#DejaVuSans-32\" x=\"95.410156\"/>\n       <use xlink:href=\"#DejaVuSans-35\" x=\"159.033203\"/>\n      </g>\n     </g>\n    </g>\n    <g id=\"xtick_3\">\n     <g id=\"line2d_3\">\n      <g>\n       <use xlink:href=\"#m03c5183e16\" x=\"145.534533\" y=\"273.312\" style=\"stroke: #000000; stroke-width: 0.8\"/>\n      </g>\n     </g>\n     <g id=\"text_3\">\n      <!-- 0.50 -->\n      <g transform=\"translate(134.401721 287.910437)scale(0.1 -0.1)\">\n       <use xlink:href=\"#DejaVuSans-30\"/>\n       <use xlink:href=\"#DejaVuSans-2e\" x=\"63.623047\"/>\n       <use xlink:href=\"#DejaVuSans-35\" x=\"95.410156\"/>\n       <use xlink:href=\"#DejaVuSans-30\" x=\"159.033203\"/>\n      </g>\n     </g>\n    </g>\n    <g id=\"xtick_4\">\n     <g id=\"line2d_4\">\n      <g>\n       <use xlink:href=\"#m03c5183e16\" x=\"192.533092\" y=\"273.312\" style=\"stroke: #000000; stroke-width: 0.8\"/>\n      </g>\n     </g>\n     <g id=\"text_4\">\n      <!-- 0.75 -->\n      <g transform=\"translate(181.40028 287.910437)scale(0.1 -0.1)\">\n       <defs>\n        <path id=\"DejaVuSans-37\" d=\"M 525 4666 \nL 3525 4666 \nL 3525 4397 \nL 1831 0 \nL 1172 0 \nL 2766 4134 \nL 525 4134 \nL 525 4666 \nz\n\" transform=\"scale(0.015625)\"/>\n       </defs>\n       <use xlink:href=\"#DejaVuSans-30\"/>\n       <use xlink:href=\"#DejaVuSans-2e\" x=\"63.623047\"/>\n       <use xlink:href=\"#DejaVuSans-37\" x=\"95.410156\"/>\n       <use xlink:href=\"#DejaVuSans-35\" x=\"159.033203\"/>\n      </g>\n     </g>\n    </g>\n    <g id=\"xtick_5\">\n     <g id=\"line2d_5\">\n      <g>\n       <use xlink:href=\"#m03c5183e16\" x=\"239.531652\" y=\"273.312\" style=\"stroke: #000000; stroke-width: 0.8\"/>\n      </g>\n     </g>\n     <g id=\"text_5\">\n      <!-- 1.00 -->\n      <g transform=\"translate(228.398839 287.910437)scale(0.1 -0.1)\">\n       <defs>\n        <path id=\"DejaVuSans-31\" d=\"M 794 531 \nL 1825 531 \nL 1825 4091 \nL 703 3866 \nL 703 4441 \nL 1819 4666 \nL 2450 4666 \nL 2450 531 \nL 3481 531 \nL 3481 0 \nL 794 0 \nL 794 531 \nz\n\" transform=\"scale(0.015625)\"/>\n       </defs>\n       <use xlink:href=\"#DejaVuSans-31\"/>\n       <use xlink:href=\"#DejaVuSans-2e\" x=\"63.623047\"/>\n       <use xlink:href=\"#DejaVuSans-30\" x=\"95.410156\"/>\n       <use xlink:href=\"#DejaVuSans-30\" x=\"159.033203\"/>\n      </g>\n     </g>\n    </g>\n    <g id=\"xtick_6\">\n     <g id=\"line2d_6\">\n      <g>\n       <use xlink:href=\"#m03c5183e16\" x=\"286.530211\" y=\"273.312\" style=\"stroke: #000000; stroke-width: 0.8\"/>\n      </g>\n     </g>\n     <g id=\"text_6\">\n      <!-- 1.25 -->\n      <g transform=\"translate(275.397398 287.910437)scale(0.1 -0.1)\">\n       <use xlink:href=\"#DejaVuSans-31\"/>\n       <use xlink:href=\"#DejaVuSans-2e\" x=\"63.623047\"/>\n       <use xlink:href=\"#DejaVuSans-32\" x=\"95.410156\"/>\n       <use xlink:href=\"#DejaVuSans-35\" x=\"159.033203\"/>\n      </g>\n     </g>\n    </g>\n    <g id=\"xtick_7\">\n     <g id=\"line2d_7\">\n      <g>\n       <use xlink:href=\"#m03c5183e16\" x=\"333.52877\" y=\"273.312\" style=\"stroke: #000000; stroke-width: 0.8\"/>\n      </g>\n     </g>\n     <g id=\"text_7\">\n      <!-- 1.50 -->\n      <g transform=\"translate(322.395958 287.910437)scale(0.1 -0.1)\">\n       <use xlink:href=\"#DejaVuSans-31\"/>\n       <use xlink:href=\"#DejaVuSans-2e\" x=\"63.623047\"/>\n       <use xlink:href=\"#DejaVuSans-35\" x=\"95.410156\"/>\n       <use xlink:href=\"#DejaVuSans-30\" x=\"159.033203\"/>\n      </g>\n     </g>\n    </g>\n    <g id=\"xtick_8\">\n     <g id=\"line2d_8\">\n      <g>\n       <use xlink:href=\"#m03c5183e16\" x=\"380.527329\" y=\"273.312\" style=\"stroke: #000000; stroke-width: 0.8\"/>\n      </g>\n     </g>\n     <g id=\"text_8\">\n      <!-- 1.75 -->\n      <g transform=\"translate(369.394517 287.910437)scale(0.1 -0.1)\">\n       <use xlink:href=\"#DejaVuSans-31\"/>\n       <use xlink:href=\"#DejaVuSans-2e\" x=\"63.623047\"/>\n       <use xlink:href=\"#DejaVuSans-37\" x=\"95.410156\"/>\n       <use xlink:href=\"#DejaVuSans-35\" x=\"159.033203\"/>\n      </g>\n     </g>\n    </g>\n   </g>\n   <g id=\"matplotlib.axis_2\">\n    <g id=\"ytick_1\">\n     <g id=\"line2d_9\">\n      <defs>\n       <path id=\"m4ec5235e06\" d=\"M 0 0 \nL -3.5 0 \n\" style=\"stroke: #000000; stroke-width: 0.8\"/>\n      </defs>\n      <g>\n       <use xlink:href=\"#m4ec5235e06\" x=\"35.304688\" y=\"250.805513\" style=\"stroke: #000000; stroke-width: 0.8\"/>\n      </g>\n     </g>\n     <g id=\"text_9\">\n      <!-- −20 -->\n      <g transform=\"translate(7.2 254.604732)scale(0.1 -0.1)\">\n       <defs>\n        <path id=\"DejaVuSans-2212\" d=\"M 678 2272 \nL 4684 2272 \nL 4684 1741 \nL 678 1741 \nL 678 2272 \nz\n\" transform=\"scale(0.015625)\"/>\n       </defs>\n       <use xlink:href=\"#DejaVuSans-2212\"/>\n       <use xlink:href=\"#DejaVuSans-32\" x=\"83.789062\"/>\n       <use xlink:href=\"#DejaVuSans-30\" x=\"147.412109\"/>\n      </g>\n     </g>\n    </g>\n    <g id=\"ytick_2\">\n     <g id=\"line2d_10\">\n      <g>\n       <use xlink:href=\"#m4ec5235e06\" x=\"35.304688\" y=\"213.573391\" style=\"stroke: #000000; stroke-width: 0.8\"/>\n      </g>\n     </g>\n     <g id=\"text_10\">\n      <!-- −15 -->\n      <g transform=\"translate(7.2 217.37261)scale(0.1 -0.1)\">\n       <use xlink:href=\"#DejaVuSans-2212\"/>\n       <use xlink:href=\"#DejaVuSans-31\" x=\"83.789062\"/>\n       <use xlink:href=\"#DejaVuSans-35\" x=\"147.412109\"/>\n      </g>\n     </g>\n    </g>\n    <g id=\"ytick_3\">\n     <g id=\"line2d_11\">\n      <g>\n       <use xlink:href=\"#m4ec5235e06\" x=\"35.304688\" y=\"176.341268\" style=\"stroke: #000000; stroke-width: 0.8\"/>\n      </g>\n     </g>\n     <g id=\"text_11\">\n      <!-- −10 -->\n      <g transform=\"translate(7.2 180.140487)scale(0.1 -0.1)\">\n       <use xlink:href=\"#DejaVuSans-2212\"/>\n       <use xlink:href=\"#DejaVuSans-31\" x=\"83.789062\"/>\n       <use xlink:href=\"#DejaVuSans-30\" x=\"147.412109\"/>\n      </g>\n     </g>\n    </g>\n    <g id=\"ytick_4\">\n     <g id=\"line2d_12\">\n      <g>\n       <use xlink:href=\"#m4ec5235e06\" x=\"35.304688\" y=\"139.109146\" style=\"stroke: #000000; stroke-width: 0.8\"/>\n      </g>\n     </g>\n     <g id=\"text_12\">\n      <!-- −5 -->\n      <g transform=\"translate(13.5625 142.908365)scale(0.1 -0.1)\">\n       <use xlink:href=\"#DejaVuSans-2212\"/>\n       <use xlink:href=\"#DejaVuSans-35\" x=\"83.789062\"/>\n      </g>\n     </g>\n    </g>\n    <g id=\"ytick_5\">\n     <g id=\"line2d_13\">\n      <g>\n       <use xlink:href=\"#m4ec5235e06\" x=\"35.304688\" y=\"101.877024\" style=\"stroke: #000000; stroke-width: 0.8\"/>\n      </g>\n     </g>\n     <g id=\"text_13\">\n      <!-- 0 -->\n      <g transform=\"translate(21.942187 105.676243)scale(0.1 -0.1)\">\n       <use xlink:href=\"#DejaVuSans-30\"/>\n      </g>\n     </g>\n    </g>\n    <g id=\"ytick_6\">\n     <g id=\"line2d_14\">\n      <g>\n       <use xlink:href=\"#m4ec5235e06\" x=\"35.304688\" y=\"64.644902\" style=\"stroke: #000000; stroke-width: 0.8\"/>\n      </g>\n     </g>\n     <g id=\"text_14\">\n      <!-- 5 -->\n      <g transform=\"translate(21.942187 68.44412)scale(0.1 -0.1)\">\n       <use xlink:href=\"#DejaVuSans-35\"/>\n      </g>\n     </g>\n    </g>\n    <g id=\"ytick_7\">\n     <g id=\"line2d_15\">\n      <g>\n       <use xlink:href=\"#m4ec5235e06\" x=\"35.304688\" y=\"27.412779\" style=\"stroke: #000000; stroke-width: 0.8\"/>\n      </g>\n     </g>\n     <g id=\"text_15\">\n      <!-- 10 -->\n      <g transform=\"translate(15.579687 31.211998)scale(0.1 -0.1)\">\n       <use xlink:href=\"#DejaVuSans-31\"/>\n       <use xlink:href=\"#DejaVuSans-30\" x=\"63.623047\"/>\n      </g>\n     </g>\n    </g>\n   </g>\n   <g id=\"line2d_16\">\n    <path d=\"M 51.537415 94.4306 \nL 54.816754 166.073357 \nL 58.096092 213.715692 \nL 61.375431 242.711443 \nL 64.65477 257.383967 \nL 67.934109 261.216 \nL 71.213448 257.004503 \nL 74.492787 246.987018 \nL 77.772126 232.944867 \nL 81.051464 216.287472 \nL 84.330803 198.121321 \nL 87.610142 179.306407 \nL 90.889481 160.502446 \nL 94.16882 142.206754 \nL 97.448159 124.78531 \nL 100.727497 108.498238 \nL 104.006836 93.520724 \nL 107.286175 79.960183 \nL 110.565514 67.870358 \nL 113.844853 57.262885 \nL 117.124192 48.116781 \nL 120.40353 40.386215 \nL 123.682869 34.006863 \nL 126.962208 28.901095 \nL 130.241547 24.982189 \nL 133.520886 22.157746 \nL 136.800225 20.332438 \nL 140.079564 19.410208 \nL 143.358902 19.296 \nL 146.638241 19.897122 \nL 149.91758 21.124284 \nL 153.196919 22.892378 \nL 156.476258 25.121035 \nL 159.755597 27.735014 \nL 163.034935 30.664432 \nL 166.314274 33.844882 \nL 169.593613 37.217444 \nL 172.872952 40.728629 \nL 176.152291 44.330246 \nL 179.43163 47.97923 \nL 182.710968 51.637426 \nL 185.990307 55.271349 \nL 189.269646 58.851919 \nL 192.548985 62.354185 \nL 195.828324 65.757041 \nL 199.107663 69.042938 \nL 202.387002 72.197599 \nL 205.66634 75.209737 \nL 208.945679 78.070778 \nL 212.225018 80.774596 \nL 215.504357 83.31726 \nL 218.783696 85.696784 \nL 222.063035 87.912904 \nL 225.342373 89.966854 \nL 228.621712 91.861166 \nL 231.901051 93.599481 \nL 235.18039 95.186373 \nL 238.459729 96.627188 \nL 241.739068 97.927894 \nL 245.018407 99.094951 \nL 248.297745 100.135186 \nL 251.577084 101.055686 \nL 254.856423 101.863699 \nL 258.135762 102.566549 \nL 261.415101 103.171557 \nL 264.69444 103.685981 \nL 267.973778 104.116952 \nL 271.253117 104.47143 \nL 274.532456 104.756164 \nL 277.811795 104.977654 \nL 281.091134 105.142129 \nL 284.370473 105.255523 \nL 287.649811 105.323462 \nL 290.92915 105.351249 \nL 294.208489 105.343864 \nL 297.487828 105.305956 \nL 300.767167 105.241845 \nL 304.046506 105.155526 \nL 307.325845 105.050677 \nL 310.605183 104.930663 \nL 313.884522 104.79855 \nL 317.163861 104.657114 \nL 320.4432 104.508854 \nL 323.722539 104.356004 \nL 327.001878 104.200552 \nL 330.281216 104.044247 \nL 333.560555 103.88862 \nL 336.839894 103.734996 \nL 340.119233 103.58451 \nL 343.398572 103.438119 \nL 346.677911 103.296619 \nL 349.957249 103.160658 \nL 353.236588 103.03075 \nL 356.515927 102.907285 \nL 359.795266 102.790546 \nL 363.074605 102.680717 \nL 366.353944 102.577894 \nL 369.633283 102.4821 \nL 372.912621 102.393289 \nL 376.19196 102.311357 \n\" clip-path=\"url(#pa25306bf15)\" style=\"fill: none; stroke: #0000ff; stroke-width: 1.5; stroke-linecap: square\"/>\n   </g>\n   <g id=\"line2d_17\">\n    <path d=\"M 51.537415 109.323448 \nL 54.816754 109.857742 \nL 58.096092 111.423798 \nL 61.375431 113.651307 \nL 64.65477 116.254059 \nL 67.934109 119.013679 \nL 71.213448 121.76636 \nL 74.492787 124.392041 \nL 77.772126 126.805577 \nL 81.051464 128.949542 \nL 84.330803 130.788363 \nL 87.610142 132.303546 \nL 90.889481 133.489788 \nL 94.16882 134.35183 \nL 97.448159 134.901901 \nL 100.727497 135.157659 \nL 104.006836 135.140528 \nL 107.286175 134.874376 \nL 110.565514 134.38446 \nL 113.844853 133.696589 \nL 117.124192 132.83648 \nL 120.40353 131.829255 \nL 123.682869 130.699069 \nL 126.962208 129.468831 \nL 130.241547 128.160012 \nL 133.520886 126.792515 \nL 136.800225 125.384604 \nL 140.079564 123.952867 \nL 143.358902 122.512228 \nL 146.638241 121.075968 \nL 149.91758 119.655781 \nL 153.196919 118.261839 \nL 156.476258 116.902869 \nL 159.755597 115.586242 \nL 163.034935 114.318061 \nL 166.314274 113.10326 \nL 169.593613 111.945695 \nL 172.872952 110.848244 \nL 176.152291 109.812896 \nL 179.43163 108.840847 \nL 182.710968 107.932581 \nL 185.990307 107.087963 \nL 189.269646 106.306308 \nL 192.548985 105.586462 \nL 195.828324 104.92687 \nL 199.107663 104.32564 \nL 202.387002 103.780602 \nL 205.66634 103.289365 \nL 208.945679 102.849364 \nL 212.225018 102.457906 \nL 215.504357 102.112212 \nL 218.783696 101.809451 \nL 222.063035 101.546771 \nL 225.342373 101.321332 \nL 228.621712 101.130325 \nL 231.901051 100.970995 \nL 235.18039 100.84066 \nL 238.459729 100.736725 \nL 241.739068 100.656691 \nL 245.018407 100.598172 \nL 248.297745 100.558894 \nL 251.577084 100.536707 \nL 254.856423 100.529585 \nL 258.135762 100.53563 \nL 261.415101 100.553072 \nL 264.69444 100.580267 \nL 267.973778 100.615697 \nL 271.253117 100.657968 \nL 274.532456 100.705804 \nL 277.811795 100.758047 \nL 281.091134 100.813647 \nL 284.370473 100.871662 \nL 287.649811 100.93125 \nL 290.92915 100.991666 \nL 294.208489 101.052253 \nL 297.487828 101.112439 \nL 300.767167 101.171729 \nL 304.046506 101.229701 \nL 307.325845 101.286 \nL 310.605183 101.340334 \nL 313.884522 101.392464 \nL 317.163861 101.442205 \nL 320.4432 101.489415 \nL 323.722539 101.533996 \nL 327.001878 101.575886 \nL 330.281216 101.615054 \nL 333.560555 101.651499 \nL 336.839894 101.685246 \nL 340.119233 101.716338 \nL 343.398572 101.74484 \nL 346.677911 101.770829 \nL 349.957249 101.794398 \nL 353.236588 101.815647 \nL 356.515927 101.834686 \nL 359.795266 101.85163 \nL 363.074605 101.866597 \nL 366.353944 101.87971 \nL 369.633283 101.89109 \nL 372.912621 101.90086 \nL 376.19196 101.909141 \n\" clip-path=\"url(#pa25306bf15)\" style=\"fill: none; stroke: #ff0000; stroke-width: 1.5; stroke-linecap: square\"/>\n   </g>\n   <g id=\"line2d_18\">\n    <path d=\"M 51.537415 86.984175 \nL 54.816754 87.116915 \nL 58.096092 87.268583 \nL 61.375431 87.45381 \nL 64.65477 87.681529 \nL 67.934109 87.956292 \nL 71.213448 88.279338 \nL 74.492787 88.649439 \nL 77.772126 89.063595 \nL 81.051464 89.517567 \nL 84.330803 90.006314 \nL 87.610142 90.524331 \nL 90.889481 91.065909 \nL 94.16882 91.62534 \nL 97.448159 92.197064 \nL 100.727497 92.775788 \nL 104.006836 93.35656 \nL 107.286175 93.934825 \nL 110.565514 94.506459 \nL 113.844853 95.067782 \nL 117.124192 95.615567 \nL 120.40353 96.14703 \nL 123.682869 96.659816 \nL 126.962208 97.151982 \nL 130.241547 97.621973 \nL 133.520886 98.068593 \nL 136.800225 98.490981 \nL 140.079564 98.888579 \nL 143.358902 99.261104 \nL 146.638241 99.608519 \nL 149.91758 99.931004 \nL 153.196919 100.228931 \nL 156.476258 100.502835 \nL 159.755597 100.753393 \nL 163.034935 100.981399 \nL 166.314274 101.187743 \nL 169.593613 101.373389 \nL 172.872952 101.539365 \nL 176.152291 101.686735 \nL 179.43163 101.816597 \nL 182.710968 101.930058 \nL 185.990307 102.028231 \nL 189.269646 102.112222 \nL 192.548985 102.183118 \nL 195.828324 102.241986 \nL 199.107663 102.289859 \nL 202.387002 102.327739 \nL 205.66634 102.356584 \nL 208.945679 102.37731 \nL 212.225018 102.390788 \nL 215.504357 102.397842 \nL 218.783696 102.399243 \nL 222.063035 102.395717 \nL 225.342373 102.387938 \nL 228.621712 102.376531 \nL 231.901051 102.362072 \nL 235.18039 102.34509 \nL 238.459729 102.326069 \nL 241.739068 102.305447 \nL 245.018407 102.283619 \nL 248.297745 102.260942 \nL 251.577084 102.237732 \nL 254.856423 102.214269 \nL 258.135762 102.1908 \nL 261.415101 102.167538 \nL 264.69444 102.144667 \nL 267.973778 102.122345 \nL 271.253117 102.100702 \nL 274.532456 102.079847 \nL 277.811795 102.059866 \nL 281.091134 102.040828 \nL 284.370473 102.022782 \nL 287.649811 102.005762 \nL 290.92915 101.989791 \nL 294.208489 101.974875 \nL 297.487828 101.961014 \nL 300.767167 101.948196 \nL 304.046506 101.9364 \nL 307.325845 101.925602 \nL 310.605183 101.915769 \nL 313.884522 101.906866 \nL 317.163861 101.89885 \nL 320.4432 101.891681 \nL 323.722539 101.885312 \nL 327.001878 101.879698 \nL 330.281216 101.87479 \nL 333.560555 101.870543 \nL 336.839894 101.866907 \nL 340.119233 101.863836 \nL 343.398572 101.861286 \nL 346.677911 101.85921 \nL 349.957249 101.857567 \nL 353.236588 101.856314 \nL 356.515927 101.855413 \nL 359.795266 101.854825 \nL 363.074605 101.854515 \nL 366.353944 101.85445 \nL 369.633283 101.854599 \nL 372.912621 101.854932 \nL 376.19196 101.855422 \n\" clip-path=\"url(#pa25306bf15)\" style=\"fill: none; stroke: #000000; stroke-width: 1.5; stroke-linecap: square\"/>\n   </g>\n   <g id=\"patch_3\">\n    <path d=\"M 35.304688 273.312 \nL 35.304688 7.2 \n\" style=\"fill: none; stroke: #000000; stroke-width: 0.8; stroke-linejoin: miter; stroke-linecap: square\"/>\n   </g>\n   <g id=\"patch_4\">\n    <path d=\"M 392.424688 273.312 \nL 392.424688 7.2 \n\" style=\"fill: none; stroke: #000000; stroke-width: 0.8; stroke-linejoin: miter; stroke-linecap: square\"/>\n   </g>\n   <g id=\"patch_5\">\n    <path d=\"M 35.304688 273.312 \nL 392.424688 273.312 \n\" style=\"fill: none; stroke: #000000; stroke-width: 0.8; stroke-linejoin: miter; stroke-linecap: square\"/>\n   </g>\n   <g id=\"patch_6\">\n    <path d=\"M 35.304688 7.2 \nL 392.424688 7.2 \n\" style=\"fill: none; stroke: #000000; stroke-width: 0.8; stroke-linejoin: miter; stroke-linecap: square\"/>\n   </g>\n  </g>\n </g>\n <defs>\n  <clipPath id=\"pa25306bf15\">\n   <rect x=\"35.304688\" y=\"7.2\" width=\"357.12\" height=\"266.112\"/>\n  </clipPath>\n </defs>\n</svg>\n",
      "text/plain": [
       "<Figure size 640x480 with 1 Axes>"
      ]
     },
     "metadata": {},
     "output_type": "display_data"
    }
   ],
   "source": [
    "from matplotlib import pyplot as plt\n",
    "plt.plot(resposta.t,resposta.y[0],'b',\n",
    "        resposta.t,resposta.y[1], 'r',\n",
    "        resposta.t,resposta.y[2], 'k')"
   ]
  },
  {
   "cell_type": "code",
   "execution_count": 55,
   "metadata": {},
   "outputs": [
    {
     "data": {
      "text/plain": [
       "array([ 18., 127., 384.])"
      ]
     },
     "execution_count": 55,
     "metadata": {},
     "output_type": "execute_result"
    }
   ],
   "source": [
    "K[0]"
   ]
  },
  {
   "cell_type": "code",
   "execution_count": 58,
   "metadata": {},
   "outputs": [
    {
     "data": {
      "text/plain": [
       "[<matplotlib.lines.Line2D at 0x583341b280>]"
      ]
     },
     "execution_count": 58,
     "metadata": {},
     "output_type": "execute_result"
    },
    {
     "data": {
      "image/png": "[encoded data removed]",
      "image/svg+xml": "<?xml version=\"1.0\" encoding=\"utf-8\" standalone=\"no\"?>\n<!DOCTYPE svg PUBLIC \"-//W3C//DTD SVG 1.1//EN\"\n  \"http://www.w3.org/Graphics/SVG/1.1/DTD/svg11.dtd\">\n<svg xmlns:xlink=\"http://www.w3.org/1999/xlink\" width=\"405.987187pt\" height=\"297.190125pt\" viewBox=\"0 0 405.987187 297.190125\" xmlns=\"http://www.w3.org/2000/svg\" version=\"1.1\">\n <metadata>\n  <rdf:RDF xmlns:dc=\"http://purl.org/dc/elements/1.1/\" xmlns:cc=\"http://creativecommons.org/ns#\" xmlns:rdf=\"http://www.w3.org/1999/02/22-rdf-syntax-ns#\">\n   <cc:Work>\n    <dc:type rdf:resource=\"http://purl.org/dc/dcmitype/StillImage\"/>\n    <dc:date>2022-12-02T09:17:25.504517</dc:date>\n    <dc:format>image/svg+xml</dc:format>\n    <dc:creator>\n     <cc:Agent>\n      <dc:title>Matplotlib v3.5.1, https://matplotlib.org/</dc:title>\n     </cc:Agent>\n    </dc:creator>\n   </cc:Work>\n  </rdf:RDF>\n </metadata>\n <defs>\n  <style type=\"text/css\">*{stroke-linejoin: round; stroke-linecap: butt}</style>\n </defs>\n <g id=\"figure_1\">\n  <g id=\"patch_1\">\n   <path d=\"M 0 297.190125 \nL 405.987187 297.190125 \nL 405.987187 0 \nL 0 0 \nz\n\" style=\"fill: #ffffff\"/>\n  </g>\n  <g id=\"axes_1\">\n   <g id=\"patch_2\">\n    <path d=\"M 41.667188 273.312 \nL 398.787188 273.312 \nL 398.787188 7.2 \nL 41.667188 7.2 \nz\n\" style=\"fill: #ffffff\"/>\n   </g>\n   <g id=\"matplotlib.axis_1\">\n    <g id=\"xtick_1\">\n     <g id=\"line2d_1\">\n      <defs>\n       <path id=\"m1ec7b74809\" d=\"M 0 0 \nL 0 3.5 \n\" style=\"stroke: #000000; stroke-width: 0.8\"/>\n      </defs>\n      <g>\n       <use xlink:href=\"#m1ec7b74809\" x=\"57.899915\" y=\"273.312\" style=\"stroke: #000000; stroke-width: 0.8\"/>\n      </g>\n     </g>\n     <g id=\"text_1\">\n      <!-- 0.00 -->\n      <g transform=\"translate(46.767102 287.910437)scale(0.1 -0.1)\">\n       <defs>\n        <path id=\"DejaVuSans-30\" d=\"M 2034 4250 \nQ 1547 4250 1301 3770 \nQ 1056 3291 1056 2328 \nQ 1056 1369 1301 889 \nQ 1547 409 2034 409 \nQ 2525 409 2770 889 \nQ 3016 1369 3016 2328 \nQ 3016 3291 2770 3770 \nQ 2525 4250 2034 4250 \nz\nM 2034 4750 \nQ 2819 4750 3233 4129 \nQ 3647 3509 3647 2328 \nQ 3647 1150 3233 529 \nQ 2819 -91 2034 -91 \nQ 1250 -91 836 529 \nQ 422 1150 422 2328 \nQ 422 3509 836 4129 \nQ 1250 4750 2034 4750 \nz\n\" transform=\"scale(0.015625)\"/>\n        <path id=\"DejaVuSans-2e\" d=\"M 684 794 \nL 1344 794 \nL 1344 0 \nL 684 0 \nL 684 794 \nz\n\" transform=\"scale(0.015625)\"/>\n       </defs>\n       <use xlink:href=\"#DejaVuSans-30\"/>\n       <use xlink:href=\"#DejaVuSans-2e\" x=\"63.623047\"/>\n       <use xlink:href=\"#DejaVuSans-30\" x=\"95.410156\"/>\n       <use xlink:href=\"#DejaVuSans-30\" x=\"159.033203\"/>\n      </g>\n     </g>\n    </g>\n    <g id=\"xtick_2\">\n     <g id=\"line2d_2\">\n      <g>\n       <use xlink:href=\"#m1ec7b74809\" x=\"104.898474\" y=\"273.312\" style=\"stroke: #000000; stroke-width: 0.8\"/>\n      </g>\n     </g>\n     <g id=\"text_2\">\n      <!-- 0.25 -->\n      <g transform=\"translate(93.765661 287.910437)scale(0.1 -0.1)\">\n       <defs>\n        <path id=\"DejaVuSans-32\" d=\"M 1228 531 \nL 3431 531 \nL 3431 0 \nL 469 0 \nL 469 531 \nQ 828 903 1448 1529 \nQ 2069 2156 2228 2338 \nQ 2531 2678 2651 2914 \nQ 2772 3150 2772 3378 \nQ 2772 3750 2511 3984 \nQ 2250 4219 1831 4219 \nQ 1534 4219 1204 4116 \nQ 875 4013 500 3803 \nL 500 4441 \nQ 881 4594 1212 4672 \nQ 1544 4750 1819 4750 \nQ 2544 4750 2975 4387 \nQ 3406 4025 3406 3419 \nQ 3406 3131 3298 2873 \nQ 3191 2616 2906 2266 \nQ 2828 2175 2409 1742 \nQ 1991 1309 1228 531 \nz\n\" transform=\"scale(0.015625)\"/>\n        <path id=\"DejaVuSans-35\" d=\"M 691 4666 \nL 3169 4666 \nL 3169 4134 \nL 1269 4134 \nL 1269 2991 \nQ 1406 3038 1543 3061 \nQ 1681 3084 1819 3084 \nQ 2600 3084 3056 2656 \nQ 3513 2228 3513 1497 \nQ 3513 744 3044 326 \nQ 2575 -91 1722 -91 \nQ 1428 -91 1123 -41 \nQ 819 9 494 109 \nL 494 744 \nQ 775 591 1075 516 \nQ 1375 441 1709 441 \nQ 2250 441 2565 725 \nQ 2881 1009 2881 1497 \nQ 2881 1984 2565 2268 \nQ 2250 2553 1709 2553 \nQ 1456 2553 1204 2497 \nQ 953 2441 691 2322 \nL 691 4666 \nz\n\" transform=\"scale(0.015625)\"/>\n       </defs>\n       <use xlink:href=\"#DejaVuSans-30\"/>\n       <use xlink:href=\"#DejaVuSans-2e\" x=\"63.623047\"/>\n       <use xlink:href=\"#DejaVuSans-32\" x=\"95.410156\"/>\n       <use xlink:href=\"#DejaVuSans-35\" x=\"159.033203\"/>\n      </g>\n     </g>\n    </g>\n    <g id=\"xtick_3\">\n     <g id=\"line2d_3\">\n      <g>\n       <use xlink:href=\"#m1ec7b74809\" x=\"151.897033\" y=\"273.312\" style=\"stroke: #000000; stroke-width: 0.8\"/>\n      </g>\n     </g>\n     <g id=\"text_3\">\n      <!-- 0.50 -->\n      <g transform=\"translate(140.764221 287.910437)scale(0.1 -0.1)\">\n       <use xlink:href=\"#DejaVuSans-30\"/>\n       <use xlink:href=\"#DejaVuSans-2e\" x=\"63.623047\"/>\n       <use xlink:href=\"#DejaVuSans-35\" x=\"95.410156\"/>\n       <use xlink:href=\"#DejaVuSans-30\" x=\"159.033203\"/>\n      </g>\n     </g>\n    </g>\n    <g id=\"xtick_4\">\n     <g id=\"line2d_4\">\n      <g>\n       <use xlink:href=\"#m1ec7b74809\" x=\"198.895592\" y=\"273.312\" style=\"stroke: #000000; stroke-width: 0.8\"/>\n      </g>\n     </g>\n     <g id=\"text_4\">\n      <!-- 0.75 -->\n      <g transform=\"translate(187.76278 287.910437)scale(0.1 -0.1)\">\n       <defs>\n        <path id=\"DejaVuSans-37\" d=\"M 525 4666 \nL 3525 4666 \nL 3525 4397 \nL 1831 0 \nL 1172 0 \nL 2766 4134 \nL 525 4134 \nL 525 4666 \nz\n\" transform=\"scale(0.015625)\"/>\n       </defs>\n       <use xlink:href=\"#DejaVuSans-30\"/>\n       <use xlink:href=\"#DejaVuSans-2e\" x=\"63.623047\"/>\n       <use xlink:href=\"#DejaVuSans-37\" x=\"95.410156\"/>\n       <use xlink:href=\"#DejaVuSans-35\" x=\"159.033203\"/>\n      </g>\n     </g>\n    </g>\n    <g id=\"xtick_5\">\n     <g id=\"line2d_5\">\n      <g>\n       <use xlink:href=\"#m1ec7b74809\" x=\"245.894152\" y=\"273.312\" style=\"stroke: #000000; stroke-width: 0.8\"/>\n      </g>\n     </g>\n     <g id=\"text_5\">\n      <!-- 1.00 -->\n      <g transform=\"translate(234.761339 287.910437)scale(0.1 -0.1)\">\n       <defs>\n        <path id=\"DejaVuSans-31\" d=\"M 794 531 \nL 1825 531 \nL 1825 4091 \nL 703 3866 \nL 703 4441 \nL 1819 4666 \nL 2450 4666 \nL 2450 531 \nL 3481 531 \nL 3481 0 \nL 794 0 \nL 794 531 \nz\n\" transform=\"scale(0.015625)\"/>\n       </defs>\n       <use xlink:href=\"#DejaVuSans-31\"/>\n       <use xlink:href=\"#DejaVuSans-2e\" x=\"63.623047\"/>\n       <use xlink:href=\"#DejaVuSans-30\" x=\"95.410156\"/>\n       <use xlink:href=\"#DejaVuSans-30\" x=\"159.033203\"/>\n      </g>\n     </g>\n    </g>\n    <g id=\"xtick_6\">\n     <g id=\"line2d_6\">\n      <g>\n       <use xlink:href=\"#m1ec7b74809\" x=\"292.892711\" y=\"273.312\" style=\"stroke: #000000; stroke-width: 0.8\"/>\n      </g>\n     </g>\n     <g id=\"text_6\">\n      <!-- 1.25 -->\n      <g transform=\"translate(281.759898 287.910437)scale(0.1 -0.1)\">\n       <use xlink:href=\"#DejaVuSans-31\"/>\n       <use xlink:href=\"#DejaVuSans-2e\" x=\"63.623047\"/>\n       <use xlink:href=\"#DejaVuSans-32\" x=\"95.410156\"/>\n       <use xlink:href=\"#DejaVuSans-35\" x=\"159.033203\"/>\n      </g>\n     </g>\n    </g>\n    <g id=\"xtick_7\">\n     <g id=\"line2d_7\">\n      <g>\n       <use xlink:href=\"#m1ec7b74809\" x=\"339.89127\" y=\"273.312\" style=\"stroke: #000000; stroke-width: 0.8\"/>\n      </g>\n     </g>\n     <g id=\"text_7\">\n      <!-- 1.50 -->\n      <g transform=\"translate(328.758458 287.910437)scale(0.1 -0.1)\">\n       <use xlink:href=\"#DejaVuSans-31\"/>\n       <use xlink:href=\"#DejaVuSans-2e\" x=\"63.623047\"/>\n       <use xlink:href=\"#DejaVuSans-35\" x=\"95.410156\"/>\n       <use xlink:href=\"#DejaVuSans-30\" x=\"159.033203\"/>\n      </g>\n     </g>\n    </g>\n    <g id=\"xtick_8\">\n     <g id=\"line2d_8\">\n      <g>\n       <use xlink:href=\"#m1ec7b74809\" x=\"386.889829\" y=\"273.312\" style=\"stroke: #000000; stroke-width: 0.8\"/>\n      </g>\n     </g>\n     <g id=\"text_8\">\n      <!-- 1.75 -->\n      <g transform=\"translate(375.757017 287.910437)scale(0.1 -0.1)\">\n       <use xlink:href=\"#DejaVuSans-31\"/>\n       <use xlink:href=\"#DejaVuSans-2e\" x=\"63.623047\"/>\n       <use xlink:href=\"#DejaVuSans-37\" x=\"95.410156\"/>\n       <use xlink:href=\"#DejaVuSans-35\" x=\"159.033203\"/>\n      </g>\n     </g>\n    </g>\n   </g>\n   <g id=\"matplotlib.axis_2\">\n    <g id=\"ytick_1\">\n     <g id=\"line2d_9\">\n      <defs>\n       <path id=\"m9957d4e725\" d=\"M 0 0 \nL -3.5 0 \n\" style=\"stroke: #000000; stroke-width: 0.8\"/>\n      </defs>\n      <g>\n       <use xlink:href=\"#m9957d4e725\" x=\"41.667188\" y=\"242.972184\" style=\"stroke: #000000; stroke-width: 0.8\"/>\n      </g>\n     </g>\n     <g id=\"text_9\">\n      <!-- −600 -->\n      <g transform=\"translate(7.2 246.771403)scale(0.1 -0.1)\">\n       <defs>\n        <path id=\"DejaVuSans-2212\" d=\"M 678 2272 \nL 4684 2272 \nL 4684 1741 \nL 678 1741 \nL 678 2272 \nz\n\" transform=\"scale(0.015625)\"/>\n        <path id=\"DejaVuSans-36\" d=\"M 2113 2584 \nQ 1688 2584 1439 2293 \nQ 1191 2003 1191 1497 \nQ 1191 994 1439 701 \nQ 1688 409 2113 409 \nQ 2538 409 2786 701 \nQ 3034 994 3034 1497 \nQ 3034 2003 2786 2293 \nQ 2538 2584 2113 2584 \nz\nM 3366 4563 \nL 3366 3988 \nQ 3128 4100 2886 4159 \nQ 2644 4219 2406 4219 \nQ 1781 4219 1451 3797 \nQ 1122 3375 1075 2522 \nQ 1259 2794 1537 2939 \nQ 1816 3084 2150 3084 \nQ 2853 3084 3261 2657 \nQ 3669 2231 3669 1497 \nQ 3669 778 3244 343 \nQ 2819 -91 2113 -91 \nQ 1303 -91 875 529 \nQ 447 1150 447 2328 \nQ 447 3434 972 4092 \nQ 1497 4750 2381 4750 \nQ 2619 4750 2861 4703 \nQ 3103 4656 3366 4563 \nz\n\" transform=\"scale(0.015625)\"/>\n       </defs>\n       <use xlink:href=\"#DejaVuSans-2212\"/>\n       <use xlink:href=\"#DejaVuSans-36\" x=\"83.789062\"/>\n       <use xlink:href=\"#DejaVuSans-30\" x=\"147.412109\"/>\n       <use xlink:href=\"#DejaVuSans-30\" x=\"211.035156\"/>\n      </g>\n     </g>\n    </g>\n    <g id=\"ytick_2\">\n     <g id=\"line2d_10\">\n      <g>\n       <use xlink:href=\"#m9957d4e725\" x=\"41.667188\" y=\"212.050462\" style=\"stroke: #000000; stroke-width: 0.8\"/>\n      </g>\n     </g>\n     <g id=\"text_10\">\n      <!-- −500 -->\n      <g transform=\"translate(7.2 215.849681)scale(0.1 -0.1)\">\n       <use xlink:href=\"#DejaVuSans-2212\"/>\n       <use xlink:href=\"#DejaVuSans-35\" x=\"83.789062\"/>\n       <use xlink:href=\"#DejaVuSans-30\" x=\"147.412109\"/>\n       <use xlink:href=\"#DejaVuSans-30\" x=\"211.035156\"/>\n      </g>\n     </g>\n    </g>\n    <g id=\"ytick_3\">\n     <g id=\"line2d_11\">\n      <g>\n       <use xlink:href=\"#m9957d4e725\" x=\"41.667188\" y=\"181.12874\" style=\"stroke: #000000; stroke-width: 0.8\"/>\n      </g>\n     </g>\n     <g id=\"text_11\">\n      <!-- −400 -->\n      <g transform=\"translate(7.2 184.927958)scale(0.1 -0.1)\">\n       <defs>\n        <path id=\"DejaVuSans-34\" d=\"M 2419 4116 \nL 825 1625 \nL 2419 1625 \nL 2419 4116 \nz\nM 2253 4666 \nL 3047 4666 \nL 3047 1625 \nL 3713 1625 \nL 3713 1100 \nL 3047 1100 \nL 3047 0 \nL 2419 0 \nL 2419 1100 \nL 313 1100 \nL 313 1709 \nL 2253 4666 \nz\n\" transform=\"scale(0.015625)\"/>\n       </defs>\n       <use xlink:href=\"#DejaVuSans-2212\"/>\n       <use xlink:href=\"#DejaVuSans-34\" x=\"83.789062\"/>\n       <use xlink:href=\"#DejaVuSans-30\" x=\"147.412109\"/>\n       <use xlink:href=\"#DejaVuSans-30\" x=\"211.035156\"/>\n      </g>\n     </g>\n    </g>\n    <g id=\"ytick_4\">\n     <g id=\"line2d_12\">\n      <g>\n       <use xlink:href=\"#m9957d4e725\" x=\"41.667188\" y=\"150.207018\" style=\"stroke: #000000; stroke-width: 0.8\"/>\n      </g>\n     </g>\n     <g id=\"text_12\">\n      <!-- −300 -->\n      <g transform=\"translate(7.2 154.006236)scale(0.1 -0.1)\">\n       <defs>\n        <path id=\"DejaVuSans-33\" d=\"M 2597 2516 \nQ 3050 2419 3304 2112 \nQ 3559 1806 3559 1356 \nQ 3559 666 3084 287 \nQ 2609 -91 1734 -91 \nQ 1441 -91 1130 -33 \nQ 819 25 488 141 \nL 488 750 \nQ 750 597 1062 519 \nQ 1375 441 1716 441 \nQ 2309 441 2620 675 \nQ 2931 909 2931 1356 \nQ 2931 1769 2642 2001 \nQ 2353 2234 1838 2234 \nL 1294 2234 \nL 1294 2753 \nL 1863 2753 \nQ 2328 2753 2575 2939 \nQ 2822 3125 2822 3475 \nQ 2822 3834 2567 4026 \nQ 2313 4219 1838 4219 \nQ 1578 4219 1281 4162 \nQ 984 4106 628 3988 \nL 628 4550 \nQ 988 4650 1302 4700 \nQ 1616 4750 1894 4750 \nQ 2613 4750 3031 4423 \nQ 3450 4097 3450 3541 \nQ 3450 3153 3228 2886 \nQ 3006 2619 2597 2516 \nz\n\" transform=\"scale(0.015625)\"/>\n       </defs>\n       <use xlink:href=\"#DejaVuSans-2212\"/>\n       <use xlink:href=\"#DejaVuSans-33\" x=\"83.789062\"/>\n       <use xlink:href=\"#DejaVuSans-30\" x=\"147.412109\"/>\n       <use xlink:href=\"#DejaVuSans-30\" x=\"211.035156\"/>\n      </g>\n     </g>\n    </g>\n    <g id=\"ytick_5\">\n     <g id=\"line2d_13\">\n      <g>\n       <use xlink:href=\"#m9957d4e725\" x=\"41.667188\" y=\"119.285295\" style=\"stroke: #000000; stroke-width: 0.8\"/>\n      </g>\n     </g>\n     <g id=\"text_13\">\n      <!-- −200 -->\n      <g transform=\"translate(7.2 123.084514)scale(0.1 -0.1)\">\n       <use xlink:href=\"#DejaVuSans-2212\"/>\n       <use xlink:href=\"#DejaVuSans-32\" x=\"83.789062\"/>\n       <use xlink:href=\"#DejaVuSans-30\" x=\"147.412109\"/>\n       <use xlink:href=\"#DejaVuSans-30\" x=\"211.035156\"/>\n      </g>\n     </g>\n    </g>\n    <g id=\"ytick_6\">\n     <g id=\"line2d_14\">\n      <g>\n       <use xlink:href=\"#m9957d4e725\" x=\"41.667188\" y=\"88.363573\" style=\"stroke: #000000; stroke-width: 0.8\"/>\n      </g>\n     </g>\n     <g id=\"text_14\">\n      <!-- −100 -->\n      <g transform=\"translate(7.2 92.162792)scale(0.1 -0.1)\">\n       <use xlink:href=\"#DejaVuSans-2212\"/>\n       <use xlink:href=\"#DejaVuSans-31\" x=\"83.789062\"/>\n       <use xlink:href=\"#DejaVuSans-30\" x=\"147.412109\"/>\n       <use xlink:href=\"#DejaVuSans-30\" x=\"211.035156\"/>\n      </g>\n     </g>\n    </g>\n    <g id=\"ytick_7\">\n     <g id=\"line2d_15\">\n      <g>\n       <use xlink:href=\"#m9957d4e725\" x=\"41.667188\" y=\"57.441851\" style=\"stroke: #000000; stroke-width: 0.8\"/>\n      </g>\n     </g>\n     <g id=\"text_15\">\n      <!-- 0 -->\n      <g transform=\"translate(28.304688 61.24107)scale(0.1 -0.1)\">\n       <use xlink:href=\"#DejaVuSans-30\"/>\n      </g>\n     </g>\n    </g>\n    <g id=\"ytick_8\">\n     <g id=\"line2d_16\">\n      <g>\n       <use xlink:href=\"#m9957d4e725\" x=\"41.667188\" y=\"26.520129\" style=\"stroke: #000000; stroke-width: 0.8\"/>\n      </g>\n     </g>\n     <g id=\"text_16\">\n      <!-- 100 -->\n      <g transform=\"translate(15.579688 30.319348)scale(0.1 -0.1)\">\n       <use xlink:href=\"#DejaVuSans-31\"/>\n       <use xlink:href=\"#DejaVuSans-30\" x=\"63.623047\"/>\n       <use xlink:href=\"#DejaVuSans-30\" x=\"127.246094\"/>\n      </g>\n     </g>\n    </g>\n   </g>\n   <g id=\"line2d_17\">\n    <path d=\"M 57.899915 261.216 \nL 61.179254 202.731463 \nL 64.458592 156.443236 \nL 67.737931 120.069125 \nL 71.01727 91.744559 \nL 74.296609 69.945383 \nL 77.575948 53.425134 \nL 80.855287 41.164042 \nL 84.134626 32.327561 \nL 87.413964 26.232617 \nL 90.693303 22.320133 \nL 93.972642 20.132637 \nL 97.251981 19.296 \nL 100.53132 19.504537 \nL 103.810659 20.508823 \nL 107.089997 22.105735 \nL 110.369336 24.130292 \nL 113.648675 26.448959 \nL 116.928014 28.954152 \nL 120.207353 31.559714 \nL 123.486692 34.197183 \nL 126.76603 36.812721 \nL 130.045369 39.364559 \nL 133.324708 41.820889 \nL 136.604047 44.158113 \nL 139.883386 46.359381 \nL 143.162725 48.413375 \nL 146.442064 50.313297 \nL 149.721402 52.056018 \nL 153.000741 53.641365 \nL 156.28008 55.071528 \nL 159.559419 56.350561 \nL 162.838758 57.483961 \nL 166.118097 58.478316 \nL 169.397435 59.341015 \nL 172.676774 60.079998 \nL 175.956113 60.703555 \nL 179.235452 61.220155 \nL 182.514791 61.638303 \nL 185.79413 61.966433 \nL 189.073468 62.212807 \nL 192.352807 62.385446 \nL 195.632146 62.492069 \nL 198.911485 62.540048 \nL 202.190824 62.536378 \nL 205.470163 62.48765 \nL 208.749502 62.400038 \nL 212.02884 62.279291 \nL 215.308179 62.130731 \nL 218.587518 61.959257 \nL 221.866857 61.76935 \nL 225.146196 61.565088 \nL 228.425535 61.350157 \nL 231.704873 61.127866 \nL 234.984212 60.901166 \nL 238.263551 60.67267 \nL 241.54289 60.44467 \nL 244.822229 60.219158 \nL 248.101568 59.997846 \nL 251.380907 59.782188 \nL 254.660245 59.573399 \nL 257.939584 59.372474 \nL 261.218923 59.180209 \nL 264.498262 58.997217 \nL 267.777601 58.82395 \nL 271.05694 58.660711 \nL 274.336278 58.507674 \nL 277.615617 58.3649 \nL 280.894956 58.232346 \nL 284.174295 58.109883 \nL 287.453634 57.997309 \nL 290.732973 57.894356 \nL 294.012311 57.800707 \nL 297.29165 57.715999 \nL 300.570989 57.639837 \nL 303.850328 57.571798 \nL 307.129667 57.511442 \nL 310.409006 57.458317 \nL 313.688345 57.411963 \nL 316.967683 57.371918 \nL 320.247022 57.337724 \nL 323.526361 57.308931 \nL 326.8057 57.285095 \nL 330.085039 57.265787 \nL 333.364378 57.250594 \nL 336.643716 57.239116 \nL 339.923055 57.230974 \nL 343.202394 57.225808 \nL 346.481733 57.223277 \nL 349.761072 57.223061 \nL 353.040411 57.224859 \nL 356.319749 57.228394 \nL 359.599088 57.233407 \nL 362.878427 57.239659 \nL 366.157766 57.246934 \nL 369.437105 57.255031 \nL 372.716444 57.26377 \nL 375.995783 57.272988 \nL 379.275121 57.282538 \nL 382.55446 57.292292 \n\" clip-path=\"url(#pf42de411ec)\" style=\"fill: none; stroke: #1f77b4; stroke-width: 1.5; stroke-linecap: square\"/>\n   </g>\n   <g id=\"patch_3\">\n    <path d=\"M 41.667188 273.312 \nL 41.667188 7.2 \n\" style=\"fill: none; stroke: #000000; stroke-width: 0.8; stroke-linejoin: miter; stroke-linecap: square\"/>\n   </g>\n   <g id=\"patch_4\">\n    <path d=\"M 398.787188 273.312 \nL 398.787188 7.2 \n\" style=\"fill: none; stroke: #000000; stroke-width: 0.8; stroke-linejoin: miter; stroke-linecap: square\"/>\n   </g>\n   <g id=\"patch_5\">\n    <path d=\"M 41.667187 273.312 \nL 398.787187 273.312 \n\" style=\"fill: none; stroke: #000000; stroke-width: 0.8; stroke-linejoin: miter; stroke-linecap: square\"/>\n   </g>\n   <g id=\"patch_6\">\n    <path d=\"M 41.667187 7.2 \nL 398.787187 7.2 \n\" style=\"fill: none; stroke: #000000; stroke-width: 0.8; stroke-linejoin: miter; stroke-linecap: square\"/>\n   </g>\n  </g>\n </g>\n <defs>\n  <clipPath id=\"pf42de411ec\">\n   <rect x=\"41.667188\" y=\"7.2\" width=\"357.12\" height=\"266.112\"/>\n  </clipPath>\n </defs>\n</svg>\n",
      "text/plain": [
       "<Figure size 640x480 with 1 Axes>"
      ]
     },
     "metadata": {},
     "output_type": "display_data"
    }
   ],
   "source": [
    "u = -K[0][0]*resposta.y[0]-K[0][1]*resposta.y[1]-K[0][2]*resposta.y[2]\n",
    "plt.plot(resposta.t,u)"
   ]
  }
 ],
 "metadata": {
  "kernelspec": {
   "display_name": "Python 3.9.12 ('base')",
   "language": "python",
   "name": "python3"
  },
  "language_info": {
   "codemirror_mode": {
    "name": "ipython",
    "version": 3
   },
   "file_extension": ".py",
   "mimetype": "text/x-python",
   "name": "python",
   "nbconvert_exporter": "python",
   "pygments_lexer": "ipython3",
   "version": "3.9.12"
  },
  "orig_nbformat": 4,
  "vscode": {
   "interpreter": {
    "hash": "3e3763a57b4ffe0d06e963ec4b7f8ef3a748cbfdb342037439726ee83e94c05b"
   }
  }
 },
 "nbformat": 4,
 "nbformat_minor": 2
}
