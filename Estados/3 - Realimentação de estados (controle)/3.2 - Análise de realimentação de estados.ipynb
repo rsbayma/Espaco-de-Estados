{
 "cells": [
  {
   "attachments": {},
   "cell_type": "markdown",
   "metadata": {},
   "source": [
    "# **Análise da realimentação de estados**\n",
    "Para um sistema\n",
    "$$\n",
    "\\begin{align*}\n",
    "    \\mathbf{\\dot{x}} &= \\mathbf{Ax+B}u\n",
    "\\end{align*}\n",
    "$$\n",
    "se usarmos a lei de controle $u = -\\mathbf{Kx}$, a equação deixará de ter entrada, podendo ser resolvida a partir da condição inicial.\n",
    "\n",
    "$$\n",
    "\\begin{align*}\n",
    "    \\mathbf{\\dot{x}} &= \\mathbf{Ax+B(-Kx)}\\\\\n",
    "    &= \\mathbf{Ax-BKx}\\\\\n",
    "    &= \\mathbf{(A-BK)x}\\\\\n",
    "    \\mathbf{\\dot{x}} &= \\mathbf{A}_m \\mathbf{x}\n",
    "\\end{align*}\n",
    "$$"
   ]
  },
  {
   "attachments": {},
   "cell_type": "markdown",
   "metadata": {},
   "source": [
    "\n",
    "Vamos chamar a matriz $\\mathbf{A}_m$ de \"matriz de malha fechada\". \n",
    "\n",
    "A última equação é uma EDO que não possui entrada, então só tem sentido resolvê-la para uma condição inicial $\\mathbf{x}(0)$ diferente de zero.\n",
    "\n",
    "A condição necessária para que os estados do sistema caminhem para zero em regime permanente é apenas que o sistema em malha fechada seja estável, isto é, **todos** os autovalores da matriz $\\mathbf{A}_m$ devem ter parte real estritamente negativa. \n",
    "\n",
    "A velocidade com que os estados convergem para zero depende dos autovalores de $\\mathbf{A}_m$. Isso é equivalente a satisfazer as condições de overshoot, tempo de acomodação e dominância.\n",
    "\n",
    "Vamos supor que essas condições de projeto estejam definidas em termos de pólos de malha fechada bem selecionados e que esses pólos determinam um polinômio de malha fechada $\\alpha (s)$."
   ]
  },
  {
   "attachments": {},
   "cell_type": "markdown",
   "metadata": {},
   "source": [
    "\n",
    "Sendo assim, o problema de regulação é enunciado como: *achar a matriz $\\mathbf{K}$,  tal que todas as raizes da equação:*\n",
    "$$\n",
    "\\begin{align}\n",
    "    \\det (s\\mathbf{I-A_m})= \\det (s\\mathbf{I-A+BK})=\\alpha (s)\n",
    "\\end{align}\n",
    "$$\n",
    "estejam no semi-plano esquerdo"
   ]
  },
  {
   "attachments": {},
   "cell_type": "markdown",
   "metadata": {},
   "source": [
    "## **Exemplo**\n",
    "\n",
    "<p align=\"center\">\n",
    "<img src=\"Ex7.15.svg\" width=\"90%\">\n",
    "</p>\n",
    "\n",
    "Como os parâmetros do problema não são numéricos, precisamos resolver usando matemática simbólica."
   ]
  },
  {
   "cell_type": "code",
   "execution_count": 14,
   "metadata": {},
   "outputs": [],
   "source": [
    "#\n",
    "import numpy as np\n",
    "import sympy as sp\n",
    "from IPython.display import display, Math\n"
   ]
  },
  {
   "cell_type": "code",
   "execution_count": 18,
   "metadata": {},
   "outputs": [
    {
     "data": {
      "text/latex": [
       "$\\displaystyle s\\mathbf{I-A+BK = }$"
      ],
      "text/plain": [
       "<IPython.core.display.Math object>"
      ]
     },
     "metadata": {},
     "output_type": "display_data"
    },
    {
     "data": {
      "text/latex": [
       "$\\displaystyle = s\\left[\\begin{matrix}1 & 0\\\\0 & 1\\end{matrix}\\right]-\\left[\\begin{matrix}0 & 1\\\\- \\omega_{0}^{2} & 0\\end{matrix}\\right]+\\left[\\begin{matrix}0\\\\1\\end{matrix}\\right]\\left[\\begin{matrix}k_{1} & k_{2}\\end{matrix}\\right]=$"
      ],
      "text/plain": [
       "<IPython.core.display.Math object>"
      ]
     },
     "metadata": {},
     "output_type": "display_data"
    },
    {
     "data": {
      "text/latex": [
       "$\\displaystyle = \\left[\\begin{matrix}s & 0\\\\0 & s\\end{matrix}\\right]-\\left[\\begin{matrix}0 & 1\\\\- \\omega_{0}^{2} & 0\\end{matrix}\\right]+\\left[\\begin{matrix}0 & 0\\\\k_{1} & k_{2}\\end{matrix}\\right] = $"
      ],
      "text/plain": [
       "<IPython.core.display.Math object>"
      ]
     },
     "metadata": {},
     "output_type": "display_data"
    },
    {
     "data": {
      "text/latex": [
       "$\\displaystyle = \\left[\\begin{matrix}s & -1\\\\\\omega_{0}^{2} + k_{1} & k_{2} + s\\end{matrix}\\right]$"
      ],
      "text/plain": [
       "<IPython.core.display.Math object>"
      ]
     },
     "metadata": {},
     "output_type": "display_data"
    }
   ],
   "source": [
    "# Define os símbolos\n",
    "w0 = sp.symbols('\\omega_0',real=True)\n",
    "s = sp.symbols('s')\n",
    "k1,k2 = sp.symbols(['k_1','k_2'],real=True)\n",
    "\n",
    "# Define as matrizes do sistema\n",
    "A = sp.Matrix([[0,1],[-w0**2,0]])\n",
    "B = sp.Matrix([[0],[1]])\n",
    "\n",
    "# Define o vetor de ganhos\n",
    "K = sp.Matrix([k1,k2]).T      # Transpor para virar vetor linha\n",
    "\n",
    "Am = A-B@K\n",
    "\n",
    "display(Math(r's\\mathbf{I-A+BK = }'))\n",
    "eq1 = '= s' + sp.latex(sp.eye(2))  # sI\n",
    "eq1 += '-' + sp.latex(A) + '+' + sp.latex(B) + sp.latex(K) +'='\n",
    "eq2 = '= ' + sp.latex(s*sp.eye(2)) + '-'  + sp.latex(A) + '+' + sp.latex(B@K) + ' = '\n",
    "eq3 = '= ' + sp.latex(s*sp.eye(2)-Am)\n",
    "display(Math(eq1))\n",
    "display(Math(eq2))\n",
    "display(Math(eq3))"
   ]
  },
  {
   "cell_type": "code",
   "execution_count": 26,
   "metadata": {},
   "outputs": [
    {
     "data": {
      "text/latex": [
       "$\\displaystyle |s\\mathbf{I}-\\mathbf{A+BK}|=\\omega_{0}^{2} + k_{1} + k_{2} s + s^{2}$"
      ],
      "text/plain": [
       "<IPython.core.display.Math object>"
      ]
     },
     "metadata": {},
     "output_type": "display_data"
    }
   ],
   "source": [
    "# Polinômio de MF\n",
    "p=sp.det(s*sp.eye(2)-Am)\n",
    "display(Math(r'|s\\mathbf{I}-\\mathbf{A+BK}|=' + sp.latex(p) ))"
   ]
  },
  {
   "cell_type": "code",
   "execution_count": 28,
   "metadata": {},
   "outputs": [
    {
     "data": {
      "text/latex": [
       "$\\displaystyle \\alpha(s) = \\left(2 \\omega_{0} + s\\right)^{2} = 4 \\omega_{0}^{2} + 4 \\omega_{0} s + s^{2}$"
      ],
      "text/plain": [
       "<IPython.core.display.Math object>"
      ]
     },
     "metadata": {},
     "output_type": "display_data"
    }
   ],
   "source": [
    "# Polinômio desejado\n",
    "alpha = (s+2*w0)**2\n",
    "display(Math(r'\\alpha(s) = ' + sp.latex(alpha) + ' = ' + sp.latex(sp.expand(alpha))))\n",
    "alpha= sp.expand(alpha)\n"
   ]
  },
  {
   "cell_type": "code",
   "execution_count": 30,
   "metadata": {},
   "outputs": [
    {
     "data": {
      "text/latex": [
       "$\\displaystyle 4 \\omega_{0}^{2} = \\omega_{0}^{2} + k_{1}$"
      ],
      "text/plain": [
       "<IPython.core.display.Math object>"
      ]
     },
     "metadata": {},
     "output_type": "display_data"
    },
    {
     "data": {
      "text/latex": [
       "$\\displaystyle 4 \\omega_{0} = k_{2}$"
      ],
      "text/plain": [
       "<IPython.core.display.Math object>"
      ]
     },
     "metadata": {},
     "output_type": "display_data"
    }
   ],
   "source": [
    "# Igualando os termos em de potência abaixo de 2\n",
    "equacoes=[sp.Eq(alpha.coeff(s,n),p.coeff(s,n)) for n in (0,1)]\n",
    "display(Math(sp.latex(equacoes[0])))\n",
    "display(Math(sp.latex(equacoes[1])))"
   ]
  },
  {
   "cell_type": "code",
   "execution_count": 35,
   "metadata": {},
   "outputs": [
    {
     "data": {
      "text/latex": [
       "$\\displaystyle k_{1} = 3 \\omega_{0}^{2}$"
      ],
      "text/plain": [
       "<IPython.core.display.Math object>"
      ]
     },
     "metadata": {},
     "output_type": "display_data"
    },
    {
     "data": {
      "text/latex": [
       "$\\displaystyle k_{2} = 4 \\omega_{0}$"
      ],
      "text/plain": [
       "<IPython.core.display.Math object>"
      ]
     },
     "metadata": {},
     "output_type": "display_data"
    }
   ],
   "source": [
    "# Solução\n",
    "sol=sp.solve(equacoes,[k1,k2])\n",
    "eq1 = sp.Eq(k1,sol[k1])\n",
    "eq2 = sp.Eq(k2,sol[k2])\n",
    "display(Math(sp.latex(eq1)))\n",
    "display(Math(sp.latex(eq2)))"
   ]
  },
  {
   "attachments": {},
   "cell_type": "markdown",
   "metadata": {},
   "source": [
    "O livro mostra uma simulação da resposta desse sistema para $\\omega_0=1$. Repare que os gráficos mostram, em função do tempo, os dois estados. \n",
    "\n",
    "<p align=\"center\">\n",
    "<img src=\"Fig7.13.svg\" width=\"100%\">\n",
    "</p>\n",
    "\n",
    "Note que nenhum dos gráficos oscila. Isso porque as características dos pólos que foram alocados são válidas para todos os estados e a saída do sistema."
   ]
  },
  {
   "cell_type": "markdown",
   "metadata": {},
   "source": [
    "## Exercício\n",
    "\n",
    "Ache a forma de controlador do sistema\n",
    "$$\n",
    "\\begin{align}\n",
    "    G(s) = \\frac{20}{(s+1)(s+2)}\n",
    "\\end{align}\n",
    "$$\n",
    "\n",
    "Depois, projete um controlador de realimentação de estados que posicione os pólos em $-3\\pm j5$"
   ]
  }
 ],
 "metadata": {
  "kernelspec": {
   "display_name": "Python 3",
   "language": "python",
   "name": "python3"
  },
  "language_info": {
   "codemirror_mode": {
    "name": "ipython",
    "version": 3
   },
   "file_extension": ".py",
   "mimetype": "text/x-python",
   "name": "python",
   "nbconvert_exporter": "python",
   "pygments_lexer": "ipython3",
   "version": "3.10.9"
  },
  "orig_nbformat": 4,
  "vscode": {
   "interpreter": {
    "hash": "e1735dd0795dce195fb98475ccf229151ed44a61fb274eb18cdb7c8302916985"
   }
  }
 },
 "nbformat": 4,
 "nbformat_minor": 2
}
