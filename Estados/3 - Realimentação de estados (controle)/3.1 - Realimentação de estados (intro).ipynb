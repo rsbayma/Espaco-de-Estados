{
 "cells": [
  {
   "attachments": {},
   "cell_type": "markdown",
   "metadata": {},
   "source": [
    "# **Realimentação de estados**\n",
    "\n",
    "A principal técnica de controle em espaço de estados é o que chamamos de \"realimentação de estados\".\n",
    "\n",
    "A estratégia básica é fazer a lei de controle $u$ ser proporcional ao vetor de estados. \n",
    "$$\n",
    "\\begin{align*}\n",
    "    u = -\\mathbf{Kx}\n",
    "\\end{align*}\n",
    "$$\n",
    "\n",
    "Lembra um pouco o controle proporcional, realimentação negativa e o controlador é apenas uma constante. Mas a diferença básica é que, como o $\\mathbf{x}$ é um vetor, o controlador $\\mathbf{K}$ tem que ser um vetor também. "
   ]
  },
  {
   "cell_type": "markdown",
   "metadata": {},
   "source": [
    "\n",
    "No caso, o sinal de controle é um escalar. Sendo $\\mathbf{x}$ um vetor coluna de $n$ elementos, então $\\mathbf{K}$ deve ser um vetor linha de $n$ elementos. Assim:\n",
    "$$\n",
    "\\begin{align*}\n",
    "    \\mathbf{K}= \\left[\\begin{array}{cccc}K_1 & K_2 & \\ldots & K_n\\end{array}\\right]\n",
    "\\end{align*}\n",
    "$$\n",
    "\n",
    "O objetivo inicial da realimentação de estados é fazer com que os estados do sistema caminhem para zero (ponto de equilíbrio) a partir de um estado inicial $\\mathbf{x}(0)$ diferente de zero, em regime permanente (isto é, passado um longo tempo). Esse problema é chamado de **regulação**.\n",
    "\n",
    "Quando o controlador é capaz de fazer isso, tarefas um pouco mais complexas (tais como rastreamento) tornam-se possíveis. "
   ]
  },
  {
   "attachments": {},
   "cell_type": "markdown",
   "metadata": {},
   "source": [
    "\n",
    "**Observação importante**: se prestar atenção, o controlador de estados é muito simples. É basicamente multiplicar cada estado por uma constante e somar o resultado antes de realimentar! Porém, ele tem uma limitação fundamental: a regulação supõe que **todos** os estados são conhecidos para calcular a ação de controle. \n",
    "\n",
    "Isso quase sempre não é verdade. Os estados são grandezas internas que, às vezes, nem conseguimos medir. Mas mesmo quando é possível, pode não ser economicamente viável comprar sensor para medir todo mundo. \n",
    "\n",
    "Na prática, o único sinal que está disponível, por definição, é o sinal de saída. \n",
    "\n",
    "Desta forma, o que precisamos fazer é construir um sistema auxiliar que forneça umas *estimativa* dos estados reais a partir do sinal de saída. Esse sistema é conhecido como estimador ou observador de estados. \n",
    "\n",
    "<p align=\"center\">\n",
    "<img src=\"Fig7.11.svg\" width=\"100%\">\n",
    "</p>\n",
    "\n",
    "O projeto e análise do observador de estados será visto mais a frente.\n",
    "\n",
    "**Por enquanto vamos considerar que é possível medir todos os estados do sistema para fazer a realimentação**"
   ]
  },
  {
   "attachments": {},
   "cell_type": "markdown",
   "metadata": {},
   "source": [
    "## Análise da realimentação de estados\n",
    "Para um sistema\n",
    "$$\n",
    "\\begin{align*}\n",
    "    \\mathbf{\\dot{x}} &= \\mathbf{Fx+G}u\n",
    "\\end{align*}\n",
    "$$\n",
    "se usarmos a lei de controle $u = -\\mathbf{Kx}$, a equação deixará de ter entrada, podendo ser resolvida a partir da condição inicial.\n",
    "\n",
    "$$\n",
    "\\begin{align*}\n",
    "    \\mathbf{\\dot{x}} &= \\mathbf{Fx+G(-Kx)}\\\\\n",
    "    &= \\mathbf{Fx-GKx}\\\\\n",
    "    &= \\mathbf{(F-GK)x}\\\\\n",
    "    \\mathbf{\\dot{x}} &= \\mathbf{F}_m \\mathbf{x}\n",
    "\\end{align*}\n",
    "$$\n",
    "\n",
    "Vamos chamar matriz $\\mathbf{F}_m$ de \"matriz de malha fechada\". \n",
    "\n",
    "A última equação é uma EDO que não possui entrada, então só tem sentido resolvê-la para uma condição inicial $\\mathbf{x}(0)$ diferente de zero.\n",
    "\n",
    "A condição necessária para que os estados do sistema caminhem para zero em regime permanente é apenas que o sistema em malha fechada seja estável, isto é, **todos** os autovalores da matriz $\\mathbf{F}_m$ devem ter parte real estritamente negativa. \n",
    "\n",
    "Além de estabilidade, é também desejado que a convergência dos estados para zero seja feita com critérios de velocidade e oscilação específicos do projeto. Isso é equivalente a satisfazer as condições de overshoot, tempo de acomodação e dominância que você aprendeu a fazer no projeto com função de trsferência.\n",
    "\n",
    "Vamos supor que essas condições de projeto estejam definidas em termos de pólos de malha fechada bem selecionados e que esses pólos determinam um polinômio de malha fechada $\\alpha (s)$.\n",
    "\n",
    "Sendo assim, o problema de regulação é enunciado como: *achar a matriz $\\mathbf{K}$,  tal que estejam no semi-plano esquerdo todas as raizes da equação:*\n",
    "$$\n",
    "\\begin{align}\n",
    "    \\det (s\\mathbf{I-F_m})= \\det (s\\mathbf{I-F+BK})=\\alpha (s)\n",
    "\\end{align}\n",
    "$$"
   ]
  },
  {
   "attachments": {},
   "cell_type": "markdown",
   "metadata": {},
   "source": [
    "## **Exemplo**\n",
    "\n",
    "<p align=\"center\">\n",
    "<img src=\"Ex7.15.svg\" width=\"90%\">\n",
    "</p>\n",
    "\n",
    "Como os parâmetros do problema não são numéricos, precisamos resolver usando matemática simbólica."
   ]
  },
  {
   "cell_type": "code",
   "execution_count": 1,
   "metadata": {},
   "outputs": [
    {
     "name": "stdout",
     "output_type": "stream",
     "text": [
      "Calcule primeiro GK\n"
     ]
    },
    {
     "data": {
      "text/latex": [
       "$\\displaystyle \\mathbf{GK} = \\left[\\begin{matrix}0 & 0\\\\k_{1} & k_{2}\\end{matrix}\\right]$"
      ],
      "text/plain": [
       "<IPython.core.display.Math object>"
      ]
     },
     "metadata": {},
     "output_type": "display_data"
    }
   ],
   "source": [
    "#\n",
    "import numpy as np\n",
    "import sympy as sp\n",
    "from IPython.display import display, Math\n",
    "\n",
    "# Define os símbolos\n",
    "w0 = sp.symbols('\\omega_0',real=True)\n",
    "s = sp.symbols('s')\n",
    "k1,k2 = sp.symbols(['k_1','k_2'],real=True)\n",
    "\n",
    "# Define as matrizes do sistema\n",
    "F = sp.Matrix([[0,1],[-w0**2,0]])\n",
    "G = sp.Matrix([[0],[1]])\n",
    "\n",
    "# Define o vetor de ganhos\n",
    "K = sp.Matrix([k1,k2]).T      # Transpor para virar vetor linha\n",
    "\n",
    "print('Calcule primeiro GK')\n",
    "display(Math(r'\\mathbf{GK} = '+ sp.latex(G*K)))\n"
   ]
  },
  {
   "cell_type": "code",
   "execution_count": 2,
   "metadata": {},
   "outputs": [
    {
     "name": "stdout",
     "output_type": "stream",
     "text": [
      "Agora faça F-GK\n"
     ]
    },
    {
     "data": {
      "text/latex": [
       "$\\displaystyle \\mathbf{F-GK} = \\mathbf{F}_m = \\left[\\begin{matrix}0 & 1\\\\- \\omega_{0}^{2} - k_{1} & - k_{2}\\end{matrix}\\right]$"
      ],
      "text/plain": [
       "<IPython.core.display.Math object>"
      ]
     },
     "metadata": {},
     "output_type": "display_data"
    }
   ],
   "source": [
    "#\n",
    "print('Agora faça F-GK')\n",
    "# Calcula a matriz de malha fechada\n",
    "Fm = F-G*K\n",
    "display(Math(r'\\mathbf{F-GK} = \\mathbf{F}_m = ' + sp.latex(Fm) ))"
   ]
  },
  {
   "cell_type": "code",
   "execution_count": 3,
   "metadata": {},
   "outputs": [
    {
     "name": "stdout",
     "output_type": "stream",
     "text": [
      "Calcule sI (lembre-se que o sistema é de 2a ordem!)\n"
     ]
    },
    {
     "data": {
      "text/latex": [
       "$\\displaystyle s\\left[\\begin{matrix}1 & 0\\\\0 & 1\\end{matrix}\\right]=\\left[\\begin{matrix}s & 0\\\\0 & s\\end{matrix}\\right]$"
      ],
      "text/plain": [
       "<IPython.core.display.Math object>"
      ]
     },
     "metadata": {},
     "output_type": "display_data"
    }
   ],
   "source": [
    "#\n",
    "print('Calcule sI (lembre-se que o sistema é de 2a ordem!)')\n",
    "display(Math('s' + sp.latex(sp.eye(2)) + '=' +  sp.latex(s*sp.eye(2))))"
   ]
  },
  {
   "cell_type": "code",
   "execution_count": 4,
   "metadata": {},
   "outputs": [
    {
     "name": "stdout",
     "output_type": "stream",
     "text": [
      "Agora faça sI-Fm\n"
     ]
    },
    {
     "data": {
      "text/latex": [
       "$\\displaystyle s\\mathbf{I}-\\mathbf{F}_m = \\left[\\begin{matrix}s & -1\\\\\\omega_{0}^{2} + k_{1} & k_{2} + s\\end{matrix}\\right]$"
      ],
      "text/plain": [
       "<IPython.core.display.Math object>"
      ]
     },
     "metadata": {},
     "output_type": "display_data"
    }
   ],
   "source": [
    "#\n",
    "print(\"Agora faça sI-Fm\")\n",
    "display(Math(r's\\mathbf{I}-\\mathbf{F}_m = ' + sp.latex(s*sp.eye(2)-Fm)))"
   ]
  },
  {
   "cell_type": "code",
   "execution_count": 5,
   "metadata": {},
   "outputs": [
    {
     "name": "stdout",
     "output_type": "stream",
     "text": [
      "Calcule o determinante. Esse é o polinomio de malha fechada de projeto\n"
     ]
    },
    {
     "data": {
      "text/latex": [
       "$\\displaystyle \\alpha(s) = |s\\mathbf{I}-\\mathbf{F}_m|=\\omega_{0}^{2} + k_{1} + k_{2} s + s^{2}$"
      ],
      "text/plain": [
       "<IPython.core.display.Math object>"
      ]
     },
     "metadata": {},
     "output_type": "display_data"
    }
   ],
   "source": [
    "#\n",
    "print('Calcule o determinante. Esse é o polinomio de malha fechada de projeto')\n",
    "p=sp.det(s*sp.eye(2)-Fm)\n",
    "display(Math(r'\\alpha(s) = |s\\mathbf{I}-\\mathbf{F}_m|=' + sp.latex(p) ))"
   ]
  },
  {
   "cell_type": "code",
   "execution_count": 6,
   "metadata": {},
   "outputs": [
    {
     "name": "stdout",
     "output_type": "stream",
     "text": [
      "Deseja-se que os dois polos de malha fechada sejam em -2w0\n",
      "O polinômio de malha fechada desejado com dois polos nessa posição é :\n"
     ]
    },
    {
     "data": {
      "text/latex": [
       "$\\displaystyle 4 \\omega_{0}^{2} + 4 \\omega_{0} s + s^{2}$"
      ],
      "text/plain": [
       "4*\\omega_0**2 + 4*\\omega_0*s + s**2"
      ]
     },
     "execution_count": 6,
     "metadata": {},
     "output_type": "execute_result"
    }
   ],
   "source": [
    "print('Deseja-se que os dois polos de malha fechada sejam em -2w0')\n",
    "print('O polinômio de malha fechada desejado com dois polos nessa posição é :')\n",
    "alpha = sp.expand((s+2*w0)**2)\n",
    "alpha\n"
   ]
  },
  {
   "cell_type": "code",
   "execution_count": 7,
   "metadata": {},
   "outputs": [
    {
     "name": "stdout",
     "output_type": "stream",
     "text": [
      "Agora montamos equações igualando os coeficientes\n",
      "Primeira equação (coeficientes em s)\n"
     ]
    },
    {
     "data": {
      "text/latex": [
       "$\\displaystyle 4 \\omega_{0}^{2} = \\omega_{0}^{2} + k_{1}$"
      ],
      "text/plain": [
       "Eq(4*\\omega_0**2, \\omega_0**2 + k_1)"
      ]
     },
     "execution_count": 7,
     "metadata": {},
     "output_type": "execute_result"
    }
   ],
   "source": [
    "print('Agora montamos equações igualando os coeficientes')\n",
    "equacoes=[sp.Eq(alpha.coeff(s,n),p.coeff(s,n)) for n in (0,1)]\n",
    "print('Primeira equação (coeficientes em s)')\n",
    "equacoes[0]"
   ]
  },
  {
   "cell_type": "code",
   "execution_count": 8,
   "metadata": {},
   "outputs": [
    {
     "name": "stdout",
     "output_type": "stream",
     "text": [
      "Segunda equação\n"
     ]
    },
    {
     "data": {
      "text/latex": [
       "$\\displaystyle 4 \\omega_{0} = k_{2}$"
      ],
      "text/plain": [
       "Eq(4*\\omega_0, k_2)"
      ]
     },
     "execution_count": 8,
     "metadata": {},
     "output_type": "execute_result"
    }
   ],
   "source": [
    "print('Segunda equação')\n",
    "equacoes[1]"
   ]
  },
  {
   "cell_type": "code",
   "execution_count": 9,
   "metadata": {},
   "outputs": [
    {
     "name": "stdout",
     "output_type": "stream",
     "text": [
      "Basta resolver agora para k1 e k2\n"
     ]
    },
    {
     "data": {
      "text/latex": [
       "$\\displaystyle k_{1} = 3 \\omega_{0}^{2}$"
      ],
      "text/plain": [
       "Eq(k_1, 3*\\omega_0**2)"
      ]
     },
     "execution_count": 9,
     "metadata": {},
     "output_type": "execute_result"
    }
   ],
   "source": [
    "print('Basta resolver agora para k1 e k2')\n",
    "sol=sp.solve(equacoes,[k1,k2])\n",
    "sp.Eq(k1,sol[k1])"
   ]
  },
  {
   "cell_type": "code",
   "execution_count": 10,
   "metadata": {},
   "outputs": [
    {
     "data": {
      "text/latex": [
       "$\\displaystyle k_{2} = 4 \\omega_{0}$"
      ],
      "text/plain": [
       "Eq(k_2, 4*\\omega_0)"
      ]
     },
     "execution_count": 10,
     "metadata": {},
     "output_type": "execute_result"
    }
   ],
   "source": [
    "sp.Eq(k2,sol[k2])"
   ]
  },
  {
   "cell_type": "markdown",
   "metadata": {},
   "source": [
    "O livro mostra uma simulação da resposta desse sistema para $\\omega_0=1$. Repare que os gráficos mostram, em função do tempo, os dois estados. \n",
    "\n",
    "<p align=\"center\">\n",
    "<img src=\"Fig7.13.svg\" width=\"90%\">\n",
    "</p>\n",
    "\n",
    "Note que nenhum dos gráficos oscila. Isso porque as características dos pólos que foram alocados são válidas para todos os estados e a saída do sistema."
   ]
  },
  {
   "cell_type": "markdown",
   "metadata": {},
   "source": [
    "## Exercício\n",
    "\n",
    "Ache a forma de controlador do sistema\n",
    "$$\n",
    "\\begin{align}\n",
    "    G(s) = \\frac{20}{(s+1)(s+2)}\n",
    "\\end{align}\n",
    "$$\n",
    "\n",
    "Depois, projete um controlador de realimentação de estados que posicione os pólos em $-3\\pm j5$"
   ]
  }
 ],
 "metadata": {
  "kernelspec": {
   "display_name": "Python 3",
   "language": "python",
   "name": "python3"
  },
  "language_info": {
   "codemirror_mode": {
    "name": "ipython",
    "version": 3
   },
   "file_extension": ".py",
   "mimetype": "text/x-python",
   "name": "python",
   "nbconvert_exporter": "python",
   "pygments_lexer": "ipython3",
   "version": "3.10.9 (tags/v3.10.9:1dd9be6, Dec  6 2022, 20:01:21) [MSC v.1934 64 bit (AMD64)]"
  },
  "orig_nbformat": 4,
  "vscode": {
   "interpreter": {
    "hash": "e1735dd0795dce195fb98475ccf229151ed44a61fb274eb18cdb7c8302916985"
   }
  }
 },
 "nbformat": 4,
 "nbformat_minor": 2
}
