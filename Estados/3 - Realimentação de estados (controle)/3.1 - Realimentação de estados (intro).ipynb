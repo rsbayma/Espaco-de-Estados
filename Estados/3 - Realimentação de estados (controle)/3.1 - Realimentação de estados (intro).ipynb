{
 "cells": [
  {
   "attachments": {},
   "cell_type": "markdown",
   "metadata": {},
   "source": [
    "# **Realimentação de estados**\n",
    "\n",
    "A principal técnica de controle em espaço de estados é o que chamamos de \"realimentação de estados\".\n",
    "\n",
    "A estratégia básica é fazer a lei de controle $u$ ser proporcional ao vetor de estados. \n",
    "$$\n",
    "\\begin{align*}\n",
    "    u = -\\mathbf{Kx}\n",
    "\\end{align*}\n",
    "$$\n",
    "\n",
    "Lembra um pouco o controle proporcional, realimentação negativa e o controlador é apenas uma constante. Mas a diferença básica é que, como o $\\mathbf{x}$ é um vetor, o controlador $\\mathbf{K}$ tem que ser um vetor também. "
   ]
  },
  {
   "cell_type": "markdown",
   "metadata": {},
   "source": [
    "\n",
    "No caso, o sinal de controle é um escalar. Sendo $\\mathbf{x}$ um vetor coluna de $n$ elementos, então $\\mathbf{K}$ deve ser um vetor linha de $n$ elementos. Assim:\n",
    "$$\n",
    "\\begin{align*}\n",
    "    \\mathbf{K}= \\left[\\begin{array}{cccc}K_1 & K_2 & \\ldots & K_n\\end{array}\\right]\n",
    "\\end{align*}\n",
    "$$\n",
    "\n",
    "O objetivo inicial da realimentação de estados é fazer com que os estados do sistema caminhem para zero (ponto de equilíbrio) a partir de um estado inicial $\\mathbf{x}(0)$ diferente de zero, em regime permanente (isto é, passado um longo tempo). Esse problema é chamado de **regulação**.\n",
    "\n",
    "Quando o controlador é capaz de fazer isso, tarefas um pouco mais complexas (tais como rastreamento) tornam-se possíveis. "
   ]
  },
  {
   "attachments": {},
   "cell_type": "markdown",
   "metadata": {},
   "source": [
    "\n",
    "**Observação importante**: se prestar atenção, o controlador de estados é muito simples. É basicamente multiplicar cada estado por uma constante e somar o resultado antes de realimentar! Porém, ele tem uma limitação fundamental: a regulação supõe que **todos** os estados são conhecidos para calcular a ação de controle. \n",
    "\n",
    "Isso quase sempre não é verdade. Os estados são grandezas internas que, às vezes, nem conseguimos medir. Mas mesmo quando é possível, pode não ser economicamente viável comprar sensor para medir todo mundo. \n",
    "\n",
    "Na prática, o único sinal que está disponível, por definição, é o sinal de saída. \n",
    "\n",
    "Desta forma, o que precisamos fazer é construir um sistema auxiliar que forneça umas *estimativa* dos estados reais a partir do sinal de saída. Esse sistema é conhecido como estimador ou observador de estados. \n",
    "\n",
    "<p align=\"center\">\n",
    "<img src=\"Fig7.11.svg\" width=\"70%\">\n",
    "</p>\n",
    "\n",
    "O projeto e análise do observador de estados será visto mais a frente.\n",
    "\n",
    "**Por enquanto vamos considerar que é possível medir todos os estados do sistema para fazer a realimentação**"
   ]
  },
  {
   "cell_type": "markdown",
   "metadata": {},
   "source": [
    "## Análise da realimentação de estados\n",
    "Para um sistema\n",
    "$$\n",
    "\\begin{align*}\n",
    "    \\mathbf{\\dot{x}} &= \\mathbf{Fx+G}u\n",
    "\\end{align*}\n",
    "$$\n",
    "se usarmos a lei de controle $u = -\\mathbf{Kx}$, a equação deixará de ter entrada, podendo ser resolvida a partir da condição inicial.\n",
    "\n",
    "$$\n",
    "\\begin{align*}\n",
    "    \\mathbf{\\dot{x}} &= \\mathbf{Fx+G(-Kx)}\\\\\n",
    "    &= \\mathbf{Fx-GKx}\\\\\n",
    "    &= \\mathbf{(F-GK)x}\\\\\n",
    "    \\mathbf{\\dot{x}} &= \\mathbf{F}_m \\mathbf{x}\n",
    "\\end{align*}\n",
    "$$\n",
    "\n",
    "Vamos chamar matriz $\\mathbf{F}_m$ de \"matriz de malha fechada\". \n",
    "\n",
    "A última equação é uma EDO que não possui entrada, então só tem sentido resolvê-la para uma condição inicial $\\mathbf{x}(0)$ diferente de zero.\n",
    "\n",
    "A condição necessária para que os estados do sistema caminhem para zero em regime permanente é apenas que o sistema em malha fechada seja estável, isto é, **todos** os autovalores da matriz $\\mathbf{F}_m$ devem ter parte real estritamente negativa. \n",
    "\n",
    "Além de estabilidade, é também desejado que a convergência dos estados para zero seja feita com critérios de velocidade e oscilação específicos do projeto. Isso é equivalente a satisfazer as condições de overshoot, tempo de acomodação e dominância que você aprendeu a fazer no projeto com função de trsferência.\n",
    "\n",
    "Vamos supor que essas condições de projeto estejam definidas em termos de pólos de malha fechada bem selecionados e que esses pólos determinam um polinômio de malha fechada $\\alpha (s)$.\n",
    "\n",
    "Sendo assim, o problema de regulação é enunciado como: *achar a matriz $\\mathbf{K}$,  tal que estejam no semi-plano esquerdo todas as raizes da equação:*\n",
    "$$\n",
    "\\begin{align}\n",
    "    \\det (s\\mathbf{I-F_m})= \\det (s\\mathbf{I-F+BK})=\\alpha (s)\n",
    "\\end{align}\n",
    "$$\n"
   ]
  },
  {
   "cell_type": "markdown",
   "metadata": {},
   "source": [
    "## Exemplo\n",
    "\n",
    "<p align=\"center\">\n",
    "<img src=\"Ex7.15.svg\" width=\"70%\">\n",
    "</p>\n",
    "\n",
    "Como os parâmetros do problema não são numéricos, precisamos resolver usando matemática simbólica."
   ]
  },
  {
   "cell_type": "code",
   "execution_count": 15,
   "metadata": {},
   "outputs": [
    {
     "name": "stdout",
     "output_type": "stream",
     "text": [
      "Calcule primeiro GK\n"
     ]
    },
    {
     "data": {
      "text/latex": [
       "$\\displaystyle \\left[\\begin{matrix}0 & 0\\\\k_{1} & k_{2}\\end{matrix}\\right]$"
      ],
      "text/plain": [
       "Matrix([\n",
       "[ 0,  0],\n",
       "[k1, k2]])"
      ]
     },
     "execution_count": 15,
     "metadata": {},
     "output_type": "execute_result"
    }
   ],
   "source": [
    "import numpy as np\n",
    "import sympy as sp\n",
    "\n",
    "# Define os símbolos\n",
    "w0 = sp.symbols('w0',real=True)\n",
    "s = sp.symbols('s')\n",
    "k1,k2 = sp.symbols(['k1','k2'],real=True)\n",
    "\n",
    "# Define as matrizes do sistema\n",
    "F = sp.Matrix([[0,1],[-w0**2,0]])\n",
    "G = sp.Matrix([[0],[1]])\n",
    "\n",
    "# Define o vetor de ganhos\n",
    "K = sp.Matrix([k1,k2]).T      # Transpor para virar vetor linha\n",
    "\n",
    "print('Calcule primeiro GK')\n",
    "G*K\n"
   ]
  },
  {
   "cell_type": "code",
   "execution_count": 16,
   "metadata": {},
   "outputs": [
    {
     "name": "stdout",
     "output_type": "stream",
     "text": [
      "Agora faça F-GK\n"
     ]
    },
    {
     "data": {
      "text/latex": [
       "$\\displaystyle \\left[\\begin{matrix}0 & 1\\\\- k_{1} - w_{0}^{2} & - k_{2}\\end{matrix}\\right]$"
      ],
      "text/plain": [
       "Matrix([\n",
       "[          0,   1],\n",
       "[-k1 - w0**2, -k2]])"
      ]
     },
     "execution_count": 16,
     "metadata": {},
     "output_type": "execute_result"
    }
   ],
   "source": [
    "print('Agora faça F-GK')\n",
    "# Calcula a matriz de malha fechada\n",
    "Fm = F-G*K\n",
    "Fm"
   ]
  },
  {
   "cell_type": "code",
   "execution_count": 22,
   "metadata": {},
   "outputs": [
    {
     "name": "stdout",
     "output_type": "stream",
     "text": [
      "Calcule sI (lembre-se que o sistema é de 2a ordem!)\n"
     ]
    },
    {
     "data": {
      "text/latex": [
       "$\\displaystyle \\left[\\begin{matrix}s & 0\\\\0 & s\\end{matrix}\\right]$"
      ],
      "text/plain": [
       "Matrix([\n",
       "[s, 0],\n",
       "[0, s]])"
      ]
     },
     "execution_count": 22,
     "metadata": {},
     "output_type": "execute_result"
    }
   ],
   "source": [
    "print('Calcule sI (lembre-se que o sistema é de 2a ordem!)')\n",
    "s*sp.eye(2)"
   ]
  },
  {
   "cell_type": "code",
   "execution_count": 18,
   "metadata": {},
   "outputs": [
    {
     "name": "stdout",
     "output_type": "stream",
     "text": [
      "Agora faça sI-Fm\n"
     ]
    },
    {
     "data": {
      "text/latex": [
       "$\\displaystyle \\left[\\begin{matrix}s & -1\\\\k_{1} + w_{0}^{2} & k_{2} + s\\end{matrix}\\right]$"
      ],
      "text/plain": [
       "Matrix([\n",
       "[         s,     -1],\n",
       "[k1 + w0**2, k2 + s]])"
      ]
     },
     "execution_count": 18,
     "metadata": {},
     "output_type": "execute_result"
    }
   ],
   "source": [
    "print(\"Agora faça sI-Fm\")\n",
    "s*sp.eye(2)-Fm"
   ]
  },
  {
   "cell_type": "code",
   "execution_count": 31,
   "metadata": {},
   "outputs": [
    {
     "name": "stdout",
     "output_type": "stream",
     "text": [
      "Calcule o determinante. Esse é o polinomio de malha fechada de projeto\n"
     ]
    },
    {
     "data": {
      "text/latex": [
       "$\\displaystyle k_{1} + k_{2} s + s^{2} + w_{0}^{2}$"
      ],
      "text/plain": [
       "k1 + k2*s + s**2 + w0**2"
      ]
     },
     "execution_count": 31,
     "metadata": {},
     "output_type": "execute_result"
    }
   ],
   "source": [
    "print('Calcule o determinante. Esse é o polinomio de malha fechada de projeto')\n",
    "p=sp.det(s*sp.eye(2)-Fm)\n",
    "p"
   ]
  },
  {
   "cell_type": "code",
   "execution_count": 29,
   "metadata": {},
   "outputs": [
    {
     "name": "stdout",
     "output_type": "stream",
     "text": [
      "Deseja-se que os dois polos de malha fechada sejam em -2w0\n",
      "O polinômio de malha fechada desejado com dois polos nessa posição é :\n"
     ]
    },
    {
     "data": {
      "text/latex": [
       "$\\displaystyle s^{2} + 4 s w_{0} + 4 w_{0}^{2}$"
      ],
      "text/plain": [
       "s**2 + 4*s*w0 + 4*w0**2"
      ]
     },
     "execution_count": 29,
     "metadata": {},
     "output_type": "execute_result"
    }
   ],
   "source": [
    "print('Deseja-se que os dois polos de malha fechada sejam em -2w0')\n",
    "print('O polinômio de malha fechada desejado com dois polos nessa posição é :')\n",
    "alpha = sp.expand((s+2*w0)**2)\n",
    "alpha\n"
   ]
  },
  {
   "cell_type": "code",
   "execution_count": 40,
   "metadata": {},
   "outputs": [
    {
     "name": "stdout",
     "output_type": "stream",
     "text": [
      "Agora montamos equações igualando os coeficientes\n",
      "Primeira equação (coeficientes em s)\n"
     ]
    },
    {
     "data": {
      "text/latex": [
       "$\\displaystyle 4 w_{0}^{2} = k_{1} + w_{0}^{2}$"
      ],
      "text/plain": [
       "Eq(4*w0**2, k1 + w0**2)"
      ]
     },
     "execution_count": 40,
     "metadata": {},
     "output_type": "execute_result"
    }
   ],
   "source": [
    "print('Agora montamos equações igualando os coeficientes')\n",
    "equacoes=[sp.Eq(alpha.coeff(s,n),p.coeff(s,n)) for n in (0,1)]\n",
    "print('Primeira equação (coeficientes em s)')\n",
    "equacoes[0]"
   ]
  },
  {
   "cell_type": "code",
   "execution_count": 42,
   "metadata": {},
   "outputs": [
    {
     "name": "stdout",
     "output_type": "stream",
     "text": [
      "Segunda equação\n"
     ]
    },
    {
     "data": {
      "text/latex": [
       "$\\displaystyle 4 w_{0} = k_{2}$"
      ],
      "text/plain": [
       "Eq(4*w0, k2)"
      ]
     },
     "execution_count": 42,
     "metadata": {},
     "output_type": "execute_result"
    }
   ],
   "source": [
    "print('Segunda equação')\n",
    "equacoes[1]"
   ]
  },
  {
   "cell_type": "code",
   "execution_count": 50,
   "metadata": {},
   "outputs": [
    {
     "name": "stdout",
     "output_type": "stream",
     "text": [
      "Basta resolver agora para k1 e k2\n"
     ]
    },
    {
     "data": {
      "text/latex": [
       "$\\displaystyle k_{1} = 3 w_{0}^{2}$"
      ],
      "text/plain": [
       "Eq(k1, 3*w0**2)"
      ]
     },
     "execution_count": 50,
     "metadata": {},
     "output_type": "execute_result"
    }
   ],
   "source": [
    "print('Basta resolver agora para k1 e k2')\n",
    "sol=sp.solve(equacoes,[k1,k2])\n",
    "sp.Eq(k1,sol[k1])"
   ]
  },
  {
   "cell_type": "code",
   "execution_count": 51,
   "metadata": {},
   "outputs": [
    {
     "data": {
      "text/latex": [
       "$\\displaystyle k_{2} = 4 w_{0}$"
      ],
      "text/plain": [
       "Eq(k2, 4*w0)"
      ]
     },
     "execution_count": 51,
     "metadata": {},
     "output_type": "execute_result"
    }
   ],
   "source": [
    "sp.Eq(k2,sol[k2])"
   ]
  },
  {
   "cell_type": "markdown",
   "metadata": {},
   "source": [
    "O livro mostra uma simulação da resposta desse sistema para $\\omega_0=1$. Repare que os gráficos mostram, em função do tempo, os dois estados. \n",
    "\n",
    "<p align=\"center\">\n",
    "<img src=\"Fig7.13.svg\" width=\"90%\">\n",
    "</p>\n",
    "\n",
    "Note que nenhum dos gráficos oscila. Isso porque as características dos pólos que foram alocados são válidas para todos os estados e a saída do sistema."
   ]
  },
  {
   "cell_type": "markdown",
   "metadata": {},
   "source": [
    "## Exercício\n",
    "\n",
    "Ache a forma de controlador do sistema\n",
    "$$\n",
    "\\begin{align}\n",
    "    G(s) = \\frac{20}{(s+1)(s+2)}\n",
    "\\end{align}\n",
    "$$\n",
    "\n",
    "Depois, projete um controlador de realimentação de estados que posicione os pólos em $-3\\pm j5$"
   ]
  }
 ],
 "metadata": {
  "kernelspec": {
   "display_name": "Python 3.9.12 ('base')",
   "language": "python",
   "name": "python3"
  },
  "language_info": {
   "codemirror_mode": {
    "name": "ipython",
    "version": 3
   },
   "file_extension": ".py",
   "mimetype": "text/x-python",
   "name": "python",
   "nbconvert_exporter": "python",
   "pygments_lexer": "ipython3",
   "version": "3.9.12 (main, Apr  4 2022, 05:22:27) [MSC v.1916 64 bit (AMD64)]"
  },
  "orig_nbformat": 4,
  "vscode": {
   "interpreter": {
    "hash": "3e3763a57b4ffe0d06e963ec4b7f8ef3a748cbfdb342037439726ee83e94c05b"
   }
  }
 },
 "nbformat": 4,
 "nbformat_minor": 2
}
