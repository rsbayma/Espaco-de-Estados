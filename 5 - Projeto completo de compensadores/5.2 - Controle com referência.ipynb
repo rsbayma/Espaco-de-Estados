{
 "cells": [
  {
   "cell_type": "markdown",
   "metadata": {},
   "source": [
    "# Introdução da referência e controle integral"
   ]
  },
  {
   "cell_type": "markdown",
   "metadata": {},
   "source": [
    "Há várias formas de introduzir a referência em um sistema de controle de espaço de estados.\n",
    "\n",
    "Neste curso veremos apenas como fazer com o uso de um integrador.\n",
    "\n",
    "Sabemos que um integrador em malha aberta zera o erro de regime permanente (para uma entrada degrau pelo menos) e permite ao sistema rejeitar distúrbios (do tipo degrau). Portanto, é uma escolha sensata."
   ]
  },
  {
   "cell_type": "markdown",
   "metadata": {},
   "source": [
    "Para introduzir um integrador no espaço de estados, adicionamos uma parcela especial ao sinal de controle  de realimentação de estados (supondo realimentação completa)\n",
    "$$\n",
    "\\begin{align*}\n",
    "    u = -\\mathbf{Kx} - K_i e\n",
    "\\end{align*}\n",
    "$$\n",
    "ou\n",
    "$$\n",
    "\\begin{align*}\n",
    "    u = -\\left[\\begin{array}{cc}\\mathbf{K} & K_i\\end{array}\\right]\n",
    "    \\left[\\begin{array}{c}\\mathbf{x} \\\\ e\\end{array}\\right]\n",
    "\\end{align*}\n",
    "$$\n",
    "onde $e$ representa um **novo estado**. Isso aumenta a ordem do nosso sistema em 1. Além disso, o ganho (escalar) $K_i$ representa um novo parâmetro de projeto para o controlador. "
   ]
  },
  {
   "cell_type": "markdown",
   "metadata": {},
   "source": [
    "A nova variável de estado $e$ representa a integral do erro, que é um termo que tipicamente utilizamos em controle (PI, por exemplo). Ora, se:\n",
    "\n",
    "$$\n",
    "\\begin{align*}\n",
    "    {e} = \\int (r-y)dt\n",
    "\\end{align*}\n",
    "$$\n",
    "\n",
    "Então:\n",
    "\n",
    "$$\n",
    "\\begin{align*}\n",
    "    \\dot{e} = r-\\mathbf{Hx}\n",
    "\\end{align*}\n",
    "$$\n",
    "\n",
    "Onde $\\mathbf{H}$ é a matriz de saída do nosso sistema $(\\mathbf{F}, \\mathbf{G}, \\mathbf{H}, J)$."
   ]
  },
  {
   "cell_type": "markdown",
   "metadata": {},
   "source": [
    " Com essa última equação, nosso sistema completo (agora de ordem $n+1$) fica:\n",
    " \n",
    " $$\n",
    "\\begin{align*}\n",
    "    \\dot{\\mathbf{x}} &= \\mathbf{Ax}+\\mathbf{B}u\\\\\n",
    "    \\dot{e} &= r-\\mathbf{Cx}\n",
    "\\end{align*}\n",
    "$$"
   ]
  },
  {
   "cell_type": "markdown",
   "metadata": {},
   "source": [
    "Em notação matricial em blocos temos:\n",
    "$$\n",
    "\\begin{align*}\n",
    "    \\left[\\begin{array}{c}\\dot{\\mathbf{x}}\\\\ \\dot{e}\\end{array}\\right]&=\n",
    "    \\left[\\begin{array}{cc}\\mathbf{A} & \\mathbf{0}\\\\-\\mathbf{C} & 0\\end{array}\\right]\\left[\\begin{array}{c}{\\mathbf{x}}\\\\ {e}\\end{array}\\right]+\\left[\\begin{array}{c}\\mathbf{B}\\\\ 0\\end{array}\\right]u+\\left[\\begin{array}{c}\\mathbf{0}\\\\ 1\\end{array}\\right]r\n",
    "\\end{align*}\n",
    "$$"
   ]
  },
  {
   "cell_type": "markdown",
   "metadata": {},
   "source": [
    "Perceba que isso apenas redefiniu o vetor de estados para a junção de $\\mathbf{x}$ com $e$, o que aumentou as matrizes de estado e de entrada do sistema. \n",
    "\n",
    "Na verdade, neste momento temos duas entradas neste sistema, $u$ e $r$, que atuam de forma independente (cada uma com sua própria matriz). Nossa liberdade de projeto está no sinal $u$, que é responsável por fazer a realimentação de estados. \n",
    "\n",
    "Através do sinal $u$ temos exatamente o mesmo problema de realimentação de estados que estávamos trabalhando até aqui. Podemos então achar um regulador normalmente, usando, por exemplo, Ackerman. Apenas devemos atentar para usar as matrizes aumentadas de estado e de entrada:\n",
    "$$\n",
    "\\begin{align*}\n",
    "    \\mathbf{A_a}&=\n",
    "    \\left[\\begin{array}{cc}\\mathbf{A} & \\mathbf{0}\\\\-\\mathbf{C} & 0\\end{array}\\right]\\\\\n",
    "    \\mathbf{B_a}&=\\left[\\begin{array}{c}\\mathbf{B}\\\\ 0\\end{array}\\right]\n",
    "\\end{align*}\n",
    "$$\n",
    "\n",
    "Desta forma, o último ganho do vetor calculado será o ganho integral."
   ]
  },
  {
   "cell_type": "markdown",
   "metadata": {},
   "source": [
    "Para finalizar o compensador, devemos calcular o observador de estados. O projeto é feito normalmente, sem aumentar as matrizes. Isso porque o novo estado é calculado diretamente da saída e não precisa ser estimado."
   ]
  },
  {
   "cell_type": "markdown",
   "metadata": {},
   "source": [
    "### Equações de estado do compensador:\n",
    "$$\n",
    "\\begin{align*}\n",
    "    \\left[\\begin{array}{c}\\dot{\\mathbf{\\hat{x}}}\\\\ \\dot{e}\\end{array}\\right]&=\n",
    "    \\left[\\begin{array}{cc}\\mathbf{A-BK-LC} & \\mathbf{-B}K_i\\\\ \\mathbf{0} & 0\\end{array}\\right]\\left[\\begin{array}{c}{\\mathbf{\\hat{x}}}\\\\ {e}\\end{array}\\right]+\\left[\\begin{array}{c}\\mathbf{L}\\\\ -1\\end{array}\\right]y+\\left[\\begin{array}{c}\\mathbf{0}\\\\ 1\\end{array}\\right]r\\\\\n",
    "    u &= \\left[\\begin{array}{cc}\\mathbf{-K} & -K_i\\end{array}\\right]\\left[\\begin{array}{c}{\\mathbf{\\hat{x}}}\\\\ {e}\\end{array}\\right]\n",
    "\\end{align*}\n",
    "$$"
   ]
  },
  {
   "cell_type": "markdown",
   "metadata": {},
   "source": [
    "É interessante observar que esse compensador requer duas entradas distintas para ser realizado: a referência e a saída da planta.\n",
    "\n",
    "Lembre-se que do ponto de vista do controlador, a saída é o sinal de controle $u$. Portanto, a saída da planta $y$ é vista por ele como uma entrada, assim como a referência $r$.\n",
    "\n",
    "Podemos enxergá-lo através de duas funções de transferência: uma de $Y$ para $U$ e outra de $R$ para $U$. Assim, a saída do controlador poderia ser descrita como:\n",
    "$$\n",
    "\\begin{align}\n",
    "    U(s) = C_1(s)Y(s)+C_2(s)R(s)\n",
    "\\end{align}\n",
    "$$\n",
    "\n",
    "As funções de transferência $C_1(s)$ e $C_2(s)$ podem ser calculadas pelas matrizes usando a expressão que já estudamos. "
   ]
  },
  {
   "cell_type": "markdown",
   "metadata": {},
   "source": [
    "Do ponto de vista de fluxo de sinal, o sistema controlador funciona conforme o diagrama de blocos a seguir\n",
    "\n",
    "<p align=\"center\">\n",
    "<img src=\"controleIntegral.svg\" width=\"60%\">\n",
    "</p>\n",
    "\n",
    "Esse diagrama pode ser modificado para utilizar a estrutura convencional de controle com realimentação unitária, mas nesse caso, o bloco que alimenta a referência sofre modificação (*desafio: verifique que diagrama é esse*)"
   ]
  },
  {
   "cell_type": "markdown",
   "metadata": {},
   "source": [
    "### Equações de estado do sistema em malha fechada (supondo $J=0$):\n",
    "\n",
    "Lembre-se que em malha fechada, a entrada do sistema passa a ser apenas a referência:\n",
    "\n",
    "$$\n",
    "\\begin{align*}\n",
    "    \\dot{\\mathbf{x}} &= \\mathbf{Ax}-\\mathbf{BK}\\hat{\\mathbf{x}}-\\mathbf{B}K_ie\\\\\n",
    "    \\dot{\\hat{\\mathbf{x}}} &= \\mathbf{LCx}+(\\mathbf{A}-\\mathbf{BK}-\\mathbf{LC})\\hat{\\mathbf{x}}-\\mathbf{B}K_ie\\\\\n",
    "    \\dot{e} &= r-\\mathbf{Cx}\\\\\n",
    "    y &= \\mathbf{Cx}\n",
    "\\end{align*}\n",
    "$$"
   ]
  },
  {
   "cell_type": "markdown",
   "metadata": {},
   "source": [
    "Em termos de matrizes fica:\n",
    "$$\n",
    "\\begin{align*}\n",
    "    \\mathbf{F}_{\\text{mf}} &= \\left[\\begin{array}{ccc}\n",
    "    \\mathbf{F} & -\\mathbf{GK} & -\\mathbf{G}K_i\\\\\n",
    "    \\mathbf{LH} & \\mathbf{F-GK-LH} & -\\mathbf{G}K_i\\\\\n",
    "    -\\mathbf{H} & \\mathbf{0} & 0\n",
    "    \\end{array}\\right]\\\\\n",
    "    \\mathbf{G}_{\\text{mf}} &= \\left[\\begin{array}{ccc}\n",
    "    \\mathbf{0}\\\\ \\mathbf{0}\\\\ 1\n",
    "    \\end{array}\\right]\\\\\n",
    "    \\mathbf{H}_{\\text{mf}} &= \\left[\\begin{array}{ccc}\n",
    "    \\mathbf{H} & \\mathbf{0} & 0\n",
    "    \\end{array}\\right]\n",
    "\\end{align*}\n",
    "$$"
   ]
  },
  {
   "cell_type": "markdown",
   "metadata": {},
   "source": [
    "## Exemplo:\n",
    "\n",
    "Construa um compensador com controle integral para o sistema\n",
    "$$\n",
    "\\begin{align}\n",
    "    G(s) = \\frac{10}{(s+1)(s+2)}\n",
    "\\end{align}\n",
    "$$\n",
    "para que $\\xi = 0.7$ e $\\omega_n=2$.\n"
   ]
  },
  {
   "cell_type": "code",
   "execution_count": 3,
   "metadata": {
    "code_folding": [
     0
    ],
    "run_control": {
     "marked": false
    }
   },
   "outputs": [],
   "source": [
    "# Imports\n",
    "import numpy as np\n",
    "import control as ct\n",
    "from IPython.display import display, Math\n",
    "from escrever import *\n",
    "esc = escrever()"
   ]
  },
  {
   "cell_type": "code",
   "execution_count": 6,
   "metadata": {
    "code_folding": [
     0
    ]
   },
   "outputs": [
    {
     "name": "stdout",
     "output_type": "stream",
     "text": [
      "Pólos do regulador:  [-1.4+1.4283j -1.4-1.4283j -5.6+0.j    ]\n"
     ]
    }
   ],
   "source": [
    "# Polos desejados\n",
    "xi = 0.7\n",
    "wn = 2\n",
    "sigma = xi*wn\n",
    "p = -sigma + 1j*wn*np.sqrt(1-xi**2)\n",
    "p_reg = np.array([p,np.conj(p),-4*sigma])\n",
    "print('Pólos do regulador: ', p_reg.round(4))"
   ]
  },
  {
   "cell_type": "code",
   "execution_count": 13,
   "metadata": {
    "code_folding": [
     0
    ]
   },
   "outputs": [
    {
     "data": {
      "text/latex": [
       "$\\displaystyle \\dot{\\mathbf{x}} = \\left[\\begin{array}{rr}-3&-2\\\\1&0\\\\\\end{array}\\right]\\mathbf{x}+\\left[\\begin{array}{r}1\\\\0\\\\\\end{array}\\right]\\mathbf{u}$"
      ],
      "text/plain": [
       "<IPython.core.display.Math object>"
      ]
     },
     "metadata": {},
     "output_type": "display_data"
    },
    {
     "data": {
      "text/latex": [
       "$\\displaystyle \\mathbf{y} = \\left[\\begin{array}{rr}0&10\\\\\\end{array}\\right]\\mathbf{x} + \\left[\\begin{array}{r}0.0\\\\\\end{array}\\right]\\mathbf{u}$"
      ],
      "text/plain": [
       "<IPython.core.display.Math object>"
      ]
     },
     "metadata": {},
     "output_type": "display_data"
    }
   ],
   "source": [
    "# Matrizes do sistema em FCC\n",
    "A = np.array([[-3,-2],[1,0]])\n",
    "B = np.array([[1],[0]])\n",
    "C = np.array([[0,10]])\n",
    "D = np.zeros((1,1))\n",
    "\n",
    "sys = ct.ss(A,B,C,D)\n",
    "esc.sist(A,B,C,D)"
   ]
  },
  {
   "cell_type": "code",
   "execution_count": 8,
   "metadata": {
    "code_folding": [
     0
    ]
   },
   "outputs": [
    {
     "data": {
      "text/latex": [
       "$$\\frac{10}{s^2 + 3 s + 2}$$"
      ],
      "text/plain": [
       "TransferFunction(array([10.]), array([1., 3., 2.]))"
      ]
     },
     "execution_count": 8,
     "metadata": {},
     "output_type": "execute_result"
    }
   ],
   "source": [
    "# Função de transf. de malha aberta\n",
    "ct.tf(sys)"
   ]
  },
  {
   "cell_type": "code",
   "execution_count": 14,
   "metadata": {
    "code_folding": [
     0
    ]
   },
   "outputs": [
    {
     "data": {
      "text/latex": [
       "$\\displaystyle \\mathbf{A}_a = \\left[\\begin{array}{rrr}-3.0&-2.0&0.0\\\\1.0&0.0&0.0\\\\0.0&-10.0&0.0\\\\\\end{array}\\right]$"
      ],
      "text/plain": [
       "<IPython.core.display.Math object>"
      ]
     },
     "metadata": {},
     "output_type": "display_data"
    },
    {
     "data": {
      "text/latex": [
       "$\\displaystyle \\mathbf{B}_a = \\left[\\begin{array}{r}1\\\\0\\\\0\\\\\\end{array}\\right]$"
      ],
      "text/plain": [
       "<IPython.core.display.Math object>"
      ]
     },
     "metadata": {},
     "output_type": "display_data"
    }
   ],
   "source": [
    "# Matrizes do sistema aumentado\n",
    "Aa = np.block([[F,np.zeros((2,1))],[-H,0]])           # [F  | 0]\n",
    "Ba = np.concatenate((G,[[0]]),axis=0)\n",
    "display(Math(r'\\mathbf{A}_a = ' + esc.mat(Aa)))\n",
    "display(Math(r'\\mathbf{B}_a = ' + esc.mat(Ba)))\n"
   ]
  },
  {
   "cell_type": "code",
   "execution_count": 16,
   "metadata": {
    "code_folding": [
     0
    ]
   },
   "outputs": [
    {
     "data": {
      "text/latex": [
       "$\\displaystyle \\mathbf{K}_a = \\left[\\begin{array}{rrr}5.4&17.68&-2.24\\\\\\end{array}\\right]$"
      ],
      "text/plain": [
       "<IPython.core.display.Math object>"
      ]
     },
     "metadata": {},
     "output_type": "display_data"
    },
    {
     "data": {
      "text/latex": [
       "$\\displaystyle \\mathbf{K} = \\left[\\begin{array}{rr}5.4&17.68\\\\\\end{array}\\right]$"
      ],
      "text/plain": [
       "<IPython.core.display.Math object>"
      ]
     },
     "metadata": {},
     "output_type": "display_data"
    },
    {
     "data": {
      "text/latex": [
       "$\\displaystyle {K}_i = \\left[\\begin{array}{r}-2.24\\\\\\end{array}\\right]$"
      ],
      "text/plain": [
       "<IPython.core.display.Math object>"
      ]
     },
     "metadata": {},
     "output_type": "display_data"
    }
   ],
   "source": [
    "# Regulador com integrador\n",
    "Ka = ct.acker(Aa,Ba,p_reg)\n",
    "Ki = np.array([Ka[:,2]])\n",
    "K = Ka[:,0:2]\n",
    "display(Math(r'\\mathbf{K}_a = ' + esc.mat(Ka.round(4))))\n",
    "display(Math(r'\\mathbf{K} = ' + esc.mat(K.round(4))))\n",
    "display(Math(r'{K}_i = ' + esc.mat(Ki.round(4))))"
   ]
  },
  {
   "cell_type": "code",
   "execution_count": 17,
   "metadata": {
    "code_folding": [
     0
    ],
    "run_control": {
     "marked": false
    }
   },
   "outputs": [
    {
     "data": {
      "text/latex": [
       "$\\displaystyle \\mathbf{L} = \\left[\\begin{array}{r}6.524\\\\1.94\\\\\\end{array}\\right]$"
      ],
      "text/plain": [
       "<IPython.core.display.Math object>"
      ]
     },
     "metadata": {},
     "output_type": "display_data"
    }
   ],
   "source": [
    "# Observador\n",
    "p_obs = [-8*sigma]*2                    # [-8*sigma]*2 => [-8*sigma, -8*sigma]\n",
    "L = ct.acker(F.T,H.T, p_obs).T        \n",
    "display(Math(r'\\mathbf{L} = ' + esc.mat(L)))"
   ]
  },
  {
   "cell_type": "code",
   "execution_count": 25,
   "metadata": {
    "code_folding": [
     0
    ],
    "run_control": {
     "marked": false
    }
   },
   "outputs": [
    {
     "data": {
      "text/latex": [
       "$\\displaystyle \\dot{\\mathbf{x}} = \\left[\\begin{array}{rrrrr}-3.0&-2.0&-5.4&-17.68&2.24\\\\1.0&0.0&0.0&0.0&0.0\\\\0.0&65.24&-8.4&-84.92&2.24\\\\0.0&19.4&1.0&-19.4&0.0\\\\0.0&-10.0&0.0&0.0&0.0\\\\\\end{array}\\right]\\mathbf{x}+\\left[\\begin{array}{r}0.0\\\\0.0\\\\0.0\\\\0.0\\\\1.0\\\\\\end{array}\\right]\\mathbf{u}$"
      ],
      "text/plain": [
       "<IPython.core.display.Math object>"
      ]
     },
     "metadata": {},
     "output_type": "display_data"
    },
    {
     "data": {
      "text/latex": [
       "$\\displaystyle \\mathbf{y} = \\left[\\begin{array}{rrrrr}0.0&10.0&0.0&0.0&0.0\\\\\\end{array}\\right]\\mathbf{x} + \\left[\\begin{array}{r}0.0\\\\\\end{array}\\right]\\mathbf{u}$"
      ],
      "text/plain": [
       "<IPython.core.display.Math object>"
      ]
     },
     "metadata": {},
     "output_type": "display_data"
    }
   ],
   "source": [
    "# Sistema em malha fechada\n",
    "\n",
    "# Primeito a matriz F\n",
    "Amf = np.block([[A, -B@K, -B@Ki],\n",
    "                [L@C, A-B@K-L@C, -B@Ki],\n",
    "                [-C, np.zeros((1,3))]])\n",
    "\n",
    "# Agora a matriz G\n",
    "Bmf = np.block([[np.zeros((4,1))],[1]])\n",
    "\n",
    "# Por fim, matriz H, saída da planta\n",
    "Cmf = np.block([[C,np.zeros((1,3))]])\n",
    "\n",
    "Dmf = np.zeros((Cmf.shape[0],Bmf.shape[1]))\n",
    "                \n",
    "# Espaço de estados para o sistema em MF, saída y, entrada r\n",
    "MF = ct.ss(Amf,Bmf,Cmf,Dmf)\n",
    "esc.sist(Amf.round(4),Bmf.round(4),Cmf.round(4),Dmf)\n",
    "                \n"
   ]
  },
  {
   "cell_type": "code",
   "execution_count": 26,
   "metadata": {},
   "outputs": [
    {
     "data": {
      "text/latex": [
       "$$\\frac{-2.842 \\times 10^{-14} s^4 - 7.39 \\times 10^{-13} s^3 + 22.4 s^2 + 501.8 s + 2810}{s^5 + 30.8 s^4 + 333.3 s^3 + 1517 s^2 + 2970 s + 2810}$$"
      ],
      "text/plain": [
       "TransferFunction(array([-2.84217094e-14, -7.38964445e-13,  2.24000000e+01,  5.01760000e+02,\n",
       "        2.80985600e+03]), array([1.0000000e+00, 3.0800000e+01, 3.3328000e+02, 1.5169280e+03,\n",
       "       2.9704192e+03, 2.8098560e+03]))"
      ]
     },
     "execution_count": 26,
     "metadata": {},
     "output_type": "execute_result"
    }
   ],
   "source": [
    "# Função de transf. em malha fechada\n",
    "ct.tf(MF)"
   ]
  },
  {
   "cell_type": "code",
   "execution_count": 33,
   "metadata": {
    "code_folding": [
     0
    ],
    "run_control": {
     "marked": false
    }
   },
   "outputs": [
    {
     "name": "stdout",
     "output_type": "stream",
     "text": [
      "_____Eigenvalue______ Damping___ Frequency_\n",
      "     -11.2                     1       11.2\n",
      "     -11.2                     1       11.2\n",
      "      -1.4    +1.428j        0.7          2\n",
      "      -1.4    -1.428j        0.7          2\n",
      "      -5.6                     1        5.6\n",
      "Zeros: \n",
      "[-11.2+0.j -11.2+0.j]\n",
      "\n",
      "Pólos desejados (regulador): \n",
      "[-1.4+1.4283j -1.4-1.4283j -5.6+0.j    ]\n",
      "\n",
      "Pólos desejados (observador): \n",
      "[-11.2 -11.2]\n"
     ]
    }
   ],
   "source": [
    "# Vamos analisar polos e zeros de malha fechada\n",
    "tabela=ct.damp(MF)\n",
    "\n",
    "print('Zeros: ')\n",
    "print(round(ct.zeros(MF),4))\n",
    "print('')\n",
    "# Vale a pena comparar com os zeros do sistema e polos desejados originais, regulador e observador\n",
    "print('Pólos desejados (regulador): ')\n",
    "print(p_reg.round(4))\n",
    "print('')\n",
    "print('Pólos desejados (observador): ')\n",
    "print(round(p_obs,4))\n"
   ]
  },
  {
   "cell_type": "code",
   "execution_count": 35,
   "metadata": {
    "code_folding": [
     0
    ]
   },
   "outputs": [],
   "source": [
    "# Simulação em malha fechada (y)\n",
    "resp = ct.step_response(MF,6)"
   ]
  },
  {
   "cell_type": "code",
   "execution_count": 56,
   "metadata": {
    "code_folding": [
     0
    ],
    "run_control": {
     "marked": false
    }
   },
   "outputs": [
    {
     "data": {
      "image/png": "[encoded data removed]",
      "text/plain": [
       "<Figure size 640x480 with 1 Axes>"
      ]
     },
     "metadata": {},
     "output_type": "display_data"
    }
   ],
   "source": [
    "# Plotagem da saída\n",
    "plt.plot(resp.t,resp.outputs)\n",
    "plt.xlabel('Tempo (seg)')\n",
    "plt.ylabel('Saída da planta')\n",
    "plt.title('Resposta ao degrau unitário')\n",
    "plt.grid()"
   ]
  },
  {
   "cell_type": "code",
   "execution_count": 55,
   "metadata": {
    "code_folding": [
     0
    ]
   },
   "outputs": [
    {
     "data": {
      "image/png": "[encoded data removed]",
      "text/plain": [
       "<Figure size 640x480 with 1 Axes>"
      ]
     },
     "metadata": {},
     "output_type": "display_data"
    }
   ],
   "source": [
    "# Calcula o sinal de controle utilizado\n",
    "u = -Ka@resp.states[2:,:]\n",
    "u = u.reshape((u.shape[1],))\n",
    "plt.plot(resp.t,u)\n",
    "plt.xlabel('Tempo (seg)')\n",
    "plt.ylabel('Sinal de controle')\n",
    "plt.title('Resposta ao degrau unitário')\n",
    "plt.grid()\n",
    "\n"
   ]
  }
 ],
 "metadata": {
  "kernelspec": {
   "display_name": "Python 3 (ipykernel)",
   "language": "python",
   "name": "python3"
  },
  "language_info": {
   "codemirror_mode": {
    "name": "ipython",
    "version": 3
   },
   "file_extension": ".py",
   "mimetype": "text/x-python",
   "name": "python",
   "nbconvert_exporter": "python",
   "pygments_lexer": "ipython3",
   "version": "3.11.1"
  },
  "vscode": {
   "interpreter": {
    "hash": "3e3763a57b4ffe0d06e963ec4b7f8ef3a748cbfdb342037439726ee83e94c05b"
   }
  }
 },
 "nbformat": 4,
 "nbformat_minor": 4
}
