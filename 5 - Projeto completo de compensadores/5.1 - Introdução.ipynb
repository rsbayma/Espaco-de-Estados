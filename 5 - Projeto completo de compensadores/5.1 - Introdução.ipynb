{
 "cells": [
  {
   "attachments": {},
   "cell_type": "markdown",
   "metadata": {},
   "source": [
    "# **Compensador dinâmico**\n",
    "\n",
    "Já aprendemos a projetar um regulador, que é um conjunto de ganhos que calcula a ação de controle usando os estados do sistema.\n",
    "\n",
    "Também aprendemos a projetar um observador de estados, que é um sistema dinâmico cuja função é fornecer uma estimativa dos estados reais do sistema a partir do sinal de saída.\n",
    "\n",
    "O compensador dinâmico é a junção destas duas ideias no mesmo sistema."
   ]
  },
  {
   "attachments": {},
   "cell_type": "markdown",
   "metadata": {},
   "source": [
    "A Figura abaixo esquematiza todos os subsistemas e rotas de sinal com a estratégia adotada.\n",
    "<p>\n",
    "<img src=\"Fig7.35.svg\" width=\"80%\">\n",
    "</p>\n",
    "\n",
    "No final, nosso controlador projetado com essas abordagens é um único sistema, cujas equações de estado são:\n",
    "$$ \n",
    "\\begin{align*}\n",
    "    \\dot{\\mathbf{x}}_e &= \\mathbf{(A-BK-LC)}\\mathbf{x}_e+\\mathbf{L}y\\\\\n",
    "    u &= \\mathbf{-K}\\mathbf{x}_e\n",
    "\\end{align*}\n",
    "$$\n",
    "onde $\\mathbf{x}_e$ é a estimativa dos estados do sistema pelo observador, $\\mathbf{K}$ e $\\mathbf{L}$ são respectivamente os ganhos do regulador e do observador. Note que a entrada do controlador é a saída da planta. Da mesma forma, o sinal de saída do controlador é o sinal de controle $u$, que vai para a entrada da planta. \n",
    "\n",
    "Perceba, que estas duas equações permitem realizar o controlador como um sistema entrada-saída normal, com uma função de transferência que basicamente dispensa as equações de estado, para fins de implementação. Esta função é:\n",
    "$$ \n",
    "\\begin{align*}\n",
    "    C(s) &= -\\mathbf{K}(s\\mathbf{I-A+BK+LC})^{-1}\\mathbf{L}\n",
    "\\end{align*}\n",
    "$$\n"
   ]
  },
  {
   "attachments": {},
   "cell_type": "markdown",
   "metadata": {},
   "source": [
    "O sistema completo (planta+controlador) pode ser simulados usando um único conjunto de equações de estados:\n",
    "$$\n",
    "\\begin{align*}\n",
    "\\dot{\\mathbf{x}} &= \\mathbf{F}\\mathbf{x}-\\mathbf{GK}\\mathbf{x_e}\\\\\n",
    "\\dot{\\mathbf{x}}_e &= \\mathbf{(F-GK-LH)}\\mathbf{x}_e+\\mathbf{LHx}\\\\\n",
    "y&= \\mathbf{Hx}\n",
    "\\end{align*}\n",
    "$$\n"
   ]
  },
  {
   "cell_type": "markdown",
   "metadata": {},
   "source": [
    "É possível demonstrar que os pólos de malha fechada compensado por um controlador dessa natureza são exatamente os pólos projetados pelo regulador de estados completo (isto é, considerando realimentação dos estados verdadeiros, mesmo que na prática não vá ser assim no final) e o pólos alocados para o observador. \n",
    "\n",
    "Em outras palavras, o polinômio de malha fechada quando usamos um compensador que combina regulador+observador é simplesmente:\n",
    "$$\n",
    "\\begin{align*}\n",
    "    \\alpha_{\\text{mf}}(s) = \\alpha_{\\text{reg}}(s)\\cdot \\alpha_{\\text{obs}}(s)\n",
    "\\end{align*}\n",
    "$$\n",
    "onde \"mf\", \"reg\" e \"obs\" indicam respectivamente \"malha fechada\", \"regulador\" e \"observador\".\n",
    "\n",
    "O fato do projeto dos dois sistemas não \"misturar\" os pólos é um fato notável, que permite que os projetos sejam feitos de forma independente. Isso é chamado de principío da separação em teoria de controle. "
   ]
  },
  {
   "cell_type": "markdown",
   "metadata": {},
   "source": [
    "## Implementação quando o observador é reduzido\n",
    "\n",
    "Quando o observador usado é de ordem reduzida, as equações de estado do controlador sofrem algumas mudanças, para acomodar a suposição que um dos estados é medido e o particionamento de matrizes. \n",
    "\n",
    "A função de transferência com o observador reduzido é:\n",
    "$$\n",
    "\\begin{align*}\n",
    "C(s) &= \\mathbf{C}_r(s\\mathbf{I}-\\mathbf{A}_r)^{-1}\\mathbf{B}_r+D_r\n",
    "\\end{align*}\n",
    "$$\n",
    "onde:\n",
    "$$\n",
    "\\begin{align*}\n",
    "\\mathbf{A}_r &= \\mathbf{F}_{bb}-\\mathbf{LF}_{ab}-(\\mathbf{G}_{b}-\\mathbf{LG}_{a})\\mathbf{K}_b\\\\\n",
    "\\mathbf{B}_r &= \\mathbf{A}_{r}\\mathbf{L}+\\mathbf{F}_{ba}-\\mathbf{L}\\mathbf{F}_{aa}-(\\mathbf{G}_{b}-\\mathbf{LG}_{a}){K}_a\\\\\n",
    "\\mathbf{C}_r &= -\\mathbf{K}_b\\\\\n",
    "D_r &= -K_a-\\mathbf{K}_b\\mathbf{L}\n",
    "\\end{align*}\n",
    "$$\n"
   ]
  },
  {
   "cell_type": "markdown",
   "metadata": {},
   "source": [
    "No caso, as matrizes $\\mathbf{F}_{aa}$, $\\mathbf{F}_{ab}$, $\\mathbf{F}_{ba}$, $\\mathbf{G}_{a}$ e $\\mathbf{G}_{b}$ são provenientes do particionamento das matrizes do sistema, conforme o projeto do observador reduzido. \n",
    "\n",
    "A matriz $\\mathbf{K}_{b}$ e o ganho ${K}_{a}$ são provenientes do particionamento do vetor de ganhos do regulador. O ganho $K_a$ é o ganho associado ao estado diretamente medido (i.e. a saída) e $\\mathbf{K}_{b}$ é o restante do vetor projetado. "
   ]
  },
  {
   "cell_type": "markdown",
   "metadata": {},
   "source": [
    "<p align=\"center\">\n",
    "<img src=\"Ex7.28.svg\" width=\"80%\">\n",
    "</p>\n",
    "\n",
    "Vamos resolver usando as funções diretas de alocação de polos"
   ]
  },
  {
   "cell_type": "code",
   "execution_count": 1,
   "metadata": {},
   "outputs": [],
   "source": [
    "import numpy as np\n",
    "import control as ct"
   ]
  },
  {
   "cell_type": "code",
   "execution_count": 2,
   "metadata": {},
   "outputs": [
    {
     "data": {
      "text/plain": [
       "array([[1., 0.]])"
      ]
     },
     "execution_count": 2,
     "metadata": {},
     "output_type": "execute_result"
    }
   ],
   "source": [
    "# Define as matrizes\n",
    "F = np.array([[0,1],[0,0]],dtype=float)\n",
    "G = np.array([[0],[1]],dtype = float)\n",
    "H = np.array([[1,0]],dtype=float)\n",
    "H"
   ]
  },
  {
   "cell_type": "code",
   "execution_count": 3,
   "metadata": {},
   "outputs": [
    {
     "data": {
      "text/plain": [
       "array([[0.999698, 1.414   ]])"
      ]
     },
     "execution_count": 3,
     "metadata": {},
     "output_type": "execute_result"
    }
   ],
   "source": [
    "# Aloca os polos do regulador\n",
    "pr = -0.707+0.707j\n",
    "K = ct.acker(F,G,[pr,np.conj(pr)])\n",
    "K"
   ]
  },
  {
   "cell_type": "markdown",
   "metadata": {},
   "source": [
    "No livro os ganhos são $1$ e $\\sqrt{2}$ exatamente. Você pode conferir com o Python que os resultados decimais estão bem próximos."
   ]
  },
  {
   "cell_type": "code",
   "execution_count": 4,
   "metadata": {},
   "outputs": [
    {
     "data": {
      "text/plain": [
       "array([[ 5.],\n",
       "       [25.]])"
      ]
     },
     "execution_count": 4,
     "metadata": {},
     "output_type": "execute_result"
    }
   ],
   "source": [
    "# Projeto do observador\n",
    "wn = 5\n",
    "xi = 0.5\n",
    "po = -xi*wn+1j*wn*np.sqrt(1-xi**2)\n",
    "L = ct.acker(F.T, H.T, [po,np.conj(po)]).T\n",
    "L"
   ]
  },
  {
   "cell_type": "code",
   "execution_count": 5,
   "metadata": {},
   "outputs": [
    {
     "name": "stdout",
     "output_type": "stream",
     "text": [
      "<LinearIOSystem>: sys[2]\n",
      "Inputs (1): ['u[0]']\n",
      "Outputs (1): ['y[0]']\n",
      "States (2): ['x[0]', 'x[1]']\n",
      "\n",
      "A = [[ -5.         1.      ]\n",
      "     [-25.999698  -1.414   ]]\n",
      "\n",
      "B = [[ 5.]\n",
      "     [25.]]\n",
      "\n",
      "C = [[-0.999698 -1.414   ]]\n",
      "\n",
      "D = [[0.]]\n",
      "\n"
     ]
    },
    {
     "data": {
      "text/latex": [
       "$$\\frac{-40.35 s - 24.99}{s^2 + 6.414 s + 33.07}$$"
      ],
      "text/plain": [
       "TransferFunction(array([-40.34849, -24.99245]), array([ 1.      ,  6.414   , 33.069698]))"
      ]
     },
     "execution_count": 5,
     "metadata": {},
     "output_type": "execute_result"
    }
   ],
   "source": [
    "C = ct.ss(F - G@K - L@H,           L,           -K,              0)\n",
    "print(C)\n",
    "ct.tf(C)"
   ]
  },
  {
   "cell_type": "markdown",
   "metadata": {},
   "source": [
    "<p align=\"center\">\n",
    "<img src=\"Ex7.30.svg\" width=\"80%\">\n",
    "</p>"
   ]
  },
  {
   "cell_type": "code",
   "execution_count": 6,
   "metadata": {},
   "outputs": [
    {
     "name": "stdout",
     "output_type": "stream",
     "text": [
      "[ 1 10 16  0]\n"
     ]
    }
   ],
   "source": [
    "# Expandir o numerador para achar os coeficientes\n",
    "den = np.convolve([1,0],[1,2])\n",
    "den = np.convolve(den,[1,8])\n",
    "print(den)"
   ]
  },
  {
   "cell_type": "code",
   "execution_count": 7,
   "metadata": {},
   "outputs": [
    {
     "name": "stdout",
     "output_type": "stream",
     "text": [
      "<LinearIOSystem>: sys[4]\n",
      "Inputs (1): ['u[0]']\n",
      "Outputs (1): ['y[0]']\n",
      "States (3): ['x[0]', 'x[1]', 'x[2]']\n",
      "\n",
      "A = [[-10.   1.   0.]\n",
      "     [-16.   0.   1.]\n",
      "     [  0.   0.   0.]]\n",
      "\n",
      "B = [[ 0.]\n",
      "     [ 0.]\n",
      "     [10.]]\n",
      "\n",
      "C = [[1. 0. 0.]]\n",
      "\n",
      "D = [[0.]]\n",
      "\n"
     ]
    }
   ],
   "source": [
    "# Assim, as matrizes serão:\n",
    "F = np.array([[-10,1,0],[-16,0,1],[0,0,0]])\n",
    "G = np.array([[0],[0],[10]])\n",
    "H = np.array([[1,0,0]])\n",
    "J = 0\n",
    "\n",
    "sys = ct.ss(F,G,H,J)\n",
    "print(sys)\n"
   ]
  },
  {
   "cell_type": "code",
   "execution_count": 8,
   "metadata": {},
   "outputs": [
    {
     "name": "stdout",
     "output_type": "stream",
     "text": [
      "[[-46.4109096   5.76148    -0.65     ]]\n",
      "[[  0.51   ]\n",
      " [ 61.49   ]\n",
      " [216.26125]]\n"
     ]
    }
   ],
   "source": [
    "# Posicionamento de polos\n",
    "pc = [-1.42, -1.04+2.14j,-1.04-2.14j]\n",
    "pe = [-4.25, -3.13+6.41j,-3.13-6.41j]\n",
    "\n",
    "K = ct.acker(F,G,pc)\n",
    "L = ct.acker(F.T,H.T,pe).T\n",
    "\n",
    "print(K)\n",
    "print(L)"
   ]
  },
  {
   "cell_type": "code",
   "execution_count": 9,
   "metadata": {},
   "outputs": [
    {
     "name": "stdout",
     "output_type": "stream",
     "text": [
      "<LinearIOSystem>: sys[5]\n",
      "Inputs (1): ['u[0]']\n",
      "Outputs (1): ['y[0]']\n",
      "States (3): ['x[0]', 'x[1]', 'x[2]']\n",
      "\n",
      "A = [[-10.51       1.         0.      ]\n",
      "     [-77.49       0.         1.      ]\n",
      "     [247.847846 -57.6148     6.5     ]]\n",
      "\n",
      "B = [[  0.51   ]\n",
      "     [ 61.49   ]\n",
      "     [216.26125]]\n",
      "\n",
      "C = [[46.4109096 -5.76148    0.65     ]]\n",
      "\n",
      "D = [[0.]]\n",
      "\n"
     ]
    },
    {
     "data": {
      "text/latex": [
       "$$\\frac{-190 s^2 - 482.2 s - 173.9}{s^3 + 4.01 s^2 + 66.79 s - 146}$$"
      ],
      "text/plain": [
       "TransferFunction(array([-190.0340288 , -482.20028555, -173.85034277]), array([   1.      ,    4.01    ,   66.7898  , -146.001298]))"
      ]
     },
     "execution_count": 9,
     "metadata": {},
     "output_type": "execute_result"
    }
   ],
   "source": [
    "# Montagem do controlador e função de transferência\n",
    "Fc = F-G@K-L@H\n",
    "Gc = L\n",
    "Hc = -K\n",
    "\n",
    "comp = ct.ss(Fc,Gc,Hc,0)\n",
    "print(comp)\n",
    "\n",
    "C = ct.tf(comp)\n",
    "C"
   ]
  },
  {
   "cell_type": "code",
   "execution_count": 15,
   "metadata": {},
   "outputs": [
    {
     "name": "stdout",
     "output_type": "stream",
     "text": [
      "_____Eigenvalue______ Damping___ Frequency_\n",
      "    -2.943    +8.317j     0.3336      8.822\n",
      "    -2.943    -8.317j     0.3336      8.822\n",
      "     1.876                     1     -1.876\n"
     ]
    },
    {
     "data": {
      "text/plain": [
       "array([-2.10227638+0.j, -0.43516541+0.j])"
      ]
     },
     "execution_count": 15,
     "metadata": {},
     "output_type": "execute_result"
    }
   ],
   "source": [
    "tab=ct.damp(C)\n",
    "ct.zeros(C)"
   ]
  },
  {
   "cell_type": "code",
   "execution_count": 18,
   "metadata": {},
   "outputs": [
    {
     "name": "stdout",
     "output_type": "stream",
     "text": [
      "<LinearIOSystem>: sys[9]\n",
      "Inputs (1): ['u[0]']\n",
      "Outputs (1): ['y[0]']\n",
      "States (6): ['x[0]', 'x[1]', 'x[2]', 'x[3]', 'x[4]', 'x[5]']\n",
      "\n",
      "A = [[-10.         1.         0.         0.         0.         0.      ]\n",
      "     [-16.         0.         1.         0.         0.         0.      ]\n",
      "     [  0.         0.         0.       464.109096 -57.6148     6.5     ]\n",
      "     [  0.51       0.         0.       -10.51       1.         0.      ]\n",
      "     [ 61.49       0.         0.       -77.49       0.         1.      ]\n",
      "     [216.26125    0.         0.       247.847846 -57.6148     6.5     ]]\n",
      "\n",
      "B = [[0.]\n",
      "     [0.]\n",
      "     [0.]\n",
      "     [0.]\n",
      "     [0.]\n",
      "     [0.]]\n",
      "\n",
      "C = [[1. 0. 0. 0. 0. 0.]]\n",
      "\n",
      "D = [[0.]]\n",
      "\n"
     ]
    }
   ],
   "source": [
    "# Analisa o sistema em malha fechada\n",
    "#F1 = np.concatenate((F,-G@K),axis=1)\n",
    "#F2 = np.concatenate((L@H, F-G@K-L@H),axis=1)\n",
    "Fmf = np.block([[F,-G@K],[L@H,F-G@K-L@H]])\n",
    "#Fmf = np.concatenate((F1,F2),axis=0)\n",
    "Gmf = np.zeros((2*G.size,1))\n",
    "Hmf = np.concatenate((H,np.zeros((1,3))),axis=1)\n",
    "Hmf = np.block([H,np.zeros((H.shape))])\n",
    "MF = ct.ss(Fmf,Gmf,Hmf,0)\n",
    "print(MF)"
   ]
  },
  {
   "cell_type": "code",
   "execution_count": 19,
   "metadata": {},
   "outputs": [
    {
     "name": "stdout",
     "output_type": "stream",
     "text": [
      "_____Eigenvalue______ Damping___ Frequency_\n",
      "     -3.13     +6.41j     0.4388      7.133\n",
      "     -3.13     -6.41j     0.4388      7.133\n",
      "     -4.25                     1       4.25\n",
      "     -1.04     +2.14j     0.4371      2.379\n",
      "     -1.04     -2.14j     0.4371      2.379\n",
      "     -1.42                     1       1.42\n"
     ]
    }
   ],
   "source": [
    "tab=ct.damp(MF)"
   ]
  },
  {
   "cell_type": "code",
   "execution_count": 12,
   "metadata": {},
   "outputs": [
    {
     "data": {
      "text/plain": [
       "array([], dtype=float64)"
      ]
     },
     "execution_count": 12,
     "metadata": {},
     "output_type": "execute_result"
    }
   ],
   "source": [
    "ct.zeros(MF)"
   ]
  }
 ],
 "metadata": {
  "kernelspec": {
   "display_name": "Python 3.9.12 ('base')",
   "language": "python",
   "name": "python3"
  },
  "language_info": {
   "codemirror_mode": {
    "name": "ipython",
    "version": 3
   },
   "file_extension": ".py",
   "mimetype": "text/x-python",
   "name": "python",
   "nbconvert_exporter": "python",
   "pygments_lexer": "ipython3",
   "version": "3.9.12 (main, Apr  4 2022, 05:22:27) [MSC v.1916 64 bit (AMD64)]"
  },
  "orig_nbformat": 4,
  "vscode": {
   "interpreter": {
    "hash": "3e3763a57b4ffe0d06e963ec4b7f8ef3a748cbfdb342037439726ee83e94c05b"
   }
  }
 },
 "nbformat": 4,
 "nbformat_minor": 2
}
