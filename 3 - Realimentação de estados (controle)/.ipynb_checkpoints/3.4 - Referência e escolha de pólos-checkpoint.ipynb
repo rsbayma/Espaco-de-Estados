{
 "cells": [
  {
   "cell_type": "markdown",
   "metadata": {},
   "source": [
    "# **Introdução da referência**"
   ]
  },
  {
   "cell_type": "markdown",
   "metadata": {},
   "source": [
    "Até agora vimos como resolver o problema da regulação de estados apenas para zerar o estado final. No entanto, o objetivo do controle é fazer a saída rastrear a referência $r$.\n",
    "\n",
    "Uma forma simples de fazer isso é usando o sinal de controle:\n",
    "\n",
    "$$\n",
    "\\begin{align*}\n",
    "u &= -\\mathbf{Kx}+(N_u+\\mathbf{K}\\mathbf{N_x})r\n",
    "\\end{align*}\n",
    "$$\n",
    "onde $\\mathbf{K}$ é o vetor de ganhos conforme já definimos e $N_u$ e $\\mathbf{N_x}$ são as soluções do sistema\n",
    "\n",
    "$$\n",
    "\\begin{align*}\n",
    "\\left[\\begin{array}{cc}\\mathbf{A} & \\mathbf{B}\\\\ \\mathbf{C} & D \\end{array}\\right]\n",
    "\\left[\\begin{array}{cc}\\mathbf{N_x}\\\\ N_u\\end{array}\\right] = \n",
    "\\left[\\begin{array}{cc}\\mathbf{0}\\\\ 1\\end{array}\\right]\n",
    "\\end{align*}\n",
    "$$\n",
    "\n",
    "Se tiver interesse, a dedução para o método é simples e pode ser encontrada na seção 7.5.2 do livro texto.\n",
    "\n",
    "É interessante visualizar como essa estratégia funciona do ponto de vista da rota de sinal. Estude a figura 7.15 a seguir:\n",
    "<p align=\"center\">\n",
    "<img src=\"Fig7.15.svg\" width=\"100%\">\n",
    "</p>\n",
    "\n",
    "Repare que a parte (b) da figura é apenas uma simplificação, mostrando que o controle funciona como uma realimentação negativa normal do sistema, mas a referência entra na malha multiplicada por uma constante."
   ]
  },
  {
   "cell_type": "markdown",
   "metadata": {},
   "source": [
    "## **Exemplo**"
   ]
  },
  {
   "cell_type": "markdown",
   "metadata": {},
   "source": [
    "<p align=\"center\">\n",
    "<img src=\"Ex.7.18.svg\" width=\"80%\">\n",
    "</p>\n",
    "\n",
    "Esse é o sistema do pêndulo novamente. As matrizes $\\mathbf{A}$ e $\\mathbf{B}$ já são conhecidas. Também usaremos:\n",
    "\n",
    "$$\n",
    "\\begin{align*}\n",
    "\\mathbf{C} &=\\left[\\begin{array}{cc}1 & 0\\end{array}\\right]\\\\\n",
    "D &=0\n",
    "\\end{align*}\n",
    "$$"
   ]
  },
  {
   "cell_type": "markdown",
   "metadata": {},
   "source": [
    "Para resolver o problema vamos resolver o sistema de equações como $\\mathbf{M}^{-1}\\mathbf{v}$, onde:\n",
    "\n",
    "$$\n",
    "\\begin{align*}\n",
    "\\mathbf{M} &= \\left[\\begin{array}{cc}\\mathbf{A} & \\mathbf{B}\\\\ \\mathbf{C} & D\\end{array}\\right]\\\\\n",
    "\\mathbf{v} &=\\left[\\begin{array}{ccc}0 & 0 & 1\\end{array}\\right]^T \n",
    "\\end{align*}\n",
    "$$\n"
   ]
  },
  {
   "cell_type": "code",
   "execution_count": 1,
   "metadata": {
    "code_folding": [
     0
    ]
   },
   "outputs": [],
   "source": [
    "# Imports\n",
    "import numpy as np\n",
    "from escrever import *\n",
    "from IPython.display import display, Math\n",
    "esc = escrever()"
   ]
  },
  {
   "cell_type": "code",
   "execution_count": 2,
   "metadata": {
    "code_folding": [
     0
    ]
   },
   "outputs": [],
   "source": [
    "# Define as matrizes do sistema\n",
    "w0 = 1\n",
    "A = np.matrix([[0,1],[-w0**2,0]])\n",
    "B = np.matrix([[0],[1]])\n",
    "C = np.matrix([1,0])\n",
    "D = np.matrix([0])"
   ]
  },
  {
   "cell_type": "code",
   "execution_count": 4,
   "metadata": {
    "code_folding": [
     0
    ]
   },
   "outputs": [
    {
     "data": {
      "text/latex": [
       "$\\displaystyle \\mathbf{M} = \\left[\\begin{array}{rrr}0&1&0\\\\-1&0&1\\\\1&0&0\\\\\\end{array}\\right]$"
      ],
      "text/plain": [
       "<IPython.core.display.Math object>"
      ]
     },
     "metadata": {},
     "output_type": "display_data"
    }
   ],
   "source": [
    "# Constroi a matriz usando blocos\n",
    "M = np.block([[A,B],[C,D]])\n",
    "display(Math(r'\\mathbf{M} = ' + esc.mat(M)))"
   ]
  },
  {
   "cell_type": "code",
   "execution_count": 6,
   "metadata": {
    "code_folding": [
     0
    ],
    "run_control": {
     "marked": false
    }
   },
   "outputs": [
    {
     "data": {
      "text/latex": [
       "$\\displaystyle \\mathbf{v} = \\left[\\begin{array}{r}0\\\\0\\\\1\\\\\\end{array}\\right]$"
      ],
      "text/plain": [
       "<IPython.core.display.Math object>"
      ]
     },
     "metadata": {},
     "output_type": "display_data"
    }
   ],
   "source": [
    "# Define o lado direito da equação\n",
    "v = np.matrix([0,0,1]).T\n",
    "display(Math(r'\\mathbf{v} = ' + esc.mat(v)))"
   ]
  },
  {
   "cell_type": "code",
   "execution_count": 14,
   "metadata": {
    "code_folding": [
     0
    ]
   },
   "outputs": [
    {
     "data": {
      "text/latex": [
       "$\\displaystyle \\mathbf{N} = \\left[\\begin{array}{r}1.0\\\\0.0\\\\1.0\\\\\\end{array}\\right]$"
      ],
      "text/plain": [
       "<IPython.core.display.Math object>"
      ]
     },
     "metadata": {},
     "output_type": "display_data"
    }
   ],
   "source": [
    "# Resolve o sistema linear para achar o vetor N\n",
    "NN = np.linalg.solve(M,v)\n",
    "display(Math(r'\\mathbf{N} = ' + esc.mat(NN)))"
   ]
  },
  {
   "cell_type": "code",
   "execution_count": 15,
   "metadata": {
    "code_folding": []
   },
   "outputs": [
    {
     "data": {
      "text/latex": [
       "$\\displaystyle \\mathbf{N_x} = \\left[\\begin{array}{r}1.0\\\\0.0\\\\\\end{array}\\right]$"
      ],
      "text/plain": [
       "<IPython.core.display.Math object>"
      ]
     },
     "metadata": {},
     "output_type": "display_data"
    }
   ],
   "source": [
    "# Separa Nx\n",
    "Nx = NN[0:2]\n",
    "display(Math(r'\\mathbf{N_x} = ' + esc.mat(Nx)))"
   ]
  },
  {
   "cell_type": "code",
   "execution_count": 16,
   "metadata": {
    "code_folding": [
     0
    ]
   },
   "outputs": [
    {
     "data": {
      "text/latex": [
       "$\\displaystyle \\mathbf{N_u} = \\left[\\begin{array}{r}1.0\\\\\\end{array}\\right]$"
      ],
      "text/plain": [
       "<IPython.core.display.Math object>"
      ]
     },
     "metadata": {},
     "output_type": "display_data"
    }
   ],
   "source": [
    "# Separa Nu\n",
    "Nu = NN[-1]\n",
    "display(Math(r'\\mathbf{N_u} = ' + esc.mat(Nu)))"
   ]
  },
  {
   "cell_type": "code",
   "execution_count": 17,
   "metadata": {
    "code_folding": [
     0
    ]
   },
   "outputs": [
    {
     "data": {
      "text/latex": [
       "$\\displaystyle \\mathbf{K} = \\left[\\begin{array}{rr}3&4\\\\\\end{array}\\right]$"
      ],
      "text/plain": [
       "<IPython.core.display.Math object>"
      ]
     },
     "metadata": {},
     "output_type": "display_data"
    }
   ],
   "source": [
    "# O ganho de realimentação de estados já havia sido calculado\n",
    "K = np.matrix([3*w0**2,4*w0])\n",
    "display(Math(r'\\mathbf{K} = ' + esc.mat(K)))"
   ]
  },
  {
   "cell_type": "code",
   "execution_count": 28,
   "metadata": {
    "code_folding": [
     0
    ],
    "run_control": {
     "marked": false
    }
   },
   "outputs": [
    {
     "data": {
      "text/latex": [
       "$\\displaystyle N = N_u+ \\mathbf{K}\\mathbf{N_x} = 1.0 + \\left[\\begin{array}{rr}3&4\\\\\\end{array}\\right]\\left[\\begin{array}{r}1.0\\\\0.0\\\\\\end{array}\\right] = 4.0$"
      ],
      "text/plain": [
       "<IPython.core.display.Math object>"
      ]
     },
     "metadata": {},
     "output_type": "display_data"
    }
   ],
   "source": [
    "# Pode-se agora calcular o \"ganho\" da referência\n",
    "N = (Nu+K@Nx)[0,0]\n",
    "eq1 = r'N = N_u+ \\mathbf{K}\\mathbf{N_x} = '\n",
    "eq2 = f'{Nu[0,0]}' + ' + ' + esc.mat(K) + esc.mat(Nx) + ' = ' \n",
    "eq3 = f'{(Nu+K@Nx)[0,0]}'\n",
    "display(Math(eq1 + eq2 + eq3))"
   ]
  },
  {
   "cell_type": "markdown",
   "metadata": {},
   "source": [
    "É interessante testar o projeto agora usando uma resposta ao degrau. Porém, note que para isso, precisamos definir o sistema em malha fechada.\n",
    "\n",
    "Em malha fechada as matrizes não serão as mesmas. A matriz $\\mathbf{A}$ muda pois o sistema teve os estados realimentados. Além disso, a referência passa a ser a nossa entrada, já que o sinal $u$ foi substituido por $u=-\\mathbf{Kx}+Nr$. A saída permanence a mesma $y=x_1$. \n",
    "\n",
    "Observe no código abaixo como o sistema é definido antes de calcular a resposta ao degrau."
   ]
  },
  {
   "cell_type": "code",
   "execution_count": 31,
   "metadata": {
    "code_folding": [
     0
    ],
    "run_control": {
     "marked": false
    }
   },
   "outputs": [
    {
     "data": {
      "text/latex": [
       "$\\displaystyle \\mathbf{A}_{\\text{mf}} = \\mathbf{A-BK} = \\left[\\begin{array}{rr}0&1\\\\-1&0\\\\\\end{array}\\right]-\\left[\\begin{array}{r}0\\\\1\\\\\\end{array}\\right]\\left[\\begin{array}{rr}3&4\\\\\\end{array}\\right]$"
      ],
      "text/plain": [
       "<IPython.core.display.Math object>"
      ]
     },
     "metadata": {},
     "output_type": "display_data"
    },
    {
     "data": {
      "text/latex": [
       "$\\displaystyle \\mathbf{A}_{\\text{mf}} = \\left[\\begin{array}{rr}0&1\\\\-4&-4\\\\\\end{array}\\right]$"
      ],
      "text/plain": [
       "<IPython.core.display.Math object>"
      ]
     },
     "metadata": {},
     "output_type": "display_data"
    },
    {
     "data": {
      "text/latex": [
       "$\\displaystyle \\mathbf{B}_{\\text{mf}} = \\mathbf{B}N = \\left[\\begin{array}{r}0\\\\1\\\\\\end{array}\\right]4.0=\\left[\\begin{array}{r}0.0\\\\4.0\\\\\\end{array}\\right]$"
      ],
      "text/plain": [
       "<IPython.core.display.Math object>"
      ]
     },
     "metadata": {},
     "output_type": "display_data"
    }
   ],
   "source": [
    "# Calcula as matrizes de malha fechada\n",
    "Amf = A - B@K\n",
    "Bmf = B*N\n",
    "display(Math(r'\\mathbf{A}_{\\text{mf}} = \\mathbf{A-BK} = ' + esc.mat(A) + '-' + esc.mat(B) + esc.mat(K)))\n",
    "display(Math(r'\\mathbf{A}_{\\text{mf}} = ' + esc.mat(Amf) ))\n",
    "display(Math(r'\\mathbf{B}_{\\text{mf}} = \\mathbf{B}N = ' + esc.mat(B) + f'{N}' + '=' + esc.mat(Bmf)))"
   ]
  },
  {
   "cell_type": "code",
   "execution_count": 32,
   "metadata": {
    "code_folding": [
     0
    ]
   },
   "outputs": [
    {
     "data": {
      "text/latex": [
       "$\\displaystyle \\dot{\\mathbf{x}} = \\left[\\begin{array}{rr}0&1\\\\-4&-4\\\\\\end{array}\\right]\\mathbf{x}+\\left[\\begin{array}{r}0.0\\\\4.0\\\\\\end{array}\\right]\\mathbf{u}$"
      ],
      "text/plain": [
       "<IPython.core.display.Math object>"
      ]
     },
     "metadata": {},
     "output_type": "display_data"
    },
    {
     "data": {
      "text/latex": [
       "$\\displaystyle \\mathbf{y} = \\left[\\begin{array}{rr}1&0\\\\\\end{array}\\right]\\mathbf{x} + \\left[\\begin{array}{r}0\\\\\\end{array}\\right]\\mathbf{u}$"
      ],
      "text/plain": [
       "<IPython.core.display.Math object>"
      ]
     },
     "metadata": {},
     "output_type": "display_data"
    }
   ],
   "source": [
    "# Define o sistema em MF e calcula resposta ao degrau unitário\n",
    "import control as ct\n",
    "sys = ct.ss(Amf,Bmf,C,D)\n",
    "esc.sist(Amf,Bmf,C,D)"
   ]
  },
  {
   "cell_type": "code",
   "execution_count": 34,
   "metadata": {
    "code_folding": [
     0
    ],
    "run_control": {
     "marked": false
    }
   },
   "outputs": [
    {
     "name": "stdout",
     "output_type": "stream",
     "text": [
      "_____Eigenvalue______ Damping___ Frequency_\n",
      "        -2                     1          2\n",
      "        -2                     1          2\n"
     ]
    }
   ],
   "source": [
    "# Relatório de pólos em MF\n",
    "tab = ct.damp(sys)"
   ]
  },
  {
   "cell_type": "code",
   "execution_count": 35,
   "metadata": {
    "code_folding": [
     0
    ],
    "run_control": {
     "marked": false
    }
   },
   "outputs": [
    {
     "data": {
      "text/plain": [
       "array([], dtype=complex128)"
      ]
     },
     "execution_count": 35,
     "metadata": {},
     "output_type": "execute_result"
    }
   ],
   "source": [
    "# Zeros de transmissão\n",
    "ct.zeros(sys)"
   ]
  },
  {
   "cell_type": "markdown",
   "metadata": {},
   "source": [
    "O sistema não tem zeros e os pólos foram alocados em $-2$ e $-2$."
   ]
  },
  {
   "cell_type": "code",
   "execution_count": 36,
   "metadata": {
    "code_folding": [
     0
    ]
   },
   "outputs": [],
   "source": [
    "# Simula o sistema para uma resposta ao degrau\n",
    "t,y = ct.step_response(sys,7)"
   ]
  },
  {
   "cell_type": "code",
   "execution_count": 37,
   "metadata": {
    "code_folding": [
     0
    ]
   },
   "outputs": [
    {
     "data": {
      "text/plain": [
       "<matplotlib.legend.Legend at 0x20b8df6ba90>"
      ]
     },
     "execution_count": 37,
     "metadata": {},
     "output_type": "execute_result"
    },
    {
     "data": {
      "image/png": "[encoded data removed]",
      "text/plain": [
       "<Figure size 640x480 with 1 Axes>"
      ]
     },
     "metadata": {},
     "output_type": "display_data"
    }
   ],
   "source": [
    "# Plota os resultados, com algumas legendas\n",
    "import matplotlib.pyplot as plt\n",
    "plt.plot(t,y)\n",
    "plt.grid()\n",
    "plt.xlabel('Tempo (seg)')\n",
    "plt.ylabel('Saída')\n",
    "plt.legend('y')"
   ]
  },
  {
   "cell_type": "markdown",
   "metadata": {},
   "source": [
    "Observação: se quisermos obter os outros sinais do sistema, tais como o sinal de controle usado e os estados, basta definir uma matriz $\\mathbf{C = -K}$. Isso é apenas para forçar o programa de simulação a devolver esses resultados e não realmente definir uma saída nova para o sistema, com significado físico novo."
   ]
  }
 ],
 "metadata": {
  "kernelspec": {
   "display_name": "Python 3 (ipykernel)",
   "language": "python",
   "name": "python3"
  },
  "language_info": {
   "codemirror_mode": {
    "name": "ipython",
    "version": 3
   },
   "file_extension": ".py",
   "mimetype": "text/x-python",
   "name": "python",
   "nbconvert_exporter": "python",
   "pygments_lexer": "ipython3",
   "version": "3.11.1"
  },
  "vscode": {
   "interpreter": {
    "hash": "e1735dd0795dce195fb98475ccf229151ed44a61fb274eb18cdb7c8302916985"
   }
  }
 },
 "nbformat": 4,
 "nbformat_minor": 2
}
