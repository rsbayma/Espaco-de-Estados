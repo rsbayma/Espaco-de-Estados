{
 "cells": [
  {
   "cell_type": "markdown",
   "metadata": {},
   "source": [
    "# **Escolha dos pólos**\n",
    "\n",
    "Deve estar claro até aqui que o sucesso do controle depende da escolha adequada do polinômio de malha fechada desejado. Esse polinômio deve ser construído tendo em mente todos os pólos de malha fechada desejados, não apenas os dominantes. \n",
    "\n",
    "Isso é importante quando temos um sistema de ordem maior que 2: os pólos que não serão dominantes devem ser escolhidos suficientemente distantes dos candidatos a dominantes.\n"
   ]
  },
  {
   "cell_type": "markdown",
   "metadata": {},
   "source": [
    "\n",
    "Uma regra prática é, após escolher os dominantes, escolher os demais como reais, com a parte real de 3 a 5 vezes maior que a parte real dos dominantes. \n",
    "\n",
    "Lembre-se, porém, que se o deslocamento desses novos polos for muito grande em relação a posição inicial de malha aberta, os ganhos vão aumentar e consequentemente o sinal de controle vai \"puxar\" mais energia.\n"
   ]
  },
  {
   "cell_type": "markdown",
   "metadata": {},
   "source": [
    "\n",
    "Outra coisa a se ter em mente na hora de escolher pólos de malha fechada são os zeros do sistema. **A realimentação de estados não altera a posição dos zeros**, isto é, se você não cancelar os zeros de malha aberta, eles permanecerão na mesma posição em malha fechada. \n",
    "\n",
    "Se os zeros (em malha aberta ou fechada, tanto faz) estiverem próximos dos pólos dominantes em malha fechada, a dinâmica que você projetou não irá funcionar (normalmente o overshoot será mais alto do que o projetado).\n",
    "\n",
    "Uma forma de lidar com isso é posicionar um pólo extra sobre o zero que está atrapalhando seu projeto, mas **apenas se o zero for estável!** O cancelamento vai criar um pequeno problema de controlabilidade, mas desde que tudo seja estável, não haverá problema. \n",
    "\n",
    "Note que devido às incertezas e os arredondamentos de projeto, podemos ter que fazer novas escolhas de polos até achar uma combinação que se ajuste ao que precisamos."
   ]
  },
  {
   "cell_type": "markdown",
   "metadata": {},
   "source": [
    "## **Exemplo**\n",
    "<p align=\"center\">\n",
    "<img src=\"Ex7.20.svg\" width=\"80%\">\n",
    "</p>\n",
    "\n",
    "Resolvemos no código abaixo"
   ]
  },
  {
   "cell_type": "code",
   "execution_count": 1,
   "metadata": {
    "code_folding": [
     0
    ]
   },
   "outputs": [],
   "source": [
    "# Imports\n",
    "import control as ct\n",
    "import numpy as np\n",
    "from escrever import *\n",
    "from IPython.display import display, Math\n",
    "\n",
    "esc = escrever()"
   ]
  },
  {
   "cell_type": "code",
   "execution_count": 2,
   "metadata": {
    "code_folding": [
     0
    ]
   },
   "outputs": [
    {
     "data": {
      "text/latex": [
       "$\\displaystyle \\dot{\\mathbf{x}} = \\left[\\begin{array}{rrrrr}0.0&2.0&0.0&0.0&0.0\\\\-0.1&-0.35&0.1&0.1&0.75\\\\0.0&0.0&0.0&2.0&0.0\\\\0.4&0.4&-0.4&-1.4&0.0\\\\0.0&-0.03&0.0&0.0&-1.0\\\\\\end{array}\\right]\\mathbf{x}+\\left[\\begin{array}{r}0\\\\0\\\\0\\\\0\\\\1\\\\\\end{array}\\right]\\mathbf{u}$"
      ],
      "text/plain": [
       "<IPython.core.display.Math object>"
      ]
     },
     "metadata": {},
     "output_type": "display_data"
    },
    {
     "data": {
      "text/latex": [
       "$\\displaystyle \\mathbf{y} = \\left[\\begin{array}{rrrrr}1&0&0&0&0\\\\\\end{array}\\right]\\mathbf{x} + \\left[\\begin{array}{r}0\\\\\\end{array}\\right]\\mathbf{u}$"
      ],
      "text/plain": [
       "<IPython.core.display.Math object>"
      ]
     },
     "metadata": {},
     "output_type": "display_data"
    }
   ],
   "source": [
    "# Sistema\n",
    "A = np.array([  [0, 2, 0, 0, 0],\n",
    "                [-.1, -.35, .1, .1, .75], \n",
    "                [0, 0, 0, 2, 0],\n",
    "                [.4, .4, -.4, -1.4, 0],\n",
    "                [0, -.03, 0, 0, -1]     ],dtype=float)\n",
    "B = np.array([[0],[0],[0],[0],[1]])\n",
    "C = np.array([[1,0,0,0,0]])\n",
    "D = np.array([[0]])\n",
    "esc.sist(A,B,C,D)"
   ]
  },
  {
   "cell_type": "code",
   "execution_count": 3,
   "metadata": {
    "code_folding": [
     0
    ]
   },
   "outputs": [
    {
     "data": {
      "text/latex": [
       "$\\displaystyle \\xi = 0.707$"
      ],
      "text/plain": [
       "<IPython.core.display.Math object>"
      ]
     },
     "metadata": {},
     "output_type": "display_data"
    },
    {
     "data": {
      "text/latex": [
       "$\\displaystyle \\omega_n = 0.8696$"
      ],
      "text/plain": [
       "<IPython.core.display.Math object>"
      ]
     },
     "metadata": {},
     "output_type": "display_data"
    },
    {
     "data": {
      "text/latex": [
       "$\\displaystyle s = (-0.6148+0.7072j)$"
      ],
      "text/plain": [
       "<IPython.core.display.Math object>"
      ]
     },
     "metadata": {},
     "output_type": "display_data"
    }
   ],
   "source": [
    "# Polos desejados\n",
    "xi = 0.707\n",
    "wn = 1/1.15\n",
    "p = -xi*wn+1j*wn*np.sqrt(1-xi**2)\n",
    "esc.polos(xi,wn)\n"
   ]
  },
  {
   "cell_type": "code",
   "execution_count": 4,
   "metadata": {
    "code_folding": [
     0
    ]
   },
   "outputs": [
    {
     "data": {
      "text/latex": [
       "$\\displaystyle \\left[\\begin{array}{r}(-0.6148+0.615j)\\\\(-0.6148-0.615j)\\\\(-2.4591+0j)\\\\(-2.4591+0j)\\\\(-2.4591+0j)\\\\\\end{array}\\right]$"
      ],
      "text/plain": [
       "<IPython.core.display.Math object>"
      ]
     },
     "metadata": {},
     "output_type": "display_data"
    }
   ],
   "source": [
    "# Polos de malha fechada desejados. \n",
    "polos_dom = np.array([[p, np.conjugate(p)]])\n",
    "polos_extras = np.array([[np.real(p)*4]*3])\n",
    "polos_mf = np.block([polos_dom,polos_extras])\n",
    "display(Math(esc.mat(polos_mf.T.round(decimals=4))))"
   ]
  },
  {
   "cell_type": "code",
   "execution_count": 5,
   "metadata": {
    "code_folding": [
     0
    ]
   },
   "outputs": [
    {
     "data": {
      "text/latex": [
       "$\\displaystyle \\mathbf{K} = \\left[\\begin{array}{rrrrr}8.1004&19.3292&1.2702&-0.2139&5.857\\\\\\end{array}\\right]$"
      ],
      "text/plain": [
       "<IPython.core.display.Math object>"
      ]
     },
     "metadata": {},
     "output_type": "display_data"
    }
   ],
   "source": [
    "# Faz a alocação de polos\n",
    "K = ct.acker(A,B,polos_mf[0,:])\n",
    "display(Math(r'\\mathbf{K} = ' + esc.mat(K.round(decimals=4))))"
   ]
  },
  {
   "cell_type": "markdown",
   "metadata": {},
   "source": [
    "**Os valores são um pouco diferentes do livro. Tente descobrir a razão**\n",
    "\n",
    "A seguir vamos calcular o ganho da referência e depois definir o sistema em malha fechada para estudar a resposta da saída e do sinal de controle"
   ]
  },
  {
   "cell_type": "code",
   "execution_count": 6,
   "metadata": {
    "code_folding": [
     0
    ]
   },
   "outputs": [
    {
     "data": {
      "text/latex": [
       "$\\displaystyle \\left[\\begin{array}{rrrrrr}0.0&2.0&0.0&0.0&0.0&0.0\\\\-0.1&-0.35&0.1&0.1&0.75&0.0\\\\0.0&0.0&0.0&2.0&0.0&0.0\\\\0.4&0.4&-0.4&-1.4&0.0&0.0\\\\0.0&-0.03&0.0&0.0&-1.0&1.0\\\\1.0&0.0&0.0&0.0&0.0&0.0\\\\\\end{array}\\right]\\mathbf{N} = \\left[\\begin{array}{r}0.0\\\\0.0\\\\0.0\\\\0.0\\\\0.0\\\\1.0\\\\\\end{array}\\right]$"
      ],
      "text/plain": [
       "<IPython.core.display.Math object>"
      ]
     },
     "metadata": {},
     "output_type": "display_data"
    },
    {
     "data": {
      "text/latex": [
       "$\\displaystyle \\mathbf{N} = \\left[\\begin{array}{r}1.0\\\\0.0\\\\1.0\\\\0.0\\\\-0.0\\\\0.0\\\\\\end{array}\\right]\\Rightarrow\\quad \\mathbf{N_x} = \\left[\\begin{array}{r}1.0\\\\0.0\\\\1.0\\\\0.0\\\\-0.0\\\\\\end{array}\\right],\\quad N_u = 0.0$"
      ],
      "text/plain": [
       "<IPython.core.display.Math object>"
      ]
     },
     "metadata": {},
     "output_type": "display_data"
    },
    {
     "data": {
      "text/latex": [
       "$\\displaystyle N = 9.3706$"
      ],
      "text/plain": [
       "<IPython.core.display.Math object>"
      ]
     },
     "metadata": {},
     "output_type": "display_data"
    }
   ],
   "source": [
    "# Cálculo do ganho de referência. \n",
    "# Mesmo do anterior, mas readequado para as dimensões do problema\n",
    "n = A.shape[0]\n",
    "M = np.block([[A,B],[C,D]])\n",
    "v = np.block([[np.zeros((n,1))],[1]])\n",
    "\n",
    "NN = np.linalg.solve(M, v)\n",
    "\n",
    "Nx = NN[0:n]\n",
    "Nu = NN[-1]\n",
    "N = Nu+K@Nx\n",
    "display(Math(esc.mat(M) + r'\\mathbf{N} = ' + esc.mat(v)))\n",
    "str = r'\\mathbf{N} = ' + esc.mat(NN)\n",
    "str += r'\\Rightarrow\\quad \\mathbf{N_x} = ' + esc.mat(Nx)\n",
    "str += r',\\quad N_u = ' + f'{Nu[0]}'\n",
    "display(Math(str))\n",
    "display(Math(r'N = ' + '{:1.5}'.format(N[0,0])))"
   ]
  },
  {
   "cell_type": "code",
   "execution_count": 7,
   "metadata": {
    "code_folding": [
     0
    ]
   },
   "outputs": [
    {
     "data": {
      "text/latex": [
       "$\\displaystyle \\dot{\\mathbf{x}} = \\left[\\begin{array}{rrrrr}0.0&2.0&0.0&0.0&0.0\\\\-0.1&-0.35&0.1&0.1&0.75\\\\0.0&0.0&0.0&2.0&0.0\\\\0.4&0.4&-0.4&-1.4&0.0\\\\-8.1004&-19.3592&-1.2702&0.2139&-6.857\\\\\\end{array}\\right]\\mathbf{x}+\\left[\\begin{array}{r}0.0\\\\0.0\\\\0.0\\\\0.0\\\\9.3706\\\\\\end{array}\\right]\\mathbf{u}$"
      ],
      "text/plain": [
       "<IPython.core.display.Math object>"
      ]
     },
     "metadata": {},
     "output_type": "display_data"
    },
    {
     "data": {
      "text/latex": [
       "$\\displaystyle \\mathbf{y} = \\left[\\begin{array}{rrrrr}1&0&0&0&0\\\\\\end{array}\\right]\\mathbf{x} + \\left[\\begin{array}{r}0.0\\\\\\end{array}\\right]\\mathbf{u}$"
      ],
      "text/plain": [
       "<IPython.core.display.Math object>"
      ]
     },
     "metadata": {},
     "output_type": "display_data"
    }
   ],
   "source": [
    "# Sistema em malha fechada\n",
    "Amf = A - B@K\n",
    "Bmf = B*N\n",
    "Cmf = C\n",
    "Dmf = np.zeros((1,1))\n",
    "\n",
    "sys = ct.ss(Amf,Bmf,Cmf,Dmf)\n",
    "esc.sist(Amf.round(decimals=4),Bmf.round(decimals=4),Cmf.round(decimals=4),Dmf)"
   ]
  },
  {
   "cell_type": "code",
   "execution_count": 8,
   "metadata": {
    "code_folding": [
     0
    ]
   },
   "outputs": [
    {
     "name": "stdout",
     "output_type": "stream",
     "text": [
      "_____Eigenvalue______ Damping___ Frequency_\n",
      "    -2.459                     1      2.459\n",
      "    -2.459 +2.17e-05j          1      2.459\n",
      "    -2.459 -2.17e-05j          1      2.459\n",
      "   -0.6148    +0.615j      0.707     0.8696\n",
      "   -0.6148    -0.615j      0.707     0.8696\n",
      "\n",
      "Zeros: \n"
     ]
    },
    {
     "data": {
      "text/latex": [
       "$\\displaystyle \\left[\\begin{array}{r}(-0.7+0.5568j)\\\\(-0.7-0.5568j)\\\\\\end{array}\\right]$"
      ],
      "text/plain": [
       "<IPython.core.display.Math object>"
      ]
     },
     "metadata": {},
     "output_type": "display_data"
    },
    {
     "name": "stdout",
     "output_type": "stream",
     "text": [
      "\n",
      "Step Info\n"
     ]
    },
    {
     "data": {
      "text/plain": [
       "{'RiseTime': 1.5652270471069318,\n",
       " 'SettlingTime': 4.975185971161319,\n",
       " 'SettlingMin': 0.9110962604717889,\n",
       " 'SettlingMax': 1.0339602896750193,\n",
       " 'Overshoot': 3.3960289675019295,\n",
       " 'Undershoot': 0,\n",
       " 'Peak': 1.0339602896750193,\n",
       " 'PeakTime': 3.689463753894911,\n",
       " 'SteadyStateValue': 1.0}"
      ]
     },
     "execution_count": 8,
     "metadata": {},
     "output_type": "execute_result"
    }
   ],
   "source": [
    "# Relatório final\n",
    "Tab = ct.damp(sys)\n",
    "print('')\n",
    "print('Zeros: ')\n",
    "Z = ct.zeros(sys)\n",
    "Z = Z.reshape((Z.size,1))\n",
    "display(Math(esc.mat(Z.round(decimals=4))))\n",
    "print('')\n",
    "print('Step Info')\n",
    "ct.step_info(sys)"
   ]
  },
  {
   "cell_type": "code",
   "execution_count": 9,
   "metadata": {
    "code_folding": [
     0
    ],
    "run_control": {
     "marked": false
    }
   },
   "outputs": [],
   "source": [
    "# Simulação\n",
    "resp = ct.step_response(sys)"
   ]
  },
  {
   "cell_type": "code",
   "execution_count": 10,
   "metadata": {
    "code_folding": [
     0
    ]
   },
   "outputs": [
    {
     "data": {
      "text/plain": [
       "<matplotlib.legend.Legend at 0x28d994daa90>"
      ]
     },
     "execution_count": 10,
     "metadata": {},
     "output_type": "execute_result"
    },
    {
     "data": {
      "image/png": "[encoded data removed]",
      "text/plain": [
       "<Figure size 640x480 with 1 Axes>"
      ]
     },
     "metadata": {},
     "output_type": "display_data"
    }
   ],
   "source": [
    "# Gráfico da resposta temporal\n",
    "from matplotlib import pyplot as plt\n",
    "resp.y.shape\n",
    "resp.t.shape\n",
    "plt.plot(resp.t,resp.y[0,0,:])\n",
    "plt.grid()\n",
    "plt.xlabel('Tempo (seg)')\n",
    "plt.ylabel('Amplitude')\n",
    "plt.title('Resposta ao degrau')\n",
    "plt.legend('y(t)')"
   ]
  },
  {
   "cell_type": "code",
   "execution_count": 11,
   "metadata": {
    "code_folding": [
     0
    ]
   },
   "outputs": [
    {
     "data": {
      "text/plain": [
       "<matplotlib.legend.Legend at 0x28d997bc9d0>"
      ]
     },
     "execution_count": 11,
     "metadata": {},
     "output_type": "execute_result"
    },
    {
     "data": {
      "image/png": "[encoded data removed]",
      "text/plain": [
       "<Figure size 640x480 with 1 Axes>"
      ]
     },
     "metadata": {},
     "output_type": "display_data"
    }
   ],
   "source": [
    "# Cálculo e plotagem do sinal de controle\n",
    "u = -K@resp.states\n",
    "u[0,:].shape\n",
    "plt.plot(resp.t,u[0,:],'r')\n",
    "plt.grid()\n",
    "plt.xlabel('Tempo (seg)')\n",
    "plt.ylabel('Amplitude')\n",
    "plt.title('Sinal de controle')\n",
    "plt.legend('u(t)')\n"
   ]
  },
  {
   "cell_type": "code",
   "execution_count": null,
   "metadata": {},
   "outputs": [],
   "source": []
  }
 ],
 "metadata": {
  "kernelspec": {
   "display_name": "Python 3 (ipykernel)",
   "language": "python",
   "name": "python3"
  },
  "language_info": {
   "codemirror_mode": {
    "name": "ipython",
    "version": 3
   },
   "file_extension": ".py",
   "mimetype": "text/x-python",
   "name": "python",
   "nbconvert_exporter": "python",
   "pygments_lexer": "ipython3",
   "version": "3.11.1"
  },
  "vscode": {
   "interpreter": {
    "hash": "e1735dd0795dce195fb98475ccf229151ed44a61fb274eb18cdb7c8302916985"
   }
  }
 },
 "nbformat": 4,
 "nbformat_minor": 2
}
