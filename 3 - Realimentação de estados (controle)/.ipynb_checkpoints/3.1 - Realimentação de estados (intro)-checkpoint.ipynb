{
 "cells": [
  {
   "cell_type": "markdown",
   "metadata": {},
   "source": [
    "# **Realimentação de estados**\n",
    "\n",
    "A principal técnica de controle em espaço de estados é o que chamamos de \"realimentação de estados\".\n",
    "\n",
    "A estratégia básica é fazer a lei de controle $u$ ser proporcional ao vetor de estados. \n",
    "\n",
    "$$\n",
    "\\begin{align*}\n",
    "    u = -\\mathbf{Kx}\n",
    "\\end{align*}\n",
    "$$\n",
    "\n",
    "Lembra um pouco o controle proporcional, realimentação negativa e o controlador é apenas uma constante. Mas a diferença básica é que, como o $\\mathbf{x}$ é um vetor, o controlador $\\mathbf{K}$ tem que ser um vetor também. "
   ]
  },
  {
   "cell_type": "markdown",
   "metadata": {},
   "source": [
    "\n",
    "No caso, o sinal de controle é um escalar. Sendo $\\mathbf{x}$ um vetor coluna de $n$ elementos, então $\\mathbf{K}$ deve ser um vetor linha de $n$ elementos. Assim:\n",
    "\n",
    "$$\n",
    "\\begin{align*}\n",
    "    \\mathbf{K}= \\left[\\begin{array}{cccc}K_1 & K_2 & \\ldots & K_n\\end{array}\\right]\n",
    "\\end{align*}\n",
    "$$\n",
    "\n",
    "O objetivo inicial da realimentação de estados é fazer com que os estados do sistema caminhem para zero (ponto de equilíbrio) a partir de um estado inicial $\\mathbf{x}(0)$ diferente de zero, em regime permanente (isto é, passado um longo tempo). Esse problema é chamado de **regulação**.\n",
    "\n",
    "Quando o controlador é capaz de fazer isso, tarefas um pouco mais complexas (tais como rastreamento) tornam-se possíveis. "
   ]
  },
  {
   "cell_type": "markdown",
   "metadata": {},
   "source": [
    "\n",
    "**Observação importante**: se prestar atenção, o controlador de estados é muito simples. É basicamente multiplicar cada estado por uma constante e somar o resultado antes de realimentar! Porém, ele tem uma limitação fundamental: a regulação supõe que **todos** os estados são conhecidos para calcular a ação de controle. \n",
    "\n",
    "Isso quase sempre não é verdade. Os estados são grandezas internas que, às vezes, nem conseguimos medir. Mas mesmo quando é possível, pode não ser economicamente viável comprar sensor para medir todo mundo. \n",
    "\n",
    "Na prática, o único sinal que está disponível, por definição, é o sinal de saída. \n",
    "\n",
    "Desta forma, o que precisamos fazer é construir um sistema auxiliar que forneça umas *estimativa* dos estados reais a partir do sinal de saída. Esse sistema é conhecido como estimador ou observador de estados. \n",
    "\n",
    "<p align=\"center\">\n",
    "<img src=\"Fig7.11.svg\" width=\"100%\">\n",
    "</p>\n",
    "\n",
    "O projeto e análise do observador de estados será visto mais a frente.\n",
    "\n",
    "**Por enquanto vamos considerar que é possível medir todos os estados do sistema para fazer a realimentação**"
   ]
  }
 ],
 "metadata": {
  "kernelspec": {
   "display_name": "Python 3 (ipykernel)",
   "language": "python",
   "name": "python3"
  },
  "language_info": {
   "codemirror_mode": {
    "name": "ipython",
    "version": 3
   },
   "file_extension": ".py",
   "mimetype": "text/x-python",
   "name": "python",
   "nbconvert_exporter": "python",
   "pygments_lexer": "ipython3",
   "version": "3.11.1"
  },
  "vscode": {
   "interpreter": {
    "hash": "e1735dd0795dce195fb98475ccf229151ed44a61fb274eb18cdb7c8302916985"
   }
  }
 },
 "nbformat": 4,
 "nbformat_minor": 2
}
