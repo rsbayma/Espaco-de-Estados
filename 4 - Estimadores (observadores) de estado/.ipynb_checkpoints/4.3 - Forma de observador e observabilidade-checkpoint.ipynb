{
 "cells": [
  {
   "cell_type": "markdown",
   "metadata": {},
   "source": [
    "# **Forma canônica de observador**\n",
    "\n",
    "Tal como no caso do regulador de estados, há uma forma de espaço de estados para a qual a solução do observador é muito simples. A forma é conhecida como forma canônica de observador.\n",
    "\n",
    "Para deduzi-la procedemos como anteriormente. Desenhamos um diagrama de blocos e extraimos as equações de estados dos integradores.\n",
    "\n",
    "O caso de terceira ordem geral é mostrado na Figura abaixo.\n",
    "\n",
    "<p align=\"center\">\n",
    "<img src=\"Fig7.31.svg\" width=\"100%\">\n",
    "</p>\n",
    "\n",
    "A função de transferência correspondente é:\n",
    "$$\n",
    "\\begin{align*}\n",
    "    G(s) = \\frac{b_1s^2+b_2s+b_3}{s^3+a_1s^2+a_2s+a_3}\n",
    "\\end{align*}\n",
    "$$"
   ]
  },
  {
   "cell_type": "markdown",
   "metadata": {},
   "source": [
    "Note que:\n",
    "* Os integradores **não** estão em série diretamente\n",
    "* Entre cada integrador há um somador\n",
    "* Apenas a saída (último integrador) é realimentada \n",
    "* A realimentação é feita para cada um dos somadores, através dos ganhos do denominador\n",
    "* A entrada se conecta a cada um dos somadores, através dos ganhos do numerador"
   ]
  },
  {
   "cell_type": "markdown",
   "metadata": {},
   "source": [
    "A representação de estados é:\n",
    "\n",
    "$$\n",
    "\\begin{align*}\n",
    "    \\mathbf{\\dot{x}} &= \\left[\n",
    "        \\begin{array}{rrr}\n",
    "        -a_1 & 1 & 0\\\\\n",
    "        -a_2 & 0 & 1\\\\\n",
    "        -a_3 & 0 & 0\\end{array}\n",
    "    \\right]\\mathbf{{x}}+\n",
    "    \\left[\\begin{array}{rrr}\n",
    "        b_1\\\\\n",
    "        b_2\\\\\n",
    "        b_3\\end{array}\n",
    "    \\right]u\\\\\n",
    "    y &= \\left[\\begin{array}{ccc} 1 & 0 & 0\\end{array}\\right]\\mathbf{x}\n",
    "\\end{align*}\n",
    "$$"
   ]
  },
  {
   "cell_type": "markdown",
   "metadata": {},
   "source": [
    "Note que:\n",
    "* Na matriz $\\mathbf{A}$, a primeira coluna é formada pelos coeficientes do denominador com sinal trocado, ordem crescente de potência de $s$, de cima para baixo. \n",
    "* As colunas restantes podem ser montadas usando uma matriz identidade de ordem 2 e uma linha de zeros\n",
    "* A matriz $\\mathbf{B}$ é uma coluna formada pelos coeficientes do numerador, ordem crescente de potência de $s$ de cima para baixo.\n",
    "* A matriz $\\mathbf{C}$ é uma linha de zeros, exceto pelo primeiro elemento igual a 1.\n",
    "* $J=0$.\n",
    "\n",
    "O procedimento é muito semelhante à forma de controlador, apenas invertendo as posições das matrizes $\\mathbf{B}$ e $\\mathbf{C}$ e transpondo a matriz $\\mathbf{A}$."
   ]
  },
  {
   "cell_type": "markdown",
   "metadata": {},
   "source": [
    "A forma de observador é útil no projeto de observadores. Para o caso de 3a ordem anterior, a matriz de projeto é\n",
    "$$\n",
    "\\begin{align*}\n",
    "\\mathbf{A-LC} &= \\left[\n",
    "        \\begin{array}{rrr}\n",
    "        -a_1-l_1 & 1 & 0\\\\\n",
    "        -a_2-l_2 & 0 & 1\\\\\n",
    "        -a_3-l_3 & 0 & 0\\end{array}\n",
    "    \\right]\n",
    "\\end{align*}\n",
    "$$\n",
    "cuja equação característica é:\n",
    "$$\n",
    "\\begin{align*}\n",
    "s^3+(a_1+l_1)s^2+(a_2+l_2)s+(a_3+l_3)=0\n",
    "\\end{align*}\n",
    "$$\n",
    "\n",
    "Assim, podemos achar os ganhos do observador $\\mathbf{L}=\\left[\\begin{array}{ccc} l_1 & l_2 & l_3\\end{array} \\right]$ muito facilmente com o polinômio desejado."
   ]
  },
  {
   "cell_type": "markdown",
   "metadata": {},
   "source": [
    "**Exercício:** Desenhe e obtenha as matrizes para o caso de 4a ordem.\n"
   ]
  },
  {
   "cell_type": "markdown",
   "metadata": {},
   "source": [
    "# **Observabilidade**\n",
    "\n",
    "Tal como no caso do regulador, a forma observável e a capacidade de encontrar um observador de estados é uma propriedade intrínseca do sistema, e que independen da representação de estados usada.\n",
    "\n",
    "Essa propriedade se chama observabilidade. \n",
    "\n",
    "Observabilidade é a capacidade que um sistema possui em \"permitir\" que seus estados sejam estimados a partir apenas do conhecimento do sinal de saída.\n",
    "\n",
    "Da mesma forma que a controlabilidade, podemos pedir a observabilidade pela **matriz de observabilidade** e seu determinante.\n",
    "\n",
    "A matriz de observabilidade é construída linha por linha, como:\n",
    "$$\n",
    "\\begin{align*}\n",
    "\\mathbf{\\mathcal{O}} &= \\left[\n",
    "        \\begin{array}{c}\n",
    "        \\mathbf{C}\\\\\n",
    "        \\mathbf{CA}\\\\\n",
    "        \\mathbf{CA^2}\\\\\n",
    "        \\vdots\\\\\n",
    "        \\mathbf{CA^{n-1}}\n",
    "        \\end{array}\n",
    "    \\right]\n",
    "\\end{align*}\n",
    "$$\n",
    "\n",
    "Uma forma rápida de calcular essa matriz é usar a função obsv() da biblioteca *control*.\n"
   ]
  },
  {
   "cell_type": "markdown",
   "metadata": {},
   "source": [
    "Um sistema SISO é observável se $\\det \\mathbf{\\mathcal{O}} \\neq 0$. Se o sistema é MIMO, devemos olhar para o posto da matriz de observabilidade. "
   ]
  },
  {
   "cell_type": "markdown",
   "metadata": {},
   "source": [
    "O sistema perde observabilidade quando há cancelamentos entre pólos zeros, de forma semalhante à controlabilidade. O sistema torna-se mais observável à medida que possui mais saídas mensuráveis.\n",
    "\n",
    "Observe que existem diversos paralelos entre controlabilidade e observabilidade, \n",
    "inclusive nos cálculos. \n",
    "\n",
    "Como já mostramos, os cálculos de observabilidades basicamente trocam a matriz $\\mathbf{B}$ pela transposta de $\\mathbf{A}$ e a matriz de estados pela sua transposta. Esse \"paralelismo\" é chamado de *dualidade* entre as duas propriedades. "
   ]
  },
  {
   "cell_type": "markdown",
   "metadata": {},
   "source": [
    "### **Exemplo**\n",
    "\n",
    "Ache a forma de observador e estude a observabilidade do sistema:\n",
    "$$\n",
    "\\begin{align}\n",
    "    G(s) = \\frac{9s^2-8}{5s^3-s}\n",
    "\\end{align}\n",
    "$$"
   ]
  },
  {
   "cell_type": "code",
   "execution_count": 1,
   "metadata": {
    "code_folding": [
     0
    ]
   },
   "outputs": [],
   "source": [
    "# Imports\n",
    "import control as ct\n",
    "import numpy as np\n",
    "from IPython.display import display,Math\n",
    "from escrever import *\n",
    "\n",
    "esc = escrever()"
   ]
  },
  {
   "cell_type": "code",
   "execution_count": 3,
   "metadata": {
    "code_folding": [
     0
    ]
   },
   "outputs": [],
   "source": [
    "# Numerador e denominador da FT\n",
    "a = np.array([[5,0,-1,0]])\n",
    "b = np.array([[0,9,0,-8]])"
   ]
  },
  {
   "cell_type": "code",
   "execution_count": 4,
   "metadata": {
    "code_folding": [
     0
    ]
   },
   "outputs": [
    {
     "data": {
      "text/latex": [
       "$\\displaystyle \\mathbf{A} = \\left[\\begin{array}{rrrr}-5.0&1.0&0.0&0.0\\\\0.0&0.0&1.0&0.0\\\\1.0&0.0&0.0&1.0\\\\0.0&0.0&0.0&0.0\\\\\\end{array}\\right]$"
      ],
      "text/plain": [
       "<IPython.core.display.Math object>"
      ]
     },
     "metadata": {},
     "output_type": "display_data"
    },
    {
     "data": {
      "text/latex": [
       "$\\displaystyle \\mathbf{B} = \\left[\\begin{array}{r}9\\\\0\\\\-8\\\\\\end{array}\\right]$"
      ],
      "text/plain": [
       "<IPython.core.display.Math object>"
      ]
     },
     "metadata": {},
     "output_type": "display_data"
    },
    {
     "data": {
      "text/latex": [
       "$\\displaystyle \\mathbf{C} = \\left[\\begin{array}{rrrr}1&0&0&0\\\\\\end{array}\\right]$"
      ],
      "text/plain": [
       "<IPython.core.display.Math object>"
      ]
     },
     "metadata": {},
     "output_type": "display_data"
    }
   ],
   "source": [
    "# Matrizes do sistema\n",
    "M = np.block([[np.eye(3)],[np.zeros((1,3))]])\n",
    "A = np.block([-a.T,M])\n",
    "B = b[:,1:].T\n",
    "C = np.array([[1,0,0,0]])\n",
    "display(Math(r'\\mathbf{A} = ' + esc.mat(A)))\n",
    "display(Math(r'\\mathbf{B} = ' + esc.mat(B)))\n",
    "display(Math(r'\\mathbf{C} = ' + esc.mat(C)))\n"
   ]
  },
  {
   "cell_type": "code",
   "execution_count": 5,
   "metadata": {
    "code_folding": [
     0
    ]
   },
   "outputs": [
    {
     "data": {
      "text/latex": [
       "$\\displaystyle \\left[\\begin{array}{rrrr}1.0&0.0&0.0&0.0\\\\-5.0&1.0&0.0&0.0\\\\25.0&-5.0&1.0&0.0\\\\-124.0&25.0&-5.0&1.0\\\\\\end{array}\\right]$"
      ],
      "text/plain": [
       "<IPython.core.display.Math object>"
      ]
     },
     "metadata": {},
     "output_type": "display_data"
    }
   ],
   "source": [
    "# Matriz de observabilidade usando obsv()\n",
    "O = ct.obsv(A,C)\n",
    "display(Math(esc.mat(O)))"
   ]
  },
  {
   "cell_type": "code",
   "execution_count": 6,
   "metadata": {
    "code_folding": [
     0
    ]
   },
   "outputs": [
    {
     "data": {
      "text/latex": [
       "$\\displaystyle \\left[\\begin{array}{rrrr}1.0&0.0&0.0&0.0\\\\-5.0&1.0&0.0&0.0\\\\25.0&-5.0&1.0&0.0\\\\-124.0&25.0&-5.0&1.0\\\\\\end{array}\\right]$"
      ],
      "text/plain": [
       "<IPython.core.display.Math object>"
      ]
     },
     "metadata": {},
     "output_type": "display_data"
    }
   ],
   "source": [
    "# Agora construindo linha por linha\n",
    "O1 = np.block([[C],[C@A],[C@(A@A)],[C@(A@A@A)]])\n",
    "display(Math(esc.mat(O1)))"
   ]
  },
  {
   "cell_type": "code",
   "execution_count": 7,
   "metadata": {
    "code_folding": [
     0
    ]
   },
   "outputs": [
    {
     "name": "stdout",
     "output_type": "stream",
     "text": [
      "Determinante =  1.0000000000000002\n",
      "Posto:  4\n"
     ]
    }
   ],
   "source": [
    "# Determinante e posto\n",
    "print('Determinante = ', np.linalg.det(O))\n",
    "print('Posto: ', np.linalg.matrix_rank(O))"
   ]
  },
  {
   "cell_type": "code",
   "execution_count": null,
   "metadata": {},
   "outputs": [],
   "source": []
  }
 ],
 "metadata": {
  "kernelspec": {
   "display_name": "Python 3 (ipykernel)",
   "language": "python",
   "name": "python3"
  },
  "language_info": {
   "codemirror_mode": {
    "name": "ipython",
    "version": 3
   },
   "file_extension": ".py",
   "mimetype": "text/x-python",
   "name": "python",
   "nbconvert_exporter": "python",
   "pygments_lexer": "ipython3",
   "version": "3.11.1"
  },
  "vscode": {
   "interpreter": {
    "hash": "e1735dd0795dce195fb98475ccf229151ed44a61fb274eb18cdb7c8302916985"
   }
  }
 },
 "nbformat": 4,
 "nbformat_minor": 2
}
