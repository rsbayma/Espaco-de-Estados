{
 "cells": [
  {
   "cell_type": "markdown",
   "metadata": {},
   "source": [
    "# Estimador de ordem reduzida\n",
    "\n",
    "O estimador de estados como apresentado reconstrói o vetor de estados original completamente. No entanto, em muitas situações, um dos estados reconstruídos é o próprio sinal de saída, que é diretamente mensurável.\n",
    "\n",
    "Alguns projetistas consideram isso um \"desperdício\" de recursos. Por esse motivo, existe o projeto do estimador de ordem reduzida.\n",
    "\n",
    "A redução de ordem é igual ao número de saídas medidas do sistema. No nosso caso, que só trabalhamos com SISO, a redução é de apenas 1 unidade. Mas a ideia é aplicável a casos MIMO também, o que pode ser bastante útil dependendo do sistema."
   ]
  },
  {
   "cell_type": "markdown",
   "metadata": {},
   "source": [
    "O estimador reduzido funciona muito parecido com o estimador completo. Ele consiste de um ganho constante $\\mathbf{L}_t$, que é a solução do problema de alocação de pólos:\n",
    "\n",
    "$$\n",
    "\\begin{align*}\n",
    "    \\det \\left(s\\mathbf{I-}\\mathbf{A}_{bb}+\\mathbf{L}\\mathbf{A}_{ab}\\right) = 0\n",
    "\\end{align*}\n",
    "$$\n",
    "\n",
    "onde as matrizes $\\mathbf{A}_{bb}$ e $\\mathbf{A}_{ab}$ são obtidas diretamente da matriz $\\mathbf{A}$ do sistema (preferencialmente em forma de observador) através de particionamento. \n",
    "\n",
    "Supondo o sistema em forma canônica de observador, em que a **saída é exatamente igual ao primeiro estado**, isto é: $\\mathbf{C}=\\left[\\begin{array}{cccc}1 & 0 & \\ldots & 0\\end{array}\\right]$, então fazemos o seguinte particionamento da matriz $\\mathbf{A}$ para encontrar as matrizes de projeto do observador reduzido:\n",
    "$$\n",
    "\\begin{align*}\n",
    "\\mathbf{A} &= \\left[\n",
    "\\begin{array}{cc}\n",
    "    A_{aa} & \\mathbf{A}_{ab}\\\\\n",
    "    \\mathbf{A}_{ba} & \\mathbf{A}_{bb}\\\\\n",
    "\\end{array}\n",
    "\\right]\n",
    "\\end{align*}\n",
    "$$"
   ]
  },
  {
   "cell_type": "markdown",
   "metadata": {},
   "source": [
    "Note que:\n",
    "* $A_{aa}$ é um escalar (apenas em sistemas SISO)\n",
    "* $\\mathbf{A}_{ab}$ é uma linha\n",
    "* $\\mathbf{A}_{ba}$ é uma coluna\n",
    "* $\\mathbf{A}_{bb}$ é quadrada, de ordem $n-1$\n",
    "\n",
    "Basta então particionar a matriz $\\mathbf{A}$ no primeiro elemento da primeira linha e coluna. \n",
    "\n",
    "Por exemplo, para o caso de terceira ordem:\n",
    "$$\n",
    "\\begin{align*}\n",
    "\\mathbf{A} &= \\left[\n",
    "        \\begin{array}{rrr}\n",
    "        -a_1 & 1 & 0\\\\\n",
    "        -a_2 & 0 & 1\\\\\n",
    "        -a_3 & 0 & 0\\end{array}\n",
    "    \\right]\n",
    "\\end{align*}\n",
    "$$\n",
    "\n",
    "Temos:\n",
    "$$\n",
    "\\begin{align*}\n",
    "\\mathbf{A}_{bb} &= \\left[\n",
    "        \\begin{array}{rrr}\n",
    "         0 & 1\\\\\n",
    "         0 & 0\\end{array}\n",
    "    \\right]\\\\\n",
    "\\mathbf{A}_{ab} &= \\left[\n",
    "        \\begin{array}{rrr}\n",
    "         1 & 0\\end{array}\n",
    "    \\right]    \n",
    "\\end{align*}\n",
    "$$"
   ]
  },
  {
   "cell_type": "markdown",
   "metadata": {},
   "source": [
    "A figura abaixo ilustra os fluxos de sinal para implementação de um observador reduzido.\n",
    "\n",
    "<p align=\"center\">\n",
    "<img src=\"Fig7.32.svg\" width=\"80%\">\n",
    "</p>"
   ]
  }
 ],
 "metadata": {
  "kernelspec": {
   "display_name": "Python 3 (ipykernel)",
   "language": "python",
   "name": "python3"
  },
  "language_info": {
   "codemirror_mode": {
    "name": "ipython",
    "version": 3
   },
   "file_extension": ".py",
   "mimetype": "text/x-python",
   "name": "python",
   "nbconvert_exporter": "python",
   "pygments_lexer": "ipython3",
   "version": "3.11.1"
  },
  "vscode": {
   "interpreter": {
    "hash": "c56527485b7c9dd36c8c8808345694ae9d0a642c0f00dfb6356f9a65494ceb50"
   }
  }
 },
 "nbformat": 4,
 "nbformat_minor": 2
}
