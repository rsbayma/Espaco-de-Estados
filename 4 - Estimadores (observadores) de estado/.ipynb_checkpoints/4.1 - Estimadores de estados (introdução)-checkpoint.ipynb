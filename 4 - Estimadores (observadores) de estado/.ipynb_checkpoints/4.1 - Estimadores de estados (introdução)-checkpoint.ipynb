{
 "cells": [
  {
   "cell_type": "markdown",
   "metadata": {},
   "source": [
    "# **Estimadores de estado**\n",
    "\n",
    "No assunto anterior vimos que a ação de controle no espaço de estados é proporcional aos estados do sistema. Para isso ser possível de calcular, precisamos ter esses sinais disponíveis.\n",
    "\n",
    "Na prática, uma medição direta dos estados é raramente viável. O número de sensores pode ser grande, o que tornaria o projeto muito caro. Ou simplesmentes, os estados não são possíveis de medir.\n",
    "\n",
    "Para contornar a situação usamos um sistema auxiliar, um subsistema do controlador, que é responsável de fornecer uma estimativa dos estados reais. Esse sistema é chamado de **estimador** ou **observador de estados**."
   ]
  },
  {
   "cell_type": "markdown",
   "metadata": {},
   "source": [
    "## **Definição**\n",
    "O estimador de um sistema $(\\mathbf{A,B,C,D})$ é um sistema com a seguinte equação de estados:\n",
    "$$\n",
    "\\begin{align*}\n",
    "    \\dot{\\mathbf{\\hat{x}}} &= \\mathbf{A\\hat{x}+B}u+\\mathbf{L}(y-\\mathbf{C\\hat{x}})\n",
    "\\end{align*}\n",
    "$$\n",
    "onde $\\hat{\\mathbf{x}}$ é a estimativa (aproximação) dos estados reais $\\mathbf{x}$"
   ]
  },
  {
   "cell_type": "markdown",
   "metadata": {},
   "source": [
    "\n",
    "A interpretação dessa equação é a seguinte\n",
    "* O termo $\\mathbf{A\\hat{x}+B}u$ é uma tentativa de \"imitar\" a equação original do sistema.\n",
    "* O termo $\\mathbf{L}(y-\\mathbf{C\\hat{x}})$ é uma parcela de correção.\n",
    "    * $\\mathbf{C\\hat{x}}$ representa uma estimativa da saída do sistema\n",
    "    * $y-\\mathbf{C\\hat{x}}$ é o erro entre a saída real e a saída estimada.\n",
    "    * O vetor coluna $\\mathbf{L}$ funciona como um \"controle\" proporcional desse erro"
   ]
  },
  {
   "cell_type": "markdown",
   "metadata": {},
   "source": [
    "O estimador é um sistema que \"imita\" o sistema original, corrigindo as estimativas sempre que o sinal que realmente é observado (saída) indicar uma discrepância. \n",
    "\n",
    "Projetar o estimador é calcular o vetor $\\mathbf{L}$, chamado de *ganho do estimador*. \n",
    "\n",
    "Se o ganho do estimador for bem projetado, a diferença entre $\\mathbf{x}-\\mathbf{\\hat{x}}$ cairá rapidamente com o tempo. Ou seja, passado um longo tempo (isto é, em regime permanente), $\\mathbf{x}$ e $\\mathbf{\\hat{x}}$ serão iguais. Matematicamente representamos $\\mathbf{x}\\rightarrow \\mathbf{\\hat{x}}$.\n",
    "\n",
    "<p align=\"center\">\n",
    "<img src=\"Fig7.28.svg\" width=\"100%\">\n",
    "</p>\n",
    "\n"
   ]
  }
 ],
 "metadata": {
  "kernelspec": {
   "display_name": "Python 3 (ipykernel)",
   "language": "python",
   "name": "python3"
  },
  "language_info": {
   "codemirror_mode": {
    "name": "ipython",
    "version": 3
   },
   "file_extension": ".py",
   "mimetype": "text/x-python",
   "name": "python",
   "nbconvert_exporter": "python",
   "pygments_lexer": "ipython3",
   "version": "3.11.1"
  },
  "vscode": {
   "interpreter": {
    "hash": "3e3763a57b4ffe0d06e963ec4b7f8ef3a748cbfdb342037439726ee83e94c05b"
   }
  }
 },
 "nbformat": 4,
 "nbformat_minor": 2
}
