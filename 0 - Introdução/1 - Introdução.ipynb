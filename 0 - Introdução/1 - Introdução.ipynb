{
 "cells": [
  {
   "cell_type": "markdown",
   "id": "3a969f20",
   "metadata": {},
   "source": [
    "# **Representação de espaços de estados**"
   ]
  },
  {
   "cell_type": "markdown",
   "id": "9eef39d6",
   "metadata": {},
   "source": [
    "A representação de estados é um tipo de *modelagem de sistema* **no domínio do tempo** que usamos para análise e projeto em Engenharia de Controle Automático.\n",
    "\n",
    "A principal característica desse tipo de modelagem é que o sistema fica descrito por um **conjunto de equações diferenciais de 1a ordem**, ao invés de uma única equação diferencial de ordem elevada.\n",
    "\n",
    "Para sistemas LIT (*Lineares Invariantes no Tempo*), o conjunto de equações é linear e podemos usar **matrizes** para auxiliar na representação do sistema. Isso traz uma série de comodidades para trabalhar, porém requer que lembrar de alguns conceitos da Álgebra Linear."
   ]
  },
  {
   "cell_type": "markdown",
   "id": "4d111d5e",
   "metadata": {},
   "source": [
    "\n",
    "## Notação de derivadas:\n",
    "$$\n",
    "\\begin{align}\n",
    "    \\frac{dx(t)}{dt} &= \\dot{x}(t) \\text{ ou simplesmente } \\dot{x}\\\\\n",
    "    \\frac{d^2x(t)}{dt^2} &= \\ddot{x}(t) \\text{ ou simplesmente } \\ddot{x}\n",
    "\\end{align}\n",
    "$$"
   ]
  },
  {
   "cell_type": "markdown",
   "id": "37527e6e",
   "metadata": {},
   "source": [
    "## Exemplo ilustrativo\n",
    "\n",
    "$$\n",
    "\\begin{align}\n",
    "  \\frac{Y(s)}{U(s)} = \\frac{10s+7}{s^2+4s+22}\n",
    "    \\Leftrightarrow  \\left\\{\\begin{array}{l}\n",
    "  \\dot{x}_1 = -4x_1-22x_2+u\\\\\n",
    "  \\dot{x}_2 = x_1\\\\\n",
    "  y = 10x_1+ 7x_2 \\end{array}\\right.\n",
    "\\end{align}\n",
    "$$"
   ]
  },
  {
   "cell_type": "markdown",
   "id": "27705376",
   "metadata": {},
   "source": [
    "O conjunto de equações à direita pode ser escrito também:\n",
    "$$\n",
    "\\begin{align}\n",
    "  \\dot{\\mathbf{x}} &= \\left[\\begin{array}{rr}-4 & -22\\\\ 1 & 0 \\end{array}\\right]\\mathbf{x}+\n",
    "  \\left[\\begin{array}{r}1\\\\ 0 \\end{array}\\right]u\\\\\n",
    "  y &= \\left[\\begin{array}{rr}10 & 7\\end{array}\\right]\\mathbf{x}\n",
    "\\end{align}\n",
    "$$"
   ]
  },
  {
   "cell_type": "markdown",
   "id": "1594ed2d",
   "metadata": {},
   "source": [
    "$\\mathbf{x}$ é um vetor coluna contendo os sinais $x_1(t)$ e $x_2(t)$, isto é $\\mathbf{x}=\\left[\\begin{array}{cc}\n",
    "x_1 & x_2\\end{array}\\right]^T$. Na maioria das vezes omitimos a dependência de $t$."
   ]
  },
  {
   "cell_type": "markdown",
   "id": "8c1e7ed6",
   "metadata": {},
   "source": [
    "Neste caso o sistema é representado pelas matrizes:\n",
    "\n",
    "$$\n",
    "\\begin{align}\n",
    "  \\mathbf{A} &= \\left[\\begin{array}{rr}-4 & -22\\\\ 1 & 0 \\end{array}\\right]\\\\\n",
    "  \\mathbf{B} &= \\left[\\begin{array}{r}1\\\\ 0 \\end{array}\\right]\\\\\n",
    "  \\mathbf{C} &= \\left[\\begin{array}{rr}10 & 7\\end{array}\\right]\n",
    "\\end{align}\n",
    "$$"
   ]
  },
  {
   "cell_type": "markdown",
   "id": "c17a34f8",
   "metadata": {},
   "source": [
    "Você ainda não precisa entender como \"converter\" a função de transferência nas matrizes. Apenas tenha em mente que, embora as representações sejam muito diferentes elas representam o **mesmo** sistema"
   ]
  },
  {
   "cell_type": "markdown",
   "id": "e05e0b0d",
   "metadata": {},
   "source": [
    "# **Exemplo ilustrativo**"
   ]
  },
  {
   "cell_type": "markdown",
   "id": "6a15e08b",
   "metadata": {},
   "source": [
    "Podemos conferir que os sistemas representam a mesma coisa simulando uma resposta ao degrau."
   ]
  },
  {
   "cell_type": "code",
   "execution_count": 4,
   "id": "66a1598f",
   "metadata": {
    "code_folding": [
     0
    ]
   },
   "outputs": [],
   "source": [
    "# Importa módulos\n",
    "import numpy as np\n",
    "import control as ct\n",
    "from matplotlib import pyplot as plt\n",
    "from escrever import *\n",
    "esc = escrever()"
   ]
  },
  {
   "cell_type": "code",
   "execution_count": 9,
   "id": "960eca30",
   "metadata": {
    "code_folding": [
     0
    ]
   },
   "outputs": [
    {
     "name": "stdout",
     "output_type": "stream",
     "text": [
      "\n",
      "   10 s + 7\n",
      "--------------\n",
      "s^2 + 4 s + 22\n",
      "\n"
     ]
    },
    {
     "data": {
      "text/latex": [
       "$\\displaystyle \\dot{\\mathbf{x}} = \\left[\\begin{array}{rr}-4.0&-22.0\\\\1.0&0.0\\\\\\end{array}\\right]\\mathbf{x}+\\left[\\begin{array}{r}1.0\\\\0.0\\\\\\end{array}\\right]\\mathbf{u}$"
      ],
      "text/plain": [
       "<IPython.core.display.Math object>"
      ]
     },
     "metadata": {},
     "output_type": "display_data"
    },
    {
     "data": {
      "text/latex": [
       "$\\displaystyle \\mathbf{y} = \\left[\\begin{array}{rr}10.0&7.0\\\\\\end{array}\\right]\\mathbf{x} + \\left[\\begin{array}{r}0\\\\\\end{array}\\right]\\mathbf{u}$"
      ],
      "text/plain": [
       "<IPython.core.display.Math object>"
      ]
     },
     "metadata": {},
     "output_type": "display_data"
    }
   ],
   "source": [
    "# Declara o sistema\n",
    "G1 = ct.tf([10,7],[1,4,22])\n",
    "print(G1)\n",
    "A = np.array([[-4.,-22],[1,0]],dtype=np.float32)\n",
    "B = np.array([[1.],[0]],dtype=np.float32)\n",
    "C = np.array([[10.,7]],dtype=np.float32)\n",
    "D = np.array([[0]])\n",
    "G2 = ct.ss(A,B,C,D)\n",
    "esc.sist(A,B,C,D)"
   ]
  },
  {
   "cell_type": "code",
   "execution_count": 2,
   "id": "3daac8c6",
   "metadata": {
    "code_folding": [
     0
    ]
   },
   "outputs": [],
   "source": [
    "# Simulação da resposta\n",
    "y1 = ct.step_response(G1)\n",
    "y2 = ct.step_response(G2)"
   ]
  },
  {
   "cell_type": "code",
   "execution_count": 3,
   "id": "ce00cfe5",
   "metadata": {
    "code_folding": [
     0
    ]
   },
   "outputs": [
    {
     "data": {
      "text/plain": [
       "Text(0.5, 0, 'Tempo (seg)')"
      ]
     },
     "execution_count": 3,
     "metadata": {},
     "output_type": "execute_result"
    },
    {
     "data": {
      "image/png": "[encoded data removed]",
      "text/plain": [
       "<Figure size 640x480 with 1 Axes>"
      ]
     },
     "metadata": {},
     "output_type": "display_data"
    }
   ],
   "source": [
    "# Plota a resposta ao degrau\n",
    "plt.plot(y1.time,y1.outputs,'b-',y2.time,y2.outputs,'r--')\n",
    "plt.legend(['Função de transf.', 'Matrizes'])\n",
    "plt.grid()\n",
    "plt.xlabel('Tempo (seg)')"
   ]
  },
  {
   "cell_type": "code",
   "execution_count": null,
   "id": "e561b581",
   "metadata": {},
   "outputs": [],
   "source": []
  }
 ],
 "metadata": {
  "kernelspec": {
   "display_name": "Python 3 (ipykernel)",
   "language": "python",
   "name": "python3"
  },
  "language_info": {
   "codemirror_mode": {
    "name": "ipython",
    "version": 3
   },
   "file_extension": ".py",
   "mimetype": "text/x-python",
   "name": "python",
   "nbconvert_exporter": "python",
   "pygments_lexer": "ipython3",
   "version": "3.11.1"
  },
  "vscode": {
   "interpreter": {
    "hash": "3e3763a57b4ffe0d06e963ec4b7f8ef3a748cbfdb342037439726ee83e94c05b"
   }
  }
 },
 "nbformat": 4,
 "nbformat_minor": 5
}
