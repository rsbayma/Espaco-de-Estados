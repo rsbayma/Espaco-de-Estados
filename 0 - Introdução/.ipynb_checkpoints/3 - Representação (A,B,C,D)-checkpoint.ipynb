{
 "cells": [
  {
   "cell_type": "markdown",
   "metadata": {},
   "source": [
    "# A representação $(A,B,C,D)$"
   ]
  },
  {
   "cell_type": "markdown",
   "metadata": {},
   "source": [
    "Qualquer sistema linear e invariante no tempo pode ser representado pela equação de estados matricial:\n",
    "$$\n",
    "\\begin{align}\n",
    "    \\mathbf{\\dot{x}} &= \\mathbf{Ax} + \\mathbf{B}u\\\\\n",
    "    y &= \\mathbf{Cx} + Du\n",
    "\\end{align}\n",
    "$$"
   ]
  },
  {
   "cell_type": "markdown",
   "metadata": {},
   "source": [
    "## Ordem do sistema\n",
    "\n",
    "Na função de transferência: ordem do sistema é igual à ordem da equação diferencial que o representa. Isso é equivalente à ordem do denominador da função de transferência.\n",
    "\n",
    "No espaço de estados, a ordem $n$ do sistema é:\n",
    "* O número de equações\n",
    "* O número de variáveis de estado.\n",
    "\n",
    "Note que se representarmos o mesmo sistema por função de transferência, a ordem vai permanecer a mesma.\n",
    "\n",
    "Lembre-se: No espaço de estados, EDO de ordem $n$ é convertida em $n$ equações de primeira ordem."
   ]
  },
  {
   "cell_type": "markdown",
   "metadata": {},
   "source": [
    "## Dimensões das matrizes\n",
    "\n",
    "Para qualquer sistema SISO (uma entrada, uma saída) de ordem $n$:\n",
    "* $\\mathbf{A}$: $n\\times n$ (quadrada de ordem $n$)\n",
    "* $\\mathbf{B}$: $n\\times 1$ (vetor coluna de $n$ elementos)\n",
    "* $\\mathbf{C}$: $n\\times n$ (vetor linha de $n$ elementos)\n",
    "* $D$: $1\\times 1$ (escalar)"
   ]
  },
  {
   "cell_type": "markdown",
   "metadata": {},
   "source": [
    "**Exemplo:** Sistema de ordem 2\n",
    "$$\n",
    "\\begin{align}\n",
    "    \\mathbf{\\dot{x}} &= \\left[\\begin{array}{rr} 0 & 1\\\\-1 & -1 \\end{array} \\right]\\mathbf{x} + \n",
    "    \\left[\\begin{array}{r} -2 \\\\ 5\\end{array}\\right]u\\\\\n",
    "    y &= \\left[\\begin{array}{rr} 3 & 1\\end{array} \\right]\\mathbf{x}\n",
    "\\end{align}\n",
    "$$"
   ]
  },
  {
   "cell_type": "markdown",
   "metadata": {},
   "source": [
    "## Sistemas MIMO\n",
    "\n",
    "MIMO = múltiplas entradas e múltiplas saídas. Nestes casos, $u$ e $y$ passam a ser vetores coluna de sinais, assim como o vetor de estados. \n",
    "\n",
    "Se a ordem do sistema for $n$, a matriz $\\mathbf{A}$ continua quadrada de ordem $n$.\n",
    "\n",
    "Se o sistema tiver $p$ entradas, a matriz $\\mathbf{B}$ será $n\\times p$ ($p$ colunas)\n",
    "\n",
    "Se o sistema tiver $q$ saídas, as matrizes $\\mathbf{C}$ e $\\mathbf{D}$ terão $q$ linhas. Suas dimensões serão respectivamente $q \\times n$ e $q \\times p$"
   ]
  },
  {
   "cell_type": "markdown",
   "metadata": {},
   "source": [
    "**Exemplo**\n",
    "\n",
    "O sistema\n",
    "$$\n",
    "\\begin{align}\n",
    "    \\dot{\\mathbf{x}} &= \\left[\\begin{array}{rrrr}-4 & 0 & 0 &-7\\\\ 1 & 0 & 0 & 0\\\\0 &1 & 0 & 0\\\\0 & 0 & 0 & 1 \\end{array}\\right]\\mathbf{x}+\\left[\\begin{array}{rr}1 & 0\\\\ -1 & 8 \\\\ 0 & 0 \\\\ 0 & 0 \\end{array}\\right]\\mathbf{u}\\\\\n",
    "    \\mathbf{y} &= \\left[\\begin{array}{rrrr}10 & 7 &0 & 0\\\\\n",
    "    0 & 0 &0 & -1\\\\\n",
    "    1 & 8 &2 & 0\\end{array}\\right]\\mathbf{x}+\n",
    "    \\left[\\begin{array}{rr}1 & 0 \\\\\n",
    "    0 & 0\\\\\n",
    "    0 & 0\\end{array}\\right]\\mathbf{u}\n",
    "\\end{align}\n",
    "$$\n",
    "\n",
    "- É de 4a ordem\n",
    "- Possui 2 sinais de entrada (2 colunas na matriz $\\mathbf{B}$)\n",
    "- Possui 3 sinais de saída (3 linhas na matriz $\\mathbf{C}$)"
   ]
  },
  {
   "cell_type": "markdown",
   "metadata": {},
   "source": [
    "## **Exercício**\n",
    "\n",
    "Determine a ordem, número de entradas e número de saídas do seguinte sistema. Justifique suas respostas."
   ]
  },
  {
   "cell_type": "code",
   "execution_count": 1,
   "metadata": {
    "code_folding": [
     0
    ]
   },
   "outputs": [
    {
     "data": {
      "text/latex": [
       "$\\displaystyle \\dot{\\mathbf{x}} = \\left[\\begin{array}{rrrrr}0.479&1.011&-0.319&-0.218&-0.067\\\\0.354&0.452&1.726&-0.735&-1.421\\\\0.375&-0.331&1.119&1.778&-0.728\\\\0.413&-0.956&0.623&-0.406&0.318\\\\-1.429&-1.049&1.278&-1.565&2.045\\\\\\end{array}\\right]\\mathbf{x}+\\left[\\begin{array}{rrr}-0.821&-0.733&0.777\\\\1.08&0.4&0.339\\\\0.659&-1.015&-1.437\\\\-0.793&-0.165&-1.701\\\\-0.004&-1.259&1.0\\\\\\end{array}\\right]\\mathbf{u}$"
      ],
      "text/plain": [
       "<IPython.core.display.Math object>"
      ]
     },
     "metadata": {},
     "output_type": "display_data"
    },
    {
     "data": {
      "text/latex": [
       "$\\displaystyle \\mathbf{y} = \\left[\\begin{array}{rrrrr}-1.114&0.549&0.673&-0.706&0.004\\\\1.065&0.237&-0.764&-2.405&-0.486\\\\\\end{array}\\right]\\mathbf{x} +\\left[\\begin{array}{rrr}-1.232&1.819&-0.117\\\\-1.773&0.515&1.421\\\\\\end{array}\\right]\\mathbf{u}$"
      ],
      "text/plain": [
       "<IPython.core.display.Math object>"
      ]
     },
     "metadata": {},
     "output_type": "display_data"
    }
   ],
   "source": [
    "#Execute o código e analise o resultado\n",
    "import numpy as np\n",
    "from escrever import *\n",
    "from IPython.display import display, Math\n",
    "\n",
    "\n",
    "n = np.random.randint(4,6)\n",
    "p = np.random.randint(1,4)\n",
    "q = np.random.randint(1,4)\n",
    "\n",
    "A = np.random.randn(n,n).round(decimals=3)\n",
    "B = np.random.randn(n,p).round(decimals=3)\n",
    "C = np.random.randn(q,n).round(decimals=3)\n",
    "D = np.random.randn(q,p).round(decimals=3)\n",
    "\n",
    "def dispss(A,B,C,D):\n",
    "    str1 = r'\\dot{\\mathbf{x}} = ' + dispmat(A) + r'\\mathbf{x}'\n",
    "    str1 = str1 + '+' + dispmat(B) + r'\\mathbf{u}'\n",
    "    str2 = r'\\mathbf{y} = ' + dispmat(C) + r'\\mathbf{x} +'\n",
    "    str2 = str2 + dispmat(D) + r'\\mathbf{u}'\n",
    "    return [str1,str2]\n",
    "\n",
    "sis = dispss(A,B,C,D)\n",
    "display(Math(sis[0]))\n",
    "display(Math(sis[1]))"
   ]
  },
  {
   "cell_type": "code",
   "execution_count": null,
   "metadata": {},
   "outputs": [],
   "source": []
  }
 ],
 "metadata": {
  "kernelspec": {
   "display_name": "Python 3 (ipykernel)",
   "language": "python",
   "name": "python3"
  },
  "language_info": {
   "codemirror_mode": {
    "name": "ipython",
    "version": 3
   },
   "file_extension": ".py",
   "mimetype": "text/x-python",
   "name": "python",
   "nbconvert_exporter": "python",
   "pygments_lexer": "ipython3",
   "version": "3.11.1"
  },
  "vscode": {
   "interpreter": {
    "hash": "e1735dd0795dce195fb98475ccf229151ed44a61fb274eb18cdb7c8302916985"
   }
  }
 },
 "nbformat": 4,
 "nbformat_minor": 2
}
