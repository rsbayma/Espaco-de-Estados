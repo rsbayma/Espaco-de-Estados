{
 "cells": [
  {
   "cell_type": "markdown",
   "metadata": {},
   "source": [
    "# Diagramas de blocos e espaço de estados"
   ]
  },
  {
   "cell_type": "markdown",
   "metadata": {},
   "source": [
    "Diagramas de simulação são usados para facilitar a obtenção de equações de estados\n",
    "\n",
    "Eles permitem visualizar mais facilmente quem são os estados\n",
    "\n",
    "O bloco fundamental do diagrama é o integrador: $\\frac{1}{s}$\n",
    "\n",
    "Utilize a saída dos integradores como variáveis de estado. Dê nome a todas elas antes de iniciar\n",
    "\n",
    "A **entrada** dos integradores vai fornecer uma equação de estado. Basta interpretar quem compõe o sinal naquele ponto\n",
    "\n",
    "Veja o exemplo:"
   ]
  },
  {
   "cell_type": "markdown",
   "metadata": {},
   "source": [
    "<img src=\"Ex7.7.svg\" width=\"150%\"/>\n",
    "\n",
    "No caso do diagrama dado, a saída de cada integrador já foi nomeada. Comece pelo último integrador (da direita para esquerda)\n",
    "\n",
    "A entrada desse integrador é a saída do integrador anterior, isto é, $x_2$. A entrada dele **também** é a derivada da saída, $\\dot{x}_3$.\n",
    "\n",
    "Então, o terceiro integrador fornece a equação de estado:\n",
    "\n",
    "$$\n",
    "\\begin{align}\n",
    "    \\dot{x}_3 & = x_2\n",
    "\\end{align}\n",
    "$$"
   ]
  },
  {
   "cell_type": "markdown",
   "metadata": {},
   "source": [
    "Seguindo raciocínio semelhante para o segundo integrador da direita para esquerda... temos que a entrada dele é a derivada da sua saída, isto é, $\\dot{x}_2$, mas também é a saída do primeiro. Então:\n",
    "\n",
    "$$\n",
    "\\begin{align}\n",
    "    \\dot{x}_2 & = x_1\n",
    "\\end{align}\n",
    "$$"
   ]
  },
  {
   "cell_type": "markdown",
   "metadata": {},
   "source": [
    "O último integrador da direita para esquerda possui saída $x_1$. Logo a entrada deve ser $\\dot{x}_1$. Porém a linha de sinal coincide com a saída do somador, que é dada pela soma de quatro componentes, 3 realimentadas e uma entrada externa. Assim:\n",
    "\n",
    "$$\n",
    "\\begin{align}\n",
    "    \\dot{x}_1 & = 6u - 6x_1 - 11x_2 - 6x_3\n",
    "\\end{align}\n",
    "$$"
   ]
  },
  {
   "cell_type": "markdown",
   "metadata": {},
   "source": [
    "Note que a saída do sistema coincide com a saída do primeiro integrador da direita para esquerda. Então:\n",
    "\n",
    "$$\n",
    "\\begin{align}\n",
    "    y & = x_3\n",
    "\\end{align}\n",
    "$$"
   ]
  },
  {
   "cell_type": "markdown",
   "metadata": {},
   "source": [
    "Assim as equações de estado são:\n",
    "\n",
    "$$\n",
    "\\begin{align}\n",
    "    \\dot{x}_1 & = 6u - 6x_1 - 11x_2 - 6x_3\\\\\n",
    "    \\dot{x}_2 & = x_1\\\\\n",
    "    \\dot{x}_3 & = x_2\\\\\n",
    "    y &= x_3\n",
    "\\end{align}\n",
    "$$"
   ]
  },
  {
   "cell_type": "markdown",
   "metadata": {},
   "source": [
    "Transformar as equações para a forma matricial é fácil. Basta escrever as matrizes e identificar os coeficientes. \n",
    "\n",
    "**Cada linha da matriz faz você buscar em uma equação. Cada coluna faz vc buscar em uma variável diferente.**\n",
    "\n",
    "No exemplo: o sistema é de 3a ordem, então as matrizes $\\mathbf{A}$, $\\mathbf{B}$, $\\mathbf{C}$ e $\\mathbf{D}$ serão respectivamente 3x3, 3x1, 1x3 e 1x1.\n",
    "\n",
    "A primeira linha da matriz $\\mathbf{A}$ é dada pela primeira equação. Para a primeira coluna, verificamos quem é o coeficiente de $x_1$ (-6). Para a segunda coluna, o coeficiente de $x_2$ (-11), e assim por diante. \n",
    "\n",
    "Para a matriz $\\mathbf{B}$, basta ver quem é o coeficiente de $u$. Desta forma, temos:\n",
    "\n",
    "$$\n",
    "\\begin{align}\n",
    "    \\mathbf{A} &= \\left[\\begin{array}{rrr} -6 & -11 & -6\\\\1 & 0 & 0 \\\\ 0 & 1 & 0\\end{array}\\right] \\\\\n",
    "    \\mathbf{B} &= \\left[\\begin{array}{r}6 \\\\ 0 \\\\ 0\\end{array}\\right] \\\\\n",
    "    \\mathbf{C} &= \\left[\\begin{array}{rrr} 0&0&1\\end{array}\\right] \\\\\n",
    "    D &= 0\n",
    "\\end{align}\n",
    "$$\n",
    "\n"
   ]
  },
  {
   "cell_type": "markdown",
   "metadata": {},
   "source": [
    "## Verificando que os sistemas são os mesmos\n",
    "\n",
    "Em Python, podemos usar a função tf() em um objeto de espaço de estados para calcular a função de transferência. Assim podemos conferir o resultado anterior."
   ]
  },
  {
   "cell_type": "code",
   "execution_count": 11,
   "metadata": {
    "code_folding": [
     0
    ]
   },
   "outputs": [],
   "source": [
    "# Imports\n",
    "import control as ct\n",
    "import numpy as np\n",
    "import matplotlib.pyplot as plt\n",
    "from escrever import *\n",
    "\n",
    "esc = escrever()"
   ]
  },
  {
   "cell_type": "code",
   "execution_count": 12,
   "metadata": {
    "code_folding": [
     0
    ]
   },
   "outputs": [
    {
     "data": {
      "text/latex": [
       "$\\displaystyle \\dot{\\mathbf{x}} = \\left[\\begin{array}{rrr}-6&-11&-6\\\\1&0&0\\\\0&1&0\\\\\\end{array}\\right]\\mathbf{x}+\\left[\\begin{array}{r}6\\\\0\\\\0\\\\\\end{array}\\right]\\mathbf{u}$"
      ],
      "text/plain": [
       "<IPython.core.display.Math object>"
      ]
     },
     "metadata": {},
     "output_type": "display_data"
    },
    {
     "data": {
      "text/latex": [
       "$\\displaystyle \\mathbf{y} = \\left[\\begin{array}{rrr}0&0&1\\\\\\end{array}\\right]\\mathbf{x} + \\left[\\begin{array}{r}0\\\\\\end{array}\\right]\\mathbf{u}$"
      ],
      "text/plain": [
       "<IPython.core.display.Math object>"
      ]
     },
     "metadata": {},
     "output_type": "display_data"
    }
   ],
   "source": [
    "# Declara o sistema\n",
    "F = np.array([[-6,-11,-6],[1,0,0],[0,1,0]])\n",
    "G = np.array([[6],[0],[0]])\n",
    "H = np.array([[0,0,1]])\n",
    "J = np.array([[0]])\n",
    "\n",
    "sys = ct.ss(F,G,H,J)\n",
    "esc.sist(F,G,H,J)"
   ]
  },
  {
   "cell_type": "markdown",
   "metadata": {},
   "source": [
    "Verifique que esse sistema realmente produz a função de transferência original:"
   ]
  },
  {
   "cell_type": "code",
   "execution_count": 13,
   "metadata": {
    "code_folding": [
     0
    ]
   },
   "outputs": [
    {
     "data": {
      "text/latex": [
       "$$\\frac{5.329 \\times 10^{-15} s + 6}{s^3 + 6 s^2 + 11 s + 6}$$"
      ],
      "text/plain": [
       "TransferFunction(array([5.32907052e-15, 6.00000000e+00]), array([ 1.,  6., 11.,  6.]))"
      ]
     },
     "execution_count": 13,
     "metadata": {},
     "output_type": "execute_result"
    }
   ],
   "source": [
    "# Transforma espaço de estados para FT original\n",
    "ct.tf(sys)"
   ]
  },
  {
   "cell_type": "markdown",
   "metadata": {},
   "source": [
    "De vez em quando vamos querer analisar os pólos e zeros do sistema, esteja em espaço de estados ou função de transferência. Para uma análise mais detalhada dos pólos, use a função damp( )"
   ]
  },
  {
   "cell_type": "code",
   "execution_count": 14,
   "metadata": {
    "code_folding": [
     0
    ],
    "run_control": {
     "marked": false
    }
   },
   "outputs": [
    {
     "name": "stdout",
     "output_type": "stream",
     "text": [
      "_____Eigenvalue______ Damping___ Frequency_\n",
      "        -3                     1          3\n",
      "        -2                     1          2\n",
      "        -1                     1          1\n"
     ]
    }
   ],
   "source": [
    "# Calcula amortecimento e frequencia natural\n",
    "tab = ct.damp(sys)"
   ]
  },
  {
   "cell_type": "code",
   "execution_count": 15,
   "metadata": {
    "code_folding": [
     0
    ]
   },
   "outputs": [
    {
     "data": {
      "text/plain": [
       "[<matplotlib.lines.Line2D at 0x1a5ea3e4c10>]"
      ]
     },
     "execution_count": 15,
     "metadata": {},
     "output_type": "execute_result"
    },
    {
     "data": {
      "image/png": "[encoded data removed]",
      "text/plain": [
       "<Figure size 640x480 with 1 Axes>"
      ]
     },
     "metadata": {},
     "output_type": "display_data"
    }
   ],
   "source": [
    "# Simula e plota\n",
    "t,y = ct.step_response(sys)         # Resposta ao degrau do sistema em malha aberta pra não perder o costume\n",
    "plt.plot(t,y)"
   ]
  }
 ],
 "metadata": {
  "kernelspec": {
   "display_name": "Python 3 (ipykernel)",
   "language": "python",
   "name": "python3"
  },
  "language_info": {
   "codemirror_mode": {
    "name": "ipython",
    "version": 3
   },
   "file_extension": ".py",
   "mimetype": "text/x-python",
   "name": "python",
   "nbconvert_exporter": "python",
   "pygments_lexer": "ipython3",
   "version": "3.11.1"
  },
  "vscode": {
   "interpreter": {
    "hash": "3e3763a57b4ffe0d06e963ec4b7f8ef3a748cbfdb342037439726ee83e94c05b"
   }
  }
 },
 "nbformat": 4,
 "nbformat_minor": 2
}
