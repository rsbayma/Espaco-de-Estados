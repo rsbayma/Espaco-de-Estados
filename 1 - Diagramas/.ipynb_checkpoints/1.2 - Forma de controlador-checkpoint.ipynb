{
 "cells": [
  {
   "cell_type": "markdown",
   "metadata": {},
   "source": [
    "# Forma padrão ou canônica de controlador \n",
    "\n",
    "O exemplo anterior nos deu uma forma de converter uma equação diferencial de um sistema LIT em um conjunto de equações de ordem 1.\n",
    "\n",
    "No entanto, aquele exemplo é bem limitado. Vamos ver agora como obter as equações de estado a partir de uma função de transferência geral.\n",
    "\n",
    "Observe primeiro o exemplo\n",
    "\n",
    "<p align=center>\n",
    "<img src=\"Fig7.7.svg\" width=\"80%\"/>\n",
    "</p>"
   ]
  },
  {
   "cell_type": "markdown",
   "metadata": {},
   "source": [
    "A função de transferência é:\n",
    "$$\n",
    "\\begin{align}\n",
    "G(s) &= \\frac{s+2}{s^2+7s+12}\n",
    "\\end{align}\n",
    "$$"
   ]
  },
  {
   "cell_type": "markdown",
   "metadata": {},
   "source": [
    "Para construir um diagrama na forma canônica de controlador, faça o seguinte:\n",
    "* Desenhe integradores em série, tantos quantos forem a ordem do sistema\n",
    "* A entrada será o sinal mais a esquerda. A saída, o mais a direita.\n",
    "* Realimente **todos** os integradores, cada um através de um ganho constante\n",
    "* As realimentações devem ser ligadas a um **único** somador posicionado na entrada do integrador mais a esquerda. Se quiser organizar melhor, divida o somador em outros de duas entradas, imediatamente abaixo\n",
    "* O valor de cada ganho de realimentação é o negativo de um coeficiente do denominador. \n",
    "* Utilize os coeficientes de **maior** potência de $s$ para as ligações dos integradores mais perto da **entrada**\n",
    "* A saída do sistema é consturída a partir de um somador \n",
    "* Ao somador de saída, ligue as saídas de cada integrador através de um ganho constante\n",
    "* O valor de cada ganho é igual a um coeficiente do numerador\n",
    "* Utilize os coeficientes de **menor** potência de $s$ para as ligações dos integradores mais perto da **saída**\n",
    "\n",
    "\n",
    "Para o diagrama feito, as equações de estado são:\n",
    "\n",
    "$$\n",
    "\\begin{align}\n",
    "    \\dot{x}_2 &= x_1\\\\\n",
    "    \\dot{x}_1 &= u - 7x_1 -12x_2\\\\\n",
    "    y &= 2x_2+x_1\n",
    "\\end{align}\n",
    "$$\n",
    "\n",
    "Logo a representação matricial é:\n",
    "$$\n",
    "\\begin{align}\n",
    "    \\dot{\\mathbf{x}} &= \\left[\\begin{array}{rr}-7 & -12\\\\1 & 0\\end{array}\\right]\\mathbf{x}+\\left[\\begin{array}{r}1\\\\0\\end{array}\\right]u\\\\\n",
    "    y &= \\left[\\begin{array}{rr}1 & 2\\end{array}\\right]\\mathbf{x}\n",
    "\\end{align}\n",
    "$$\n",
    "\n",
    "Note que os estados foram ordenados da esquerda para a direita. *O que aconteceria se tivéssemos nomeado ao contrário?*"
   ]
  },
  {
   "cell_type": "code",
   "execution_count": 5,
   "metadata": {
    "code_folding": [
     0
    ]
   },
   "outputs": [],
   "source": [
    "# Imports\n",
    "import numpy as np\n",
    "import control as ct\n",
    "from escrever import *\n",
    "\n",
    "esc = escrever()"
   ]
  },
  {
   "cell_type": "code",
   "execution_count": 6,
   "metadata": {
    "code_folding": [
     0
    ]
   },
   "outputs": [
    {
     "data": {
      "text/latex": [
       "$\\displaystyle \\dot{\\mathbf{x}} = \\left[\\begin{array}{rr}-7&-12\\\\1&0\\\\\\end{array}\\right]\\mathbf{x}+\\left[\\begin{array}{r}1\\\\0\\\\\\end{array}\\right]\\mathbf{u}$"
      ],
      "text/plain": [
       "<IPython.core.display.Math object>"
      ]
     },
     "metadata": {},
     "output_type": "display_data"
    },
    {
     "data": {
      "text/latex": [
       "$\\displaystyle \\mathbf{y} = \\left[\\begin{array}{rr}1&2\\\\\\end{array}\\right]\\mathbf{x} + \\left[\\begin{array}{r}0\\\\\\end{array}\\right]\\mathbf{u}$"
      ],
      "text/plain": [
       "<IPython.core.display.Math object>"
      ]
     },
     "metadata": {},
     "output_type": "display_data"
    }
   ],
   "source": [
    "#Declara o sistema\n",
    "F = np.matrix([[-7,-12],[1,0]])\n",
    "G = np.matrix([1,0]).T\n",
    "H = np.matrix([1,2])\n",
    "D = np.matrix([0])\n",
    "\n",
    "sys = ct.ss(F,G,H,0)\n",
    "esc.sist(F,G,H,D)"
   ]
  },
  {
   "cell_type": "markdown",
   "metadata": {},
   "source": [
    "Podemos confirmar que a resposta está certa fazendo a volta para função de transferência"
   ]
  },
  {
   "cell_type": "code",
   "execution_count": 7,
   "metadata": {
    "code_folding": [
     0
    ]
   },
   "outputs": [
    {
     "data": {
      "text/latex": [
       "$$\\frac{s + 2}{s^2 + 7 s + 12}$$"
      ],
      "text/plain": [
       "TransferFunction(array([1., 2.]), array([ 1.,  7., 12.]))"
      ]
     },
     "execution_count": 7,
     "metadata": {},
     "output_type": "execute_result"
    }
   ],
   "source": [
    "# Função de transf\n",
    "ct.tf(sys)"
   ]
  },
  {
   "cell_type": "markdown",
   "metadata": {},
   "source": [
    "## Forma geral\n",
    "\n",
    "Para um sistema geral de ordem $n$, com função de transferência\n",
    "$$\n",
    "\\begin{align}\n",
    "    G(s) &= \\frac{b_1s^{n-1}+b_2s^{n-2}+\\ldots b_n}{s^n+a_1s^{n-1}+a_2s^{n-2}+\\ldots + a_n}\n",
    "\\end{align}\n",
    "$$\n",
    "as matrizes da forma canônica de controlador tem a seguinte estrutura\n",
    "\n",
    "$$\n",
    "\\begin{align*}\n",
    "    \\mathbf{F}_c &= \\left[\\begin{array}{cccccc} \n",
    "                  -a_1 & -a_2 & \\ldots & a_{n-1} &-a_n\\\\\n",
    "                     1 & 0 & \\ldots & 0 & 0 \\\\\n",
    "                     0 & 1 & \\ldots & 0 & 0 \\\\\n",
    "                     \\vdots & \\vdots & \\ldots & \\vdots& \\vdots \\\\\n",
    "                     0 & 0 & \\ldots  & 1 & 0\n",
    "    \\end{array}\\right]\\\\\n",
    "    \\mathbf{G}_c &= \\left[\\begin{array}{cccccc} \n",
    "                  1 \\\\ 0 \\\\ 0 \\\\ \\vdots \\\\ 0 \n",
    "    \\end{array}\\right]\\\\\n",
    "    \\mathbf{H}_c &= \\left[\\begin{array}{cccccc} \n",
    "                  b_1 & b_2 & \\ldots & b_{n-1} & b_n \n",
    "    \\end{array}\\right]\\\\\n",
    "    J &=0\n",
    "\\end{align*}\n",
    "$$"
   ]
  },
  {
   "cell_type": "markdown",
   "metadata": {},
   "source": [
    "\n",
    "**Note:** Não é necessário desenhar o diagrama para obter as matrizes. Há algumas regras simples que podemos aplicar para obtê-las sem ter que desenhar e ler o diagrama equivalente. \n",
    "* Matriz $\\mathbf{A}$\n",
    "    * A primeira linha é dada pelos coeficientes do denominador, com sinal trocado, ordem decrescente de potência\n",
    "    * Abaixo da segunda linha temos uma matriz identididade e uma coluna de zeros\n",
    "* Matriz $\\mathbf{B}$\n",
    "    * Primeiro elemento $1$ e os demais zero\n",
    "* Matriz $\\mathbf{C}$\n",
    "    * Coeficientes do numerador, sem troca de sinal, ordem decrescente de potência\n",
    "* Termo $D$\n",
    "    * Nulo (apenas se o grau do numerador for estritamente menor que o do denominador)\n"
   ]
  },
  {
   "cell_type": "markdown",
   "metadata": {},
   "source": [
    "**Observacão**: A função de transferência tem o grau do denominador estritamente maior que o do numerador. Caso não seja, precisa fazer divisão longa antes de prosseguir. Repare também que o denominador é mônico. "
   ]
  },
  {
   "cell_type": "markdown",
   "metadata": {},
   "source": [
    "## **Exercício**: \n",
    "\n",
    "- Desenhe o diagrama de controlador do sistema. \n",
    "- Ache as matrizes da forma de controlador.\n",
    "- Declare o sistema em Python.\n",
    "- Determine pólos, amortecimento e frequência natural\n",
    "- Faça uma simulação de resposta ao degrau. "
   ]
  },
  {
   "cell_type": "code",
   "execution_count": 18,
   "metadata": {
    "code_folding": [
     0
    ],
    "run_control": {
     "marked": false
    }
   },
   "outputs": [
    {
     "data": {
      "text/latex": [
       "$$\\frac{-5 s^2 - 3}{s^4 + 8 s^3 + 100 s^2 + 800 s}$$"
      ],
      "text/plain": [
       "TransferFunction(array([-5,  0, -3]), array([  1,   8, 100, 800,   0]))"
      ]
     },
     "execution_count": 18,
     "metadata": {},
     "output_type": "execute_result"
    }
   ],
   "source": [
    "#Execute o código para gerar o sistema\n",
    "import numpy as np\n",
    "from random import sample\n",
    "import control as ct\n",
    "#from IPython.display import display, Math\n",
    "lista = np.arange(-10,10).tolist()\n",
    "lista.remove(0)\n",
    "gera = lambda : sample(lista,1)[0]\n",
    "num = [gera(), 0, gera()] \n",
    "den = np.convolve(np.convolve([1,0],[1, gera()]),[1,0,gera()**2])\n",
    "ct.tf(num,den)"
   ]
  },
  {
   "cell_type": "code",
   "execution_count": null,
   "metadata": {},
   "outputs": [],
   "source": []
  }
 ],
 "metadata": {
  "kernelspec": {
   "display_name": "Python 3 (ipykernel)",
   "language": "python",
   "name": "python3"
  },
  "language_info": {
   "codemirror_mode": {
    "name": "ipython",
    "version": 3
   },
   "file_extension": ".py",
   "mimetype": "text/x-python",
   "name": "python",
   "nbconvert_exporter": "python",
   "pygments_lexer": "ipython3",
   "version": "3.11.1"
  },
  "vscode": {
   "interpreter": {
    "hash": "e1735dd0795dce195fb98475ccf229151ed44a61fb274eb18cdb7c8302916985"
   }
  }
 },
 "nbformat": 4,
 "nbformat_minor": 2
}
