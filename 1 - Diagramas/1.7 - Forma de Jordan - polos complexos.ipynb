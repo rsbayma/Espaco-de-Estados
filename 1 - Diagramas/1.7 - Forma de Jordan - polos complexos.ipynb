{
 "cells": [
  {
   "cell_type": "markdown",
   "metadata": {},
   "source": [
    "## **Forma de Jordan: polos complexos**"
   ]
  },
  {
   "cell_type": "markdown",
   "metadata": {},
   "source": [
    "Quando os polos são complexos, somos tentados a usar ganhos complexos no diagrama de blocos, o que não é possível de realizar fisicamente. \n",
    "\n",
    "Quando há polos complexos e, consequentemente, resíduos complexos, podemos fazer um artifício baseado na própria expansão em frações para nos \"livrarmos\" de qualquer número complexo presente. "
   ]
  },
  {
   "cell_type": "markdown",
   "metadata": {},
   "source": [
    "Suponha, por exemplo:\n",
    "$$\n",
    "\\begin{align}\n",
    "    G(s) &= \\frac{100}{s(s^2+2s+5)}\n",
    "\\end{align}\n",
    "$$"
   ]
  },
  {
   "cell_type": "code",
   "execution_count": 1,
   "metadata": {
    "code_folding": [
     0
    ]
   },
   "outputs": [
    {
     "name": "stdout",
     "output_type": "stream",
     "text": [
      "Resíduos: \n",
      "[ 20.+0.j -10.+5.j -10.-5.j]\n",
      " \n",
      "Pólos: \n",
      "[ 0.+0.j -1.+2.j -1.-2.j]\n"
     ]
    }
   ],
   "source": [
    "# Cálculo dos resíduos complexos\n",
    "import numpy as np\n",
    "import scipy.signal as sig\n",
    "num = 100\n",
    "den = np.convolve([1,0],[1,2,5])\n",
    "r,p,k = sig.residue(num,den)\n",
    "print('Resíduos: ')\n",
    "print(r)\n",
    "print(' ')\n",
    "print('Pólos: ')\n",
    "print(p)"
   ]
  },
  {
   "cell_type": "markdown",
   "metadata": {},
   "source": [
    "Então:\n",
    "$$\n",
    "\\begin{align}\n",
    "    G(s) &= \\frac{20}{s}+\\frac{-10+j5}{s+1-j2}+\\frac{-10-j5}{s+1+j2}\n",
    "\\end{align}\n",
    "$$\n",
    "\n",
    "As frações complexas exigiriam ganhos de realimentação e de saída complexos. Para evitar isso, podemos usar um artifício que acopla os modos complexos entre si, mas continuando isolados dos outros modos do sistema"
   ]
  },
  {
   "cell_type": "markdown",
   "metadata": {},
   "source": [
    "Para um caso geral de conjugados\n",
    "$$\n",
    "\\begin{align}\n",
    "    \\frac{a+jb}{s-\\sigma-j\\omega}+\\frac{a-jb}{s-\\sigma+j\\omega}\n",
    "\\end{align}\n",
    "$$\n",
    "\n",
    "O diagrama de blocos (dedução um pouco trabalhosa) equivalente é:\n",
    "<p align=\"center\">\n",
    "<img src=\"JordanComplexos.svg\" width=\"100%\">\n",
    "</p>"
   ]
  },
  {
   "cell_type": "markdown",
   "metadata": {},
   "source": [
    "As equações de estado são as seguintes:\n",
    "$$\n",
    "\\begin{align}\n",
    "    \\dot{R} &= \\sigma R-\\omega I + u\\\\\n",
    "    \\dot{I} &= \\omega R-\\sigma I + u\\\\\n",
    "    y &= 2a\\, R -2b\\, I\n",
    "\\end{align}\n",
    "$$\n",
    "\n",
    "Assim, a contribuição do par conjugado para a forma modal é a seguinte:\n",
    "* Na matriz de estados, encaixe a seguinte matrix $2\\times 2$ feita a partir das partes real e imaginária dos pólos complexos\n",
    "$$\n",
    "\\begin{align}\n",
    "    \\left[\\begin{array}{cc} \\sigma & -\\omega\\\\ \\omega & \\sigma\\end{array}\\right]\n",
    "\\end{align}\n",
    "$$\n",
    "* Na matriz de entrada, a contribuição é apenas um vetor coluna de 1's\n",
    "* Na matriz de saída, a contribuição é uma linha de dois elementos construído a partir das partes real e imaginária do resíduo complexo\n",
    "$$\n",
    "\\begin{align}\n",
    "    \\left[\\begin{array}{cc} 2a & -2b\\end{array}\\right]\n",
    "\\end{align}\n",
    "\n"
   ]
  },
  {
   "cell_type": "markdown",
   "metadata": {},
   "source": [
    "Voltando ao exemplo...\n",
    "$$\n",
    "\\begin{align}\n",
    "    G(s) &= \\frac{20}{s}+\\frac{-10+j5}{s+1-j2}+\\frac{-10-j5}{s+1+j2}\n",
    "\\end{align}\n",
    "$$\n",
    "\n",
    "As frações complexas são caracterizadas por:\n",
    "* O pólo é $s=-1+j2$, isto é $\\sigma = -1$ e $\\omega=2$\n",
    "* O resíduo complexo correspondente é $-10+j5$, isto é, $a=-10$ e $b=5$\n",
    "\n",
    "Assim as equações de estado serão:\n",
    "$$\n",
    "\\begin{align}\n",
    "    \\dot{x}_1 &= u\\\\\n",
    "    \\dot{x}_2 &= -x_2-2x_3+u\\\\\n",
    "     \\dot{x}_3 &= 2x_2-x_3+u\\\\\n",
    "     y &= 20x_1 -20x_2+10x_3\n",
    "\\end{align}\n",
    "$$\n",
    "\n",
    "**Construa as matrizes a partir daqui. Observe que a matriz de estados não é mais diagonal (mas é quase!)**\n"
   ]
  },
  {
   "cell_type": "markdown",
   "metadata": {},
   "source": [
    "## Resumo da forma de Jordan\n",
    "\n",
    "A matriz $\\mathbf{A}$ na forma de Jordan será sempre [*bloco diagonal*](https://en.wikipedia.org/wiki/Block_matrix#Block_diagonal_matrices):\n",
    "- Pólos reais simples aparecem diretamente na diagonal da matriz\n",
    "- Pólos reais repetidos aparecem na diagonal da matriz, porém, acima (ou abaixo) deles aparecerão 1's.\n",
    "- Pólos complexos terão sua parte real na diagonal principal e as partes imaginárias logo acima deles. \n",
    "\n",
    "A matriz $\\mathbf{B}$ conterá os resíduos e a matriz $\\mathbf{C}$ será composta apenas de 1's. Se desejar, isso pode ser invertido também. "
   ]
  },
  {
   "cell_type": "markdown",
   "metadata": {},
   "source": [
    "## **Exemplo completo**\n",
    "\n",
    "Suponha um sistema já decomposto em frações parciais:\n",
    "$$\n",
    "\\begin{align}\n",
    "    G(s) &= \\frac{10}{(s+5)}+\\frac{8}{(s-2)}-\\frac{1}{(s-2)^2}+\\frac{7}{(s-2)^3}\\nonumber\\\\&\\,+\\frac{3-j8}{s+1-j3}+\\frac{3+j8}{s+1+j3}\n",
    "\\end{align}\n",
    "$$\n",
    "\n",
    "Verifique que a forma de Jordan é:"
   ]
  },
  {
   "cell_type": "markdown",
   "metadata": {},
   "source": [
    "$$\n",
    "\\begin{align}\n",
    "    \\mathbf{A} &= \\left[\\begin{array}{cccccc}\n",
    "        -5 & 0 & 0 & 0 & 0 & 0\\\\\n",
    "         0 & 2 & 1 & 0 & 0 & 0\\\\\n",
    "         0 & 0 & 2 & 1 & 0 & 0\\\\\n",
    "         0 & 0 & 0 & 2 & 0 & 0\\\\\n",
    "         0 & 0 & 0 & 0 & -1 & 3\\\\\n",
    "         0 & 0 & 0 & 0 & -3 & -1\n",
    "    \\end{array}\\right]\\\\\n",
    "    \\mathbf{B} &= \\left[\\begin{array}{c}\n",
    "        1 \\\\ 1 \\\\ 1 \\\\ 1 \\\\ 1 \\\\ 1\n",
    "    \\end{array}\\right]\\\\\n",
    "    \\mathbf{C} &= \\left[\\begin{array}{c}\n",
    "        10 & 8 & -1 & 7 & 6 & 16\n",
    "    \\end{array}\\right]\n",
    "\\end{align}\n",
    "$$"
   ]
  }
 ],
 "metadata": {
  "kernelspec": {
   "display_name": "Python 3 (ipykernel)",
   "language": "python",
   "name": "python3"
  },
  "language_info": {
   "codemirror_mode": {
    "name": "ipython",
    "version": 3
   },
   "file_extension": ".py",
   "mimetype": "text/x-python",
   "name": "python",
   "nbconvert_exporter": "python",
   "pygments_lexer": "ipython3",
   "version": "3.11.1"
  },
  "vscode": {
   "interpreter": {
    "hash": "e1735dd0795dce195fb98475ccf229151ed44a61fb274eb18cdb7c8302916985"
   }
  }
 },
 "nbformat": 4,
 "nbformat_minor": 2
}
