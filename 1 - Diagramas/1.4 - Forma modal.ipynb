{
 "cells": [
  {
   "attachments": {},
   "cell_type": "markdown",
   "metadata": {},
   "source": [
    "# Forma de Jordan ou Modal\n",
    "\n",
    "Um mesmo sistema pode ter diversas representações de estados diferentes, isto é, diferentes conjuntos de matrizes.\n",
    "\n",
    "Atenção: o que estamos dizendo é que o **mesmo sistema** pode ter diferentes matrizes $\\mathbf{(A,B,C,D)}$\n",
    "\n",
    "Já aprendemos a forma de controlador para uma dada função de transferência. Outra forma bastante usada é a forma de Jordan."
   ]
  },
  {
   "attachments": {},
   "cell_type": "markdown",
   "metadata": {},
   "source": [
    "Na forma modal (ou de Jordan), os estados aparecem majoritariamente desacoplados, isto é, uma equação de estados depende basicamente apenas da sua própria variável de estado.\n",
    "\n",
    "A principal consequência é a forma da matriz $\\mathbf{A}$ do sistema, que se torna **diagonal**.\n",
    "\n",
    "**Isso é verdade apenas quando o sistema tiver pólos reais e distintos.** "
   ]
  },
  {
   "attachments": {},
   "cell_type": "markdown",
   "metadata": {},
   "source": [
    "\n",
    "Quando o sistema tiver pólos repetidos, haverá um pequeno acoplamento, mas apenas entre os estados referentes ao mesmo pólo (autovalor).\n",
    "\n",
    "Quando o sistema tiver pólos imaginários, podemos introduzir um pequeno acoplamento, mas apenas entre os estados associados aos autovalores conjugados.\n",
    "\n",
    "Nestes casos, a forma de Jordan é quase diagonal, ou *bloco-diagonal*, conforme veremos depois. "
   ]
  },
  {
   "attachments": {},
   "cell_type": "markdown",
   "metadata": {},
   "source": [
    "## Exemplo ilustrativo:\n",
    "\n",
    "<p align=\"center\">\n",
    "<img src=\"Fig7.8.svg\" width=\"80%\"/>\n",
    "</p>\n",
    "\n",
    "Para o sistema da Fig 7.8. \n",
    "$$\n",
    "\\begin{align}\n",
    "    \\dot{z}_1 &= u - 4z_1\\\\\n",
    "    \\dot{z}_2 &= u - 3z_2\\\\\n",
    "    y &= 2z_1-z_2\n",
    "\\end{align}\n",
    "$$\n",
    "\n",
    "$$\n",
    "\\begin{align}\n",
    "    \\dot{\\mathbf{x}} &= \\left[\\begin{array}{rr}-4 & 0\\\\0 & -3\\end{array}\\right]\\mathbf{x}+\\left[\\begin{array}{r}1\\\\1\\end{array}\\right]u\\\\\n",
    "    y &= \\left[\\begin{array}{rr}2 & -1\\end{array}\\right]\\mathbf{x}\n",
    "\\end{align}\n",
    "$$"
   ]
  },
  {
   "attachments": {},
   "cell_type": "markdown",
   "metadata": {},
   "source": [
    "A forma modal é útil para determinar rápida e intuitivamente a controlabilidade. O sistema é não-controlável quando o sinal de controle não consegue \"chegar\" até um determinado integrador por nenhum caminho. \n",
    "\n",
    "Algumas observações importantes:\n",
    "\n",
    "1. Um sistema pode perder controlabilidade quando na sua função de transferência há algum cancelamento entre pólos e zeros.\n",
    "2. Para achar a forma modal a partir da função de transferência, use expansão em frações parciais"
   ]
  },
  {
   "attachments": {},
   "cell_type": "markdown",
   "metadata": {},
   "source": [
    "## Algoritmo (pólos reais e distintos)\n",
    "* Ache a expansão em frações parciais da função de transferência\n",
    "* Faça um diagrama para cada uma das parcelas da expansão\n",
    "* Nomeie os estados (saída dos integradores) e monte as equações normalmente"
   ]
  },
  {
   "cell_type": "markdown",
   "metadata": {},
   "source": [
    "**Mais um exemplo de modal**\n",
    "\n",
    "$$\n",
    "\\begin{align}\n",
    "    G(s) &=\\frac{s+3}{(s+1)(s+5)(s-9)}\n",
    "\\end{align}\n",
    "$$\n",
    "\n",
    "Precisamos primeiro expandir e achar os resíduos (frações parciais)"
   ]
  },
  {
   "cell_type": "code",
   "execution_count": 3,
   "metadata": {},
   "outputs": [
    {
     "name": "stdout",
     "output_type": "stream",
     "text": [
      "Resíduos:\n"
     ]
    },
    {
     "data": {
      "text/latex": [
       "$\\displaystyle \\left[\\begin{array}{rrr}-0.05&-0.0357&0.0857\\\\\\end{array}\\right]$"
      ],
      "text/plain": [
       "<IPython.core.display.Math object>"
      ]
     },
     "metadata": {},
     "output_type": "display_data"
    },
    {
     "name": "stdout",
     "output_type": "stream",
     "text": [
      "Pólos:\n"
     ]
    },
    {
     "data": {
      "text/latex": [
       "$\\displaystyle \\left[\\begin{array}{rrr}-1.0&-5.0&9.0\\\\\\end{array}\\right]$"
      ],
      "text/plain": [
       "<IPython.core.display.Math object>"
      ]
     },
     "metadata": {},
     "output_type": "display_data"
    }
   ],
   "source": [
    "# Cálculo de resíduos usando scipy\n",
    "import scipy.signal as sig\n",
    "from escrever import *\n",
    "import numpy as np\n",
    "from IPython.display import display, Math\n",
    "\n",
    "\n",
    "num = [1,3]\n",
    "\n",
    "# As duas próximas calculam o denominador\n",
    "den = np.convolve([1,1],[1,5])\n",
    "den = np.convolve(den,[1,-9])\n",
    "\n",
    "# Acha os resíduos.\n",
    "r,p,k = sig.residue(num,den)\n",
    "r = r.round(decimals=4)\n",
    "p = p.round(decimals=4)\n",
    "print('Resíduos:')\n",
    "display(Math(dispmat(r.reshape([1,r.size]))))\n",
    "print('Pólos:')\n",
    "display(Math(dispmat(p.reshape([1,p.size]))))\n"
   ]
  },
  {
   "cell_type": "markdown",
   "metadata": {},
   "source": [
    "Logo:\n",
    "$$\n",
    "\\begin{equation}\n",
    "    G(s) = \\frac{-0.05}{s+1}-\\frac{0.03}{s+5}+\\frac{0.08}{s-9}\n",
    "\\end{equation}\n",
    "$$\n",
    "\n",
    "O diagrama para a representação de cada modo está a seguir\n"
   ]
  },
  {
   "cell_type": "markdown",
   "metadata": {},
   "source": [
    "<p align=\"center\"><img src=\"modal1.svg\" width=\"50%\" center> </p>\n"
   ]
  },
  {
   "cell_type": "markdown",
   "metadata": {},
   "source": [
    "As equações de estado vão ser (**verifique você mesmo!**):\n",
    "$$\n",
    "\\begin{equation}\n",
    "    \\dot{x}_1 = -x_1-0.05u\n",
    "\\end{equation}\n",
    "$$\n",
    "\n",
    "$$\n",
    "\\begin{equation}\n",
    "    \\dot{x}_2 = -5x_2-0.03u\n",
    "\\end{equation}\n",
    "$$\n",
    "\n",
    "$$\n",
    "\\begin{equation}\n",
    "    \\dot{x}_3 = 9x_3+0.08u\n",
    "\\end{equation}\n",
    "$$\n",
    "\n",
    "A equação de saída é:\n",
    "$$\n",
    "\\begin{equation}\n",
    "    y = x_1+x_2+x_3\n",
    "\\end{equation}\n",
    "$$\n",
    "\n",
    "Por fim, a representação matricial:\n",
    "$$\n",
    "\\begin{equation}\n",
    "    \\dot{\\mathbf{x}} = \\left[\\begin{array}{rrr}\n",
    "    -1 & 0 & 0\\\\\n",
    "    0 & -5 & 0\\\\\n",
    "    0 & 0 & 9\n",
    "    \\end{array}\n",
    "    \\right]\\mathbf{x} +\n",
    "    \\left[\\begin{array}{r}\n",
    "    1 \\\\\n",
    "    1 \\\\\n",
    "    1 \n",
    "    \\end{array}\\right]u\n",
    "\\end{equation}\n",
    "$$\n",
    "\n",
    "$$\n",
    "\\begin{align}\n",
    "    y = \\left[\\begin{array}{ccc}-0.05 & -0.03 & 0.08\\end{array}\\right]\\mathbf{x}\n",
    "\\end{align}\n",
    "$$\n"
   ]
  },
  {
   "cell_type": "markdown",
   "metadata": {},
   "source": [
    "**Exercício:** defina esse sistema no Python e simule uma resposta ao degrau"
   ]
  },
  {
   "cell_type": "code",
   "execution_count": null,
   "metadata": {},
   "outputs": [],
   "source": []
  },
  {
   "cell_type": "markdown",
   "metadata": {},
   "source": []
  }
 ],
 "metadata": {
  "kernelspec": {
   "display_name": "Python 3",
   "language": "python",
   "name": "python3"
  },
  "language_info": {
   "codemirror_mode": {
    "name": "ipython",
    "version": 3
   },
   "file_extension": ".py",
   "mimetype": "text/x-python",
   "name": "python",
   "nbconvert_exporter": "python",
   "pygments_lexer": "ipython3",
   "version": "3.10.9"
  },
  "orig_nbformat": 4,
  "vscode": {
   "interpreter": {
    "hash": "e1735dd0795dce195fb98475ccf229151ed44a61fb274eb18cdb7c8302916985"
   }
  }
 },
 "nbformat": 4,
 "nbformat_minor": 2
}
