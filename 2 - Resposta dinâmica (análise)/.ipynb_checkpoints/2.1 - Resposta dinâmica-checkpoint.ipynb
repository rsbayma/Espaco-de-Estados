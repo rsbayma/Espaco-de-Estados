{
 "cells": [
  {
   "cell_type": "markdown",
   "metadata": {},
   "source": [
    "# Resposta dinâmica de um sistema"
   ]
  },
  {
   "cell_type": "markdown",
   "metadata": {},
   "source": [
    "Dada uma entrada $u(t)$ e uma condição inicial dos estados $\\mathbf{x}(0)$, podemos resolver a equação diferencial (matricial) dos estados e determinar a saída do sistema. Isso pode ser feito com a transformada de Laplace.\n",
    "\n",
    "$$\n",
    "\\begin{align*}\n",
    "    \\mathbf{\\dot{x}} &= \\mathbf{Ax+B}u\\\\\n",
    "    \\mathcal{L}\\{\\mathbf{\\dot{x}}\\} &= \\mathcal{L}\\{\\mathbf{Ax+B}u\\}\\\\\n",
    "    s\\mathbf{X}(s)-\\mathbf{x}(0) &= \\mathbf{AX}(s)+\\mathbf{B}U(s)\\\\\n",
    "    s\\mathbf{X}(s)-\\mathbf{AX}(s)&=\\mathbf{x}(0)+\\mathbf{G}U(s)\\\\\n",
    "    (s\\mathbf{I-A})\\mathbf{X(s)} &= \\mathbf{x}(0)+\\mathbf{B}U(s)\\\\\n",
    "    \\mathbf{X(s)} &= (s\\mathbf{I-A})^{-1}\\mathbf{x}(0)+(s\\mathbf{I-A})^{-1}\\mathbf{B}U(s)\\\\\n",
    "\\end{align*}\n",
    "$$\n",
    "\n",
    "O termo $(s\\mathbf{I-A})^{-1}\\mathbf{x}(0)$ é a resposta de entrada nula, devido sua independência da função de entrada.\n",
    "\n",
    "O termo $(s\\mathbf{I-A})^{-1}\\mathbf{B}U(s)$ é a resposta de estado nulo, devido sua independência das condições iniciais.\n",
    "\n",
    "Para determinar os estados no domínio do tempo $\\mathbf{x}(t)$ bastaria tirar a transformada inversa. Assim temos a resposta de cada um dos estados em função do tempo."
   ]
  },
  {
   "cell_type": "markdown",
   "metadata": {
    "tags": []
   },
   "source": [
    "## Sinal de saída e função de transferência\n",
    "\n",
    "Olhando agora o sinal de saída:\n",
    "$$\n",
    "\\begin{align*}\n",
    "    y &= \\mathbf{Cx} + Du\\\\\n",
    "    Y(s) &= \\mathbf{CX(s)} + DU(s)\n",
    "\\end{align*}\n",
    "$$\n",
    "\n",
    "Substituindo o que encontramos para $\\mathbf{X}(s)$:\n",
    "$$\n",
    "\\begin{align*}\n",
    "    Y(s) &= \\mathbf{C}(s\\mathbf{I-A})^{-1}\\mathbf{x}(0)+\\mathbf{C}(s\\mathbf{I-A})^{-1}\\mathbf{B}U(s) + DU(s)\n",
    "\\end{align*}\n",
    "$$\n",
    "\n",
    "Colocando $U(s)$ em evidência agora:\n",
    "$$\n",
    "\\begin{align*}\n",
    "    Y(s) &= \\mathbf{C}(s\\mathbf{I-A})^{-1}\\mathbf{x}(0)+\\left[\\mathbf{C}(s\\mathbf{I-A})^{-1}\\mathbf{B} + D\\right]U(s)\n",
    "\\end{align*}\n",
    "$$\n",
    "\n",
    "Quando as condições iniciais são nulas $\\mathbf{x}(0)=\\mathbf{0}$, o termo que sobra é um escalar:\n",
    "$$\n",
    "\\begin{align*}\n",
    "    Y(s) &= \\left[\\mathbf{C}(s\\mathbf{I-A})^{-1}\\mathbf{B} + D\\right]U(s)\\\\\n",
    "    \\frac{Y(s)}{U(s)} &= \\mathbf{C}(s\\mathbf{I-A})^{-1}\\mathbf{B} + D\n",
    "\\end{align*}\n",
    "$$\n",
    "\n",
    "Reconhecemos a última equação como a função de transferência do sistema definida em termos das matrizes da representação de espaço de estados."
   ]
  },
  {
   "cell_type": "markdown",
   "metadata": {},
   "source": [
    "## Pólos de um sistema no espaço de estados (Autovalores)\n",
    "\n",
    "Na equação da função de transferência, o termo principal é $(s\\mathbf{I-A})^{-1}$. Sabemos que a inversa de qualquer matriz pode ser descrita como sua adjunta divido pelo seu determinante. O que vai sobrar no denominador da função de transferência, portanto, é $\\det (s\\mathbf{I-A})$.\n",
    "\n",
    "Sabemos que os pólos são as raízes do denominador de uma função de transferência. Ora, se o denominador é dado pelo determinante acima, então os pólos do sistema são dados pelas soluções da equação:\n",
    "$$\n",
    "\\begin{align}\n",
    "\\det (s\\mathbf{I-A}) = 0\n",
    "\\end{align}\n",
    "$$\n",
    "\n",
    "Os valores de $s$ que satisfazem essa equação são chamados em álgebra linear de **autovalores da matriz** e de desempenham um papel importante em vários problemas de Engenharia. \n",
    "\n",
    "Em Python vc pode calcular os autovalores do sistema usando a funçao \"pole()\" da biblioteca *control*, ou usar a biblioteca *linalg* do NumPy para resolver o problema de autovalor diretamente na matriz de estados do sistema. Note, porém, que a função \"eig()\" do NumPy devolve não apenas os autovalores, mas também os [autovetores](https://pt.wikipedia.org/wiki/Autovalores_e_autovetores) associados também."
   ]
  },
  {
   "cell_type": "markdown",
   "metadata": {},
   "source": [
    "<p align=\"center\">\n",
    "<img src=\"Ex7.12.svg\" width=\"80%\">\n",
    "</p>"
   ]
  },
  {
   "cell_type": "markdown",
   "metadata": {},
   "source": [
    "Solução manual (você precisa saber fazer manualmente *pelo menos* os casos de ordem 2!):\n",
    "\n",
    "$$\n",
    "\\begin{align*}\n",
    "    s\\mathbf{I-F} &= s\\left[\\begin{array}{cc}1 & 0\\\\0 & 1\\end{array}\\right]-\\left[\\begin{array}{cc}-7 & -12\\\\1 & 0\\end{array}\\right]\\\\\n",
    "    &= \\left[\\begin{array}{cc}s+7 & 12\\\\-1 & s\\end{array}\\right]\n",
    "\\end{align*}\n",
    "$$"
   ]
  },
  {
   "cell_type": "markdown",
   "metadata": {},
   "source": [
    "A inversa da matriz é:\n",
    "$$\n",
    "\\begin{align*}\n",
    "    (s\\mathbf{I-F})^{-1} &= \\frac{\\left[\\begin{array}{cc}s & -12\\\\1 & s+7\\end{array}\\right]}{s(s+7)+12}\n",
    "\\end{align*}\n",
    "$$"
   ]
  },
  {
   "cell_type": "markdown",
   "metadata": {},
   "source": [
    "Faz-se agora o produto pela esquerda:\n",
    "$$\n",
    "\\begin{align*}\n",
    "    \\mathbf{H}(s\\mathbf{I-F})^{-1} &= \\frac{\\left[\\begin{array}{cc}1 & 2\\end{array}\\right]\\left[\\begin{array}{cc}s & -12\\\\1 & s+7\\end{array}\\right]}{s(s+7)+12}\\\\\n",
    "    &= \\frac{\\left[\\begin{array}{cc}s+2 & 2s+2\\end{array}\\right]}{s^2+7s+12}\n",
    "\\end{align*}\n",
    "$$"
   ]
  },
  {
   "cell_type": "markdown",
   "metadata": {},
   "source": [
    "E o resultado com o produto pela direita:\n",
    "\\begin{align*}\n",
    "    \\mathbf{H}(s\\mathbf{I-F})^{-1}\\mathbf{G} &= \\frac{\\left[\\begin{array}{cc}s+2 & 2s+2\\end{array}\\right]\\left[\\begin{array}{c}1 \\\\ 0\\end{array}\\right]}{s^2+7s+12}\\\\\n",
    "    & = \\frac{s+2}{s^2+7s+12}\n",
    "\\end{align*}"
   ]
  },
  {
   "cell_type": "markdown",
   "metadata": {},
   "source": [
    "Em Python, você pode implementar essas contas usando o pacote simbólico. Porém, o pacote *control* faz de um jeito mais ágil usando as definições próprias voltadas para Engenharia"
   ]
  },
  {
   "cell_type": "code",
   "execution_count": 2,
   "metadata": {
    "code_folding": [
     0
    ],
    "run_control": {
     "marked": false
    }
   },
   "outputs": [],
   "source": [
    "# Imports\n",
    "import numpy as np\n",
    "import control as ct\n",
    "import scipy.signal as sig\n",
    "from escrever import *\n",
    "esc = escrever()"
   ]
  },
  {
   "cell_type": "code",
   "execution_count": 3,
   "metadata": {
    "code_folding": [
     0
    ]
   },
   "outputs": [
    {
     "data": {
      "text/latex": [
       "$\\displaystyle \\dot{\\mathbf{x}} = \\left[\\begin{array}{rr}-7&-12\\\\1&0\\\\\\end{array}\\right]\\mathbf{x}+\\left[\\begin{array}{r}1\\\\0\\\\\\end{array}\\right]\\mathbf{u}$"
      ],
      "text/plain": [
       "<IPython.core.display.Math object>"
      ]
     },
     "metadata": {},
     "output_type": "display_data"
    },
    {
     "data": {
      "text/latex": [
       "$\\displaystyle \\mathbf{y} = \\left[\\begin{array}{rr}1&2\\\\\\end{array}\\right]\\mathbf{x} + \\left[\\begin{array}{r}0\\\\\\end{array}\\right]\\mathbf{u}$"
      ],
      "text/plain": [
       "<IPython.core.display.Math object>"
      ]
     },
     "metadata": {},
     "output_type": "display_data"
    },
    {
     "data": {
      "text/latex": [
       "$$\\frac{s + 2}{s^2 + 7 s + 12}$$"
      ],
      "text/plain": [
       "TransferFunction(array([1., 2.]), array([ 1.,  7., 12.]))"
      ]
     },
     "execution_count": 3,
     "metadata": {},
     "output_type": "execute_result"
    }
   ],
   "source": [
    "# Define as matrizes\n",
    "F = np.array([[-7,-12],[1,0]])\n",
    "G = np.array([[1],[0]])\n",
    "H = np.array([[1,2]])\n",
    "J = np.array([[0]])\n",
    "\n",
    "# Definindo o sistema como espaço de estados\n",
    "sys = ct.ss(F,G,H,J)\n",
    "esc.sist(F,G,H,J)\n",
    "\n",
    "# Calculando a função de transferência pelo objeto espaço de estados\n",
    "FT = ct.tf(sys)\n",
    "FT"
   ]
  },
  {
   "cell_type": "markdown",
   "metadata": {},
   "source": [
    "**Exercício**: Calcule manualmente e confira sua resposta com Python, a função de transferência do sistema\n",
    "\n",
    "$$\n",
    "\\begin{align}\n",
    "\\dot{\\mathbf{x}} &= \\left[\\begin{array}{cc}-1 & 7\\\\ 9 & 0\\end{array}\\right]\\mathbf{x} + \\left[\\begin{array}{cc} 5 \\\\ -3\\end{array}\\right]u\\\\\n",
    "y &= \\left[\\begin{array}{cc}3 & 2\\end{array}\\right]\\mathbf{x} \n",
    "\\end{align}\n",
    "$$"
   ]
  }
 ],
 "metadata": {
  "kernelspec": {
   "display_name": "Python 3 (ipykernel)",
   "language": "python",
   "name": "python3"
  },
  "language_info": {
   "codemirror_mode": {
    "name": "ipython",
    "version": 3
   },
   "file_extension": ".py",
   "mimetype": "text/x-python",
   "name": "python",
   "nbconvert_exporter": "python",
   "pygments_lexer": "ipython3",
   "version": "3.11.1"
  },
  "vscode": {
   "interpreter": {
    "hash": "3e3763a57b4ffe0d06e963ec4b7f8ef3a748cbfdb342037439726ee83e94c05b"
   }
  }
 },
 "nbformat": 4,
 "nbformat_minor": 4
}
