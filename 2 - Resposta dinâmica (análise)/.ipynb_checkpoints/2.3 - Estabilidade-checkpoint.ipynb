{
 "cells": [
  {
   "cell_type": "markdown",
   "metadata": {},
   "source": [
    "# **Estabilidade no espaço de estados**\n",
    "\n",
    "### Equilíbrio\n",
    "O conceito de estabilidade no espaço de estados é um pouco diferente do que aprendemos na representação entrada-saída.\n",
    "\n",
    "Primeiramente, no espaço de estados definimos o **ponto de equilíbrio** do sistema. O ponto de equilíbrio é um vetor de estado específico que anula a derivada do vetor de estados quando a entrada é nula ($u=0$).\n",
    "\n",
    "Em outras palavras, quando o estado do sistema é um ponto de equilíbrio, o sistema \"não se mexe\", não evolui no tempo. \n",
    "\n",
    "Um sistema linear possui apenas um ponto de equilíbrio, o vetor nulo $\\mathbf{x}= \\left[\\begin{array}{cccc}0 & 0 & \\ldots & 0\\end{array}\\right]^T$.\n",
    "\n",
    "É fácil de verificar que esse é um ponto de equilíbrio. Dada a equação de estados\n",
    "$$\n",
    "\\begin{align*}\n",
    "    \\mathbf{\\dot{x}} &= \\mathbf{Ax+B}u\n",
    "\\end{align*}\n",
    "$$\n",
    "vemos que se $u=0$ e se $\\mathbf{x=0}$, então todo o lado direito se anula, o que implica que $\\mathbf{\\dot{x}=0}$. Ou seja, o sistema não evolui com o tempo, fica sempre no \"mesmo lugar\"."
   ]
  },
  {
   "cell_type": "markdown",
   "metadata": {},
   "source": [
    "### Estabilidade\n",
    "\n",
    "Definido o que é equilíbrio, podemos agora definir estabilidade.\n",
    "\n",
    "Dizemos que um sistema é estável no espaço de estados, se, dada uma variação inicial no ponto de equilíbrio, os estados do sistema \"voltam\" para o ponto de equilíbrio inicial.\n",
    "\n",
    "Um sistema linear é estável se, dada uma condição inicial diferente de zero, o vetor $\\mathbf{x}(t)$ voltar para zero em um determinado intervalo de tempo. \n",
    "\n",
    "Como já sabemos, o sistema é estável quando todos os seus pólos estão no semi-plano esquerdo (SPE). Como no espaço de estados os pólos são os autovalores da matriz de estados $\\mathbf{A}$, então o sistema será estável se todos esses autovalores tiverem parte real estritamente negativa. \n",
    "\n",
    "Isso garante que quando passar um longo tempo, isto é, $t\\rightarrow \\infty$, os estados tenderão a zero, ou seja $\\mathbf{x}(t) \\rightarrow \\mathbf{0}$. Isso é chamado também de **estabilidade assintótica**."
   ]
  },
  {
   "cell_type": "markdown",
   "metadata": {},
   "source": [
    "### **Exemplo:**\n",
    "Verifique se o sistema abaixo é estável\n",
    "\n",
    "$$\n",
    "\\begin{align*}\n",
    "    \\dot{\\mathbf{x}}= \\left[\\begin{array}{cc}0 &1\\\\ -3 & -7\\end{array}\\right]\\mathbf{x} +\n",
    "    \\left[\\begin{array}{c}1\\\\ 2\\end{array}\\right]u\n",
    "\\end{align*}\n",
    "$$"
   ]
  },
  {
   "cell_type": "code",
   "execution_count": 5,
   "metadata": {},
   "outputs": [
    {
     "name": "stdout",
     "output_type": "stream",
     "text": [
      "Autovalores: \n",
      "[-0.4586 -6.5414]\n"
     ]
    }
   ],
   "source": [
    "import numpy as np\n",
    "F = np.array([[0,1],[-3,-7]])\n",
    "s,v = np.linalg.eig(F)\n",
    "print(\"Autovalores: \")\n",
    "print(s.round(decimals=4))"
   ]
  },
  {
   "cell_type": "markdown",
   "metadata": {},
   "source": [
    "A função \"eig()\" retorna os autovalores de uma matriz, assim como um conjunto de autovetores correspondentes. No nosso caso, apenas os autovalores importam. Como se pode ver, os dois autovalores são reais e negativos, logo, o sistema é assintoticamente estável. "
   ]
  },
  {
   "cell_type": "markdown",
   "metadata": {},
   "source": [
    "## **Exercício**\n",
    "\n",
    "O sistema MAGLEV linearizado é descrito pelas seguintes equações.\n",
    "\n",
    "$$\n",
    "\\begin{align}\n",
    "\\dot{\\mathbf{x}} &= \\left[\\begin{array}{cc} 0&1\\\\ \\lambda^2 &0\\end{array}\\right]\\mathbf{x} + \\left[\\begin{array}{c} 0\\\\ -k_0\\end{array}\\right]u\n",
    "\\end{align}\n",
    "$$\n",
    "\n",
    "onde:\n",
    "$$\n",
    "\\begin{align}\n",
    "    \\lambda^2 &= \\frac{2ku_0^2}{m(x_0+\\mu)^3}\\\\\n",
    "    k_0 &= \\frac{2ku_0}{m(x_0+\\mu)^2} \n",
    "\\end{align}    \n",
    "$$\n",
    "onde $k>0$, $m>0$ e $\\mu>0$ são constantes do sistema; e $x_0>0$ e $u_0>0$ são condições de equilíbrio tais que:\n",
    "$$\n",
    "\\begin{align}\n",
    "    mg(x_0+\\mu)^2 = ku_0^2\n",
    "\\end{align}\n",
    "$$\n",
    "$g>0$ é a aceleração da gravidade. \n",
    "\n",
    "Encontre os autovalores do sistema. O sistema é estável? Por quê? Este resultado faz sentido fisicamente? Por quê? \n",
    "\n",
    "Ilustre seus resultados usando os seguintes parâmetros numéricos: $m=29\\cdot 10^{-3}$, $k=9.55\\cdot 10^{-6}$, $\\mu=2.19\\cdot 10^{-3}$, $u_0=0.6$\n"
   ]
  }
 ],
 "metadata": {
  "kernelspec": {
   "display_name": "Python 3 (ipykernel)",
   "language": "python",
   "name": "python3"
  },
  "language_info": {
   "codemirror_mode": {
    "name": "ipython",
    "version": 3
   },
   "file_extension": ".py",
   "mimetype": "text/x-python",
   "name": "python",
   "nbconvert_exporter": "python",
   "pygments_lexer": "ipython3",
   "version": "3.11.1"
  },
  "vscode": {
   "interpreter": {
    "hash": "e1735dd0795dce195fb98475ccf229151ed44a61fb274eb18cdb7c8302916985"
   }
  }
 },
 "nbformat": 4,
 "nbformat_minor": 2
}
