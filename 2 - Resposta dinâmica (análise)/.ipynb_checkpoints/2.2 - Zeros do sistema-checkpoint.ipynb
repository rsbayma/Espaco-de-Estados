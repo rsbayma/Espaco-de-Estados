{
 "cells": [
  {
   "cell_type": "markdown",
   "metadata": {},
   "source": [
    "## **Zeros de transmissão**\n",
    "\n",
    "Na descrição entrada-saída (função de transferência) de um sistema, definimos zeros de uma forma bem matemática: são as raízes do numerador.\n",
    "\n",
    "No entanto, os zeros possuem uma definição um pouco mais física. São chamados zeros os modos (exponenciais) que, se colocados na entrada do sistema, produzem uma saída identicamente nula. Isso permite estabelecer as expressões que definem os zeros do sistema em função das matrizes de espaço de estados."
   ]
  },
  {
   "cell_type": "markdown",
   "metadata": {},
   "source": [
    "$$\n",
    "\\begin{align}\n",
    "    \\text{Sistema: } u(t) &\\longmapsto y(t)\\\\\n",
    "    -a \\text{ é um zero do sistema } \\Leftrightarrow e^{-at} &\\longmapsto 0\n",
    "\\end{align}\n",
    "$$"
   ]
  },
  {
   "cell_type": "markdown",
   "metadata": {},
   "source": [
    "\n",
    "Para achar os zeros, basta resolver a equação polinomial:\n",
    "$$\n",
    "\\begin{align*}\n",
    "\\det\\,\\left[\\begin{array}{cc}s\\mathbf{I-A} & -\\mathbf{B}\\\\ \\mathbf{C} & D\\end{array}\\right]=0 \n",
    "\\end{align*}\n",
    "$$\n",
    "\n",
    "<p align=\"center\">\n",
    "<img src=\"Ex7.13.svg\" width=\"80%\">\n",
    "</p>"
   ]
  },
  {
   "cell_type": "markdown",
   "metadata": {},
   "source": [
    "**Solução**: Precisamos montar a matriz. No caso, já calculamos $s\\mathbf{I-F}$ no exemplo anterior, então basta concatenar as demais:\n",
    "$$\n",
    "\\begin{align*}\n",
    "    s\\mathbf{I-F} &= \\left[\\begin{array}{cc}s+7 & 12\\\\-1 & s\\end{array}\\right]\\\\\n",
    "    \\Rightarrow \\left[\\begin{array}{ccc}s\\mathbf{I-F} & -\\mathbf{G}\\\\ \\mathbf{H} & J\\end{array}\\right]&=\n",
    "    \\left[\\begin{array}{ccc}s+7 & 12 & -1\\\\-1 & s & 0\\\\ 1 & 2 & 0 \\end{array}\\right]\n",
    "\\end{align*}\n",
    "$$\n",
    "\n",
    "Basta agora calcular o determinante.\n",
    "$$\n",
    "\\begin{align*}\n",
    "    \\det \\left[\\begin{array}{ccc}s+7 & 12 & 1\\\\-1 & s & 0\\\\ 1 & 2 & 0 \\end{array}\\right] &= \n",
    "    \\det \\left[\\begin{array}{cc}-1 & s \\\\ 1 & 2 \\end{array}\\right] = -2-s \n",
    "\\end{align*}\n",
    "$$\n",
    "\n",
    "Igualando a zero, temos:\n",
    "$$\n",
    "\\begin{align*}\n",
    "    -2-s =0 \\Rightarrow s = -2\n",
    "\\end{align*}\n",
    "$$\n",
    "\n",
    "Podemos resolver isso com o SymPy"
   ]
  },
  {
   "cell_type": "code",
   "execution_count": 1,
   "metadata": {
    "code_folding": [
     0
    ]
   },
   "outputs": [],
   "source": [
    "# Imports\n",
    "import sympy as sp\n",
    "from IPython.display import display, Math"
   ]
  },
  {
   "cell_type": "code",
   "execution_count": 5,
   "metadata": {
    "code_folding": [
     0
    ],
    "run_control": {
     "marked": false
    }
   },
   "outputs": [
    {
     "data": {
      "text/latex": [
       "$\\displaystyle \\mathbf{M} = \\left[\\begin{matrix}\\left[\\begin{matrix}s + 7 & 12\\\\-1 & s\\end{matrix}\\right] & \\left[\\begin{matrix}1\\\\0\\end{matrix}\\right]\\\\\\left[\\begin{matrix}1 & 2\\end{matrix}\\right] & \\left[\\begin{matrix}0\\end{matrix}\\right]\\end{matrix}\\right]$"
      ],
      "text/plain": [
       "<IPython.core.display.Math object>"
      ]
     },
     "metadata": {},
     "output_type": "display_data"
    }
   ],
   "source": [
    "# Define os símbolos e constrói o problema usando matrizes em bloco\n",
    "s = sp.symbols('s')\n",
    "A = sp.Matrix([[-7,-12],[1,0]])\n",
    "B = sp.Matrix([[1],[0]])\n",
    "C = sp.Matrix([[1,2]])\n",
    "D = sp.Matrix([[0]])\n",
    "M = sp.BlockMatrix([[s*sp.eye(2)-A, B],[C,D]])\n",
    "display(Math(r'\\mathbf{M} = ' + sp.latex(M)))"
   ]
  },
  {
   "cell_type": "code",
   "execution_count": 8,
   "metadata": {
    "code_folding": [
     0
    ]
   },
   "outputs": [
    {
     "data": {
      "text/latex": [
       "$\\displaystyle \\det(M) = \\left(- \\frac{s}{s^{2} + 7 s + 12} + \\frac{2}{- s^{2} - 7 s - 12}\\right) \\left(s^{2} + 7 s + 12\\right)$"
      ],
      "text/plain": [
       "<IPython.core.display.Math object>"
      ]
     },
     "metadata": {},
     "output_type": "display_data"
    },
    {
     "data": {
      "text/latex": [
       "$\\displaystyle =- s - 2$"
      ],
      "text/plain": [
       "<IPython.core.display.Math object>"
      ]
     },
     "metadata": {},
     "output_type": "display_data"
    }
   ],
   "source": [
    "# Resolve o determinante\n",
    "determinante = sp.det(M)\n",
    "display(Math(r'\\det(M) = ' + sp.latex(determinante)))\n",
    "determinante = determinante.simplify()\n",
    "display(Math(r'=' + sp.latex(determinante)))"
   ]
  },
  {
   "cell_type": "code",
   "execution_count": 13,
   "metadata": {
    "code_folding": [
     0
    ]
   },
   "outputs": [
    {
     "data": {
      "text/latex": [
       "$\\displaystyle s = -2$"
      ],
      "text/plain": [
       "<IPython.core.display.Math object>"
      ]
     },
     "metadata": {},
     "output_type": "display_data"
    }
   ],
   "source": [
    "# Iguala a zero e acha a raiz\n",
    "sol = sp.solve(sp.Eq(determinante,0))\n",
    "display(Math('s = ' + sp.latex(sol[0])))"
   ]
  },
  {
   "cell_type": "markdown",
   "metadata": {},
   "source": [
    "Alternativamente, a função \"zero()\" do módulo \"control\" é capaz de determinar os zeros a partir da representação do sistema"
   ]
  },
  {
   "cell_type": "code",
   "execution_count": 16,
   "metadata": {
    "code_folding": [
     0
    ],
    "run_control": {
     "marked": false
    }
   },
   "outputs": [],
   "source": [
    "# Imports\n",
    "import numpy as np\n",
    "import control as ct\n",
    "import scipy.signal as sig\n",
    "from escrever import *\n",
    "esc = escrever()"
   ]
  },
  {
   "cell_type": "code",
   "execution_count": 20,
   "metadata": {
    "code_folding": [
     0
    ]
   },
   "outputs": [
    {
     "data": {
      "text/latex": [
       "$\\displaystyle \\dot{\\mathbf{x}} = \\left[\\begin{array}{rr}-7&-12\\\\1&0\\\\\\end{array}\\right]\\mathbf{x}+\\left[\\begin{array}{r}1\\\\0\\\\\\end{array}\\right]\\mathbf{u}$"
      ],
      "text/plain": [
       "<IPython.core.display.Math object>"
      ]
     },
     "metadata": {},
     "output_type": "display_data"
    },
    {
     "data": {
      "text/latex": [
       "$\\displaystyle \\mathbf{y} = \\left[\\begin{array}{rr}1&2\\\\\\end{array}\\right]\\mathbf{x} + \\left[\\begin{array}{r}0\\\\\\end{array}\\right]\\mathbf{u}$"
      ],
      "text/plain": [
       "<IPython.core.display.Math object>"
      ]
     },
     "metadata": {},
     "output_type": "display_data"
    }
   ],
   "source": [
    "# Declara o sistema\n",
    "F = np.array([[-7,-12],[1,0]])\n",
    "G = np.array([[1],[0]])\n",
    "H = np.array([[1,2]])\n",
    "J = np.array([[0]])\n",
    "\n",
    "# Definindo o sistema como espaço de estados\n",
    "sys = ct.ss(F,G,H,J)\n",
    "esc.sist(F,G,H,J)"
   ]
  },
  {
   "cell_type": "code",
   "execution_count": 21,
   "metadata": {
    "code_folding": [
     0
    ]
   },
   "outputs": [
    {
     "name": "stdout",
     "output_type": "stream",
     "text": [
      "Zeros:  [-2.+0.j]\n"
     ]
    }
   ],
   "source": [
    "# Calcula os zeros pela função \"zero()\"\n",
    "print('Zeros: ', ct.zero(sys))"
   ]
  },
  {
   "cell_type": "markdown",
   "metadata": {},
   "source": [
    "## **Exemplo**"
   ]
  },
  {
   "cell_type": "markdown",
   "metadata": {},
   "source": [
    "<p align=\"center\">\n",
    "<img src=\"Ex7.14.svg\" width=\"80%\">\n",
    "</p>\n",
    "\n",
    "Esse é um problema de ordem elevada, então vamos resolver com Python"
   ]
  },
  {
   "cell_type": "code",
   "execution_count": 22,
   "metadata": {
    "code_folding": [
     0
    ],
    "run_control": {
     "marked": false
    }
   },
   "outputs": [
    {
     "data": {
      "text/latex": [
       "$\\displaystyle \\dot{\\mathbf{x}} = \\left[\\begin{array}{rrrrr}0.0&2.0&0.0&0.0&0.0\\\\-0.1&-0.35&0.1&0.1&0.75\\\\0.0&0.0&0.0&2.0&0.0\\\\0.4&0.4&-0.4&-1.4&0.0\\\\0.0&-0.03&0.0&0.0&-1.0\\\\\\end{array}\\right]\\mathbf{x}+\\left[\\begin{array}{r}0\\\\0\\\\0\\\\0\\\\1\\\\\\end{array}\\right]\\mathbf{u}$"
      ],
      "text/plain": [
       "<IPython.core.display.Math object>"
      ]
     },
     "metadata": {},
     "output_type": "display_data"
    },
    {
     "data": {
      "text/latex": [
       "$\\displaystyle \\mathbf{y} = \\left[\\begin{array}{rrrrr}0&0&1&0&0\\\\\\end{array}\\right]\\mathbf{x} + \\left[\\begin{array}{r}0\\\\\\end{array}\\right]\\mathbf{u}$"
      ],
      "text/plain": [
       "<IPython.core.display.Math object>"
      ]
     },
     "metadata": {},
     "output_type": "display_data"
    }
   ],
   "source": [
    "# Declara as matrizes e o sistema\n",
    "F = np.array([[0,2,0,0,0],[-0.1,-0.35,0.1,0.1,0.75],[0,0,0,2,0],[.4,.4,-.4,-1.4,0],[0,-.03,0,0,-1]])\n",
    "G = np.array([[0],[0],[0],[0],[1]])\n",
    "H2 = np.array([[0,0,1,0,0]])\n",
    "J = np.array([[0]])\n",
    "\n",
    "sys = ct.ss(F,G,H2,J)\n",
    "esc.sist(F,G,H2,J)\n"
   ]
  },
  {
   "cell_type": "code",
   "execution_count": 23,
   "metadata": {
    "code_folding": [
     0
    ],
    "run_control": {
     "marked": false
    }
   },
   "outputs": [
    {
     "name": "stdout",
     "output_type": "stream",
     "text": [
      "Pólos: \n",
      "[-0.6371+0.6669j -0.6371-0.6669j  0.    +0.j     -0.5075+0.j\n",
      " -0.9683+0.j    ]\n",
      "\n",
      "Zeros: \n",
      "[-2.+0.j]\n"
     ]
    }
   ],
   "source": [
    "# Polos e zeros\n",
    "print('Pólos: ')\n",
    "print(ct.pole(sys).round(decimals=4))\n",
    "print('')\n",
    "print('Zeros: ')\n",
    "print(ct.zero(sys))"
   ]
  },
  {
   "cell_type": "code",
   "execution_count": 24,
   "metadata": {
    "code_folding": [
     0
    ]
   },
   "outputs": [
    {
     "name": "stdout",
     "output_type": "stream",
     "text": [
      "_____Eigenvalue______ Damping___ Frequency_\n",
      "   -0.6371   +0.6669j     0.6908     0.9223\n",
      "   -0.6371   -0.6669j     0.6908     0.9223\n",
      " 2.265e-16                     1 -2.265e-16\n",
      "   -0.5075                     1     0.5075\n",
      "   -0.9683                     1     0.9683\n"
     ]
    }
   ],
   "source": [
    "# Amortecimentos e frequências naturais\n",
    "tab=ct.damp(sys)"
   ]
  },
  {
   "cell_type": "code",
   "execution_count": 25,
   "metadata": {},
   "outputs": [
    {
     "data": {
      "text/latex": [
       "$$\\frac{1.776 \\times 10^{-15} s^4 + 3.109 \\times 10^{-15} s^3 + 1.554 \\times 10^{-15} s^2 + 0.6 s + 1.2}{s^5 + 2.75 s^4 + 3.222 s^3 + 1.881 s^2 + 0.418 s - 9.469 \\times 10^{-17}}$$"
      ],
      "text/plain": [
       "TransferFunction(array([1.77635684e-15, 3.10862447e-15, 1.55431223e-15, 6.00000000e-01,\n",
       "       1.20000000e+00]), array([ 1.00000000e+00,  2.75000000e+00,  3.22250000e+00,  1.88150000e+00,\n",
       "        4.18000000e-01, -9.46900958e-17]))"
      ]
     },
     "execution_count": 25,
     "metadata": {},
     "output_type": "execute_result"
    }
   ],
   "source": [
    "# Função de transferência\n",
    "FT = ct.tf(sys)\n",
    "num,den = ct.tfdata(sys)\n",
    "num = num[0]\n",
    "den = den[0]\n",
    "FT"
   ]
  },
  {
   "cell_type": "markdown",
   "metadata": {},
   "source": [
    "Esta função possui coeficientes que tipicamente chamamos de \"mal condicinados\". Isso ocorre devido a erros de truncamento no computador. \n",
    "\n",
    "Observe que os coeficientes \"estranhos\", comparados aos outros são muito pequenos (potência de 10 muito pequena.)"
   ]
  },
  {
   "cell_type": "code",
   "execution_count": 26,
   "metadata": {
    "code_folding": [
     0
    ]
   },
   "outputs": [
    {
     "name": "stderr",
     "output_type": "stream",
     "text": [
      "C:\\Users\\rafael\\AppData\\Local\\Programs\\Python\\Python311\\Lib\\site-packages\\scipy\\signal\\_filter_design.py:1746: BadCoefficients: Badly conditioned filter coefficients (numerator): the results may be meaningless\n",
      "  warnings.warn(\"Badly conditioned filter coefficients (numerator): the \"\n"
     ]
    },
    {
     "data": {
      "text/plain": [
       "array([-0.6371+0.6669j, -0.6371-0.6669j, -0.9683+0.j    , -0.5075+0.j    ,\n",
       "        0.    +0.j    ])"
      ]
     },
     "execution_count": 26,
     "metadata": {},
     "output_type": "execute_result"
    }
   ],
   "source": [
    "# Pólos calculados pela função de transferência\n",
    "ct.pole(FT).round(decimals=4)"
   ]
  },
  {
   "cell_type": "markdown",
   "metadata": {},
   "source": [
    "Perceba que o Python emite um aviso de condicionamento numérico. Apesar disso, os pólos concordam com aqueles calculados pelo espaço de estados. Repare que o cálculo feito pelas matrizes não resultou em mal condicionamento. "
   ]
  },
  {
   "cell_type": "code",
   "execution_count": 27,
   "metadata": {
    "code_folding": [
     0
    ]
   },
   "outputs": [
    {
     "data": {
      "text/plain": [
       "array([ 3.482128e+04+60312.08j,  3.482128e+04-60312.08j,\n",
       "       -6.964231e+04    +0.j  , -2.000000e+00    +0.j  ])"
      ]
     },
     "execution_count": 27,
     "metadata": {},
     "output_type": "execute_result"
    }
   ],
   "source": [
    "# Zeros calculados pela FT\n",
    "ct.zeros(FT).round(decimals=2)"
   ]
  },
  {
   "cell_type": "markdown",
   "metadata": {},
   "source": [
    "Percebemos que a diferença é grande em relação às matrizes, que resultou em apenas um zero. Pela FT, obtivemos seis zeros, alguns deles de valor elevado e no semi-plano direito"
   ]
  },
  {
   "cell_type": "markdown",
   "metadata": {},
   "source": [
    "Como mencionado, isso é apenas um problema numérico e pode ser resolvido meramente arredondando os coeficientes da função de transferência. Uma forma de fazer é conforme o código a seguir:"
   ]
  },
  {
   "cell_type": "code",
   "execution_count": 28,
   "metadata": {
    "code_folding": [
     0
    ]
   },
   "outputs": [
    {
     "data": {
      "text/latex": [
       "$$\\frac{0.6 s + 1.2}{s^5 + 2.75 s^4 + 3.223 s^3 + 1.881 s^2 + 0.418 s}$$"
      ],
      "text/plain": [
       "TransferFunction(array([0.6, 1.2]), array([ 1.    ,  2.75  ,  3.2225,  1.8815,  0.418 , -0.    ]))"
      ]
     },
     "execution_count": 28,
     "metadata": {},
     "output_type": "execute_result"
    }
   ],
   "source": [
    "# Redefine a função de transferência com arredondamentos\n",
    "FT2 = ct.tf(num[0].round(decimals=4),den[0].round(decimals=4))\n",
    "FT2"
   ]
  },
  {
   "cell_type": "code",
   "execution_count": 29,
   "metadata": {
    "code_folding": [
     0
    ]
   },
   "outputs": [
    {
     "name": "stdout",
     "output_type": "stream",
     "text": [
      "Pólos recalculados: \n",
      "[-0.6371+0.6669j -0.6371-0.6669j -0.9683+0.j     -0.5075+0.j\n",
      "  0.    +0.j    ]\n",
      "\n",
      "Zeros recalculados: \n",
      "[-2.+0.j]\n"
     ]
    }
   ],
   "source": [
    "# Recalcula os pólos e zeros pela função de transferência\n",
    "print(\"Pólos recalculados: \")\n",
    "print(ct.pole(FT2).round(decimals=4))\n",
    "print('')\n",
    "print(\"Zeros recalculados: \")\n",
    "print(ct.zeros(FT2).round(decimals=4))"
   ]
  },
  {
   "cell_type": "markdown",
   "metadata": {},
   "source": [
    "Para finalizar, você sempre deve atentar à posição dos zeros em relação aos pólos do sistema, sobretudo os dominantes de malha fechada, no caso de projeto de controle.\n",
    "\n",
    "Ao terminar um projeto, **sempre** imprima um relatório final de pólos e zeros para antecipar o que está acontecendo com a resposta simulada. Plotar uma resposta ao degrau sem essa análise torna sua resposta final incompleta."
   ]
  }
 ],
 "metadata": {
  "kernelspec": {
   "display_name": "Python 3 (ipykernel)",
   "language": "python",
   "name": "python3"
  },
  "language_info": {
   "codemirror_mode": {
    "name": "ipython",
    "version": 3
   },
   "file_extension": ".py",
   "mimetype": "text/x-python",
   "name": "python",
   "nbconvert_exporter": "python",
   "pygments_lexer": "ipython3",
   "version": "3.11.1"
  },
  "vscode": {
   "interpreter": {
    "hash": "e1735dd0795dce195fb98475ccf229151ed44a61fb274eb18cdb7c8302916985"
   }
  }
 },
 "nbformat": 4,
 "nbformat_minor": 2
}
